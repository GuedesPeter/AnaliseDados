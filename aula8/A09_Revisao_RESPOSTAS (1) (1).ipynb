{
  "cells": [
    {
      "cell_type": "markdown",
      "metadata": {
        "id": "BYncOaSOK9ac"
      },
      "source": [
        "# **<font color=red>Revisão - Trabalho 01</font>**\n",
        "\n",
        "Italo Dombrowski Machado"
      ]
    },
    {
      "cell_type": "code",
      "execution_count": 2,
      "metadata": {
        "id": "5KCcUjpmK9ae"
      },
      "outputs": [],
      "source": [
        "import pandas as pd\n",
        "import numpy as np\n",
        "import seaborn as sns"
      ]
    },
    {
      "cell_type": "markdown",
      "metadata": {
        "id": "EWhgl-czK9af"
      },
      "source": [
        "<font color=red>**IMPORTANTE:** </font>o caminho do arquivo com os dados DEVE ser ajustado conforme o ambiente em que for executado o script"
      ]
    },
    {
      "cell_type": "code",
      "execution_count": 3,
      "metadata": {
        "id": "QyPK7zzsK9ag",
        "outputId": "d0300df1-5b5d-45a2-98f7-2b713b8586b6",
        "colab": {
          "base_uri": "https://localhost:8080/",
          "height": 224
        }
      },
      "outputs": [
        {
          "output_type": "stream",
          "name": "stdout",
          "text": [
            "(26372, 7)\n"
          ]
        },
        {
          "output_type": "execute_result",
          "data": {
            "text/plain": [
              "   Marca          Modelo    Valor   Ano Combustivel  Automatico  Vendas\n",
              "0  Acura  Integra GS 1.8  11165.0  1992    Gasolina       False    2226\n",
              "1  Acura  Integra GS 1.8  10167.0  1991    Gasolina       False    1468\n",
              "2  Acura  Legend 3.2/3.5  25574.0  1998    Gasolina       False    1180\n",
              "3  Acura  Legend 3.2/3.5  22561.0  1997    Gasolina       False    1106\n",
              "4  Acura  Legend 3.2/3.5  21388.0  1996    Gasolina       False    1433"
            ],
            "text/html": [
              "\n",
              "  <div id=\"df-262c79e0-5562-48f8-9253-3fb5d5ff4b53\">\n",
              "    <div class=\"colab-df-container\">\n",
              "      <div>\n",
              "<style scoped>\n",
              "    .dataframe tbody tr th:only-of-type {\n",
              "        vertical-align: middle;\n",
              "    }\n",
              "\n",
              "    .dataframe tbody tr th {\n",
              "        vertical-align: top;\n",
              "    }\n",
              "\n",
              "    .dataframe thead th {\n",
              "        text-align: right;\n",
              "    }\n",
              "</style>\n",
              "<table border=\"1\" class=\"dataframe\">\n",
              "  <thead>\n",
              "    <tr style=\"text-align: right;\">\n",
              "      <th></th>\n",
              "      <th>Marca</th>\n",
              "      <th>Modelo</th>\n",
              "      <th>Valor</th>\n",
              "      <th>Ano</th>\n",
              "      <th>Combustivel</th>\n",
              "      <th>Automatico</th>\n",
              "      <th>Vendas</th>\n",
              "    </tr>\n",
              "  </thead>\n",
              "  <tbody>\n",
              "    <tr>\n",
              "      <th>0</th>\n",
              "      <td>Acura</td>\n",
              "      <td>Integra GS 1.8</td>\n",
              "      <td>11165.0</td>\n",
              "      <td>1992</td>\n",
              "      <td>Gasolina</td>\n",
              "      <td>False</td>\n",
              "      <td>2226</td>\n",
              "    </tr>\n",
              "    <tr>\n",
              "      <th>1</th>\n",
              "      <td>Acura</td>\n",
              "      <td>Integra GS 1.8</td>\n",
              "      <td>10167.0</td>\n",
              "      <td>1991</td>\n",
              "      <td>Gasolina</td>\n",
              "      <td>False</td>\n",
              "      <td>1468</td>\n",
              "    </tr>\n",
              "    <tr>\n",
              "      <th>2</th>\n",
              "      <td>Acura</td>\n",
              "      <td>Legend 3.2/3.5</td>\n",
              "      <td>25574.0</td>\n",
              "      <td>1998</td>\n",
              "      <td>Gasolina</td>\n",
              "      <td>False</td>\n",
              "      <td>1180</td>\n",
              "    </tr>\n",
              "    <tr>\n",
              "      <th>3</th>\n",
              "      <td>Acura</td>\n",
              "      <td>Legend 3.2/3.5</td>\n",
              "      <td>22561.0</td>\n",
              "      <td>1997</td>\n",
              "      <td>Gasolina</td>\n",
              "      <td>False</td>\n",
              "      <td>1106</td>\n",
              "    </tr>\n",
              "    <tr>\n",
              "      <th>4</th>\n",
              "      <td>Acura</td>\n",
              "      <td>Legend 3.2/3.5</td>\n",
              "      <td>21388.0</td>\n",
              "      <td>1996</td>\n",
              "      <td>Gasolina</td>\n",
              "      <td>False</td>\n",
              "      <td>1433</td>\n",
              "    </tr>\n",
              "  </tbody>\n",
              "</table>\n",
              "</div>\n",
              "      <button class=\"colab-df-convert\" onclick=\"convertToInteractive('df-262c79e0-5562-48f8-9253-3fb5d5ff4b53')\"\n",
              "              title=\"Convert this dataframe to an interactive table.\"\n",
              "              style=\"display:none;\">\n",
              "        \n",
              "  <svg xmlns=\"http://www.w3.org/2000/svg\" height=\"24px\"viewBox=\"0 0 24 24\"\n",
              "       width=\"24px\">\n",
              "    <path d=\"M0 0h24v24H0V0z\" fill=\"none\"/>\n",
              "    <path d=\"M18.56 5.44l.94 2.06.94-2.06 2.06-.94-2.06-.94-.94-2.06-.94 2.06-2.06.94zm-11 1L8.5 8.5l.94-2.06 2.06-.94-2.06-.94L8.5 2.5l-.94 2.06-2.06.94zm10 10l.94 2.06.94-2.06 2.06-.94-2.06-.94-.94-2.06-.94 2.06-2.06.94z\"/><path d=\"M17.41 7.96l-1.37-1.37c-.4-.4-.92-.59-1.43-.59-.52 0-1.04.2-1.43.59L10.3 9.45l-7.72 7.72c-.78.78-.78 2.05 0 2.83L4 21.41c.39.39.9.59 1.41.59.51 0 1.02-.2 1.41-.59l7.78-7.78 2.81-2.81c.8-.78.8-2.07 0-2.86zM5.41 20L4 18.59l7.72-7.72 1.47 1.35L5.41 20z\"/>\n",
              "  </svg>\n",
              "      </button>\n",
              "      \n",
              "  <style>\n",
              "    .colab-df-container {\n",
              "      display:flex;\n",
              "      flex-wrap:wrap;\n",
              "      gap: 12px;\n",
              "    }\n",
              "\n",
              "    .colab-df-convert {\n",
              "      background-color: #E8F0FE;\n",
              "      border: none;\n",
              "      border-radius: 50%;\n",
              "      cursor: pointer;\n",
              "      display: none;\n",
              "      fill: #1967D2;\n",
              "      height: 32px;\n",
              "      padding: 0 0 0 0;\n",
              "      width: 32px;\n",
              "    }\n",
              "\n",
              "    .colab-df-convert:hover {\n",
              "      background-color: #E2EBFA;\n",
              "      box-shadow: 0px 1px 2px rgba(60, 64, 67, 0.3), 0px 1px 3px 1px rgba(60, 64, 67, 0.15);\n",
              "      fill: #174EA6;\n",
              "    }\n",
              "\n",
              "    [theme=dark] .colab-df-convert {\n",
              "      background-color: #3B4455;\n",
              "      fill: #D2E3FC;\n",
              "    }\n",
              "\n",
              "    [theme=dark] .colab-df-convert:hover {\n",
              "      background-color: #434B5C;\n",
              "      box-shadow: 0px 1px 3px 1px rgba(0, 0, 0, 0.15);\n",
              "      filter: drop-shadow(0px 1px 2px rgba(0, 0, 0, 0.3));\n",
              "      fill: #FFFFFF;\n",
              "    }\n",
              "  </style>\n",
              "\n",
              "      <script>\n",
              "        const buttonEl =\n",
              "          document.querySelector('#df-262c79e0-5562-48f8-9253-3fb5d5ff4b53 button.colab-df-convert');\n",
              "        buttonEl.style.display =\n",
              "          google.colab.kernel.accessAllowed ? 'block' : 'none';\n",
              "\n",
              "        async function convertToInteractive(key) {\n",
              "          const element = document.querySelector('#df-262c79e0-5562-48f8-9253-3fb5d5ff4b53');\n",
              "          const dataTable =\n",
              "            await google.colab.kernel.invokeFunction('convertToInteractive',\n",
              "                                                     [key], {});\n",
              "          if (!dataTable) return;\n",
              "\n",
              "          const docLinkHtml = 'Like what you see? Visit the ' +\n",
              "            '<a target=\"_blank\" href=https://colab.research.google.com/notebooks/data_table.ipynb>data table notebook</a>'\n",
              "            + ' to learn more about interactive tables.';\n",
              "          element.innerHTML = '';\n",
              "          dataTable['output_type'] = 'display_data';\n",
              "          await google.colab.output.renderOutput(dataTable, element);\n",
              "          const docLink = document.createElement('div');\n",
              "          docLink.innerHTML = docLinkHtml;\n",
              "          element.appendChild(docLink);\n",
              "        }\n",
              "      </script>\n",
              "    </div>\n",
              "  </div>\n",
              "  "
            ]
          },
          "metadata": {},
          "execution_count": 3
        }
      ],
      "source": [
        "# Carregar dados de trabalho\n",
        "dados = pd.read_csv('/content/drive/MyDrive/Aulas SENAC/AD2023/Scripts/dados/tabela_fipe.csv')\n",
        "print(dados.shape)\n",
        "dados.head()"
      ]
    },
    {
      "cell_type": "markdown",
      "metadata": {
        "id": "aMjp9icIK9ah"
      },
      "source": [
        "### **<font color=green>Item 1 </font>**<br>Com base no arquivo de dados informe a estrutura do arquivo:"
      ]
    },
    {
      "cell_type": "markdown",
      "metadata": {
        "id": "31PUqMDtK9ah"
      },
      "source": [
        "### **<font >Item a </font>**<br> Total de registros"
      ]
    },
    {
      "cell_type": "code",
      "execution_count": null,
      "metadata": {
        "id": "Y5zK6oVuK9ah",
        "outputId": "9e669753-ab57-41dd-cf9a-5f4dedeed4af"
      },
      "outputs": [
        {
          "data": {
            "text/plain": [
              "(26372, 7)"
            ]
          },
          "execution_count": 3,
          "metadata": {},
          "output_type": "execute_result"
        }
      ],
      "source": [
        "dados.shape"
      ]
    },
    {
      "cell_type": "markdown",
      "metadata": {
        "id": "0LBXR0IsK9ah"
      },
      "source": [
        "### **<font >Item b </font>**<br>Quais são os atributos e seus tipos?"
      ]
    },
    {
      "cell_type": "code",
      "execution_count": null,
      "metadata": {
        "id": "zD6ILYU-K9ai",
        "outputId": "2addbd3f-1413-493d-f3e4-d507757c0226"
      },
      "outputs": [
        {
          "name": "stdout",
          "output_type": "stream",
          "text": [
            "<class 'pandas.core.frame.DataFrame'>\n",
            "RangeIndex: 26372 entries, 0 to 26371\n",
            "Data columns (total 7 columns):\n",
            " #   Column       Non-Null Count  Dtype  \n",
            "---  ------       --------------  -----  \n",
            " 0   Marca        26372 non-null  object \n",
            " 1   Modelo       26372 non-null  object \n",
            " 2   Valor        26372 non-null  float64\n",
            " 3   Ano          26372 non-null  int64  \n",
            " 4   Combustivel  26372 non-null  object \n",
            " 5   Automatico   26372 non-null  bool   \n",
            " 6   Vendas       26372 non-null  int64  \n",
            "dtypes: bool(1), float64(1), int64(2), object(3)\n",
            "memory usage: 1.2+ MB\n"
          ]
        }
      ],
      "source": [
        "dados.info()"
      ]
    },
    {
      "cell_type": "markdown",
      "metadata": {
        "id": "B7DZldCYK9ai"
      },
      "source": [
        "**Nº Atributos = 7**\n",
        "\n",
        "Distribuição dos atributos/parâmetros:\n",
        "* Marca        = string\n",
        "* Modelo       = string\n",
        "* Valor        = float\n",
        "* Ano          = int\n",
        "* Combustível  = string\n",
        "* Automático   = boolean\n",
        "* Vendas       = int"
      ]
    },
    {
      "cell_type": "markdown",
      "metadata": {
        "id": "WDsuH79aK9ai"
      },
      "source": [
        "### **<font >Item c </font>**<br> Qual o tamanho ocupado na memória?\n",
        "\n",
        "DataFrame ocupa 1,2Mb de memória"
      ]
    },
    {
      "cell_type": "markdown",
      "metadata": {
        "id": "qE4pdQDWK9aj"
      },
      "source": [
        "### **<font color=green>Item 2 </font>**<br>Qual a influência dos valores nulos para a análise destes dados de automóveis?\n",
        "\n",
        "Nenhuma influência uma vez que nenhum dado consta como NULO dentre os dados."
      ]
    },
    {
      "cell_type": "markdown",
      "metadata": {
        "id": "7yaocv33K9aj"
      },
      "source": [
        "### **<font color=green>Item 3 </font>**<br>Para o atributo Combustível como ocorre a frequência dos dados e o percentual sobre o total? Demonstre."
      ]
    },
    {
      "cell_type": "code",
      "execution_count": null,
      "metadata": {
        "id": "tGPkl_jgK9aj",
        "outputId": "6b99bc59-0870-404d-f8c0-5fcbea2c68bd"
      },
      "outputs": [
        {
          "data": {
            "text/plain": [
              "Gasolina    21625\n",
              "Diesel       4305\n",
              "Álcool        442\n",
              "Name: Combustivel, dtype: int64"
            ]
          },
          "execution_count": 5,
          "metadata": {},
          "output_type": "execute_result"
        }
      ],
      "source": [
        "# Calcular a frequência dos dados\n",
        "frequencia = dados.Combustivel.value_counts()\n",
        "frequencia"
      ]
    },
    {
      "cell_type": "code",
      "execution_count": null,
      "metadata": {
        "id": "pgERtNTuK9aj",
        "outputId": "3f47efad-f00b-4b86-bddd-adfc92b736c3"
      },
      "outputs": [
        {
          "data": {
            "text/plain": [
              "Gasolina    81.999848\n",
              "Diesel      16.324132\n",
              "Álcool       1.676020\n",
              "Name: Combustivel, dtype: float64"
            ]
          },
          "execution_count": 6,
          "metadata": {},
          "output_type": "execute_result"
        }
      ],
      "source": [
        "# Calcular o percentual dos dados\n",
        "percentual = dados.Combustivel.value_counts(normalize=True)*100\n",
        "percentual"
      ]
    },
    {
      "cell_type": "code",
      "execution_count": null,
      "metadata": {
        "id": "Ieez8FspK9ak",
        "outputId": "77bd5a02-6665-427a-85ee-784eb0f5c372"
      },
      "outputs": [
        {
          "data": {
            "text/html": [
              "<div>\n",
              "<style scoped>\n",
              "    .dataframe tbody tr th:only-of-type {\n",
              "        vertical-align: middle;\n",
              "    }\n",
              "\n",
              "    .dataframe tbody tr th {\n",
              "        vertical-align: top;\n",
              "    }\n",
              "\n",
              "    .dataframe thead th {\n",
              "        text-align: right;\n",
              "    }\n",
              "</style>\n",
              "<table border=\"1\" class=\"dataframe\">\n",
              "  <thead>\n",
              "    <tr style=\"text-align: right;\">\n",
              "      <th></th>\n",
              "      <th>Frequência</th>\n",
              "      <th>Porcentagem (%)</th>\n",
              "    </tr>\n",
              "  </thead>\n",
              "  <tbody>\n",
              "    <tr>\n",
              "      <th>Gasolina</th>\n",
              "      <td>21625</td>\n",
              "      <td>81.999848</td>\n",
              "    </tr>\n",
              "    <tr>\n",
              "      <th>Diesel</th>\n",
              "      <td>4305</td>\n",
              "      <td>16.324132</td>\n",
              "    </tr>\n",
              "    <tr>\n",
              "      <th>Álcool</th>\n",
              "      <td>442</td>\n",
              "      <td>1.676020</td>\n",
              "    </tr>\n",
              "  </tbody>\n",
              "</table>\n",
              "</div>"
            ],
            "text/plain": [
              "          Frequência  Porcentagem (%)\n",
              "Gasolina       21625        81.999848\n",
              "Diesel          4305        16.324132\n",
              "Álcool           442         1.676020"
            ]
          },
          "execution_count": 7,
          "metadata": {},
          "output_type": "execute_result"
        }
      ],
      "source": [
        "# preparar o dataframe para exibição\n",
        "dist_Combustivel = pd.DataFrame({'Frequência':frequencia\n",
        "                                ,'Porcentagem (%)': percentual})\n",
        "dist_Combustivel                        "
      ]
    },
    {
      "cell_type": "code",
      "execution_count": null,
      "metadata": {
        "id": "VdkwuIaoK9ak",
        "outputId": "35892d4f-6aa3-467c-97f2-8d5e68a0033a"
      },
      "outputs": [
        {
          "data": {
            "text/html": [
              "<div>\n",
              "<style scoped>\n",
              "    .dataframe tbody tr th:only-of-type {\n",
              "        vertical-align: middle;\n",
              "    }\n",
              "\n",
              "    .dataframe tbody tr th {\n",
              "        vertical-align: top;\n",
              "    }\n",
              "\n",
              "    .dataframe thead th {\n",
              "        text-align: right;\n",
              "    }\n",
              "</style>\n",
              "<table border=\"1\" class=\"dataframe\">\n",
              "  <thead>\n",
              "    <tr style=\"text-align: right;\">\n",
              "      <th>Combustível</th>\n",
              "      <th>Frequência</th>\n",
              "      <th>Porcentagem (%)</th>\n",
              "    </tr>\n",
              "  </thead>\n",
              "  <tbody>\n",
              "    <tr>\n",
              "      <th>Gasolina</th>\n",
              "      <td>21625</td>\n",
              "      <td>81.999848</td>\n",
              "    </tr>\n",
              "    <tr>\n",
              "      <th>Diesel</th>\n",
              "      <td>4305</td>\n",
              "      <td>16.324132</td>\n",
              "    </tr>\n",
              "    <tr>\n",
              "      <th>Álcool</th>\n",
              "      <td>442</td>\n",
              "      <td>1.676020</td>\n",
              "    </tr>\n",
              "  </tbody>\n",
              "</table>\n",
              "</div>"
            ],
            "text/plain": [
              "Combustível  Frequência  Porcentagem (%)\n",
              "Gasolina          21625        81.999848\n",
              "Diesel             4305        16.324132\n",
              "Álcool              442         1.676020"
            ]
          },
          "execution_count": 8,
          "metadata": {},
          "output_type": "execute_result"
        }
      ],
      "source": [
        "# renomear indice\n",
        "dist_Combustivel.rename_axis('Combustível', axis='columns', inplace=True)\n",
        "dist_Combustivel"
      ]
    },
    {
      "cell_type": "markdown",
      "metadata": {
        "id": "mMImMJdYK9ak"
      },
      "source": [
        "### **<font color=green>Item 4 </font>**<br>Está correta a afirmação de que a relação entre veículos a Gasolina e Diesel é superior a 3 : 1? Comprove."
      ]
    },
    {
      "cell_type": "code",
      "execution_count": null,
      "metadata": {
        "id": "lZT7KchSK9ak",
        "outputId": "959e4971-7826-40b9-ae1f-0e2f0ababa91"
      },
      "outputs": [
        {
          "name": "stdout",
          "output_type": "stream",
          "text": [
            "Frequência : Gasolina 21625\n",
            "Frequência : Diesel   4305\n",
            "Relação Gasolina : Diesel é: 5.02\n"
          ]
        }
      ],
      "source": [
        "# validar dados da relação entre Gasolina e Diesel\n",
        "print('Frequência : Gasolina', dist_Combustivel['Frequência'][0])\n",
        "print('Frequência : Diesel  ', dist_Combustivel['Frequência'][1])\n",
        "\n",
        "print('Relação Gasolina : Diesel é:', round(dist_Combustivel['Frequência'][0] / dist_Combustivel['Frequência'][1],2))"
      ]
    },
    {
      "cell_type": "markdown",
      "metadata": {
        "id": "oV9Ct3M8K9al"
      },
      "source": [
        "### **<font color=green>Item 4 </font>**<br>O total de veículos movido a Álcool é superior a Diesel? Comprove.\n",
        "\n",
        "Não, como indicada na frequência de dados."
      ]
    },
    {
      "cell_type": "markdown",
      "metadata": {
        "id": "m7Uh7qQNK9al"
      },
      "source": [
        "### **<font color=green>Item 5 </font>**<br>Quais os 3 anos com mais unidades vendidas?"
      ]
    },
    {
      "cell_type": "code",
      "source": [
        "#IDM - Minha solução simplificada\n",
        "\n",
        "vendas_Ano = dados.groupby('Ano').Vendas.sum()\n",
        "vendas_Ano.sort_values(ascending=False).head(3)\n",
        "\n"
      ],
      "metadata": {
        "id": "TE9V8TwYRGjX"
      },
      "execution_count": null,
      "outputs": []
    },
    {
      "cell_type": "code",
      "execution_count": null,
      "metadata": {
        "id": "L1WD3YXnK9al"
      },
      "outputs": [],
      "source": [
        "# preparar dados de agregação para os calculos\n",
        "agregacao = {\n",
        "    'Vendas': ['sum', 'mean', 'median', 'min', 'max']\n",
        "}"
      ]
    },
    {
      "cell_type": "code",
      "execution_count": null,
      "metadata": {
        "id": "cjHu7rL9K9al",
        "outputId": "5f862261-1f56-4a7d-edb0-76eb29c59fc3"
      },
      "outputs": [
        {
          "data": {
            "text/html": [
              "<div>\n",
              "<style scoped>\n",
              "    .dataframe tbody tr th:only-of-type {\n",
              "        vertical-align: middle;\n",
              "    }\n",
              "\n",
              "    .dataframe tbody tr th {\n",
              "        vertical-align: top;\n",
              "    }\n",
              "\n",
              "    .dataframe thead tr th {\n",
              "        text-align: left;\n",
              "    }\n",
              "\n",
              "    .dataframe thead tr:last-of-type th {\n",
              "        text-align: right;\n",
              "    }\n",
              "</style>\n",
              "<table border=\"1\" class=\"dataframe\">\n",
              "  <thead>\n",
              "    <tr>\n",
              "      <th></th>\n",
              "      <th colspan=\"5\" halign=\"left\">Vendas</th>\n",
              "    </tr>\n",
              "    <tr>\n",
              "      <th></th>\n",
              "      <th>sum</th>\n",
              "      <th>mean</th>\n",
              "      <th>median</th>\n",
              "      <th>min</th>\n",
              "      <th>max</th>\n",
              "    </tr>\n",
              "    <tr>\n",
              "      <th>Ano</th>\n",
              "      <th></th>\n",
              "      <th></th>\n",
              "      <th></th>\n",
              "      <th></th>\n",
              "      <th></th>\n",
              "    </tr>\n",
              "  </thead>\n",
              "  <tbody>\n",
              "    <tr>\n",
              "      <th>1985</th>\n",
              "      <td>143371</td>\n",
              "      <td>1463.0</td>\n",
              "      <td>1525.0</td>\n",
              "      <td>41</td>\n",
              "      <td>2610</td>\n",
              "    </tr>\n",
              "    <tr>\n",
              "      <th>1986</th>\n",
              "      <td>173684</td>\n",
              "      <td>1484.0</td>\n",
              "      <td>1456.0</td>\n",
              "      <td>231</td>\n",
              "      <td>2972</td>\n",
              "    </tr>\n",
              "    <tr>\n",
              "      <th>1987</th>\n",
              "      <td>172368</td>\n",
              "      <td>1436.0</td>\n",
              "      <td>1482.0</td>\n",
              "      <td>77</td>\n",
              "      <td>2855</td>\n",
              "    </tr>\n",
              "    <tr>\n",
              "      <th>1988</th>\n",
              "      <td>196151</td>\n",
              "      <td>1532.0</td>\n",
              "      <td>1505.0</td>\n",
              "      <td>327</td>\n",
              "      <td>2785</td>\n",
              "    </tr>\n",
              "    <tr>\n",
              "      <th>1989</th>\n",
              "      <td>210274</td>\n",
              "      <td>1524.0</td>\n",
              "      <td>1478.0</td>\n",
              "      <td>497</td>\n",
              "      <td>2959</td>\n",
              "    </tr>\n",
              "    <tr>\n",
              "      <th>1990</th>\n",
              "      <td>208129</td>\n",
              "      <td>1426.0</td>\n",
              "      <td>1424.0</td>\n",
              "      <td>136</td>\n",
              "      <td>2671</td>\n",
              "    </tr>\n",
              "    <tr>\n",
              "      <th>1991</th>\n",
              "      <td>378834</td>\n",
              "      <td>1480.0</td>\n",
              "      <td>1518.0</td>\n",
              "      <td>87</td>\n",
              "      <td>2719</td>\n",
              "    </tr>\n",
              "    <tr>\n",
              "      <th>1992</th>\n",
              "      <td>553486</td>\n",
              "      <td>1484.0</td>\n",
              "      <td>1476.0</td>\n",
              "      <td>28</td>\n",
              "      <td>2880</td>\n",
              "    </tr>\n",
              "    <tr>\n",
              "      <th>1993</th>\n",
              "      <td>747891</td>\n",
              "      <td>1533.0</td>\n",
              "      <td>1558.0</td>\n",
              "      <td>210</td>\n",
              "      <td>3168</td>\n",
              "    </tr>\n",
              "    <tr>\n",
              "      <th>1994</th>\n",
              "      <td>904650</td>\n",
              "      <td>1513.0</td>\n",
              "      <td>1504.0</td>\n",
              "      <td>243</td>\n",
              "      <td>3004</td>\n",
              "    </tr>\n",
              "    <tr>\n",
              "      <th>1995</th>\n",
              "      <td>1165652</td>\n",
              "      <td>1489.0</td>\n",
              "      <td>1505.0</td>\n",
              "      <td>26</td>\n",
              "      <td>3248</td>\n",
              "    </tr>\n",
              "    <tr>\n",
              "      <th>1996</th>\n",
              "      <td>954855</td>\n",
              "      <td>1449.0</td>\n",
              "      <td>1434.0</td>\n",
              "      <td>2</td>\n",
              "      <td>2939</td>\n",
              "    </tr>\n",
              "    <tr>\n",
              "      <th>1997</th>\n",
              "      <td>1030832</td>\n",
              "      <td>1498.0</td>\n",
              "      <td>1514.0</td>\n",
              "      <td>8</td>\n",
              "      <td>3033</td>\n",
              "    </tr>\n",
              "    <tr>\n",
              "      <th>1998</th>\n",
              "      <td>1204157</td>\n",
              "      <td>1485.0</td>\n",
              "      <td>1488.0</td>\n",
              "      <td>0</td>\n",
              "      <td>3018</td>\n",
              "    </tr>\n",
              "    <tr>\n",
              "      <th>1999</th>\n",
              "      <td>1317821</td>\n",
              "      <td>1531.0</td>\n",
              "      <td>1525.0</td>\n",
              "      <td>2</td>\n",
              "      <td>3070</td>\n",
              "    </tr>\n",
              "    <tr>\n",
              "      <th>2000</th>\n",
              "      <td>1257379</td>\n",
              "      <td>1493.0</td>\n",
              "      <td>1490.0</td>\n",
              "      <td>151</td>\n",
              "      <td>2934</td>\n",
              "    </tr>\n",
              "    <tr>\n",
              "      <th>2001</th>\n",
              "      <td>1256752</td>\n",
              "      <td>1507.0</td>\n",
              "      <td>1496.0</td>\n",
              "      <td>7</td>\n",
              "      <td>2960</td>\n",
              "    </tr>\n",
              "    <tr>\n",
              "      <th>2002</th>\n",
              "      <td>1009543</td>\n",
              "      <td>1507.0</td>\n",
              "      <td>1496.0</td>\n",
              "      <td>107</td>\n",
              "      <td>3446</td>\n",
              "    </tr>\n",
              "    <tr>\n",
              "      <th>2003</th>\n",
              "      <td>1009303</td>\n",
              "      <td>1553.0</td>\n",
              "      <td>1562.0</td>\n",
              "      <td>83</td>\n",
              "      <td>2958</td>\n",
              "    </tr>\n",
              "    <tr>\n",
              "      <th>2004</th>\n",
              "      <td>918583</td>\n",
              "      <td>1506.0</td>\n",
              "      <td>1529.0</td>\n",
              "      <td>50</td>\n",
              "      <td>3314</td>\n",
              "    </tr>\n",
              "    <tr>\n",
              "      <th>2005</th>\n",
              "      <td>1023750</td>\n",
              "      <td>1486.0</td>\n",
              "      <td>1468.0</td>\n",
              "      <td>75</td>\n",
              "      <td>2861</td>\n",
              "    </tr>\n",
              "    <tr>\n",
              "      <th>2006</th>\n",
              "      <td>1068915</td>\n",
              "      <td>1501.0</td>\n",
              "      <td>1488.0</td>\n",
              "      <td>13</td>\n",
              "      <td>3051</td>\n",
              "    </tr>\n",
              "    <tr>\n",
              "      <th>2007</th>\n",
              "      <td>1112733</td>\n",
              "      <td>1510.0</td>\n",
              "      <td>1503.0</td>\n",
              "      <td>143</td>\n",
              "      <td>3291</td>\n",
              "    </tr>\n",
              "    <tr>\n",
              "      <th>2008</th>\n",
              "      <td>1143589</td>\n",
              "      <td>1513.0</td>\n",
              "      <td>1510.0</td>\n",
              "      <td>201</td>\n",
              "      <td>2906</td>\n",
              "    </tr>\n",
              "    <tr>\n",
              "      <th>2009</th>\n",
              "      <td>1279657</td>\n",
              "      <td>1516.0</td>\n",
              "      <td>1501.0</td>\n",
              "      <td>20</td>\n",
              "      <td>2843</td>\n",
              "    </tr>\n",
              "    <tr>\n",
              "      <th>2010</th>\n",
              "      <td>1339868</td>\n",
              "      <td>1487.0</td>\n",
              "      <td>1504.0</td>\n",
              "      <td>52</td>\n",
              "      <td>2879</td>\n",
              "    </tr>\n",
              "    <tr>\n",
              "      <th>2011</th>\n",
              "      <td>1413451</td>\n",
              "      <td>1499.0</td>\n",
              "      <td>1494.0</td>\n",
              "      <td>127</td>\n",
              "      <td>2864</td>\n",
              "    </tr>\n",
              "    <tr>\n",
              "      <th>2012</th>\n",
              "      <td>1559800</td>\n",
              "      <td>1498.0</td>\n",
              "      <td>1489.0</td>\n",
              "      <td>46</td>\n",
              "      <td>2906</td>\n",
              "    </tr>\n",
              "    <tr>\n",
              "      <th>2013</th>\n",
              "      <td>1483099</td>\n",
              "      <td>1503.0</td>\n",
              "      <td>1503.0</td>\n",
              "      <td>30</td>\n",
              "      <td>3020</td>\n",
              "    </tr>\n",
              "    <tr>\n",
              "      <th>2014</th>\n",
              "      <td>1552370</td>\n",
              "      <td>1512.0</td>\n",
              "      <td>1491.0</td>\n",
              "      <td>76</td>\n",
              "      <td>3145</td>\n",
              "    </tr>\n",
              "    <tr>\n",
              "      <th>2015</th>\n",
              "      <td>1606197</td>\n",
              "      <td>1514.0</td>\n",
              "      <td>1515.0</td>\n",
              "      <td>28</td>\n",
              "      <td>3251</td>\n",
              "    </tr>\n",
              "    <tr>\n",
              "      <th>2016</th>\n",
              "      <td>1469838</td>\n",
              "      <td>1500.0</td>\n",
              "      <td>1496.0</td>\n",
              "      <td>29</td>\n",
              "      <td>3007</td>\n",
              "    </tr>\n",
              "    <tr>\n",
              "      <th>2017</th>\n",
              "      <td>1416306</td>\n",
              "      <td>1502.0</td>\n",
              "      <td>1491.0</td>\n",
              "      <td>46</td>\n",
              "      <td>3099</td>\n",
              "    </tr>\n",
              "    <tr>\n",
              "      <th>2018</th>\n",
              "      <td>1471102</td>\n",
              "      <td>1518.0</td>\n",
              "      <td>1528.0</td>\n",
              "      <td>9</td>\n",
              "      <td>3250</td>\n",
              "    </tr>\n",
              "    <tr>\n",
              "      <th>2019</th>\n",
              "      <td>2929267</td>\n",
              "      <td>1514.0</td>\n",
              "      <td>1529.0</td>\n",
              "      <td>10</td>\n",
              "      <td>2912</td>\n",
              "    </tr>\n",
              "    <tr>\n",
              "      <th>2020</th>\n",
              "      <td>1329711</td>\n",
              "      <td>1474.0</td>\n",
              "      <td>1484.0</td>\n",
              "      <td>25</td>\n",
              "      <td>2994</td>\n",
              "    </tr>\n",
              "    <tr>\n",
              "      <th>2021</th>\n",
              "      <td>1136379</td>\n",
              "      <td>1519.0</td>\n",
              "      <td>1515.0</td>\n",
              "      <td>175</td>\n",
              "      <td>2961</td>\n",
              "    </tr>\n",
              "    <tr>\n",
              "      <th>2022</th>\n",
              "      <td>490139</td>\n",
              "      <td>1499.0</td>\n",
              "      <td>1526.0</td>\n",
              "      <td>34</td>\n",
              "      <td>3036</td>\n",
              "    </tr>\n",
              "  </tbody>\n",
              "</table>\n",
              "</div>"
            ],
            "text/plain": [
              "       Vendas                           \n",
              "          sum    mean  median  min   max\n",
              "Ano                                     \n",
              "1985   143371  1463.0  1525.0   41  2610\n",
              "1986   173684  1484.0  1456.0  231  2972\n",
              "1987   172368  1436.0  1482.0   77  2855\n",
              "1988   196151  1532.0  1505.0  327  2785\n",
              "1989   210274  1524.0  1478.0  497  2959\n",
              "1990   208129  1426.0  1424.0  136  2671\n",
              "1991   378834  1480.0  1518.0   87  2719\n",
              "1992   553486  1484.0  1476.0   28  2880\n",
              "1993   747891  1533.0  1558.0  210  3168\n",
              "1994   904650  1513.0  1504.0  243  3004\n",
              "1995  1165652  1489.0  1505.0   26  3248\n",
              "1996   954855  1449.0  1434.0    2  2939\n",
              "1997  1030832  1498.0  1514.0    8  3033\n",
              "1998  1204157  1485.0  1488.0    0  3018\n",
              "1999  1317821  1531.0  1525.0    2  3070\n",
              "2000  1257379  1493.0  1490.0  151  2934\n",
              "2001  1256752  1507.0  1496.0    7  2960\n",
              "2002  1009543  1507.0  1496.0  107  3446\n",
              "2003  1009303  1553.0  1562.0   83  2958\n",
              "2004   918583  1506.0  1529.0   50  3314\n",
              "2005  1023750  1486.0  1468.0   75  2861\n",
              "2006  1068915  1501.0  1488.0   13  3051\n",
              "2007  1112733  1510.0  1503.0  143  3291\n",
              "2008  1143589  1513.0  1510.0  201  2906\n",
              "2009  1279657  1516.0  1501.0   20  2843\n",
              "2010  1339868  1487.0  1504.0   52  2879\n",
              "2011  1413451  1499.0  1494.0  127  2864\n",
              "2012  1559800  1498.0  1489.0   46  2906\n",
              "2013  1483099  1503.0  1503.0   30  3020\n",
              "2014  1552370  1512.0  1491.0   76  3145\n",
              "2015  1606197  1514.0  1515.0   28  3251\n",
              "2016  1469838  1500.0  1496.0   29  3007\n",
              "2017  1416306  1502.0  1491.0   46  3099\n",
              "2018  1471102  1518.0  1528.0    9  3250\n",
              "2019  2929267  1514.0  1529.0   10  2912\n",
              "2020  1329711  1474.0  1484.0   25  2994\n",
              "2021  1136379  1519.0  1515.0  175  2961\n",
              "2022   490139  1499.0  1526.0   34  3036"
            ]
          },
          "execution_count": 11,
          "metadata": {},
          "output_type": "execute_result"
        }
      ],
      "source": [
        "#Similar a minha versão porem com outras métricas inclusas \n",
        "#gerar dataframe aplicando o filtro de agregação\n",
        "# gera um dataframe multindex\n",
        "vendas_Ano = dados.groupby('Ano').agg(agregacao).round()\n",
        "vendas_Ano"
      ]
    },
    {
      "cell_type": "code",
      "execution_count": null,
      "metadata": {
        "id": "q_m_CYtQK9al",
        "outputId": "3d390a4a-fc11-49f4-f895-d19885c8af0b"
      },
      "outputs": [
        {
          "name": "stderr",
          "output_type": "stream",
          "text": [
            "C:\\Users\\luisf\\AppData\\Local\\Temp\\ipykernel_2188\\2364350397.py:2: FutureWarning: inplace is deprecated and will be removed in a future version.\n",
            "  vendas_Ano.columns.set_levels(['Total','Média','Mediana', 'Menor', 'Maior'],level=1, inplace=True)\n"
          ]
        }
      ],
      "source": [
        "#renomear colunas\n",
        "vendas_Ano.columns.set_levels(['Total','Média','Mediana', 'Menor', 'Maior'],level=1, inplace=True)"
      ]
    },
    {
      "cell_type": "code",
      "execution_count": null,
      "metadata": {
        "id": "bkWdWHk8K9al",
        "outputId": "740eb2e8-69a6-4196-a72b-875edfe9cdd0"
      },
      "outputs": [
        {
          "data": {
            "text/html": [
              "<div>\n",
              "<style scoped>\n",
              "    .dataframe tbody tr th:only-of-type {\n",
              "        vertical-align: middle;\n",
              "    }\n",
              "\n",
              "    .dataframe tbody tr th {\n",
              "        vertical-align: top;\n",
              "    }\n",
              "\n",
              "    .dataframe thead th {\n",
              "        text-align: right;\n",
              "    }\n",
              "</style>\n",
              "<table border=\"1\" class=\"dataframe\">\n",
              "  <thead>\n",
              "    <tr style=\"text-align: right;\">\n",
              "      <th></th>\n",
              "      <th>Total</th>\n",
              "      <th>Média</th>\n",
              "      <th>Mediana</th>\n",
              "      <th>Menor</th>\n",
              "      <th>Maior</th>\n",
              "    </tr>\n",
              "    <tr>\n",
              "      <th>Ano</th>\n",
              "      <th></th>\n",
              "      <th></th>\n",
              "      <th></th>\n",
              "      <th></th>\n",
              "      <th></th>\n",
              "    </tr>\n",
              "  </thead>\n",
              "  <tbody>\n",
              "    <tr>\n",
              "      <th>2019</th>\n",
              "      <td>2929267</td>\n",
              "      <td>1514.0</td>\n",
              "      <td>1529.0</td>\n",
              "      <td>10</td>\n",
              "      <td>2912</td>\n",
              "    </tr>\n",
              "    <tr>\n",
              "      <th>2015</th>\n",
              "      <td>1606197</td>\n",
              "      <td>1514.0</td>\n",
              "      <td>1515.0</td>\n",
              "      <td>28</td>\n",
              "      <td>3251</td>\n",
              "    </tr>\n",
              "    <tr>\n",
              "      <th>2012</th>\n",
              "      <td>1559800</td>\n",
              "      <td>1498.0</td>\n",
              "      <td>1489.0</td>\n",
              "      <td>46</td>\n",
              "      <td>2906</td>\n",
              "    </tr>\n",
              "  </tbody>\n",
              "</table>\n",
              "</div>"
            ],
            "text/plain": [
              "        Total   Média  Mediana  Menor  Maior\n",
              "Ano                                         \n",
              "2019  2929267  1514.0   1529.0     10   2912\n",
              "2015  1606197  1514.0   1515.0     28   3251\n",
              "2012  1559800  1498.0   1489.0     46   2906"
            ]
          },
          "execution_count": 13,
          "metadata": {},
          "output_type": "execute_result"
        }
      ],
      "source": [
        "# Ajustar nome das colunas - transformar multindex em single index\n",
        "\n",
        "# opcao 1\n",
        "# vendas_Ano.columns = [\"_\".join(a) for a in vendas_Ano.columns.to_flat_index()]\n",
        "# vendas_Ano.sort_values('Vendas_Total', ascending=False)\n",
        "\n",
        "# opcao 2\n",
        "vendas_Ano.columns = vendas_Ano.columns.get_level_values(1)\n",
        "vendas_Ano.sort_values('Total', ascending=False)[:3]"
      ]
    },
    {
      "cell_type": "markdown",
      "metadata": {
        "id": "2aSIyzQvK9am"
      },
      "source": [
        "### **<font color=green>Item 6 </font>**<br>Quais as 3 marcas de veículos com maior número de unidades vendidas?"
      ]
    },
    {
      "cell_type": "code",
      "source": [
        "#IDM - Minha solução simplificada\n",
        "\n",
        "vendas_Ano = dados.groupby('Marca').Vendas.sum()\n",
        "vendas_Ano.sort_values(ascending=False).head(3)\n"
      ],
      "metadata": {
        "id": "oIm_fIExd5z4"
      },
      "execution_count": null,
      "outputs": []
    },
    {
      "cell_type": "code",
      "execution_count": null,
      "metadata": {
        "id": "ugpo9ge9K9am"
      },
      "outputs": [],
      "source": [
        "agregacao = {\n",
        "    'Vendas': ['sum', 'mean', 'median', 'min', 'max']\n",
        "}"
      ]
    },
    {
      "cell_type": "code",
      "execution_count": null,
      "metadata": {
        "id": "sEnv-UDAK9am",
        "outputId": "c6f864c0-2b6e-4c19-af96-a76d19193b26"
      },
      "outputs": [
        {
          "data": {
            "text/html": [
              "<div>\n",
              "<style scoped>\n",
              "    .dataframe tbody tr th:only-of-type {\n",
              "        vertical-align: middle;\n",
              "    }\n",
              "\n",
              "    .dataframe tbody tr th {\n",
              "        vertical-align: top;\n",
              "    }\n",
              "\n",
              "    .dataframe thead tr th {\n",
              "        text-align: left;\n",
              "    }\n",
              "\n",
              "    .dataframe thead tr:last-of-type th {\n",
              "        text-align: right;\n",
              "    }\n",
              "</style>\n",
              "<table border=\"1\" class=\"dataframe\">\n",
              "  <thead>\n",
              "    <tr>\n",
              "      <th></th>\n",
              "      <th colspan=\"5\" halign=\"left\">Vendas</th>\n",
              "    </tr>\n",
              "    <tr>\n",
              "      <th></th>\n",
              "      <th>sum</th>\n",
              "      <th>mean</th>\n",
              "      <th>median</th>\n",
              "      <th>min</th>\n",
              "      <th>max</th>\n",
              "    </tr>\n",
              "    <tr>\n",
              "      <th>Marca</th>\n",
              "      <th></th>\n",
              "      <th></th>\n",
              "      <th></th>\n",
              "      <th></th>\n",
              "      <th></th>\n",
              "    </tr>\n",
              "  </thead>\n",
              "  <tbody>\n",
              "    <tr>\n",
              "      <th>Troller</th>\n",
              "      <td>91313</td>\n",
              "      <td>1384.0</td>\n",
              "      <td>1375.0</td>\n",
              "      <td>152</td>\n",
              "      <td>2287</td>\n",
              "    </tr>\n",
              "    <tr>\n",
              "      <th>Lada</th>\n",
              "      <td>49556</td>\n",
              "      <td>1599.0</td>\n",
              "      <td>1661.0</td>\n",
              "      <td>354</td>\n",
              "      <td>2545</td>\n",
              "    </tr>\n",
              "    <tr>\n",
              "      <th>JPX</th>\n",
              "      <td>57764</td>\n",
              "      <td>1444.0</td>\n",
              "      <td>1362.0</td>\n",
              "      <td>343</td>\n",
              "      <td>2510</td>\n",
              "    </tr>\n",
              "    <tr>\n",
              "      <th>Caoa Chery</th>\n",
              "      <td>185758</td>\n",
              "      <td>1463.0</td>\n",
              "      <td>1532.0</td>\n",
              "      <td>227</td>\n",
              "      <td>2907</td>\n",
              "    </tr>\n",
              "    <tr>\n",
              "      <th>SSANGYONG</th>\n",
              "      <td>160192</td>\n",
              "      <td>1526.0</td>\n",
              "      <td>1540.0</td>\n",
              "      <td>239</td>\n",
              "      <td>2606</td>\n",
              "    </tr>\n",
              "  </tbody>\n",
              "</table>\n",
              "</div>"
            ],
            "text/plain": [
              "            Vendas                           \n",
              "               sum    mean  median  min   max\n",
              "Marca                                        \n",
              "Troller      91313  1384.0  1375.0  152  2287\n",
              "Lada         49556  1599.0  1661.0  354  2545\n",
              "JPX          57764  1444.0  1362.0  343  2510\n",
              "Caoa Chery  185758  1463.0  1532.0  227  2907\n",
              "SSANGYONG   160192  1526.0  1540.0  239  2606"
            ]
          },
          "execution_count": 15,
          "metadata": {},
          "output_type": "execute_result"
        }
      ],
      "source": [
        "vendas_marca = dados.groupby('Marca').agg(agregacao).round()\n",
        "vendas_marca.sample(5)"
      ]
    },
    {
      "cell_type": "code",
      "execution_count": null,
      "metadata": {
        "id": "I7C5QInkK9am",
        "outputId": "656d032d-3360-43a2-8d83-cda2679f614e"
      },
      "outputs": [
        {
          "name": "stderr",
          "output_type": "stream",
          "text": [
            "C:\\Users\\luisf\\AppData\\Local\\Temp\\ipykernel_2188\\2193022572.py:2: FutureWarning: inplace is deprecated and will be removed in a future version.\n",
            "  vendas_marca.columns.set_levels(['Total','Média','Mediana', 'Menor', 'Maior'],level=1, inplace=True)\n"
          ]
        }
      ],
      "source": [
        "#renomear colunas\n",
        "vendas_marca.columns.set_levels(['Total','Média','Mediana', 'Menor', 'Maior'],level=1, inplace=True)"
      ]
    },
    {
      "cell_type": "code",
      "execution_count": null,
      "metadata": {
        "id": "-H9NpD52K9am",
        "outputId": "0d6c561d-8b9e-4826-a8ef-4f0fb332cfb8"
      },
      "outputs": [
        {
          "data": {
            "text/html": [
              "<div>\n",
              "<style scoped>\n",
              "    .dataframe tbody tr th:only-of-type {\n",
              "        vertical-align: middle;\n",
              "    }\n",
              "\n",
              "    .dataframe tbody tr th {\n",
              "        vertical-align: top;\n",
              "    }\n",
              "\n",
              "    .dataframe thead th {\n",
              "        text-align: right;\n",
              "    }\n",
              "</style>\n",
              "<table border=\"1\" class=\"dataframe\">\n",
              "  <thead>\n",
              "    <tr style=\"text-align: right;\">\n",
              "      <th></th>\n",
              "      <th>Total</th>\n",
              "      <th>Média</th>\n",
              "      <th>Mediana</th>\n",
              "      <th>Menor</th>\n",
              "      <th>Maior</th>\n",
              "    </tr>\n",
              "    <tr>\n",
              "      <th>Marca</th>\n",
              "      <th></th>\n",
              "      <th></th>\n",
              "      <th></th>\n",
              "      <th></th>\n",
              "      <th></th>\n",
              "    </tr>\n",
              "  </thead>\n",
              "  <tbody>\n",
              "    <tr>\n",
              "      <th>VW - VolksWagen</th>\n",
              "      <td>3831143</td>\n",
              "      <td>1497.0</td>\n",
              "      <td>1498.0</td>\n",
              "      <td>25</td>\n",
              "      <td>3446</td>\n",
              "    </tr>\n",
              "    <tr>\n",
              "      <th>GM - Chevrolet</th>\n",
              "      <td>3570665</td>\n",
              "      <td>1513.0</td>\n",
              "      <td>1506.0</td>\n",
              "      <td>13</td>\n",
              "      <td>3036</td>\n",
              "    </tr>\n",
              "    <tr>\n",
              "      <th>Fiat</th>\n",
              "      <td>3436885</td>\n",
              "      <td>1511.0</td>\n",
              "      <td>1505.0</td>\n",
              "      <td>8</td>\n",
              "      <td>3291</td>\n",
              "    </tr>\n",
              "  </tbody>\n",
              "</table>\n",
              "</div>"
            ],
            "text/plain": [
              "                   Total   Média  Mediana  Menor  Maior\n",
              "Marca                                                  \n",
              "VW - VolksWagen  3831143  1497.0   1498.0     25   3446\n",
              "GM - Chevrolet   3570665  1513.0   1506.0     13   3036\n",
              "Fiat             3436885  1511.0   1505.0      8   3291"
            ]
          },
          "execution_count": 17,
          "metadata": {},
          "output_type": "execute_result"
        }
      ],
      "source": [
        "# opcao 1\n",
        "# vendas_marca.columns = [\"_\".join(a) for a in vendas_marca.columns.to_flat_index()]\n",
        "# vendas_marca.sort_values('Vendas_Total', ascending=False)\n",
        "\n",
        "# opcao 2\n",
        "vendas_marca.columns = vendas_marca.columns.get_level_values(1)\n",
        "vendas_marca.sort_values('Total', ascending=False)[:3]"
      ]
    },
    {
      "cell_type": "markdown",
      "metadata": {
        "id": "5ePZkpP-K9am"
      },
      "source": [
        "### **<font color=green>Item 7 </font>**<br>Dentre as marcas selecionadas no item anterior. Quais são 5 os modelos mais vendidos?"
      ]
    },
    {
      "cell_type": "code",
      "execution_count": null,
      "metadata": {
        "id": "0Gj22zFAK9am"
      },
      "outputs": [],
      "source": [
        "# filtrar dados\n",
        "dados_filtro = dados[(dados.Marca == 'VW - VolksWagen') | (dados.Marca == 'GM - Chevrolet') | (dados.Marca == 'Fiat')]"
      ]
    },
    {
      "cell_type": "code",
      "execution_count": null,
      "metadata": {
        "id": "GM7r4bjoK9an"
      },
      "outputs": [],
      "source": [
        "agregacao = {\n",
        "    'Vendas': ['sum', 'mean', 'median', 'min', 'max']\n",
        "}"
      ]
    },
    {
      "cell_type": "code",
      "execution_count": null,
      "metadata": {
        "id": "dw52yNQjK9ao",
        "outputId": "540be423-46ae-4b03-8175-9b75743e52f0"
      },
      "outputs": [
        {
          "data": {
            "text/html": [
              "<div>\n",
              "<style scoped>\n",
              "    .dataframe tbody tr th:only-of-type {\n",
              "        vertical-align: middle;\n",
              "    }\n",
              "\n",
              "    .dataframe tbody tr th {\n",
              "        vertical-align: top;\n",
              "    }\n",
              "\n",
              "    .dataframe thead tr th {\n",
              "        text-align: left;\n",
              "    }\n",
              "\n",
              "    .dataframe thead tr:last-of-type th {\n",
              "        text-align: right;\n",
              "    }\n",
              "</style>\n",
              "<table border=\"1\" class=\"dataframe\">\n",
              "  <thead>\n",
              "    <tr>\n",
              "      <th></th>\n",
              "      <th colspan=\"5\" halign=\"left\">Vendas</th>\n",
              "    </tr>\n",
              "    <tr>\n",
              "      <th></th>\n",
              "      <th>sum</th>\n",
              "      <th>mean</th>\n",
              "      <th>median</th>\n",
              "      <th>min</th>\n",
              "      <th>max</th>\n",
              "    </tr>\n",
              "    <tr>\n",
              "      <th>Modelo</th>\n",
              "      <th></th>\n",
              "      <th></th>\n",
              "      <th></th>\n",
              "      <th></th>\n",
              "      <th></th>\n",
              "    </tr>\n",
              "  </thead>\n",
              "  <tbody>\n",
              "    <tr>\n",
              "      <th>147 C/ CL</th>\n",
              "      <td>4665</td>\n",
              "      <td>1555.000000</td>\n",
              "      <td>1624.0</td>\n",
              "      <td>1214</td>\n",
              "      <td>1827</td>\n",
              "    </tr>\n",
              "    <tr>\n",
              "      <th>147 Furgão (todos)</th>\n",
              "      <td>3527</td>\n",
              "      <td>1175.666667</td>\n",
              "      <td>1193.0</td>\n",
              "      <td>1102</td>\n",
              "      <td>1232</td>\n",
              "    </tr>\n",
              "    <tr>\n",
              "      <th>147 Pick-Up (todas)</th>\n",
              "      <td>3355</td>\n",
              "      <td>838.750000</td>\n",
              "      <td>814.0</td>\n",
              "      <td>680</td>\n",
              "      <td>1047</td>\n",
              "    </tr>\n",
              "    <tr>\n",
              "      <th>500 ABARTH MULTIAIR 1.4 TB 16V 3p</th>\n",
              "      <td>3696</td>\n",
              "      <td>1848.000000</td>\n",
              "      <td>1848.0</td>\n",
              "      <td>1817</td>\n",
              "      <td>1879</td>\n",
              "    </tr>\n",
              "    <tr>\n",
              "      <th>500 Cabrio Dualogic Flex 1.4 8V</th>\n",
              "      <td>5563</td>\n",
              "      <td>1854.333333</td>\n",
              "      <td>1792.0</td>\n",
              "      <td>1575</td>\n",
              "      <td>2196</td>\n",
              "    </tr>\n",
              "    <tr>\n",
              "      <th>...</th>\n",
              "      <td>...</td>\n",
              "      <td>...</td>\n",
              "      <td>...</td>\n",
              "      <td>...</td>\n",
              "      <td>...</td>\n",
              "    </tr>\n",
              "    <tr>\n",
              "      <th>up! move I MOTION 1.0 T. Flex 12V 3p</th>\n",
              "      <td>2647</td>\n",
              "      <td>1323.500000</td>\n",
              "      <td>1323.5</td>\n",
              "      <td>894</td>\n",
              "      <td>1753</td>\n",
              "    </tr>\n",
              "    <tr>\n",
              "      <th>up! move I MOTION 1.0 T. Flex 12V 5p</th>\n",
              "      <td>7287</td>\n",
              "      <td>1457.400000</td>\n",
              "      <td>1241.0</td>\n",
              "      <td>867</td>\n",
              "      <td>2073</td>\n",
              "    </tr>\n",
              "    <tr>\n",
              "      <th>up! take 1.0 T. Flex 12V 3p</th>\n",
              "      <td>6020</td>\n",
              "      <td>1505.000000</td>\n",
              "      <td>1767.0</td>\n",
              "      <td>526</td>\n",
              "      <td>1960</td>\n",
              "    </tr>\n",
              "    <tr>\n",
              "      <th>up! take 1.0 Total Flex 12V 5p</th>\n",
              "      <td>8566</td>\n",
              "      <td>1427.666667</td>\n",
              "      <td>1590.0</td>\n",
              "      <td>459</td>\n",
              "      <td>1974</td>\n",
              "    </tr>\n",
              "    <tr>\n",
              "      <th>up! track 1.0 Total Flex 12V 5p</th>\n",
              "      <td>857</td>\n",
              "      <td>857.000000</td>\n",
              "      <td>857.0</td>\n",
              "      <td>857</td>\n",
              "      <td>857</td>\n",
              "    </tr>\n",
              "  </tbody>\n",
              "</table>\n",
              "<p>1566 rows × 5 columns</p>\n",
              "</div>"
            ],
            "text/plain": [
              "                                     Vendas                                 \n",
              "                                        sum         mean  median   min   max\n",
              "Modelo                                                                      \n",
              "147 C/ CL                              4665  1555.000000  1624.0  1214  1827\n",
              "147 Furgão (todos)                     3527  1175.666667  1193.0  1102  1232\n",
              "147 Pick-Up (todas)                    3355   838.750000   814.0   680  1047\n",
              "500 ABARTH MULTIAIR 1.4 TB 16V 3p      3696  1848.000000  1848.0  1817  1879\n",
              "500 Cabrio Dualogic Flex 1.4 8V        5563  1854.333333  1792.0  1575  2196\n",
              "...                                     ...          ...     ...   ...   ...\n",
              "up! move I MOTION 1.0 T. Flex 12V 3p   2647  1323.500000  1323.5   894  1753\n",
              "up! move I MOTION 1.0 T. Flex 12V 5p   7287  1457.400000  1241.0   867  2073\n",
              "up! take 1.0 T. Flex 12V 3p            6020  1505.000000  1767.0   526  1960\n",
              "up! take 1.0 Total Flex 12V 5p         8566  1427.666667  1590.0   459  1974\n",
              "up! track 1.0 Total Flex 12V 5p         857   857.000000   857.0   857   857\n",
              "\n",
              "[1566 rows x 5 columns]"
            ]
          },
          "execution_count": 20,
          "metadata": {},
          "output_type": "execute_result"
        }
      ],
      "source": [
        "vendas_MM = dados_filtro.groupby('Modelo').agg(agregacao)\n",
        "vendas_MM"
      ]
    },
    {
      "cell_type": "code",
      "execution_count": null,
      "metadata": {
        "id": "ZTGy_xbcK9ao",
        "outputId": "c7f5fc0f-66bd-4f33-a270-8ac0471abeba"
      },
      "outputs": [
        {
          "name": "stderr",
          "output_type": "stream",
          "text": [
            "C:\\Users\\luisf\\AppData\\Local\\Temp\\ipykernel_2188\\2454025584.py:2: FutureWarning: inplace is deprecated and will be removed in a future version.\n",
            "  vendas_MM.columns.set_levels(['Total','Média','Mediana', 'Menor', 'Maior'],level=1, inplace=True)\n"
          ]
        },
        {
          "data": {
            "text/html": [
              "<div>\n",
              "<style scoped>\n",
              "    .dataframe tbody tr th:only-of-type {\n",
              "        vertical-align: middle;\n",
              "    }\n",
              "\n",
              "    .dataframe tbody tr th {\n",
              "        vertical-align: top;\n",
              "    }\n",
              "\n",
              "    .dataframe thead th {\n",
              "        text-align: right;\n",
              "    }\n",
              "</style>\n",
              "<table border=\"1\" class=\"dataframe\">\n",
              "  <thead>\n",
              "    <tr style=\"text-align: right;\">\n",
              "      <th></th>\n",
              "      <th>Total</th>\n",
              "      <th>Média</th>\n",
              "      <th>Mediana</th>\n",
              "      <th>Menor</th>\n",
              "      <th>Maior</th>\n",
              "    </tr>\n",
              "    <tr>\n",
              "      <th>Modelo</th>\n",
              "      <th></th>\n",
              "      <th></th>\n",
              "      <th></th>\n",
              "      <th></th>\n",
              "      <th></th>\n",
              "    </tr>\n",
              "  </thead>\n",
              "  <tbody>\n",
              "    <tr>\n",
              "      <th>Kombi Furgão</th>\n",
              "      <td>49573</td>\n",
              "      <td>1458.029412</td>\n",
              "      <td>1508.5</td>\n",
              "      <td>432</td>\n",
              "      <td>2250</td>\n",
              "    </tr>\n",
              "    <tr>\n",
              "      <th>Kombi Standard/ Luxo/ Série Prata</th>\n",
              "      <td>49013</td>\n",
              "      <td>1441.558824</td>\n",
              "      <td>1451.5</td>\n",
              "      <td>427</td>\n",
              "      <td>2307</td>\n",
              "    </tr>\n",
              "    <tr>\n",
              "      <th>Kombi Pick-Up</th>\n",
              "      <td>35334</td>\n",
              "      <td>1606.090909</td>\n",
              "      <td>1732.0</td>\n",
              "      <td>672</td>\n",
              "      <td>2412</td>\n",
              "    </tr>\n",
              "    <tr>\n",
              "      <th>Corvette 5.7/ 6.0, 6.2 Targa/Stingray</th>\n",
              "      <td>34051</td>\n",
              "      <td>1547.772727</td>\n",
              "      <td>1569.0</td>\n",
              "      <td>674</td>\n",
              "      <td>2445</td>\n",
              "    </tr>\n",
              "    <tr>\n",
              "      <th>Saveiro CL 1.6 Mi / CL/ C 1.6</th>\n",
              "      <td>33730</td>\n",
              "      <td>1686.500000</td>\n",
              "      <td>1855.0</td>\n",
              "      <td>808</td>\n",
              "      <td>2522</td>\n",
              "    </tr>\n",
              "  </tbody>\n",
              "</table>\n",
              "</div>"
            ],
            "text/plain": [
              "                                       Total        Média  Mediana  Menor  \\\n",
              "Modelo                                                                      \n",
              "Kombi Furgão                           49573  1458.029412   1508.5    432   \n",
              "Kombi Standard/ Luxo/ Série Prata      49013  1441.558824   1451.5    427   \n",
              "Kombi Pick-Up                          35334  1606.090909   1732.0    672   \n",
              "Corvette 5.7/ 6.0, 6.2 Targa/Stingray  34051  1547.772727   1569.0    674   \n",
              "Saveiro CL 1.6 Mi / CL/ C 1.6          33730  1686.500000   1855.0    808   \n",
              "\n",
              "                                       Maior  \n",
              "Modelo                                        \n",
              "Kombi Furgão                            2250  \n",
              "Kombi Standard/ Luxo/ Série Prata       2307  \n",
              "Kombi Pick-Up                           2412  \n",
              "Corvette 5.7/ 6.0, 6.2 Targa/Stingray   2445  \n",
              "Saveiro CL 1.6 Mi / CL/ C 1.6           2522  "
            ]
          },
          "execution_count": 21,
          "metadata": {},
          "output_type": "execute_result"
        }
      ],
      "source": [
        "#renomear colunas\n",
        "vendas_MM.columns.set_levels(['Total','Média','Mediana', 'Menor', 'Maior'],level=1, inplace=True)\n",
        "\n",
        "# opcao 1\n",
        "# vendas_Ano.columns = [\"_\".join(a) for a in vendas_Ano.columns.to_flat_index()]\n",
        "# vendas_Ano.sort_values('Vendas_Total', ascending=False)\n",
        "\n",
        "# opcao 2\n",
        "vendas_MM.columns = vendas_MM.columns.get_level_values(1)\n",
        "vendas_MM.sort_values('Total', ascending=False).head()"
      ]
    },
    {
      "cell_type": "markdown",
      "metadata": {
        "id": "7CGrBEXDK9ao"
      },
      "source": [
        "### **<font color=green>Item 8 </font>**<br>Qual ano e modelo possui a menor quantidade de vendas dentre as Marcas: GM – Chevrolet, Kia Motors e MINI?"
      ]
    },
    {
      "cell_type": "code",
      "execution_count": null,
      "metadata": {
        "id": "YILGwfMGK9ap"
      },
      "outputs": [],
      "source": [
        "dados_filtro = dados[(dados.Marca == 'GM - Chevrolet') | (dados.Marca == 'Kia Motors') | (dados.Marca == 'MINI')]"
      ]
    },
    {
      "cell_type": "code",
      "execution_count": null,
      "metadata": {
        "id": "CNWWa1mzK9ap"
      },
      "outputs": [],
      "source": [
        "agregacao = {\n",
        "    'Vendas': ['sum', 'mean', 'median', 'min', 'max']\n",
        "}"
      ]
    },
    {
      "cell_type": "code",
      "execution_count": null,
      "metadata": {
        "id": "257nJxDaK9ap",
        "outputId": "be8a3bb8-3f45-40d8-9735-f001cbe675b8"
      },
      "outputs": [
        {
          "name": "stderr",
          "output_type": "stream",
          "text": [
            "C:\\Users\\luisf\\AppData\\Local\\Temp\\ipykernel_2188\\3187906685.py:5: FutureWarning: inplace is deprecated and will be removed in a future version.\n",
            "  vendas_MM2.columns.set_levels(['Total','Média','Mediana', 'Menor', 'Maior'],level=1, inplace=True)\n"
          ]
        },
        {
          "data": {
            "text/html": [
              "<div>\n",
              "<style scoped>\n",
              "    .dataframe tbody tr th:only-of-type {\n",
              "        vertical-align: middle;\n",
              "    }\n",
              "\n",
              "    .dataframe tbody tr th {\n",
              "        vertical-align: top;\n",
              "    }\n",
              "\n",
              "    .dataframe thead th {\n",
              "        text-align: right;\n",
              "    }\n",
              "</style>\n",
              "<table border=\"1\" class=\"dataframe\">\n",
              "  <thead>\n",
              "    <tr style=\"text-align: right;\">\n",
              "      <th></th>\n",
              "      <th></th>\n",
              "      <th></th>\n",
              "      <th>Total</th>\n",
              "      <th>Média</th>\n",
              "      <th>Mediana</th>\n",
              "      <th>Menor</th>\n",
              "      <th>Maior</th>\n",
              "    </tr>\n",
              "    <tr>\n",
              "      <th>Ano</th>\n",
              "      <th>Marca</th>\n",
              "      <th>Modelo</th>\n",
              "      <th></th>\n",
              "      <th></th>\n",
              "      <th></th>\n",
              "      <th></th>\n",
              "      <th></th>\n",
              "    </tr>\n",
              "  </thead>\n",
              "  <tbody>\n",
              "    <tr>\n",
              "      <th>2006</th>\n",
              "      <th>GM - Chevrolet</th>\n",
              "      <th>Celta Spirit 1.4 MPFI 8V 85cv 5p</th>\n",
              "      <td>13</td>\n",
              "      <td>13.0</td>\n",
              "      <td>13.0</td>\n",
              "      <td>13</td>\n",
              "      <td>13</td>\n",
              "    </tr>\n",
              "    <tr>\n",
              "      <th>2018</th>\n",
              "      <th>GM - Chevrolet</th>\n",
              "      <th>TRACKER Premier 1.4 Turbo 16V Flex Aut</th>\n",
              "      <td>27</td>\n",
              "      <td>27.0</td>\n",
              "      <td>27.0</td>\n",
              "      <td>27</td>\n",
              "      <td>27</td>\n",
              "    </tr>\n",
              "    <tr>\n",
              "      <th>2019</th>\n",
              "      <th>GM - Chevrolet</th>\n",
              "      <th>SPIN LS 1.8 8V Econo.Flex 5p Mec.</th>\n",
              "      <td>1192</td>\n",
              "      <td>596.0</td>\n",
              "      <td>596.0</td>\n",
              "      <td>33</td>\n",
              "      <td>1159</td>\n",
              "    </tr>\n",
              "    <tr>\n",
              "      <th>1985</th>\n",
              "      <th>GM - Chevrolet</th>\n",
              "      <th>Opala L/SL/SS/ 2.5/4.1</th>\n",
              "      <td>41</td>\n",
              "      <td>41.0</td>\n",
              "      <td>41.0</td>\n",
              "      <td>41</td>\n",
              "      <td>41</td>\n",
              "    </tr>\n",
              "    <tr>\n",
              "      <th>2001</th>\n",
              "      <th>GM - Chevrolet</th>\n",
              "      <th>Astra 2.0/ CD/ Sunny/ GLS 2.0 8V 3p</th>\n",
              "      <td>49</td>\n",
              "      <td>49.0</td>\n",
              "      <td>49.0</td>\n",
              "      <td>49</td>\n",
              "      <td>49</td>\n",
              "    </tr>\n",
              "  </tbody>\n",
              "</table>\n",
              "</div>"
            ],
            "text/plain": [
              "                                                            Total  Média  \\\n",
              "Ano  Marca          Modelo                                                 \n",
              "2006 GM - Chevrolet Celta Spirit 1.4 MPFI 8V 85cv 5p           13   13.0   \n",
              "2018 GM - Chevrolet TRACKER Premier 1.4 Turbo 16V Flex Aut     27   27.0   \n",
              "2019 GM - Chevrolet SPIN LS 1.8 8V Econo.Flex 5p Mec.        1192  596.0   \n",
              "1985 GM - Chevrolet Opala L/SL/SS/ 2.5/4.1                     41   41.0   \n",
              "2001 GM - Chevrolet Astra 2.0/ CD/ Sunny/ GLS 2.0 8V 3p        49   49.0   \n",
              "\n",
              "                                                            Mediana  Menor  \\\n",
              "Ano  Marca          Modelo                                                   \n",
              "2006 GM - Chevrolet Celta Spirit 1.4 MPFI 8V 85cv 5p           13.0     13   \n",
              "2018 GM - Chevrolet TRACKER Premier 1.4 Turbo 16V Flex Aut     27.0     27   \n",
              "2019 GM - Chevrolet SPIN LS 1.8 8V Econo.Flex 5p Mec.         596.0     33   \n",
              "1985 GM - Chevrolet Opala L/SL/SS/ 2.5/4.1                     41.0     41   \n",
              "2001 GM - Chevrolet Astra 2.0/ CD/ Sunny/ GLS 2.0 8V 3p        49.0     49   \n",
              "\n",
              "                                                            Maior  \n",
              "Ano  Marca          Modelo                                         \n",
              "2006 GM - Chevrolet Celta Spirit 1.4 MPFI 8V 85cv 5p           13  \n",
              "2018 GM - Chevrolet TRACKER Premier 1.4 Turbo 16V Flex Aut     27  \n",
              "2019 GM - Chevrolet SPIN LS 1.8 8V Econo.Flex 5p Mec.        1159  \n",
              "1985 GM - Chevrolet Opala L/SL/SS/ 2.5/4.1                     41  \n",
              "2001 GM - Chevrolet Astra 2.0/ CD/ Sunny/ GLS 2.0 8V 3p        49  "
            ]
          },
          "execution_count": 24,
          "metadata": {},
          "output_type": "execute_result"
        }
      ],
      "source": [
        "vendas_MM2 = dados_filtro.groupby(['Ano', 'Marca', 'Modelo']).agg(agregacao)\n",
        "vendas_MM2\n",
        "\n",
        "#renomear colunas\n",
        "vendas_MM2.columns.set_levels(['Total','Média','Mediana', 'Menor', 'Maior'],level=1, inplace=True)\n",
        "\n",
        "# opcao 1\n",
        "# vendas_Ano.columns = [\"_\".join(a) for a in vendas_Ano.columns.to_flat_index()]\n",
        "# vendas_Ano.sort_values('Vendas_Total', ascending=False)\n",
        "\n",
        "# opcao 2\n",
        "vendas_MM2.columns = vendas_MM2.columns.get_level_values(1)\n",
        "vendas_MM2.sort_values('Menor', ascending=True).head()"
      ]
    },
    {
      "cell_type": "markdown",
      "metadata": {
        "id": "CMAXfWpVK9ap"
      },
      "source": [
        "### **<font color=green>Item 9 </font>**<br>Quantas unidades foram vendidas entre 2000 e 2010 de veículos movidos a Gasolina e Automáticos? Apresentar os dados segmentados por ano."
      ]
    },
    {
      "cell_type": "code",
      "execution_count": null,
      "metadata": {
        "id": "_WsCH8I-K9ap",
        "outputId": "e015e03f-329c-4396-b3e4-add9a5fff1f6"
      },
      "outputs": [
        {
          "data": {
            "text/html": [
              "<div>\n",
              "<style scoped>\n",
              "    .dataframe tbody tr th:only-of-type {\n",
              "        vertical-align: middle;\n",
              "    }\n",
              "\n",
              "    .dataframe tbody tr th {\n",
              "        vertical-align: top;\n",
              "    }\n",
              "\n",
              "    .dataframe thead th {\n",
              "        text-align: right;\n",
              "    }\n",
              "</style>\n",
              "<table border=\"1\" class=\"dataframe\">\n",
              "  <thead>\n",
              "    <tr style=\"text-align: right;\">\n",
              "      <th></th>\n",
              "      <th>Marca</th>\n",
              "      <th>Modelo</th>\n",
              "      <th>Valor</th>\n",
              "      <th>Ano</th>\n",
              "      <th>Combustivel</th>\n",
              "      <th>Automatico</th>\n",
              "      <th>Vendas</th>\n",
              "    </tr>\n",
              "  </thead>\n",
              "  <tbody>\n",
              "    <tr>\n",
              "      <th>106</th>\n",
              "      <td>Alfa Romeo</td>\n",
              "      <td>147 2.0 16V 148cv 4p Semi-Aut.</td>\n",
              "      <td>50750.0</td>\n",
              "      <td>2005</td>\n",
              "      <td>Gasolina</td>\n",
              "      <td>True</td>\n",
              "      <td>724</td>\n",
              "    </tr>\n",
              "    <tr>\n",
              "      <th>107</th>\n",
              "      <td>Alfa Romeo</td>\n",
              "      <td>147 2.0 16V 148cv 4p Semi-Aut.</td>\n",
              "      <td>49164.0</td>\n",
              "      <td>2004</td>\n",
              "      <td>Gasolina</td>\n",
              "      <td>True</td>\n",
              "      <td>1682</td>\n",
              "    </tr>\n",
              "    <tr>\n",
              "      <th>108</th>\n",
              "      <td>Alfa Romeo</td>\n",
              "      <td>147 2.0 16V 148cv 4p Semi-Aut.</td>\n",
              "      <td>47670.0</td>\n",
              "      <td>2003</td>\n",
              "      <td>Gasolina</td>\n",
              "      <td>True</td>\n",
              "      <td>786</td>\n",
              "    </tr>\n",
              "    <tr>\n",
              "      <th>115</th>\n",
              "      <td>Alfa Romeo</td>\n",
              "      <td>156 2.5 V6 24V 190cv 4p Aut.</td>\n",
              "      <td>54204.0</td>\n",
              "      <td>2003</td>\n",
              "      <td>Gasolina</td>\n",
              "      <td>True</td>\n",
              "      <td>1517</td>\n",
              "    </tr>\n",
              "    <tr>\n",
              "      <th>119</th>\n",
              "      <td>Alfa Romeo</td>\n",
              "      <td>156 Sport Wagon 2.5 V6 24V 4p Aut.</td>\n",
              "      <td>35950.0</td>\n",
              "      <td>2004</td>\n",
              "      <td>Gasolina</td>\n",
              "      <td>True</td>\n",
              "      <td>1457</td>\n",
              "    </tr>\n",
              "    <tr>\n",
              "      <th>...</th>\n",
              "      <td>...</td>\n",
              "      <td>...</td>\n",
              "      <td>...</td>\n",
              "      <td>...</td>\n",
              "      <td>...</td>\n",
              "      <td>...</td>\n",
              "      <td>...</td>\n",
              "    </tr>\n",
              "    <tr>\n",
              "      <th>25071</th>\n",
              "      <td>VW - VolksWagen</td>\n",
              "      <td>New Beetle 2.0 Mi Mec./Aut.</td>\n",
              "      <td>26108.0</td>\n",
              "      <td>2001</td>\n",
              "      <td>Gasolina</td>\n",
              "      <td>True</td>\n",
              "      <td>1060</td>\n",
              "    </tr>\n",
              "    <tr>\n",
              "      <th>25072</th>\n",
              "      <td>VW - VolksWagen</td>\n",
              "      <td>New Beetle 2.0 Mi Mec./Aut.</td>\n",
              "      <td>25324.0</td>\n",
              "      <td>2000</td>\n",
              "      <td>Gasolina</td>\n",
              "      <td>True</td>\n",
              "      <td>877</td>\n",
              "    </tr>\n",
              "    <tr>\n",
              "      <th>25261</th>\n",
              "      <td>VW - VolksWagen</td>\n",
              "      <td>Passat 1.8 Aut.</td>\n",
              "      <td>16922.0</td>\n",
              "      <td>2001</td>\n",
              "      <td>Gasolina</td>\n",
              "      <td>True</td>\n",
              "      <td>1993</td>\n",
              "    </tr>\n",
              "    <tr>\n",
              "      <th>25262</th>\n",
              "      <td>VW - VolksWagen</td>\n",
              "      <td>Passat 1.8 Aut.</td>\n",
              "      <td>14355.0</td>\n",
              "      <td>2000</td>\n",
              "      <td>Gasolina</td>\n",
              "      <td>True</td>\n",
              "      <td>2138</td>\n",
              "    </tr>\n",
              "    <tr>\n",
              "      <th>25345</th>\n",
              "      <td>VW - VolksWagen</td>\n",
              "      <td>Passat Variant 1.8 Aut.</td>\n",
              "      <td>16549.0</td>\n",
              "      <td>2000</td>\n",
              "      <td>Gasolina</td>\n",
              "      <td>True</td>\n",
              "      <td>1632</td>\n",
              "    </tr>\n",
              "  </tbody>\n",
              "</table>\n",
              "<p>1455 rows × 7 columns</p>\n",
              "</div>"
            ],
            "text/plain": [
              "                 Marca                              Modelo    Valor   Ano  \\\n",
              "106         Alfa Romeo      147 2.0 16V 148cv 4p Semi-Aut.  50750.0  2005   \n",
              "107         Alfa Romeo      147 2.0 16V 148cv 4p Semi-Aut.  49164.0  2004   \n",
              "108         Alfa Romeo      147 2.0 16V 148cv 4p Semi-Aut.  47670.0  2003   \n",
              "115         Alfa Romeo        156 2.5 V6 24V 190cv 4p Aut.  54204.0  2003   \n",
              "119         Alfa Romeo  156 Sport Wagon 2.5 V6 24V 4p Aut.  35950.0  2004   \n",
              "...                ...                                 ...      ...   ...   \n",
              "25071  VW - VolksWagen         New Beetle 2.0 Mi Mec./Aut.  26108.0  2001   \n",
              "25072  VW - VolksWagen         New Beetle 2.0 Mi Mec./Aut.  25324.0  2000   \n",
              "25261  VW - VolksWagen                     Passat 1.8 Aut.  16922.0  2001   \n",
              "25262  VW - VolksWagen                     Passat 1.8 Aut.  14355.0  2000   \n",
              "25345  VW - VolksWagen             Passat Variant 1.8 Aut.  16549.0  2000   \n",
              "\n",
              "      Combustivel  Automatico  Vendas  \n",
              "106      Gasolina        True     724  \n",
              "107      Gasolina        True    1682  \n",
              "108      Gasolina        True     786  \n",
              "115      Gasolina        True    1517  \n",
              "119      Gasolina        True    1457  \n",
              "...           ...         ...     ...  \n",
              "25071    Gasolina        True    1060  \n",
              "25072    Gasolina        True     877  \n",
              "25261    Gasolina        True    1993  \n",
              "25262    Gasolina        True    2138  \n",
              "25345    Gasolina        True    1632  \n",
              "\n",
              "[1455 rows x 7 columns]"
            ]
          },
          "execution_count": 25,
          "metadata": {},
          "output_type": "execute_result"
        }
      ],
      "source": [
        "dados_filtro = dados[(dados.Ano >= 2000) & (dados.Ano <= 2010) & (dados.Combustivel == 'Gasolina') & (dados.Automatico == True)]\n",
        "dados_filtro"
      ]
    },
    {
      "cell_type": "code",
      "execution_count": null,
      "metadata": {
        "id": "II-FASkvK9ap"
      },
      "outputs": [],
      "source": [
        "agregacao = {\n",
        "    'Vendas': ['sum', 'mean', 'median', 'min', 'max']\n",
        "}"
      ]
    },
    {
      "cell_type": "code",
      "execution_count": null,
      "metadata": {
        "id": "GWKSh3f9K9aq"
      },
      "outputs": [],
      "source": [
        "vendas_Ano2 = dados_filtro.groupby('Ano').agg(agregacao).round()"
      ]
    },
    {
      "cell_type": "code",
      "execution_count": null,
      "metadata": {
        "id": "Xh0ElgR2K9aq",
        "outputId": "a35f903e-bf38-4cda-b1a8-91a0ea5102bf"
      },
      "outputs": [
        {
          "name": "stderr",
          "output_type": "stream",
          "text": [
            "C:\\Users\\luisf\\AppData\\Local\\Temp\\ipykernel_2188\\2699088710.py:2: FutureWarning: inplace is deprecated and will be removed in a future version.\n",
            "  vendas_Ano2.columns.set_levels(['Total','Média','Mediana', 'Menor', 'Maior'],level=1, inplace=True)\n"
          ]
        },
        {
          "data": {
            "text/html": [
              "<div>\n",
              "<style scoped>\n",
              "    .dataframe tbody tr th:only-of-type {\n",
              "        vertical-align: middle;\n",
              "    }\n",
              "\n",
              "    .dataframe tbody tr th {\n",
              "        vertical-align: top;\n",
              "    }\n",
              "\n",
              "    .dataframe thead th {\n",
              "        text-align: right;\n",
              "    }\n",
              "</style>\n",
              "<table border=\"1\" class=\"dataframe\">\n",
              "  <thead>\n",
              "    <tr style=\"text-align: right;\">\n",
              "      <th></th>\n",
              "      <th>Total</th>\n",
              "      <th>Média</th>\n",
              "      <th>Mediana</th>\n",
              "      <th>Menor</th>\n",
              "      <th>Maior</th>\n",
              "    </tr>\n",
              "    <tr>\n",
              "      <th>Ano</th>\n",
              "      <th></th>\n",
              "      <th></th>\n",
              "      <th></th>\n",
              "      <th></th>\n",
              "      <th></th>\n",
              "    </tr>\n",
              "  </thead>\n",
              "  <tbody>\n",
              "    <tr>\n",
              "      <th>2000</th>\n",
              "      <td>155196</td>\n",
              "      <td>1492.0</td>\n",
              "      <td>1458.0</td>\n",
              "      <td>151</td>\n",
              "      <td>2680</td>\n",
              "    </tr>\n",
              "    <tr>\n",
              "      <th>2001</th>\n",
              "      <td>165363</td>\n",
              "      <td>1517.0</td>\n",
              "      <td>1431.0</td>\n",
              "      <td>197</td>\n",
              "      <td>2934</td>\n",
              "    </tr>\n",
              "    <tr>\n",
              "      <th>2002</th>\n",
              "      <td>143847</td>\n",
              "      <td>1468.0</td>\n",
              "      <td>1424.0</td>\n",
              "      <td>276</td>\n",
              "      <td>2440</td>\n",
              "    </tr>\n",
              "    <tr>\n",
              "      <th>2003</th>\n",
              "      <td>142943</td>\n",
              "      <td>1521.0</td>\n",
              "      <td>1534.0</td>\n",
              "      <td>513</td>\n",
              "      <td>2463</td>\n",
              "    </tr>\n",
              "    <tr>\n",
              "      <th>2004</th>\n",
              "      <td>141304</td>\n",
              "      <td>1457.0</td>\n",
              "      <td>1512.0</td>\n",
              "      <td>132</td>\n",
              "      <td>2613</td>\n",
              "    </tr>\n",
              "    <tr>\n",
              "      <th>2005</th>\n",
              "      <td>170784</td>\n",
              "      <td>1485.0</td>\n",
              "      <td>1475.0</td>\n",
              "      <td>75</td>\n",
              "      <td>2680</td>\n",
              "    </tr>\n",
              "    <tr>\n",
              "      <th>2006</th>\n",
              "      <td>202389</td>\n",
              "      <td>1569.0</td>\n",
              "      <td>1605.0</td>\n",
              "      <td>209</td>\n",
              "      <td>3051</td>\n",
              "    </tr>\n",
              "    <tr>\n",
              "      <th>2007</th>\n",
              "      <td>225800</td>\n",
              "      <td>1536.0</td>\n",
              "      <td>1541.0</td>\n",
              "      <td>143</td>\n",
              "      <td>2746</td>\n",
              "    </tr>\n",
              "    <tr>\n",
              "      <th>2008</th>\n",
              "      <td>256449</td>\n",
              "      <td>1457.0</td>\n",
              "      <td>1456.0</td>\n",
              "      <td>336</td>\n",
              "      <td>2723</td>\n",
              "    </tr>\n",
              "    <tr>\n",
              "      <th>2009</th>\n",
              "      <td>292708</td>\n",
              "      <td>1541.0</td>\n",
              "      <td>1526.0</td>\n",
              "      <td>417</td>\n",
              "      <td>2843</td>\n",
              "    </tr>\n",
              "    <tr>\n",
              "      <th>2010</th>\n",
              "      <td>288421</td>\n",
              "      <td>1472.0</td>\n",
              "      <td>1468.0</td>\n",
              "      <td>52</td>\n",
              "      <td>2720</td>\n",
              "    </tr>\n",
              "  </tbody>\n",
              "</table>\n",
              "</div>"
            ],
            "text/plain": [
              "       Total   Média  Mediana  Menor  Maior\n",
              "Ano                                        \n",
              "2000  155196  1492.0   1458.0    151   2680\n",
              "2001  165363  1517.0   1431.0    197   2934\n",
              "2002  143847  1468.0   1424.0    276   2440\n",
              "2003  142943  1521.0   1534.0    513   2463\n",
              "2004  141304  1457.0   1512.0    132   2613\n",
              "2005  170784  1485.0   1475.0     75   2680\n",
              "2006  202389  1569.0   1605.0    209   3051\n",
              "2007  225800  1536.0   1541.0    143   2746\n",
              "2008  256449  1457.0   1456.0    336   2723\n",
              "2009  292708  1541.0   1526.0    417   2843\n",
              "2010  288421  1472.0   1468.0     52   2720"
            ]
          },
          "execution_count": 28,
          "metadata": {},
          "output_type": "execute_result"
        }
      ],
      "source": [
        "#renomear colunas\n",
        "vendas_Ano2.columns.set_levels(['Total','Média','Mediana', 'Menor', 'Maior'],level=1, inplace=True)\n",
        "\n",
        "# # opcao 1\n",
        "# # vendas_Ano.columns = [\"_\".join(a) for a in vendas_Ano.columns.to_flat_index()]\n",
        "# # vendas_Ano.sort_values('Vendas_Total', ascending=False)\n",
        "\n",
        "# # opcao 2\n",
        "vendas_Ano2.columns = vendas_Ano2.columns.get_level_values(1)\n",
        "# vendas_Ano2.sort_values('Total', ascending=False)\n",
        "vendas_Ano2"
      ]
    },
    {
      "cell_type": "markdown",
      "metadata": {
        "id": "RIG9T4CLK9aq"
      },
      "source": [
        "### **<font color=green>Item 10 </font>**<br>Dos veículos vendidos entre 2000 e 2010 qual modelo possui o Maior Valor e qual possui o menor valor?"
      ]
    },
    {
      "cell_type": "code",
      "execution_count": null,
      "metadata": {
        "id": "wJ7A2JDtK9aq"
      },
      "outputs": [],
      "source": [
        "dados_filtro = dados[(dados.Ano >= 2000) & (dados.Ano <= 2010) & (dados.Combustivel == 'Gasolina') & (dados.Automatico == True)]\n",
        "\n",
        "maior = dados_filtro.Valor.max()\n",
        "menor = dados_filtro.Valor.min()"
      ]
    },
    {
      "cell_type": "code",
      "execution_count": null,
      "metadata": {
        "id": "wU0xVf1yK9aq",
        "outputId": "05e469b9-5e0f-4629-8b5a-8c40ab4e78ac"
      },
      "outputs": [
        {
          "name": "stdout",
          "output_type": "stream",
          "text": [
            "Veículo de Maior Valor\n"
          ]
        },
        {
          "data": {
            "text/html": [
              "<div>\n",
              "<style scoped>\n",
              "    .dataframe tbody tr th:only-of-type {\n",
              "        vertical-align: middle;\n",
              "    }\n",
              "\n",
              "    .dataframe tbody tr th {\n",
              "        vertical-align: top;\n",
              "    }\n",
              "\n",
              "    .dataframe thead th {\n",
              "        text-align: right;\n",
              "    }\n",
              "</style>\n",
              "<table border=\"1\" class=\"dataframe\">\n",
              "  <thead>\n",
              "    <tr style=\"text-align: right;\">\n",
              "      <th></th>\n",
              "      <th>Marca</th>\n",
              "      <th>Modelo</th>\n",
              "      <th>Valor</th>\n",
              "      <th>Ano</th>\n",
              "      <th>Combustivel</th>\n",
              "      <th>Automatico</th>\n",
              "      <th>Vendas</th>\n",
              "    </tr>\n",
              "  </thead>\n",
              "  <tbody>\n",
              "    <tr>\n",
              "      <th>16092</th>\n",
              "      <td>Mercedes-Benz</td>\n",
              "      <td>SL-65 AMG 6.0 V12 612cv Aut</td>\n",
              "      <td>411474.0</td>\n",
              "      <td>2010</td>\n",
              "      <td>Gasolina</td>\n",
              "      <td>True</td>\n",
              "      <td>1923</td>\n",
              "    </tr>\n",
              "  </tbody>\n",
              "</table>\n",
              "</div>"
            ],
            "text/plain": [
              "               Marca                       Modelo     Valor   Ano Combustivel  \\\n",
              "16092  Mercedes-Benz  SL-65 AMG 6.0 V12 612cv Aut  411474.0  2010    Gasolina   \n",
              "\n",
              "       Automatico  Vendas  \n",
              "16092        True    1923  "
            ]
          },
          "execution_count": 30,
          "metadata": {},
          "output_type": "execute_result"
        }
      ],
      "source": [
        "print('Veículo de Maior Valor')\n",
        "df_maior = dados_filtro[dados_filtro.Valor == maior]\n",
        "df_maior"
      ]
    },
    {
      "cell_type": "code",
      "execution_count": null,
      "metadata": {
        "id": "cCf7iIb5K9aq",
        "outputId": "1d4f310f-5922-47d4-e129-9754917a7798"
      },
      "outputs": [
        {
          "name": "stdout",
          "output_type": "stream",
          "text": [
            "Veículo de menor Valor\n"
          ]
        },
        {
          "data": {
            "text/html": [
              "<div>\n",
              "<style scoped>\n",
              "    .dataframe tbody tr th:only-of-type {\n",
              "        vertical-align: middle;\n",
              "    }\n",
              "\n",
              "    .dataframe tbody tr th {\n",
              "        vertical-align: top;\n",
              "    }\n",
              "\n",
              "    .dataframe thead th {\n",
              "        text-align: right;\n",
              "    }\n",
              "</style>\n",
              "<table border=\"1\" class=\"dataframe\">\n",
              "  <thead>\n",
              "    <tr style=\"text-align: right;\">\n",
              "      <th></th>\n",
              "      <th>Marca</th>\n",
              "      <th>Modelo</th>\n",
              "      <th>Valor</th>\n",
              "      <th>Ano</th>\n",
              "      <th>Combustivel</th>\n",
              "      <th>Automatico</th>\n",
              "      <th>Vendas</th>\n",
              "    </tr>\n",
              "  </thead>\n",
              "  <tbody>\n",
              "    <tr>\n",
              "      <th>3639</th>\n",
              "      <td>Daewoo</td>\n",
              "      <td>Lanos SX 1.6 16V Aut.</td>\n",
              "      <td>7488.0</td>\n",
              "      <td>2001</td>\n",
              "      <td>Gasolina</td>\n",
              "      <td>True</td>\n",
              "      <td>601</td>\n",
              "    </tr>\n",
              "  </tbody>\n",
              "</table>\n",
              "</div>"
            ],
            "text/plain": [
              "       Marca                 Modelo   Valor   Ano Combustivel  Automatico  \\\n",
              "3639  Daewoo  Lanos SX 1.6 16V Aut.  7488.0  2001    Gasolina        True   \n",
              "\n",
              "      Vendas  \n",
              "3639     601  "
            ]
          },
          "execution_count": 31,
          "metadata": {},
          "output_type": "execute_result"
        }
      ],
      "source": [
        "print('Veículo de menor Valor')\n",
        "df_menor = dados_filtro[dados_filtro.Valor == menor]\n",
        "df_menor"
      ]
    },
    {
      "cell_type": "code",
      "execution_count": null,
      "metadata": {
        "id": "Wz5aLH7bK9aq"
      },
      "outputs": [],
      "source": [
        "# unificar os dados para apresentar\n",
        "maior_menor = pd.concat([df_maior, df_menor], axis=0).reset_index()"
      ]
    },
    {
      "cell_type": "code",
      "execution_count": null,
      "metadata": {
        "id": "v0KiWP8OK9aq",
        "outputId": "e9e7caad-51d4-44dc-b26d-925909ebeca2"
      },
      "outputs": [
        {
          "data": {
            "text/html": [
              "<div>\n",
              "<style scoped>\n",
              "    .dataframe tbody tr th:only-of-type {\n",
              "        vertical-align: middle;\n",
              "    }\n",
              "\n",
              "    .dataframe tbody tr th {\n",
              "        vertical-align: top;\n",
              "    }\n",
              "\n",
              "    .dataframe thead th {\n",
              "        text-align: right;\n",
              "    }\n",
              "</style>\n",
              "<table border=\"1\" class=\"dataframe\">\n",
              "  <thead>\n",
              "    <tr style=\"text-align: right;\">\n",
              "      <th></th>\n",
              "      <th>Marca</th>\n",
              "      <th>Modelo</th>\n",
              "      <th>Valor</th>\n",
              "      <th>Ano</th>\n",
              "      <th>Combustivel</th>\n",
              "      <th>Automatico</th>\n",
              "      <th>Vendas</th>\n",
              "    </tr>\n",
              "  </thead>\n",
              "  <tbody>\n",
              "    <tr>\n",
              "      <th>0</th>\n",
              "      <td>Mercedes-Benz</td>\n",
              "      <td>SL-65 AMG 6.0 V12 612cv Aut</td>\n",
              "      <td>411474.0</td>\n",
              "      <td>2010</td>\n",
              "      <td>Gasolina</td>\n",
              "      <td>True</td>\n",
              "      <td>1923</td>\n",
              "    </tr>\n",
              "    <tr>\n",
              "      <th>1</th>\n",
              "      <td>Daewoo</td>\n",
              "      <td>Lanos SX 1.6 16V Aut.</td>\n",
              "      <td>7488.0</td>\n",
              "      <td>2001</td>\n",
              "      <td>Gasolina</td>\n",
              "      <td>True</td>\n",
              "      <td>601</td>\n",
              "    </tr>\n",
              "  </tbody>\n",
              "</table>\n",
              "</div>"
            ],
            "text/plain": [
              "           Marca                       Modelo     Valor   Ano Combustivel  \\\n",
              "0  Mercedes-Benz  SL-65 AMG 6.0 V12 612cv Aut  411474.0  2010    Gasolina   \n",
              "1         Daewoo        Lanos SX 1.6 16V Aut.    7488.0  2001    Gasolina   \n",
              "\n",
              "   Automatico  Vendas  \n",
              "0        True    1923  \n",
              "1        True     601  "
            ]
          },
          "execution_count": 33,
          "metadata": {},
          "output_type": "execute_result"
        }
      ],
      "source": [
        "maior_menor.drop('index', axis=1, inplace=True)\n",
        "maior_menor"
      ]
    },
    {
      "cell_type": "markdown",
      "metadata": {
        "id": "1uWEGNc1K9ar"
      },
      "source": [
        "### **<font color=green>Item 11 </font>**<br>Faça a distribuição de frequência baseada em classes pré-definidas. O valor de K = 6. Apresenta a distribuição do número de ocorrências classificada por Ano."
      ]
    },
    {
      "cell_type": "code",
      "execution_count": null,
      "metadata": {
        "id": "o_SBcRKgK9ar"
      },
      "outputs": [],
      "source": [
        "# Dados do problema\n",
        "min = dados.Ano.min()\n",
        "max = dados.Ano.max()\n",
        "k = 6"
      ]
    },
    {
      "cell_type": "code",
      "execution_count": null,
      "metadata": {
        "id": "8J-fioV_K9ar",
        "outputId": "a295ff7f-f56b-4af4-a691-097e2281c24b"
      },
      "outputs": [
        {
          "data": {
            "text/plain": [
              "[1985, 1991, 1997, 2003, 2009, 2015, 2021, 2027]"
            ]
          },
          "execution_count": 35,
          "metadata": {},
          "output_type": "execute_result"
        }
      ],
      "source": [
        "classes = [i for i in range(min, max + k, k)]\n",
        "classes"
      ]
    },
    {
      "cell_type": "code",
      "execution_count": null,
      "metadata": {
        "id": "4rESlVm6K9ar",
        "outputId": "e4c6ad71-cc06-4108-ccef-b47ecb23229a"
      },
      "outputs": [
        {
          "data": {
            "text/plain": [
              "['(1985,1991]',\n",
              " '(1991,1997]',\n",
              " '(1997,2003]',\n",
              " '(2003,2009]',\n",
              " '(2009,2015]',\n",
              " '(2015,2021]',\n",
              " '(2021,2027]']"
            ]
          },
          "execution_count": 36,
          "metadata": {},
          "output_type": "execute_result"
        }
      ],
      "source": [
        "rotulos = ['(' + str(i) + ',' + str(i + k) + ']' for i in range(min, max, k)]\n",
        "rotulos"
      ]
    },
    {
      "cell_type": "code",
      "execution_count": null,
      "metadata": {
        "id": "Eh8eo5xfK9ar"
      },
      "outputs": [],
      "source": [
        "frequencia = pd.value_counts(\n",
        "    pd.cut(x=dados.Ano, \n",
        "       bins=classes,\n",
        "       labels=rotulos, \n",
        "       include_lowest=True)\n",
        ")"
      ]
    },
    {
      "cell_type": "code",
      "execution_count": null,
      "metadata": {
        "id": "l3Jd3WQVK9ar"
      },
      "outputs": [],
      "source": [
        "percentual = pd.value_counts(\n",
        "    pd.cut(x=dados.Ano, \n",
        "       bins=classes,\n",
        "       labels=rotulos, \n",
        "       include_lowest=True),\n",
        "       normalize=True\n",
        ") * 100"
      ]
    },
    {
      "cell_type": "code",
      "execution_count": null,
      "metadata": {
        "id": "-deS7jRjK9ar",
        "outputId": "5eb839ff-2677-4a01-8b47-0a760304710d"
      },
      "outputs": [
        {
          "data": {
            "text/html": [
              "<div>\n",
              "<style scoped>\n",
              "    .dataframe tbody tr th:only-of-type {\n",
              "        vertical-align: middle;\n",
              "    }\n",
              "\n",
              "    .dataframe tbody tr th {\n",
              "        vertical-align: top;\n",
              "    }\n",
              "\n",
              "    .dataframe thead th {\n",
              "        text-align: right;\n",
              "    }\n",
              "</style>\n",
              "<table border=\"1\" class=\"dataframe\">\n",
              "  <thead>\n",
              "    <tr style=\"text-align: right;\">\n",
              "      <th>Classes - Anos</th>\n",
              "      <th>Frequência</th>\n",
              "      <th>Porcentagem (%)</th>\n",
              "    </tr>\n",
              "  </thead>\n",
              "  <tbody>\n",
              "    <tr>\n",
              "      <th>(1985,1991]</th>\n",
              "      <td>1003</td>\n",
              "      <td>3.8033</td>\n",
              "    </tr>\n",
              "    <tr>\n",
              "      <th>(1991,1997]</th>\n",
              "      <td>3589</td>\n",
              "      <td>13.6091</td>\n",
              "    </tr>\n",
              "    <tr>\n",
              "      <th>(1997,2003]</th>\n",
              "      <td>4668</td>\n",
              "      <td>17.7006</td>\n",
              "    </tr>\n",
              "    <tr>\n",
              "      <th>(2003,2009]</th>\n",
              "      <td>4348</td>\n",
              "      <td>16.4872</td>\n",
              "    </tr>\n",
              "    <tr>\n",
              "      <th>(2009,2015]</th>\n",
              "      <td>5960</td>\n",
              "      <td>22.5997</td>\n",
              "    </tr>\n",
              "    <tr>\n",
              "      <th>(2015,2021]</th>\n",
              "      <td>6477</td>\n",
              "      <td>24.5601</td>\n",
              "    </tr>\n",
              "    <tr>\n",
              "      <th>(2021,2027]</th>\n",
              "      <td>327</td>\n",
              "      <td>1.2400</td>\n",
              "    </tr>\n",
              "  </tbody>\n",
              "</table>\n",
              "</div>"
            ],
            "text/plain": [
              "Classes - Anos  Frequência  Porcentagem (%)\n",
              "(1985,1991]           1003           3.8033\n",
              "(1991,1997]           3589          13.6091\n",
              "(1997,2003]           4668          17.7006\n",
              "(2003,2009]           4348          16.4872\n",
              "(2009,2015]           5960          22.5997\n",
              "(2015,2021]           6477          24.5601\n",
              "(2021,2027]            327           1.2400"
            ]
          },
          "execution_count": 39,
          "metadata": {},
          "output_type": "execute_result"
        }
      ],
      "source": [
        "# preparar dados apresentação\n",
        "df_ano = pd.DataFrame({'Frequência':frequencia, 'Porcentagem (%)':percentual.round(4)})\n",
        "df_ano.rename_axis('Classes - Anos', axis=1, inplace=True)\n",
        "df_ano.sort_index()"
      ]
    },
    {
      "cell_type": "markdown",
      "metadata": {
        "id": "VctSZP6SK9ar"
      },
      "source": [
        "### **<font color=green>Item 12 </font>**<br>Faça a distribuição de frequência baseada em classes dinâmicas. Apresenta a distribuição do número de ocorrências classificada por Valor dos veículos."
      ]
    },
    {
      "cell_type": "markdown",
      "metadata": {
        "id": "TMPC6NrAK9as"
      },
      "source": [
        "### **<font>Item a </font>**<br>Apresentar a distribuição do número de ocorrências classificada por Valor dos veículos."
      ]
    },
    {
      "cell_type": "markdown",
      "metadata": {
        "id": "gs2tuLt-K9as"
      },
      "source": [
        "### Regra de Sturges ($k$)\n",
        "\n",
        "### $$k = 1 + \\frac {10}{3}\\log_{10}n$$\n",
        "\n",
        "Onde:<br>\n",
        "$n$ : número de elementos da amostra"
      ]
    },
    {
      "cell_type": "code",
      "execution_count": null,
      "metadata": {
        "id": "G3LAbdBtK9as"
      },
      "outputs": [],
      "source": [
        "# identificar o total de registros\n",
        "n = dados.shape[0]\n",
        "\n",
        "# calcular o valor de k (amplitude)\n",
        "k = 1 + (10/3) * np.log10(n)\n",
        "k = int(k)\n"
      ]
    },
    {
      "cell_type": "code",
      "execution_count": null,
      "metadata": {
        "id": "sLOasUYxK9as",
        "outputId": "66af5e1d-9d57-4054-86c7-9c8d22a8d9b2"
      },
      "outputs": [
        {
          "name": "stdout",
          "output_type": "stream",
          "text": [
            "Dados com a distribuição de frequência usando 80 classes\n"
          ]
        },
        {
          "data": {
            "text/plain": [
              "(-6224.327, 100403.075]      20684\n",
              "(100403.075, 199132.15]       2887\n",
              "(199132.15, 297861.225]        984\n",
              "(297861.225, 396590.3]         551\n",
              "(396590.3, 495319.375]         318\n",
              "                             ...  \n",
              "(5036856.825, 5135585.9]         0\n",
              "(4938127.75, 5036856.825]        0\n",
              "(4839398.675, 4938127.75]        0\n",
              "(4641940.525, 4740669.6]         0\n",
              "(6122876.65, 6221605.725]        0\n",
              "Name: Valor, Length: 80, dtype: int64"
            ]
          },
          "execution_count": 72,
          "metadata": {},
          "output_type": "execute_result"
        }
      ],
      "source": [
        "# Criar a tabela com dados de distribuição\n",
        "dist_dinamica = pd.value_counts(\n",
        "    pd.cut(\n",
        "        x=dados.Valor, \n",
        "        bins= k, \n",
        "        include_lowest=True),\n",
        "    sort=True)\n",
        "\n",
        "print(f'Dados com a distribuição de frequência usando {k} classes')\n",
        "dist_dinamica"
      ]
    },
    {
      "cell_type": "markdown",
      "metadata": {
        "id": "Zfcfz4QzK9as"
      },
      "source": [
        "### **<font>Item b </font>**<br>Apresentar o gráfico com a distribuição de frequência com um histograma e a sua respectiva linha de distribuição de frequência."
      ]
    },
    {
      "cell_type": "code",
      "execution_count": null,
      "metadata": {
        "id": "lP_fWSqCK9as",
        "outputId": "41e24ea4-ee1b-4e35-a7e2-abc675c566e7"
      },
      "outputs": [
        {
          "data": {
            "text/plain": [
              "Text(0.5, 0.98, 'Histograna - Valor Veículos')"
            ]
          },
          "execution_count": 42,
          "metadata": {},
          "output_type": "execute_result"
        },
        {
          "data": {
            "image/png": "[encoded data removed]",
            "image/svg+xml": "<?xml version=\"1.0\" encoding=\"utf-8\" standalone=\"no\"?>\n<!DOCTYPE svg PUBLIC \"-//W3C//DTD SVG 1.1//EN\"\n  \"http://www.w3.org/Graphics/SVG/1.1/DTD/svg11.dtd\">\n<svg xmlns:xlink=\"http://www.w3.org/1999/xlink\" width=\"981.770625pt\" height=\"542.35625pt\" viewBox=\"0 0 981.770625 542.35625\" xmlns=\"http://www.w3.org/2000/svg\" version=\"1.1\">\n <metadata>\n  <rdf:RDF xmlns:dc=\"http://purl.org/dc/elements/1.1/\" xmlns:cc=\"http://creativecommons.org/ns#\" xmlns:rdf=\"http://www.w3.org/1999/02/22-rdf-syntax-ns#\">\n   <cc:Work>\n    <dc:type rdf:resource=\"http://purl.org/dc/dcmitype/StillImage\"/>\n    <dc:date>2022-10-17T20:02:17.254604</dc:date>\n    <dc:format>image/svg+xml</dc:format>\n    <dc:creator>\n     <cc:Agent>\n      <dc:title>Matplotlib v3.5.1, https://matplotlib.org/</dc:title>\n     </cc:Agent>\n    </dc:creator>\n   </cc:Work>\n  </rdf:RDF>\n </metadata>\n <defs>\n  <style type=\"text/css\">*{stroke-linejoin: round; stroke-linecap: butt}</style>\n </defs>\n <g id=\"figure_1\">\n  <g id=\"patch_1\">\n   <path d=\"M 0 542.35625 \nL 981.770625 542.35625 \nL 981.770625 0 \nL 0 0 \nz\n\"/>\n  </g>\n  <g id=\"axes_1\">\n   <g id=\"patch_2\">\n    <path d=\"M 59.690625 504.8 \nL 974.570625 504.8 \nL 974.570625 12.96 \nL 59.690625 12.96 \nz\n\"/>\n   </g>\n   <g id=\"patch_3\">\n    <path d=\"M 101.27608 504.8 \nL 115.137898 504.8 \nL 115.137898 60.284494 \nL 101.27608 60.284494 \nz\n\" clip-path=\"url(#pde0895bf40)\" style=\"fill: #8dd3c7; fill-opacity: 0.5; stroke: #ffffff; stroke-width: 0.466042; stroke-linejoin: miter\"/>\n   </g>\n   <g id=\"patch_4\">\n    <path d=\"M 115.137898 504.8 \nL 128.999716 504.8 \nL 128.999716 457.481847 \nL 115.137898 457.481847 \nz\n\" clip-path=\"url(#pde0895bf40)\" style=\"fill: #8dd3c7; fill-opacity: 0.5; stroke: #ffffff; stroke-width: 0.466042; stroke-linejoin: miter\"/>\n   </g>\n   <g id=\"patch_5\">\n    <path d=\"M 128.999716 504.8 \nL 142.861534 504.8 \nL 142.861534 488.737318 \nL 128.999716 488.737318 \nz\n\" clip-path=\"url(#pde0895bf40)\" style=\"fill: #8dd3c7; fill-opacity: 0.5; stroke: #ffffff; stroke-width: 0.466042; stroke-linejoin: miter\"/>\n   </g>\n   <g id=\"patch_6\">\n    <path d=\"M 142.861534 504.8 \nL 156.723352 504.8 \nL 156.723352 496.525898 \nL 142.861534 496.525898 \nz\n\" clip-path=\"url(#pde0895bf40)\" style=\"fill: #8dd3c7; fill-opacity: 0.5; stroke: #ffffff; stroke-width: 0.466042; stroke-linejoin: miter\"/>\n   </g>\n   <g id=\"patch_7\">\n    <path d=\"M 156.723352 504.8 \nL 170.58517 504.8 \nL 170.58517 499.378339 \nL 156.723352 499.378339 \nz\n\" clip-path=\"url(#pde0895bf40)\" style=\"fill: #8dd3c7; fill-opacity: 0.5; stroke: #ffffff; stroke-width: 0.466042; stroke-linejoin: miter\"/>\n   </g>\n   <g id=\"patch_8\">\n    <path d=\"M 170.58517 504.8 \nL 184.446989 504.8 \nL 184.446989 501.603648 \nL 170.58517 501.603648 \nz\n\" clip-path=\"url(#pde0895bf40)\" style=\"fill: #8dd3c7; fill-opacity: 0.5; stroke: #ffffff; stroke-width: 0.466042; stroke-linejoin: miter\"/>\n   </g>\n   <g id=\"patch_9\">\n    <path d=\"M 184.446989 504.8 \nL 198.308807 504.8 \nL 198.308807 503.019753 \nL 184.446989 503.019753 \nz\n\" clip-path=\"url(#pde0895bf40)\" style=\"fill: #8dd3c7; fill-opacity: 0.5; stroke: #ffffff; stroke-width: 0.466042; stroke-linejoin: miter\"/>\n   </g>\n   <g id=\"patch_10\">\n    <path d=\"M 198.308807 504.8 \nL 212.170625 504.8 \nL 212.170625 503.302974 \nL 198.308807 503.302974 \nz\n\" clip-path=\"url(#pde0895bf40)\" style=\"fill: #8dd3c7; fill-opacity: 0.5; stroke: #ffffff; stroke-width: 0.466042; stroke-linejoin: miter\"/>\n   </g>\n   <g id=\"patch_11\">\n    <path d=\"M 212.170625 504.8 \nL 226.032443 504.8 \nL 226.032443 504.071717 \nL 212.170625 504.071717 \nz\n\" clip-path=\"url(#pde0895bf40)\" style=\"fill: #8dd3c7; fill-opacity: 0.5; stroke: #ffffff; stroke-width: 0.466042; stroke-linejoin: miter\"/>\n   </g>\n   <g id=\"patch_12\">\n    <path d=\"M 226.032443 504.8 \nL 239.894261 504.8 \nL 239.894261 504.132407 \nL 226.032443 504.132407 \nz\n\" clip-path=\"url(#pde0895bf40)\" style=\"fill: #8dd3c7; fill-opacity: 0.5; stroke: #ffffff; stroke-width: 0.466042; stroke-linejoin: miter\"/>\n   </g>\n   <g id=\"patch_13\">\n    <path d=\"M 239.894261 504.8 \nL 253.75608 504.8 \nL 253.75608 504.415629 \nL 239.894261 504.415629 \nz\n\" clip-path=\"url(#pde0895bf40)\" style=\"fill: #8dd3c7; fill-opacity: 0.5; stroke: #ffffff; stroke-width: 0.466042; stroke-linejoin: miter\"/>\n   </g>\n   <g id=\"patch_14\">\n    <path d=\"M 253.75608 504.8 \nL 267.617898 504.8 \nL 267.617898 504.537009 \nL 253.75608 504.537009 \nz\n\" clip-path=\"url(#pde0895bf40)\" style=\"fill: #8dd3c7; fill-opacity: 0.5; stroke: #ffffff; stroke-width: 0.466042; stroke-linejoin: miter\"/>\n   </g>\n   <g id=\"patch_15\">\n    <path d=\"M 267.617898 504.8 \nL 281.479716 504.8 \nL 281.479716 504.597699 \nL 267.617898 504.597699 \nz\n\" clip-path=\"url(#pde0895bf40)\" style=\"fill: #8dd3c7; fill-opacity: 0.5; stroke: #ffffff; stroke-width: 0.466042; stroke-linejoin: miter\"/>\n   </g>\n   <g id=\"patch_16\">\n    <path d=\"M 281.479716 504.8 \nL 295.341534 504.8 \nL 295.341534 504.516779 \nL 281.479716 504.516779 \nz\n\" clip-path=\"url(#pde0895bf40)\" style=\"fill: #8dd3c7; fill-opacity: 0.5; stroke: #ffffff; stroke-width: 0.466042; stroke-linejoin: miter\"/>\n   </g>\n   <g id=\"patch_17\">\n    <path d=\"M 295.341534 504.8 \nL 309.203352 504.8 \nL 309.203352 504.617929 \nL 295.341534 504.617929 \nz\n\" clip-path=\"url(#pde0895bf40)\" style=\"fill: #8dd3c7; fill-opacity: 0.5; stroke: #ffffff; stroke-width: 0.466042; stroke-linejoin: miter\"/>\n   </g>\n   <g id=\"patch_18\">\n    <path d=\"M 309.203352 504.8 \nL 323.06517 504.8 \nL 323.06517 504.67862 \nL 309.203352 504.67862 \nz\n\" clip-path=\"url(#pde0895bf40)\" style=\"fill: #8dd3c7; fill-opacity: 0.5; stroke: #ffffff; stroke-width: 0.466042; stroke-linejoin: miter\"/>\n   </g>\n   <g id=\"patch_19\">\n    <path d=\"M 323.06517 504.8 \nL 336.926989 504.8 \nL 336.926989 504.638159 \nL 323.06517 504.638159 \nz\n\" clip-path=\"url(#pde0895bf40)\" style=\"fill: #8dd3c7; fill-opacity: 0.5; stroke: #ffffff; stroke-width: 0.466042; stroke-linejoin: miter\"/>\n   </g>\n   <g id=\"patch_20\">\n    <path d=\"M 336.926989 504.8 \nL 350.788807 504.8 \nL 350.788807 504.638159 \nL 336.926989 504.638159 \nz\n\" clip-path=\"url(#pde0895bf40)\" style=\"fill: #8dd3c7; fill-opacity: 0.5; stroke: #ffffff; stroke-width: 0.466042; stroke-linejoin: miter\"/>\n   </g>\n   <g id=\"patch_21\">\n    <path d=\"M 350.788807 504.8 \nL 364.650625 504.8 \nL 364.650625 504.617929 \nL 350.788807 504.617929 \nz\n\" clip-path=\"url(#pde0895bf40)\" style=\"fill: #8dd3c7; fill-opacity: 0.5; stroke: #ffffff; stroke-width: 0.466042; stroke-linejoin: miter\"/>\n   </g>\n   <g id=\"patch_22\">\n    <path d=\"M 364.650625 504.8 \nL 378.512443 504.8 \nL 378.512443 504.516779 \nL 364.650625 504.516779 \nz\n\" clip-path=\"url(#pde0895bf40)\" style=\"fill: #8dd3c7; fill-opacity: 0.5; stroke: #ffffff; stroke-width: 0.466042; stroke-linejoin: miter\"/>\n   </g>\n   <g id=\"patch_23\">\n    <path d=\"M 378.512443 504.8 \nL 392.374261 504.8 \nL 392.374261 504.617929 \nL 378.512443 504.617929 \nz\n\" clip-path=\"url(#pde0895bf40)\" style=\"fill: #8dd3c7; fill-opacity: 0.5; stroke: #ffffff; stroke-width: 0.466042; stroke-linejoin: miter\"/>\n   </g>\n   <g id=\"patch_24\">\n    <path d=\"M 392.374261 504.8 \nL 406.23608 504.8 \nL 406.23608 504.577469 \nL 392.374261 504.577469 \nz\n\" clip-path=\"url(#pde0895bf40)\" style=\"fill: #8dd3c7; fill-opacity: 0.5; stroke: #ffffff; stroke-width: 0.466042; stroke-linejoin: miter\"/>\n   </g>\n   <g id=\"patch_25\">\n    <path d=\"M 406.23608 504.8 \nL 420.097898 504.8 \nL 420.097898 504.658389 \nL 406.23608 504.658389 \nz\n\" clip-path=\"url(#pde0895bf40)\" style=\"fill: #8dd3c7; fill-opacity: 0.5; stroke: #ffffff; stroke-width: 0.466042; stroke-linejoin: miter\"/>\n   </g>\n   <g id=\"patch_26\">\n    <path d=\"M 420.097898 504.8 \nL 433.959716 504.8 \nL 433.959716 504.67862 \nL 420.097898 504.67862 \nz\n\" clip-path=\"url(#pde0895bf40)\" style=\"fill: #8dd3c7; fill-opacity: 0.5; stroke: #ffffff; stroke-width: 0.466042; stroke-linejoin: miter\"/>\n   </g>\n   <g id=\"patch_27\">\n    <path d=\"M 433.959716 504.8 \nL 447.821534 504.8 \nL 447.821534 504.658389 \nL 433.959716 504.658389 \nz\n\" clip-path=\"url(#pde0895bf40)\" style=\"fill: #8dd3c7; fill-opacity: 0.5; stroke: #ffffff; stroke-width: 0.466042; stroke-linejoin: miter\"/>\n   </g>\n   <g id=\"patch_28\">\n    <path d=\"M 447.821534 504.8 \nL 461.683352 504.8 \nL 461.683352 504.67862 \nL 447.821534 504.67862 \nz\n\" clip-path=\"url(#pde0895bf40)\" style=\"fill: #8dd3c7; fill-opacity: 0.5; stroke: #ffffff; stroke-width: 0.466042; stroke-linejoin: miter\"/>\n   </g>\n   <g id=\"patch_29\">\n    <path d=\"M 461.683352 504.8 \nL 475.54517 504.8 \nL 475.54517 504.75954 \nL 461.683352 504.75954 \nz\n\" clip-path=\"url(#pde0895bf40)\" style=\"fill: #8dd3c7; fill-opacity: 0.5; stroke: #ffffff; stroke-width: 0.466042; stroke-linejoin: miter\"/>\n   </g>\n   <g id=\"patch_30\">\n    <path d=\"M 475.54517 504.8 \nL 489.406989 504.8 \nL 489.406989 504.69885 \nL 475.54517 504.69885 \nz\n\" clip-path=\"url(#pde0895bf40)\" style=\"fill: #8dd3c7; fill-opacity: 0.5; stroke: #ffffff; stroke-width: 0.466042; stroke-linejoin: miter\"/>\n   </g>\n   <g id=\"patch_31\">\n    <path d=\"M 489.406989 504.8 \nL 503.268807 504.8 \nL 503.268807 504.69885 \nL 489.406989 504.69885 \nz\n\" clip-path=\"url(#pde0895bf40)\" style=\"fill: #8dd3c7; fill-opacity: 0.5; stroke: #ffffff; stroke-width: 0.466042; stroke-linejoin: miter\"/>\n   </g>\n   <g id=\"patch_32\">\n    <path d=\"M 503.268807 504.8 \nL 517.130625 504.8 \nL 517.130625 504.71908 \nL 503.268807 504.71908 \nz\n\" clip-path=\"url(#pde0895bf40)\" style=\"fill: #8dd3c7; fill-opacity: 0.5; stroke: #ffffff; stroke-width: 0.466042; stroke-linejoin: miter\"/>\n   </g>\n   <g id=\"patch_33\">\n    <path d=\"M 517.130625 504.8 \nL 530.992443 504.8 \nL 530.992443 504.75954 \nL 517.130625 504.75954 \nz\n\" clip-path=\"url(#pde0895bf40)\" style=\"fill: #8dd3c7; fill-opacity: 0.5; stroke: #ffffff; stroke-width: 0.466042; stroke-linejoin: miter\"/>\n   </g>\n   <g id=\"patch_34\">\n    <path d=\"M 530.992443 504.8 \nL 544.854261 504.8 \nL 544.854261 504.75954 \nL 530.992443 504.75954 \nz\n\" clip-path=\"url(#pde0895bf40)\" style=\"fill: #8dd3c7; fill-opacity: 0.5; stroke: #ffffff; stroke-width: 0.466042; stroke-linejoin: miter\"/>\n   </g>\n   <g id=\"patch_35\">\n    <path d=\"M 544.854261 504.8 \nL 558.71608 504.8 \nL 558.71608 504.75954 \nL 544.854261 504.75954 \nz\n\" clip-path=\"url(#pde0895bf40)\" style=\"fill: #8dd3c7; fill-opacity: 0.5; stroke: #ffffff; stroke-width: 0.466042; stroke-linejoin: miter\"/>\n   </g>\n   <g id=\"patch_36\">\n    <path d=\"M 558.71608 504.8 \nL 572.577898 504.8 \nL 572.577898 504.77977 \nL 558.71608 504.77977 \nz\n\" clip-path=\"url(#pde0895bf40)\" style=\"fill: #8dd3c7; fill-opacity: 0.5; stroke: #ffffff; stroke-width: 0.466042; stroke-linejoin: miter\"/>\n   </g>\n   <g id=\"patch_37\">\n    <path d=\"M 572.577898 504.8 \nL 586.439716 504.8 \nL 586.439716 504.77977 \nL 572.577898 504.77977 \nz\n\" clip-path=\"url(#pde0895bf40)\" style=\"fill: #8dd3c7; fill-opacity: 0.5; stroke: #ffffff; stroke-width: 0.466042; stroke-linejoin: miter\"/>\n   </g>\n   <g id=\"patch_38\">\n    <path d=\"M 586.439716 504.8 \nL 600.301534 504.8 \nL 600.301534 504.8 \nL 586.439716 504.8 \nz\n\" clip-path=\"url(#pde0895bf40)\" style=\"fill: #8dd3c7; fill-opacity: 0.5; stroke: #ffffff; stroke-width: 0.466042; stroke-linejoin: miter\"/>\n   </g>\n   <g id=\"patch_39\">\n    <path d=\"M 600.301534 504.8 \nL 614.163352 504.8 \nL 614.163352 504.75954 \nL 600.301534 504.75954 \nz\n\" clip-path=\"url(#pde0895bf40)\" style=\"fill: #8dd3c7; fill-opacity: 0.5; stroke: #ffffff; stroke-width: 0.466042; stroke-linejoin: miter\"/>\n   </g>\n   <g id=\"patch_40\">\n    <path d=\"M 614.163352 504.8 \nL 628.02517 504.8 \nL 628.02517 504.8 \nL 614.163352 504.8 \nz\n\" clip-path=\"url(#pde0895bf40)\" style=\"fill: #8dd3c7; fill-opacity: 0.5; stroke: #ffffff; stroke-width: 0.466042; stroke-linejoin: miter\"/>\n   </g>\n   <g id=\"patch_41\">\n    <path d=\"M 628.02517 504.8 \nL 641.886989 504.8 \nL 641.886989 504.8 \nL 628.02517 504.8 \nz\n\" clip-path=\"url(#pde0895bf40)\" style=\"fill: #8dd3c7; fill-opacity: 0.5; stroke: #ffffff; stroke-width: 0.466042; stroke-linejoin: miter\"/>\n   </g>\n   <g id=\"patch_42\">\n    <path d=\"M 641.886989 504.8 \nL 655.748807 504.8 \nL 655.748807 504.8 \nL 641.886989 504.8 \nz\n\" clip-path=\"url(#pde0895bf40)\" style=\"fill: #8dd3c7; fill-opacity: 0.5; stroke: #ffffff; stroke-width: 0.466042; stroke-linejoin: miter\"/>\n   </g>\n   <g id=\"patch_43\">\n    <path d=\"M 655.748807 504.8 \nL 669.610625 504.8 \nL 669.610625 504.77977 \nL 655.748807 504.77977 \nz\n\" clip-path=\"url(#pde0895bf40)\" style=\"fill: #8dd3c7; fill-opacity: 0.5; stroke: #ffffff; stroke-width: 0.466042; stroke-linejoin: miter\"/>\n   </g>\n   <g id=\"patch_44\">\n    <path d=\"M 669.610625 504.8 \nL 683.472443 504.8 \nL 683.472443 504.77977 \nL 669.610625 504.77977 \nz\n\" clip-path=\"url(#pde0895bf40)\" style=\"fill: #8dd3c7; fill-opacity: 0.5; stroke: #ffffff; stroke-width: 0.466042; stroke-linejoin: miter\"/>\n   </g>\n   <g id=\"patch_45\">\n    <path d=\"M 683.472443 504.8 \nL 697.334261 504.8 \nL 697.334261 504.77977 \nL 683.472443 504.77977 \nz\n\" clip-path=\"url(#pde0895bf40)\" style=\"fill: #8dd3c7; fill-opacity: 0.5; stroke: #ffffff; stroke-width: 0.466042; stroke-linejoin: miter\"/>\n   </g>\n   <g id=\"patch_46\">\n    <path d=\"M 697.334261 504.8 \nL 711.19608 504.8 \nL 711.19608 504.75954 \nL 697.334261 504.75954 \nz\n\" clip-path=\"url(#pde0895bf40)\" style=\"fill: #8dd3c7; fill-opacity: 0.5; stroke: #ffffff; stroke-width: 0.466042; stroke-linejoin: miter\"/>\n   </g>\n   <g id=\"patch_47\">\n    <path d=\"M 711.19608 504.8 \nL 725.057898 504.8 \nL 725.057898 504.75954 \nL 711.19608 504.75954 \nz\n\" clip-path=\"url(#pde0895bf40)\" style=\"fill: #8dd3c7; fill-opacity: 0.5; stroke: #ffffff; stroke-width: 0.466042; stroke-linejoin: miter\"/>\n   </g>\n   <g id=\"patch_48\">\n    <path d=\"M 725.057898 504.8 \nL 738.919716 504.8 \nL 738.919716 504.77977 \nL 725.057898 504.77977 \nz\n\" clip-path=\"url(#pde0895bf40)\" style=\"fill: #8dd3c7; fill-opacity: 0.5; stroke: #ffffff; stroke-width: 0.466042; stroke-linejoin: miter\"/>\n   </g>\n   <g id=\"patch_49\">\n    <path d=\"M 738.919716 504.8 \nL 752.781534 504.8 \nL 752.781534 504.8 \nL 738.919716 504.8 \nz\n\" clip-path=\"url(#pde0895bf40)\" style=\"fill: #8dd3c7; fill-opacity: 0.5; stroke: #ffffff; stroke-width: 0.466042; stroke-linejoin: miter\"/>\n   </g>\n   <g id=\"patch_50\">\n    <path d=\"M 752.781534 504.8 \nL 766.643352 504.8 \nL 766.643352 504.75954 \nL 752.781534 504.75954 \nz\n\" clip-path=\"url(#pde0895bf40)\" style=\"fill: #8dd3c7; fill-opacity: 0.5; stroke: #ffffff; stroke-width: 0.466042; stroke-linejoin: miter\"/>\n   </g>\n   <g id=\"patch_51\">\n    <path d=\"M 766.643352 504.8 \nL 780.50517 504.8 \nL 780.50517 504.77977 \nL 766.643352 504.77977 \nz\n\" clip-path=\"url(#pde0895bf40)\" style=\"fill: #8dd3c7; fill-opacity: 0.5; stroke: #ffffff; stroke-width: 0.466042; stroke-linejoin: miter\"/>\n   </g>\n   <g id=\"patch_52\">\n    <path d=\"M 780.50517 504.8 \nL 794.366989 504.8 \nL 794.366989 504.77977 \nL 780.50517 504.77977 \nz\n\" clip-path=\"url(#pde0895bf40)\" style=\"fill: #8dd3c7; fill-opacity: 0.5; stroke: #ffffff; stroke-width: 0.466042; stroke-linejoin: miter\"/>\n   </g>\n   <g id=\"patch_53\">\n    <path d=\"M 794.366989 504.8 \nL 808.228807 504.8 \nL 808.228807 504.75954 \nL 794.366989 504.75954 \nz\n\" clip-path=\"url(#pde0895bf40)\" style=\"fill: #8dd3c7; fill-opacity: 0.5; stroke: #ffffff; stroke-width: 0.466042; stroke-linejoin: miter\"/>\n   </g>\n   <g id=\"patch_54\">\n    <path d=\"M 808.228807 504.8 \nL 822.090625 504.8 \nL 822.090625 504.8 \nL 808.228807 504.8 \nz\n\" clip-path=\"url(#pde0895bf40)\" style=\"fill: #8dd3c7; fill-opacity: 0.5; stroke: #ffffff; stroke-width: 0.466042; stroke-linejoin: miter\"/>\n   </g>\n   <g id=\"patch_55\">\n    <path d=\"M 822.090625 504.8 \nL 835.952443 504.8 \nL 835.952443 504.8 \nL 822.090625 504.8 \nz\n\" clip-path=\"url(#pde0895bf40)\" style=\"fill: #8dd3c7; fill-opacity: 0.5; stroke: #ffffff; stroke-width: 0.466042; stroke-linejoin: miter\"/>\n   </g>\n   <g id=\"patch_56\">\n    <path d=\"M 835.952443 504.8 \nL 849.814261 504.8 \nL 849.814261 504.77977 \nL 835.952443 504.77977 \nz\n\" clip-path=\"url(#pde0895bf40)\" style=\"fill: #8dd3c7; fill-opacity: 0.5; stroke: #ffffff; stroke-width: 0.466042; stroke-linejoin: miter\"/>\n   </g>\n   <g id=\"patch_57\">\n    <path d=\"M 849.814261 504.8 \nL 863.67608 504.8 \nL 863.67608 504.75954 \nL 849.814261 504.75954 \nz\n\" clip-path=\"url(#pde0895bf40)\" style=\"fill: #8dd3c7; fill-opacity: 0.5; stroke: #ffffff; stroke-width: 0.466042; stroke-linejoin: miter\"/>\n   </g>\n   <g id=\"patch_58\">\n    <path d=\"M 863.67608 504.8 \nL 877.537898 504.8 \nL 877.537898 504.8 \nL 863.67608 504.8 \nz\n\" clip-path=\"url(#pde0895bf40)\" style=\"fill: #8dd3c7; fill-opacity: 0.5; stroke: #ffffff; stroke-width: 0.466042; stroke-linejoin: miter\"/>\n   </g>\n   <g id=\"patch_59\">\n    <path d=\"M 877.537898 504.8 \nL 891.399716 504.8 \nL 891.399716 504.8 \nL 877.537898 504.8 \nz\n\" clip-path=\"url(#pde0895bf40)\" style=\"fill: #8dd3c7; fill-opacity: 0.5; stroke: #ffffff; stroke-width: 0.466042; stroke-linejoin: miter\"/>\n   </g>\n   <g id=\"patch_60\">\n    <path d=\"M 891.399716 504.8 \nL 905.261534 504.8 \nL 905.261534 504.8 \nL 891.399716 504.8 \nz\n\" clip-path=\"url(#pde0895bf40)\" style=\"fill: #8dd3c7; fill-opacity: 0.5; stroke: #ffffff; stroke-width: 0.466042; stroke-linejoin: miter\"/>\n   </g>\n   <g id=\"patch_61\">\n    <path d=\"M 905.261534 504.8 \nL 919.123352 504.8 \nL 919.123352 504.8 \nL 905.261534 504.8 \nz\n\" clip-path=\"url(#pde0895bf40)\" style=\"fill: #8dd3c7; fill-opacity: 0.5; stroke: #ffffff; stroke-width: 0.466042; stroke-linejoin: miter\"/>\n   </g>\n   <g id=\"patch_62\">\n    <path d=\"M 919.123352 504.8 \nL 932.98517 504.8 \nL 932.98517 504.77977 \nL 919.123352 504.77977 \nz\n\" clip-path=\"url(#pde0895bf40)\" style=\"fill: #8dd3c7; fill-opacity: 0.5; stroke: #ffffff; stroke-width: 0.466042; stroke-linejoin: miter\"/>\n   </g>\n   <g id=\"matplotlib.axis_1\">\n    <g id=\"xtick_1\">\n     <g id=\"line2d_1\">\n      <defs>\n       <path id=\"m5fa0f2fafc\" d=\"M 0 0 \nL 0 3.5 \n\" style=\"stroke: #ffffff; stroke-width: 0.8\"/>\n      </defs>\n      <g>\n       <use xlink:href=\"#m5fa0f2fafc\" x=\"101.099804\" y=\"504.8\" style=\"fill: #ffffff; stroke: #ffffff; stroke-width: 0.8\"/>\n      </g>\n     </g>\n     <g id=\"text_1\">\n      <!-- 0 -->\n      <g style=\"fill: #ffffff\" transform=\"translate(97.918554 519.398437)scale(0.1 -0.1)\">\n       <defs>\n        <path id=\"DejaVuSans-30\" d=\"M 2034 4250 \nQ 1547 4250 1301 3770 \nQ 1056 3291 1056 2328 \nQ 1056 1369 1301 889 \nQ 1547 409 2034 409 \nQ 2525 409 2770 889 \nQ 3016 1369 3016 2328 \nQ 3016 3291 2770 3770 \nQ 2525 4250 2034 4250 \nz\nM 2034 4750 \nQ 2819 4750 3233 4129 \nQ 3647 3509 3647 2328 \nQ 3647 1150 3233 529 \nQ 2819 -91 2034 -91 \nQ 1250 -91 836 529 \nQ 422 1150 422 2328 \nQ 422 3509 836 4129 \nQ 1250 4750 2034 4750 \nz\n\" transform=\"scale(0.015625)\"/>\n       </defs>\n       <use xlink:href=\"#DejaVuSans-30\"/>\n      </g>\n     </g>\n    </g>\n    <g id=\"xtick_2\">\n     <g id=\"line2d_2\">\n      <g>\n       <use xlink:href=\"#m5fa0f2fafc\" x=\"206.401749\" y=\"504.8\" style=\"fill: #ffffff; stroke: #ffffff; stroke-width: 0.8\"/>\n      </g>\n     </g>\n     <g id=\"text_2\">\n      <!-- 1 -->\n      <g style=\"fill: #ffffff\" transform=\"translate(203.220499 519.398437)scale(0.1 -0.1)\">\n       <defs>\n        <path id=\"DejaVuSans-31\" d=\"M 794 531 \nL 1825 531 \nL 1825 4091 \nL 703 3866 \nL 703 4441 \nL 1819 4666 \nL 2450 4666 \nL 2450 531 \nL 3481 531 \nL 3481 0 \nL 794 0 \nL 794 531 \nz\n\" transform=\"scale(0.015625)\"/>\n       </defs>\n       <use xlink:href=\"#DejaVuSans-31\"/>\n      </g>\n     </g>\n    </g>\n    <g id=\"xtick_3\">\n     <g id=\"line2d_3\">\n      <g>\n       <use xlink:href=\"#m5fa0f2fafc\" x=\"311.703694\" y=\"504.8\" style=\"fill: #ffffff; stroke: #ffffff; stroke-width: 0.8\"/>\n      </g>\n     </g>\n     <g id=\"text_3\">\n      <!-- 2 -->\n      <g style=\"fill: #ffffff\" transform=\"translate(308.522444 519.398437)scale(0.1 -0.1)\">\n       <defs>\n        <path id=\"DejaVuSans-32\" d=\"M 1228 531 \nL 3431 531 \nL 3431 0 \nL 469 0 \nL 469 531 \nQ 828 903 1448 1529 \nQ 2069 2156 2228 2338 \nQ 2531 2678 2651 2914 \nQ 2772 3150 2772 3378 \nQ 2772 3750 2511 3984 \nQ 2250 4219 1831 4219 \nQ 1534 4219 1204 4116 \nQ 875 4013 500 3803 \nL 500 4441 \nQ 881 4594 1212 4672 \nQ 1544 4750 1819 4750 \nQ 2544 4750 2975 4387 \nQ 3406 4025 3406 3419 \nQ 3406 3131 3298 2873 \nQ 3191 2616 2906 2266 \nQ 2828 2175 2409 1742 \nQ 1991 1309 1228 531 \nz\n\" transform=\"scale(0.015625)\"/>\n       </defs>\n       <use xlink:href=\"#DejaVuSans-32\"/>\n      </g>\n     </g>\n    </g>\n    <g id=\"xtick_4\">\n     <g id=\"line2d_4\">\n      <g>\n       <use xlink:href=\"#m5fa0f2fafc\" x=\"417.005639\" y=\"504.8\" style=\"fill: #ffffff; stroke: #ffffff; stroke-width: 0.8\"/>\n      </g>\n     </g>\n     <g id=\"text_4\">\n      <!-- 3 -->\n      <g style=\"fill: #ffffff\" transform=\"translate(413.824389 519.398437)scale(0.1 -0.1)\">\n       <defs>\n        <path id=\"DejaVuSans-33\" d=\"M 2597 2516 \nQ 3050 2419 3304 2112 \nQ 3559 1806 3559 1356 \nQ 3559 666 3084 287 \nQ 2609 -91 1734 -91 \nQ 1441 -91 1130 -33 \nQ 819 25 488 141 \nL 488 750 \nQ 750 597 1062 519 \nQ 1375 441 1716 441 \nQ 2309 441 2620 675 \nQ 2931 909 2931 1356 \nQ 2931 1769 2642 2001 \nQ 2353 2234 1838 2234 \nL 1294 2234 \nL 1294 2753 \nL 1863 2753 \nQ 2328 2753 2575 2939 \nQ 2822 3125 2822 3475 \nQ 2822 3834 2567 4026 \nQ 2313 4219 1838 4219 \nQ 1578 4219 1281 4162 \nQ 984 4106 628 3988 \nL 628 4550 \nQ 988 4650 1302 4700 \nQ 1616 4750 1894 4750 \nQ 2613 4750 3031 4423 \nQ 3450 4097 3450 3541 \nQ 3450 3153 3228 2886 \nQ 3006 2619 2597 2516 \nz\n\" transform=\"scale(0.015625)\"/>\n       </defs>\n       <use xlink:href=\"#DejaVuSans-33\"/>\n      </g>\n     </g>\n    </g>\n    <g id=\"xtick_5\">\n     <g id=\"line2d_5\">\n      <g>\n       <use xlink:href=\"#m5fa0f2fafc\" x=\"522.307585\" y=\"504.8\" style=\"fill: #ffffff; stroke: #ffffff; stroke-width: 0.8\"/>\n      </g>\n     </g>\n     <g id=\"text_5\">\n      <!-- 4 -->\n      <g style=\"fill: #ffffff\" transform=\"translate(519.126335 519.398437)scale(0.1 -0.1)\">\n       <defs>\n        <path id=\"DejaVuSans-34\" d=\"M 2419 4116 \nL 825 1625 \nL 2419 1625 \nL 2419 4116 \nz\nM 2253 4666 \nL 3047 4666 \nL 3047 1625 \nL 3713 1625 \nL 3713 1100 \nL 3047 1100 \nL 3047 0 \nL 2419 0 \nL 2419 1100 \nL 313 1100 \nL 313 1709 \nL 2253 4666 \nz\n\" transform=\"scale(0.015625)\"/>\n       </defs>\n       <use xlink:href=\"#DejaVuSans-34\"/>\n      </g>\n     </g>\n    </g>\n    <g id=\"xtick_6\">\n     <g id=\"line2d_6\">\n      <g>\n       <use xlink:href=\"#m5fa0f2fafc\" x=\"627.60953\" y=\"504.8\" style=\"fill: #ffffff; stroke: #ffffff; stroke-width: 0.8\"/>\n      </g>\n     </g>\n     <g id=\"text_6\">\n      <!-- 5 -->\n      <g style=\"fill: #ffffff\" transform=\"translate(624.42828 519.398437)scale(0.1 -0.1)\">\n       <defs>\n        <path id=\"DejaVuSans-35\" d=\"M 691 4666 \nL 3169 4666 \nL 3169 4134 \nL 1269 4134 \nL 1269 2991 \nQ 1406 3038 1543 3061 \nQ 1681 3084 1819 3084 \nQ 2600 3084 3056 2656 \nQ 3513 2228 3513 1497 \nQ 3513 744 3044 326 \nQ 2575 -91 1722 -91 \nQ 1428 -91 1123 -41 \nQ 819 9 494 109 \nL 494 744 \nQ 775 591 1075 516 \nQ 1375 441 1709 441 \nQ 2250 441 2565 725 \nQ 2881 1009 2881 1497 \nQ 2881 1984 2565 2268 \nQ 2250 2553 1709 2553 \nQ 1456 2553 1204 2497 \nQ 953 2441 691 2322 \nL 691 4666 \nz\n\" transform=\"scale(0.015625)\"/>\n       </defs>\n       <use xlink:href=\"#DejaVuSans-35\"/>\n      </g>\n     </g>\n    </g>\n    <g id=\"xtick_7\">\n     <g id=\"line2d_7\">\n      <g>\n       <use xlink:href=\"#m5fa0f2fafc\" x=\"732.911475\" y=\"504.8\" style=\"fill: #ffffff; stroke: #ffffff; stroke-width: 0.8\"/>\n      </g>\n     </g>\n     <g id=\"text_7\">\n      <!-- 6 -->\n      <g style=\"fill: #ffffff\" transform=\"translate(729.730225 519.398437)scale(0.1 -0.1)\">\n       <defs>\n        <path id=\"DejaVuSans-36\" d=\"M 2113 2584 \nQ 1688 2584 1439 2293 \nQ 1191 2003 1191 1497 \nQ 1191 994 1439 701 \nQ 1688 409 2113 409 \nQ 2538 409 2786 701 \nQ 3034 994 3034 1497 \nQ 3034 2003 2786 2293 \nQ 2538 2584 2113 2584 \nz\nM 3366 4563 \nL 3366 3988 \nQ 3128 4100 2886 4159 \nQ 2644 4219 2406 4219 \nQ 1781 4219 1451 3797 \nQ 1122 3375 1075 2522 \nQ 1259 2794 1537 2939 \nQ 1816 3084 2150 3084 \nQ 2853 3084 3261 2657 \nQ 3669 2231 3669 1497 \nQ 3669 778 3244 343 \nQ 2819 -91 2113 -91 \nQ 1303 -91 875 529 \nQ 447 1150 447 2328 \nQ 447 3434 972 4092 \nQ 1497 4750 2381 4750 \nQ 2619 4750 2861 4703 \nQ 3103 4656 3366 4563 \nz\n\" transform=\"scale(0.015625)\"/>\n       </defs>\n       <use xlink:href=\"#DejaVuSans-36\"/>\n      </g>\n     </g>\n    </g>\n    <g id=\"xtick_8\">\n     <g id=\"line2d_8\">\n      <g>\n       <use xlink:href=\"#m5fa0f2fafc\" x=\"838.21342\" y=\"504.8\" style=\"fill: #ffffff; stroke: #ffffff; stroke-width: 0.8\"/>\n      </g>\n     </g>\n     <g id=\"text_8\">\n      <!-- 7 -->\n      <g style=\"fill: #ffffff\" transform=\"translate(835.03217 519.398437)scale(0.1 -0.1)\">\n       <defs>\n        <path id=\"DejaVuSans-37\" d=\"M 525 4666 \nL 3525 4666 \nL 3525 4397 \nL 1831 0 \nL 1172 0 \nL 2766 4134 \nL 525 4134 \nL 525 4666 \nz\n\" transform=\"scale(0.015625)\"/>\n       </defs>\n       <use xlink:href=\"#DejaVuSans-37\"/>\n      </g>\n     </g>\n    </g>\n    <g id=\"xtick_9\">\n     <g id=\"line2d_9\">\n      <g>\n       <use xlink:href=\"#m5fa0f2fafc\" x=\"943.515365\" y=\"504.8\" style=\"fill: #ffffff; stroke: #ffffff; stroke-width: 0.8\"/>\n      </g>\n     </g>\n     <g id=\"text_9\">\n      <!-- 8 -->\n      <g style=\"fill: #ffffff\" transform=\"translate(940.334115 519.398437)scale(0.1 -0.1)\">\n       <defs>\n        <path id=\"DejaVuSans-38\" d=\"M 2034 2216 \nQ 1584 2216 1326 1975 \nQ 1069 1734 1069 1313 \nQ 1069 891 1326 650 \nQ 1584 409 2034 409 \nQ 2484 409 2743 651 \nQ 3003 894 3003 1313 \nQ 3003 1734 2745 1975 \nQ 2488 2216 2034 2216 \nz\nM 1403 2484 \nQ 997 2584 770 2862 \nQ 544 3141 544 3541 \nQ 544 4100 942 4425 \nQ 1341 4750 2034 4750 \nQ 2731 4750 3128 4425 \nQ 3525 4100 3525 3541 \nQ 3525 3141 3298 2862 \nQ 3072 2584 2669 2484 \nQ 3125 2378 3379 2068 \nQ 3634 1759 3634 1313 \nQ 3634 634 3220 271 \nQ 2806 -91 2034 -91 \nQ 1263 -91 848 271 \nQ 434 634 434 1313 \nQ 434 1759 690 2068 \nQ 947 2378 1403 2484 \nz\nM 1172 3481 \nQ 1172 3119 1398 2916 \nQ 1625 2713 2034 2713 \nQ 2441 2713 2670 2916 \nQ 2900 3119 2900 3481 \nQ 2900 3844 2670 4047 \nQ 2441 4250 2034 4250 \nQ 1625 4250 1398 4047 \nQ 1172 3844 1172 3481 \nz\n\" transform=\"scale(0.015625)\"/>\n       </defs>\n       <use xlink:href=\"#DejaVuSans-38\"/>\n      </g>\n     </g>\n    </g>\n    <g id=\"text_10\">\n     <!-- Valor -->\n     <g style=\"fill: #ffffff\" transform=\"translate(504.529844 533.076562)scale(0.1 -0.1)\">\n      <defs>\n       <path id=\"DejaVuSans-56\" d=\"M 1831 0 \nL 50 4666 \nL 709 4666 \nL 2188 738 \nL 3669 4666 \nL 4325 4666 \nL 2547 0 \nL 1831 0 \nz\n\" transform=\"scale(0.015625)\"/>\n       <path id=\"DejaVuSans-61\" d=\"M 2194 1759 \nQ 1497 1759 1228 1600 \nQ 959 1441 959 1056 \nQ 959 750 1161 570 \nQ 1363 391 1709 391 \nQ 2188 391 2477 730 \nQ 2766 1069 2766 1631 \nL 2766 1759 \nL 2194 1759 \nz\nM 3341 1997 \nL 3341 0 \nL 2766 0 \nL 2766 531 \nQ 2569 213 2275 61 \nQ 1981 -91 1556 -91 \nQ 1019 -91 701 211 \nQ 384 513 384 1019 \nQ 384 1609 779 1909 \nQ 1175 2209 1959 2209 \nL 2766 2209 \nL 2766 2266 \nQ 2766 2663 2505 2880 \nQ 2244 3097 1772 3097 \nQ 1472 3097 1187 3025 \nQ 903 2953 641 2809 \nL 641 3341 \nQ 956 3463 1253 3523 \nQ 1550 3584 1831 3584 \nQ 2591 3584 2966 3190 \nQ 3341 2797 3341 1997 \nz\n\" transform=\"scale(0.015625)\"/>\n       <path id=\"DejaVuSans-6c\" d=\"M 603 4863 \nL 1178 4863 \nL 1178 0 \nL 603 0 \nL 603 4863 \nz\n\" transform=\"scale(0.015625)\"/>\n       <path id=\"DejaVuSans-6f\" d=\"M 1959 3097 \nQ 1497 3097 1228 2736 \nQ 959 2375 959 1747 \nQ 959 1119 1226 758 \nQ 1494 397 1959 397 \nQ 2419 397 2687 759 \nQ 2956 1122 2956 1747 \nQ 2956 2369 2687 2733 \nQ 2419 3097 1959 3097 \nz\nM 1959 3584 \nQ 2709 3584 3137 3096 \nQ 3566 2609 3566 1747 \nQ 3566 888 3137 398 \nQ 2709 -91 1959 -91 \nQ 1206 -91 779 398 \nQ 353 888 353 1747 \nQ 353 2609 779 3096 \nQ 1206 3584 1959 3584 \nz\n\" transform=\"scale(0.015625)\"/>\n       <path id=\"DejaVuSans-72\" d=\"M 2631 2963 \nQ 2534 3019 2420 3045 \nQ 2306 3072 2169 3072 \nQ 1681 3072 1420 2755 \nQ 1159 2438 1159 1844 \nL 1159 0 \nL 581 0 \nL 581 3500 \nL 1159 3500 \nL 1159 2956 \nQ 1341 3275 1631 3429 \nQ 1922 3584 2338 3584 \nQ 2397 3584 2469 3576 \nQ 2541 3569 2628 3553 \nL 2631 2963 \nz\n\" transform=\"scale(0.015625)\"/>\n      </defs>\n      <use xlink:href=\"#DejaVuSans-56\"/>\n      <use xlink:href=\"#DejaVuSans-61\" x=\"60.658203\"/>\n      <use xlink:href=\"#DejaVuSans-6c\" x=\"121.9375\"/>\n      <use xlink:href=\"#DejaVuSans-6f\" x=\"149.720703\"/>\n      <use xlink:href=\"#DejaVuSans-72\" x=\"210.902344\"/>\n     </g>\n    </g>\n    <g id=\"text_11\">\n     <!-- 1e6 -->\n     <g style=\"fill: #ffffff\" transform=\"translate(955.6925 532.076562)scale(0.1 -0.1)\">\n      <defs>\n       <path id=\"DejaVuSans-65\" d=\"M 3597 1894 \nL 3597 1613 \nL 953 1613 \nQ 991 1019 1311 708 \nQ 1631 397 2203 397 \nQ 2534 397 2845 478 \nQ 3156 559 3463 722 \nL 3463 178 \nQ 3153 47 2828 -22 \nQ 2503 -91 2169 -91 \nQ 1331 -91 842 396 \nQ 353 884 353 1716 \nQ 353 2575 817 3079 \nQ 1281 3584 2069 3584 \nQ 2775 3584 3186 3129 \nQ 3597 2675 3597 1894 \nz\nM 3022 2063 \nQ 3016 2534 2758 2815 \nQ 2500 3097 2075 3097 \nQ 1594 3097 1305 2825 \nQ 1016 2553 972 2059 \nL 3022 2063 \nz\n\" transform=\"scale(0.015625)\"/>\n      </defs>\n      <use xlink:href=\"#DejaVuSans-31\"/>\n      <use xlink:href=\"#DejaVuSans-65\" x=\"63.623047\"/>\n      <use xlink:href=\"#DejaVuSans-36\" x=\"125.146484\"/>\n     </g>\n    </g>\n   </g>\n   <g id=\"matplotlib.axis_2\">\n    <g id=\"ytick_1\">\n     <g id=\"line2d_10\">\n      <defs>\n       <path id=\"m770a01f2b3\" d=\"M 0 0 \nL -3.5 0 \n\" style=\"stroke: #ffffff; stroke-width: 0.8\"/>\n      </defs>\n      <g>\n       <use xlink:href=\"#m770a01f2b3\" x=\"59.690625\" y=\"504.8\" style=\"fill: #ffffff; stroke: #ffffff; stroke-width: 0.8\"/>\n      </g>\n     </g>\n     <g id=\"text_12\">\n      <!-- 0 -->\n      <g style=\"fill: #ffffff\" transform=\"translate(46.328125 508.599219)scale(0.1 -0.1)\">\n       <use xlink:href=\"#DejaVuSans-30\"/>\n      </g>\n     </g>\n    </g>\n    <g id=\"ytick_2\">\n     <g id=\"line2d_11\">\n      <g>\n       <use xlink:href=\"#m770a01f2b3\" x=\"59.690625\" y=\"403.649609\" style=\"fill: #ffffff; stroke: #ffffff; stroke-width: 0.8\"/>\n      </g>\n     </g>\n     <g id=\"text_13\">\n      <!-- 5000 -->\n      <g style=\"fill: #ffffff\" transform=\"translate(27.240625 407.448828)scale(0.1 -0.1)\">\n       <use xlink:href=\"#DejaVuSans-35\"/>\n       <use xlink:href=\"#DejaVuSans-30\" x=\"63.623047\"/>\n       <use xlink:href=\"#DejaVuSans-30\" x=\"127.246094\"/>\n       <use xlink:href=\"#DejaVuSans-30\" x=\"190.869141\"/>\n      </g>\n     </g>\n    </g>\n    <g id=\"ytick_3\">\n     <g id=\"line2d_12\">\n      <g>\n       <use xlink:href=\"#m770a01f2b3\" x=\"59.690625\" y=\"302.499219\" style=\"fill: #ffffff; stroke: #ffffff; stroke-width: 0.8\"/>\n      </g>\n     </g>\n     <g id=\"text_14\">\n      <!-- 10000 -->\n      <g style=\"fill: #ffffff\" transform=\"translate(20.878125 306.298438)scale(0.1 -0.1)\">\n       <use xlink:href=\"#DejaVuSans-31\"/>\n       <use xlink:href=\"#DejaVuSans-30\" x=\"63.623047\"/>\n       <use xlink:href=\"#DejaVuSans-30\" x=\"127.246094\"/>\n       <use xlink:href=\"#DejaVuSans-30\" x=\"190.869141\"/>\n       <use xlink:href=\"#DejaVuSans-30\" x=\"254.492188\"/>\n      </g>\n     </g>\n    </g>\n    <g id=\"ytick_4\">\n     <g id=\"line2d_13\">\n      <g>\n       <use xlink:href=\"#m770a01f2b3\" x=\"59.690625\" y=\"201.348828\" style=\"fill: #ffffff; stroke: #ffffff; stroke-width: 0.8\"/>\n      </g>\n     </g>\n     <g id=\"text_15\">\n      <!-- 15000 -->\n      <g style=\"fill: #ffffff\" transform=\"translate(20.878125 205.148047)scale(0.1 -0.1)\">\n       <use xlink:href=\"#DejaVuSans-31\"/>\n       <use xlink:href=\"#DejaVuSans-35\" x=\"63.623047\"/>\n       <use xlink:href=\"#DejaVuSans-30\" x=\"127.246094\"/>\n       <use xlink:href=\"#DejaVuSans-30\" x=\"190.869141\"/>\n       <use xlink:href=\"#DejaVuSans-30\" x=\"254.492188\"/>\n      </g>\n     </g>\n    </g>\n    <g id=\"ytick_5\">\n     <g id=\"line2d_14\">\n      <g>\n       <use xlink:href=\"#m770a01f2b3\" x=\"59.690625\" y=\"100.198438\" style=\"fill: #ffffff; stroke: #ffffff; stroke-width: 0.8\"/>\n      </g>\n     </g>\n     <g id=\"text_16\">\n      <!-- 20000 -->\n      <g style=\"fill: #ffffff\" transform=\"translate(20.878125 103.997657)scale(0.1 -0.1)\">\n       <use xlink:href=\"#DejaVuSans-32\"/>\n       <use xlink:href=\"#DejaVuSans-30\" x=\"63.623047\"/>\n       <use xlink:href=\"#DejaVuSans-30\" x=\"127.246094\"/>\n       <use xlink:href=\"#DejaVuSans-30\" x=\"190.869141\"/>\n       <use xlink:href=\"#DejaVuSans-30\" x=\"254.492188\"/>\n      </g>\n     </g>\n    </g>\n    <g id=\"text_17\">\n     <!-- Count -->\n     <g style=\"fill: #ffffff\" transform=\"translate(14.798438 273.728437)rotate(-90)scale(0.1 -0.1)\">\n      <defs>\n       <path id=\"DejaVuSans-43\" d=\"M 4122 4306 \nL 4122 3641 \nQ 3803 3938 3442 4084 \nQ 3081 4231 2675 4231 \nQ 1875 4231 1450 3742 \nQ 1025 3253 1025 2328 \nQ 1025 1406 1450 917 \nQ 1875 428 2675 428 \nQ 3081 428 3442 575 \nQ 3803 722 4122 1019 \nL 4122 359 \nQ 3791 134 3420 21 \nQ 3050 -91 2638 -91 \nQ 1578 -91 968 557 \nQ 359 1206 359 2328 \nQ 359 3453 968 4101 \nQ 1578 4750 2638 4750 \nQ 3056 4750 3426 4639 \nQ 3797 4528 4122 4306 \nz\n\" transform=\"scale(0.015625)\"/>\n       <path id=\"DejaVuSans-75\" d=\"M 544 1381 \nL 544 3500 \nL 1119 3500 \nL 1119 1403 \nQ 1119 906 1312 657 \nQ 1506 409 1894 409 \nQ 2359 409 2629 706 \nQ 2900 1003 2900 1516 \nL 2900 3500 \nL 3475 3500 \nL 3475 0 \nL 2900 0 \nL 2900 538 \nQ 2691 219 2414 64 \nQ 2138 -91 1772 -91 \nQ 1169 -91 856 284 \nQ 544 659 544 1381 \nz\nM 1991 3584 \nL 1991 3584 \nz\n\" transform=\"scale(0.015625)\"/>\n       <path id=\"DejaVuSans-6e\" d=\"M 3513 2113 \nL 3513 0 \nL 2938 0 \nL 2938 2094 \nQ 2938 2591 2744 2837 \nQ 2550 3084 2163 3084 \nQ 1697 3084 1428 2787 \nQ 1159 2491 1159 1978 \nL 1159 0 \nL 581 0 \nL 581 3500 \nL 1159 3500 \nL 1159 2956 \nQ 1366 3272 1645 3428 \nQ 1925 3584 2291 3584 \nQ 2894 3584 3203 3211 \nQ 3513 2838 3513 2113 \nz\n\" transform=\"scale(0.015625)\"/>\n       <path id=\"DejaVuSans-74\" d=\"M 1172 4494 \nL 1172 3500 \nL 2356 3500 \nL 2356 3053 \nL 1172 3053 \nL 1172 1153 \nQ 1172 725 1289 603 \nQ 1406 481 1766 481 \nL 2356 481 \nL 2356 0 \nL 1766 0 \nQ 1100 0 847 248 \nQ 594 497 594 1153 \nL 594 3053 \nL 172 3053 \nL 172 3500 \nL 594 3500 \nL 594 4494 \nL 1172 4494 \nz\n\" transform=\"scale(0.015625)\"/>\n      </defs>\n      <use xlink:href=\"#DejaVuSans-43\"/>\n      <use xlink:href=\"#DejaVuSans-6f\" x=\"69.824219\"/>\n      <use xlink:href=\"#DejaVuSans-75\" x=\"131.005859\"/>\n      <use xlink:href=\"#DejaVuSans-6e\" x=\"194.384766\"/>\n      <use xlink:href=\"#DejaVuSans-74\" x=\"257.763672\"/>\n     </g>\n    </g>\n   </g>\n   <g id=\"line2d_15\">\n    <path d=\"M 101.27608 117.793515 \nL 105.455522 36.380952 \nL 109.634965 201.694566 \nL 113.814408 357.444061 \nL 117.99385 427.65789 \nL 122.173293 457.737105 \nL 126.352736 473.8613 \nL 130.532178 482.716033 \nL 134.711621 487.777926 \nL 138.891064 490.903654 \nL 143.070506 493.493531 \nL 147.249949 495.630363 \nL 151.429392 496.897334 \nL 163.96772 499.427649 \nL 168.147162 500.332892 \nL 172.326605 501.073256 \nL 176.506048 501.567504 \nL 180.68549 501.828955 \nL 184.864933 502.260031 \nL 189.044376 502.87878 \nL 193.223818 503.196716 \nL 205.762146 503.283569 \nL 214.121032 503.76834 \nL 218.300474 504.009146 \nL 222.479917 504.126692 \nL 235.018245 504.211248 \nL 260.094901 504.568487 \nL 297.709885 504.56314 \nL 314.427656 504.660857 \nL 331.145426 504.661365 \nL 352.04264 504.640688 \nL 360.401525 504.611323 \nL 377.119296 504.523506 \nL 393.837066 504.602879 \nL 406.375394 504.581941 \nL 473.246477 504.748531 \nL 523.399789 504.76163 \nL 548.476445 504.763792 \nL 648.783069 504.799918 \nL 932.98517 504.772972 \nL 932.98517 504.772972 \n\" clip-path=\"url(#pde0895bf40)\" style=\"fill: none; stroke: #8dd3c7; stroke-width: 1.5; stroke-linecap: square\"/>\n   </g>\n   <g id=\"patch_63\">\n    <path d=\"M 59.690625 504.8 \nL 59.690625 12.96 \n\" style=\"fill: none; stroke: #ffffff; stroke-width: 0.8; stroke-linejoin: miter; stroke-linecap: square\"/>\n   </g>\n   <g id=\"patch_64\">\n    <path d=\"M 59.690625 504.8 \nL 974.570625 504.8 \n\" style=\"fill: none; stroke: #ffffff; stroke-width: 0.8; stroke-linejoin: miter; stroke-linecap: square\"/>\n   </g>\n  </g>\n  <g id=\"text_18\">\n   <!-- Histograna - Valor Veículos -->\n   <g style=\"fill: #ffffff\" transform=\"translate(312.636094 21.597187)scale(0.18 -0.18)\">\n    <defs>\n     <path id=\"DejaVuSans-48\" d=\"M 628 4666 \nL 1259 4666 \nL 1259 2753 \nL 3553 2753 \nL 3553 4666 \nL 4184 4666 \nL 4184 0 \nL 3553 0 \nL 3553 2222 \nL 1259 2222 \nL 1259 0 \nL 628 0 \nL 628 4666 \nz\n\" transform=\"scale(0.015625)\"/>\n     <path id=\"DejaVuSans-69\" d=\"M 603 3500 \nL 1178 3500 \nL 1178 0 \nL 603 0 \nL 603 3500 \nz\nM 603 4863 \nL 1178 4863 \nL 1178 4134 \nL 603 4134 \nL 603 4863 \nz\n\" transform=\"scale(0.015625)\"/>\n     <path id=\"DejaVuSans-73\" d=\"M 2834 3397 \nL 2834 2853 \nQ 2591 2978 2328 3040 \nQ 2066 3103 1784 3103 \nQ 1356 3103 1142 2972 \nQ 928 2841 928 2578 \nQ 928 2378 1081 2264 \nQ 1234 2150 1697 2047 \nL 1894 2003 \nQ 2506 1872 2764 1633 \nQ 3022 1394 3022 966 \nQ 3022 478 2636 193 \nQ 2250 -91 1575 -91 \nQ 1294 -91 989 -36 \nQ 684 19 347 128 \nL 347 722 \nQ 666 556 975 473 \nQ 1284 391 1588 391 \nQ 1994 391 2212 530 \nQ 2431 669 2431 922 \nQ 2431 1156 2273 1281 \nQ 2116 1406 1581 1522 \nL 1381 1569 \nQ 847 1681 609 1914 \nQ 372 2147 372 2553 \nQ 372 3047 722 3315 \nQ 1072 3584 1716 3584 \nQ 2034 3584 2315 3537 \nQ 2597 3491 2834 3397 \nz\n\" transform=\"scale(0.015625)\"/>\n     <path id=\"DejaVuSans-67\" d=\"M 2906 1791 \nQ 2906 2416 2648 2759 \nQ 2391 3103 1925 3103 \nQ 1463 3103 1205 2759 \nQ 947 2416 947 1791 \nQ 947 1169 1205 825 \nQ 1463 481 1925 481 \nQ 2391 481 2648 825 \nQ 2906 1169 2906 1791 \nz\nM 3481 434 \nQ 3481 -459 3084 -895 \nQ 2688 -1331 1869 -1331 \nQ 1566 -1331 1297 -1286 \nQ 1028 -1241 775 -1147 \nL 775 -588 \nQ 1028 -725 1275 -790 \nQ 1522 -856 1778 -856 \nQ 2344 -856 2625 -561 \nQ 2906 -266 2906 331 \nL 2906 616 \nQ 2728 306 2450 153 \nQ 2172 0 1784 0 \nQ 1141 0 747 490 \nQ 353 981 353 1791 \nQ 353 2603 747 3093 \nQ 1141 3584 1784 3584 \nQ 2172 3584 2450 3431 \nQ 2728 3278 2906 2969 \nL 2906 3500 \nL 3481 3500 \nL 3481 434 \nz\n\" transform=\"scale(0.015625)\"/>\n     <path id=\"DejaVuSans-20\" transform=\"scale(0.015625)\"/>\n     <path id=\"DejaVuSans-2d\" d=\"M 313 2009 \nL 1997 2009 \nL 1997 1497 \nL 313 1497 \nL 313 2009 \nz\n\" transform=\"scale(0.015625)\"/>\n     <path id=\"DejaVuSans-ed\" d=\"M 1322 5119 \nL 1944 5119 \nL 926 3944 \nL 447 3944 \nL 1322 5119 \nz\nM 603 3500 \nL 1178 3500 \nL 1178 0 \nL 603 0 \nL 603 3500 \nz\nM 891 3584 \nL 891 3584 \nz\n\" transform=\"scale(0.015625)\"/>\n     <path id=\"DejaVuSans-63\" d=\"M 3122 3366 \nL 3122 2828 \nQ 2878 2963 2633 3030 \nQ 2388 3097 2138 3097 \nQ 1578 3097 1268 2742 \nQ 959 2388 959 1747 \nQ 959 1106 1268 751 \nQ 1578 397 2138 397 \nQ 2388 397 2633 464 \nQ 2878 531 3122 666 \nL 3122 134 \nQ 2881 22 2623 -34 \nQ 2366 -91 2075 -91 \nQ 1284 -91 818 406 \nQ 353 903 353 1747 \nQ 353 2603 823 3093 \nQ 1294 3584 2113 3584 \nQ 2378 3584 2631 3529 \nQ 2884 3475 3122 3366 \nz\n\" transform=\"scale(0.015625)\"/>\n    </defs>\n    <use xlink:href=\"#DejaVuSans-48\"/>\n    <use xlink:href=\"#DejaVuSans-69\" x=\"75.195312\"/>\n    <use xlink:href=\"#DejaVuSans-73\" x=\"102.978516\"/>\n    <use xlink:href=\"#DejaVuSans-74\" x=\"155.078125\"/>\n    <use xlink:href=\"#DejaVuSans-6f\" x=\"194.287109\"/>\n    <use xlink:href=\"#DejaVuSans-67\" x=\"255.46875\"/>\n    <use xlink:href=\"#DejaVuSans-72\" x=\"318.945312\"/>\n    <use xlink:href=\"#DejaVuSans-61\" x=\"360.058594\"/>\n    <use xlink:href=\"#DejaVuSans-6e\" x=\"421.337891\"/>\n    <use xlink:href=\"#DejaVuSans-61\" x=\"484.716797\"/>\n    <use xlink:href=\"#DejaVuSans-20\" x=\"545.996094\"/>\n    <use xlink:href=\"#DejaVuSans-2d\" x=\"577.783203\"/>\n    <use xlink:href=\"#DejaVuSans-20\" x=\"613.867188\"/>\n    <use xlink:href=\"#DejaVuSans-56\" x=\"645.654297\"/>\n    <use xlink:href=\"#DejaVuSans-61\" x=\"706.3125\"/>\n    <use xlink:href=\"#DejaVuSans-6c\" x=\"767.591797\"/>\n    <use xlink:href=\"#DejaVuSans-6f\" x=\"795.375\"/>\n    <use xlink:href=\"#DejaVuSans-72\" x=\"856.556641\"/>\n    <use xlink:href=\"#DejaVuSans-20\" x=\"897.669922\"/>\n    <use xlink:href=\"#DejaVuSans-56\" x=\"929.457031\"/>\n    <use xlink:href=\"#DejaVuSans-65\" x=\"990.115234\"/>\n    <use xlink:href=\"#DejaVuSans-ed\" x=\"1051.638672\"/>\n    <use xlink:href=\"#DejaVuSans-63\" x=\"1079.421875\"/>\n    <use xlink:href=\"#DejaVuSans-75\" x=\"1134.402344\"/>\n    <use xlink:href=\"#DejaVuSans-6c\" x=\"1197.78125\"/>\n    <use xlink:href=\"#DejaVuSans-6f\" x=\"1225.564453\"/>\n    <use xlink:href=\"#DejaVuSans-73\" x=\"1286.746094\"/>\n   </g>\n  </g>\n </g>\n <defs>\n  <clipPath id=\"pde0895bf40\">\n   <rect x=\"59.690625\" y=\"12.96\" width=\"914.88\" height=\"491.84\"/>\n  </clipPath>\n </defs>\n</svg>\n",
            "text/plain": [
              "<Figure size 1152x576 with 1 Axes>"
            ]
          },
          "metadata": {},
          "output_type": "display_data"
        }
      ],
      "source": [
        "df = sns.displot(\n",
        "      dados.Valor\n",
        "    , bins = k\n",
        "    , kde = True\n",
        "    # , cumulative = True\n",
        ")\n",
        "df.figure.set_size_inches(16,8)\n",
        "df.fig.suptitle('Histograma - Valor Veículos', fontsize=18)"
      ]
    },
    {
      "cell_type": "markdown",
      "metadata": {
        "id": "RhZJ2ONaK9as"
      },
      "source": [
        "### **<font>Item b - detalhes </font>**<br>Detalhar dados"
      ]
    },
    {
      "cell_type": "code",
      "execution_count": null,
      "metadata": {
        "id": "XJjScoLoK9as",
        "outputId": "e030e49e-c6af-48b3-922d-552b37c76d74"
      },
      "outputs": [
        {
          "data": {
            "text/html": [
              "<div>\n",
              "<style scoped>\n",
              "    .dataframe tbody tr th:only-of-type {\n",
              "        vertical-align: middle;\n",
              "    }\n",
              "\n",
              "    .dataframe tbody tr th {\n",
              "        vertical-align: top;\n",
              "    }\n",
              "\n",
              "    .dataframe thead th {\n",
              "        text-align: right;\n",
              "    }\n",
              "</style>\n",
              "<table border=\"1\" class=\"dataframe\">\n",
              "  <thead>\n",
              "    <tr style=\"text-align: right;\">\n",
              "      <th></th>\n",
              "      <th>Marca</th>\n",
              "      <th>Modelo</th>\n",
              "      <th>Valor</th>\n",
              "      <th>Ano</th>\n",
              "      <th>Combustivel</th>\n",
              "      <th>Automatico</th>\n",
              "      <th>Vendas</th>\n",
              "    </tr>\n",
              "  </thead>\n",
              "  <tbody>\n",
              "    <tr>\n",
              "      <th>11938</th>\n",
              "      <td>Hyundai</td>\n",
              "      <td>HB20S C.Plus/C.Style1.0 Flex 12V Mec. 4P</td>\n",
              "      <td>56437.0</td>\n",
              "      <td>2019</td>\n",
              "      <td>Gasolina</td>\n",
              "      <td>False</td>\n",
              "      <td>1756</td>\n",
              "    </tr>\n",
              "    <tr>\n",
              "      <th>10555</th>\n",
              "      <td>GM - Chevrolet</td>\n",
              "      <td>SONIC HB LTZ 1.6 16V FlexPower 5p Mec.</td>\n",
              "      <td>33873.0</td>\n",
              "      <td>2013</td>\n",
              "      <td>Gasolina</td>\n",
              "      <td>False</td>\n",
              "      <td>1116</td>\n",
              "    </tr>\n",
              "    <tr>\n",
              "      <th>5724</th>\n",
              "      <td>Fiat</td>\n",
              "      <td>Strada Adv/Adv TRYON 1.8 mpi Flex 8V CE</td>\n",
              "      <td>26285.0</td>\n",
              "      <td>2006</td>\n",
              "      <td>Gasolina</td>\n",
              "      <td>False</td>\n",
              "      <td>1966</td>\n",
              "    </tr>\n",
              "    <tr>\n",
              "      <th>2679</th>\n",
              "      <td>CHANA</td>\n",
              "      <td>Cargo 1.0 8V 53cv (Pick-Up)</td>\n",
              "      <td>7758.0</td>\n",
              "      <td>2006</td>\n",
              "      <td>Gasolina</td>\n",
              "      <td>False</td>\n",
              "      <td>1358</td>\n",
              "    </tr>\n",
              "    <tr>\n",
              "      <th>6386</th>\n",
              "      <td>Fibravan</td>\n",
              "      <td>Buggy Plus 1.6 8V</td>\n",
              "      <td>4831.0</td>\n",
              "      <td>1998</td>\n",
              "      <td>Gasolina</td>\n",
              "      <td>False</td>\n",
              "      <td>1661</td>\n",
              "    </tr>\n",
              "  </tbody>\n",
              "</table>\n",
              "</div>"
            ],
            "text/plain": [
              "                Marca                                    Modelo    Valor  \\\n",
              "11938         Hyundai  HB20S C.Plus/C.Style1.0 Flex 12V Mec. 4P  56437.0   \n",
              "10555  GM - Chevrolet    SONIC HB LTZ 1.6 16V FlexPower 5p Mec.  33873.0   \n",
              "5724             Fiat   Strada Adv/Adv TRYON 1.8 mpi Flex 8V CE  26285.0   \n",
              "2679            CHANA               Cargo 1.0 8V 53cv (Pick-Up)   7758.0   \n",
              "6386         Fibravan                         Buggy Plus 1.6 8V   4831.0   \n",
              "\n",
              "        Ano Combustivel  Automatico  Vendas  \n",
              "11938  2019    Gasolina       False    1756  \n",
              "10555  2013    Gasolina       False    1116  \n",
              "5724   2006    Gasolina       False    1966  \n",
              "2679   2006    Gasolina       False    1358  \n",
              "6386   1998    Gasolina       False    1661  "
            ]
          },
          "execution_count": 43,
          "metadata": {},
          "output_type": "execute_result"
        }
      ],
      "source": [
        "# filtrar dados\n",
        "filtro_valores = dados[dados.Valor <= 140000]\n",
        "filtro_valores.sample(5)"
      ]
    },
    {
      "cell_type": "code",
      "execution_count": null,
      "metadata": {
        "id": "RFRl4YZeK9at"
      },
      "outputs": [],
      "source": [
        "classes_valores = [0,20000,40000,60000,80000,100000,120000,140000]\n",
        "rotulos_valores = ['( ' + str(i) + ' , ' + str(i+20000) + ' ]' for i in range(0,140000,20000)]"
      ]
    },
    {
      "cell_type": "code",
      "execution_count": null,
      "metadata": {
        "id": "ozZCJY2gK9at"
      },
      "outputs": [],
      "source": [
        "# gerar os dade de frequência\n",
        "frequencia_valores = pd.value_counts(\n",
        "    pd.cut(x=filtro_valores.Valor, \n",
        "       bins=classes_valores,\n",
        "       labels=rotulos_valores, \n",
        "       include_lowest=True)\n",
        ")\n",
        "\n",
        "percentual_valores = pd.value_counts(\n",
        "    pd.cut(x=filtro_valores.Valor, \n",
        "       bins=classes_valores,\n",
        "       labels=rotulos_valores, \n",
        "       include_lowest=True)\n",
        "    , normalize=True\n",
        ") * 100"
      ]
    },
    {
      "cell_type": "code",
      "execution_count": null,
      "metadata": {
        "id": "tKjeLzMiK9at",
        "outputId": "ea1cb75a-8cc5-4387-abbb-a35bafefa047"
      },
      "outputs": [
        {
          "data": {
            "text/html": [
              "<div>\n",
              "<style scoped>\n",
              "    .dataframe tbody tr th:only-of-type {\n",
              "        vertical-align: middle;\n",
              "    }\n",
              "\n",
              "    .dataframe tbody tr th {\n",
              "        vertical-align: top;\n",
              "    }\n",
              "\n",
              "    .dataframe thead th {\n",
              "        text-align: right;\n",
              "    }\n",
              "</style>\n",
              "<table border=\"1\" class=\"dataframe\">\n",
              "  <thead>\n",
              "    <tr style=\"text-align: right;\">\n",
              "      <th></th>\n",
              "      <th>Frequência</th>\n",
              "      <th>Porcentegem (%)</th>\n",
              "    </tr>\n",
              "  </thead>\n",
              "  <tbody>\n",
              "    <tr>\n",
              "      <th>( 0 , 20000 ]</th>\n",
              "      <td>7491</td>\n",
              "      <td>33.721977</td>\n",
              "    </tr>\n",
              "    <tr>\n",
              "      <th>( 20000 , 40000 ]</th>\n",
              "      <td>6147</td>\n",
              "      <td>27.671739</td>\n",
              "    </tr>\n",
              "    <tr>\n",
              "      <th>( 40000 , 60000 ]</th>\n",
              "      <td>3421</td>\n",
              "      <td>15.400198</td>\n",
              "    </tr>\n",
              "    <tr>\n",
              "      <th>( 60000 , 80000 ]</th>\n",
              "      <td>2130</td>\n",
              "      <td>9.588548</td>\n",
              "    </tr>\n",
              "    <tr>\n",
              "      <th>( 80000 , 100000 ]</th>\n",
              "      <td>1474</td>\n",
              "      <td>6.635455</td>\n",
              "    </tr>\n",
              "    <tr>\n",
              "      <th>( 100000 , 120000 ]</th>\n",
              "      <td>875</td>\n",
              "      <td>3.938957</td>\n",
              "    </tr>\n",
              "    <tr>\n",
              "      <th>( 120000 , 140000 ]</th>\n",
              "      <td>676</td>\n",
              "      <td>3.043126</td>\n",
              "    </tr>\n",
              "  </tbody>\n",
              "</table>\n",
              "</div>"
            ],
            "text/plain": [
              "                     Frequência  Porcentegem (%)\n",
              "( 0 , 20000 ]              7491        33.721977\n",
              "( 20000 , 40000 ]          6147        27.671739\n",
              "( 40000 , 60000 ]          3421        15.400198\n",
              "( 60000 , 80000 ]          2130         9.588548\n",
              "( 80000 , 100000 ]         1474         6.635455\n",
              "( 100000 , 120000 ]         875         3.938957\n",
              "( 120000 , 140000 ]         676         3.043126"
            ]
          },
          "execution_count": 46,
          "metadata": {},
          "output_type": "execute_result"
        }
      ],
      "source": [
        "# Montar apresentação dos dados\n",
        "dist_detalhes_valores = pd.DataFrame({'Frequência':frequencia_valores, 'Porcentegem (%)':percentual_valores})\n",
        "dist_detalhes_valores"
      ]
    },
    {
      "cell_type": "code",
      "execution_count": null,
      "metadata": {
        "id": "KkUNmP0iK9at",
        "outputId": "757bb150-ba9d-4ca1-ebca-c2e083025a5a"
      },
      "outputs": [
        {
          "data": {
            "text/plain": [
              "Text(0.5, 0.98, 'Histograna - Valor Veículos - Recorte (0 a 140k)')"
            ]
          },
          "execution_count": 47,
          "metadata": {},
          "output_type": "execute_result"
        },
        {
          "data": {
            "image/png": "[encoded data removed]",
            "image/svg+xml": "<?xml version=\"1.0\" encoding=\"utf-8\" standalone=\"no\"?>\n<!DOCTYPE svg PUBLIC \"-//W3C//DTD SVG 1.1//EN\"\n  \"http://www.w3.org/Graphics/SVG/1.1/DTD/svg11.dtd\">\n<svg xmlns:xlink=\"http://www.w3.org/1999/xlink\" width=\"750.393125pt\" height=\"417.95625pt\" viewBox=\"0 0 750.393125 417.95625\" xmlns=\"http://www.w3.org/2000/svg\" version=\"1.1\">\n <metadata>\n  <rdf:RDF xmlns:dc=\"http://purl.org/dc/elements/1.1/\" xmlns:cc=\"http://creativecommons.org/ns#\" xmlns:rdf=\"http://www.w3.org/1999/02/22-rdf-syntax-ns#\">\n   <cc:Work>\n    <dc:type rdf:resource=\"http://purl.org/dc/dcmitype/StillImage\"/>\n    <dc:date>2022-10-17T20:02:20.836753</dc:date>\n    <dc:format>image/svg+xml</dc:format>\n    <dc:creator>\n     <cc:Agent>\n      <dc:title>Matplotlib v3.5.1, https://matplotlib.org/</dc:title>\n     </cc:Agent>\n    </dc:creator>\n   </cc:Work>\n  </rdf:RDF>\n </metadata>\n <defs>\n  <style type=\"text/css\">*{stroke-linejoin: round; stroke-linecap: butt}</style>\n </defs>\n <g id=\"figure_1\">\n  <g id=\"patch_1\">\n   <path d=\"M 0 417.95625 \nL 750.393125 417.95625 \nL 750.393125 0 \nL 0 0 \nz\n\"/>\n  </g>\n  <g id=\"axes_1\">\n   <g id=\"patch_2\">\n    <path d=\"M 53.328125 380.4 \nL 743.193125 380.4 \nL 743.193125 11.52 \nL 53.328125 11.52 \nz\n\"/>\n   </g>\n   <g id=\"patch_3\">\n    <path d=\"M 84.685625 380.4 \nL 174.278482 380.4 \nL 174.278482 66.904293 \nL 84.685625 66.904293 \nz\n\" clip-path=\"url(#paf9a514afc)\" style=\"fill: #8dd3c7; fill-opacity: 0.5; stroke: #ffffff; stroke-linejoin: miter\"/>\n   </g>\n   <g id=\"patch_4\">\n    <path d=\"M 174.278482 380.4 \nL 263.871339 380.4 \nL 263.871339 149.964254 \nL 174.278482 149.964254 \nz\n\" clip-path=\"url(#paf9a514afc)\" style=\"fill: #8dd3c7; fill-opacity: 0.5; stroke: #ffffff; stroke-linejoin: miter\"/>\n   </g>\n   <g id=\"patch_5\">\n    <path d=\"M 263.871339 380.4 \nL 353.464196 380.4 \nL 353.464196 253.213214 \nL 263.871339 253.213214 \nz\n\" clip-path=\"url(#paf9a514afc)\" style=\"fill: #8dd3c7; fill-opacity: 0.5; stroke: #ffffff; stroke-linejoin: miter\"/>\n   </g>\n   <g id=\"patch_6\">\n    <path d=\"M 353.464196 380.4 \nL 443.057054 380.4 \nL 443.057054 299.565905 \nL 353.464196 299.565905 \nz\n\" clip-path=\"url(#paf9a514afc)\" style=\"fill: #8dd3c7; fill-opacity: 0.5; stroke: #ffffff; stroke-linejoin: miter\"/>\n   </g>\n   <g id=\"patch_7\">\n    <path d=\"M 443.057054 380.4 \nL 532.649911 380.4 \nL 532.649911 324.479988 \nL 443.057054 324.479988 \nz\n\" clip-path=\"url(#paf9a514afc)\" style=\"fill: #8dd3c7; fill-opacity: 0.5; stroke: #ffffff; stroke-linejoin: miter\"/>\n   </g>\n   <g id=\"patch_8\">\n    <path d=\"M 532.649911 380.4 \nL 622.242768 380.4 \nL 622.242768 346.855803 \nL 532.649911 346.855803 \nz\n\" clip-path=\"url(#paf9a514afc)\" style=\"fill: #8dd3c7; fill-opacity: 0.5; stroke: #ffffff; stroke-linejoin: miter\"/>\n   </g>\n   <g id=\"patch_9\">\n    <path d=\"M 622.242768 380.4 \nL 711.835625 380.4 \nL 711.835625 354.353458 \nL 622.242768 354.353458 \nz\n\" clip-path=\"url(#paf9a514afc)\" style=\"fill: #8dd3c7; fill-opacity: 0.5; stroke: #ffffff; stroke-linejoin: miter\"/>\n   </g>\n   <g id=\"matplotlib.axis_1\">\n    <g id=\"xtick_1\">\n     <g id=\"line2d_1\">\n      <defs>\n       <path id=\"m49c28df892\" d=\"M 0 0 \nL 0 3.5 \n\" style=\"stroke: #ffffff; stroke-width: 0.8\"/>\n      </defs>\n      <g>\n       <use xlink:href=\"#m49c28df892\" x=\"77.095952\" y=\"380.4\" style=\"fill: #ffffff; stroke: #ffffff; stroke-width: 0.8\"/>\n      </g>\n     </g>\n     <g id=\"text_1\">\n      <!-- 0 -->\n      <g style=\"fill: #ffffff\" transform=\"translate(73.914702 394.998437)scale(0.1 -0.1)\">\n       <defs>\n        <path id=\"DejaVuSans-30\" d=\"M 2034 4250 \nQ 1547 4250 1301 3770 \nQ 1056 3291 1056 2328 \nQ 1056 1369 1301 889 \nQ 1547 409 2034 409 \nQ 2525 409 2770 889 \nQ 3016 1369 3016 2328 \nQ 3016 3291 2770 3770 \nQ 2525 4250 2034 4250 \nz\nM 2034 4750 \nQ 2819 4750 3233 4129 \nQ 3647 3509 3647 2328 \nQ 3647 1150 3233 529 \nQ 2819 -91 2034 -91 \nQ 1250 -91 836 529 \nQ 422 1150 422 2328 \nQ 422 3509 836 4129 \nQ 1250 4750 2034 4750 \nz\n\" transform=\"scale(0.015625)\"/>\n       </defs>\n       <use xlink:href=\"#DejaVuSans-30\"/>\n      </g>\n     </g>\n    </g>\n    <g id=\"xtick_2\">\n     <g id=\"line2d_2\">\n      <g>\n       <use xlink:href=\"#m49c28df892\" x=\"167.773048\" y=\"380.4\" style=\"fill: #ffffff; stroke: #ffffff; stroke-width: 0.8\"/>\n      </g>\n     </g>\n     <g id=\"text_2\">\n      <!-- 20000 -->\n      <g style=\"fill: #ffffff\" transform=\"translate(151.866798 394.998437)scale(0.1 -0.1)\">\n       <defs>\n        <path id=\"DejaVuSans-32\" d=\"M 1228 531 \nL 3431 531 \nL 3431 0 \nL 469 0 \nL 469 531 \nQ 828 903 1448 1529 \nQ 2069 2156 2228 2338 \nQ 2531 2678 2651 2914 \nQ 2772 3150 2772 3378 \nQ 2772 3750 2511 3984 \nQ 2250 4219 1831 4219 \nQ 1534 4219 1204 4116 \nQ 875 4013 500 3803 \nL 500 4441 \nQ 881 4594 1212 4672 \nQ 1544 4750 1819 4750 \nQ 2544 4750 2975 4387 \nQ 3406 4025 3406 3419 \nQ 3406 3131 3298 2873 \nQ 3191 2616 2906 2266 \nQ 2828 2175 2409 1742 \nQ 1991 1309 1228 531 \nz\n\" transform=\"scale(0.015625)\"/>\n       </defs>\n       <use xlink:href=\"#DejaVuSans-32\"/>\n       <use xlink:href=\"#DejaVuSans-30\" x=\"63.623047\"/>\n       <use xlink:href=\"#DejaVuSans-30\" x=\"127.246094\"/>\n       <use xlink:href=\"#DejaVuSans-30\" x=\"190.869141\"/>\n       <use xlink:href=\"#DejaVuSans-30\" x=\"254.492188\"/>\n      </g>\n     </g>\n    </g>\n    <g id=\"xtick_3\">\n     <g id=\"line2d_3\">\n      <g>\n       <use xlink:href=\"#m49c28df892\" x=\"258.450144\" y=\"380.4\" style=\"fill: #ffffff; stroke: #ffffff; stroke-width: 0.8\"/>\n      </g>\n     </g>\n     <g id=\"text_3\">\n      <!-- 40000 -->\n      <g style=\"fill: #ffffff\" transform=\"translate(242.543894 394.998437)scale(0.1 -0.1)\">\n       <defs>\n        <path id=\"DejaVuSans-34\" d=\"M 2419 4116 \nL 825 1625 \nL 2419 1625 \nL 2419 4116 \nz\nM 2253 4666 \nL 3047 4666 \nL 3047 1625 \nL 3713 1625 \nL 3713 1100 \nL 3047 1100 \nL 3047 0 \nL 2419 0 \nL 2419 1100 \nL 313 1100 \nL 313 1709 \nL 2253 4666 \nz\n\" transform=\"scale(0.015625)\"/>\n       </defs>\n       <use xlink:href=\"#DejaVuSans-34\"/>\n       <use xlink:href=\"#DejaVuSans-30\" x=\"63.623047\"/>\n       <use xlink:href=\"#DejaVuSans-30\" x=\"127.246094\"/>\n       <use xlink:href=\"#DejaVuSans-30\" x=\"190.869141\"/>\n       <use xlink:href=\"#DejaVuSans-30\" x=\"254.492188\"/>\n      </g>\n     </g>\n    </g>\n    <g id=\"xtick_4\">\n     <g id=\"line2d_4\">\n      <g>\n       <use xlink:href=\"#m49c28df892\" x=\"349.12724\" y=\"380.4\" style=\"fill: #ffffff; stroke: #ffffff; stroke-width: 0.8\"/>\n      </g>\n     </g>\n     <g id=\"text_4\">\n      <!-- 60000 -->\n      <g style=\"fill: #ffffff\" transform=\"translate(333.22099 394.998437)scale(0.1 -0.1)\">\n       <defs>\n        <path id=\"DejaVuSans-36\" d=\"M 2113 2584 \nQ 1688 2584 1439 2293 \nQ 1191 2003 1191 1497 \nQ 1191 994 1439 701 \nQ 1688 409 2113 409 \nQ 2538 409 2786 701 \nQ 3034 994 3034 1497 \nQ 3034 2003 2786 2293 \nQ 2538 2584 2113 2584 \nz\nM 3366 4563 \nL 3366 3988 \nQ 3128 4100 2886 4159 \nQ 2644 4219 2406 4219 \nQ 1781 4219 1451 3797 \nQ 1122 3375 1075 2522 \nQ 1259 2794 1537 2939 \nQ 1816 3084 2150 3084 \nQ 2853 3084 3261 2657 \nQ 3669 2231 3669 1497 \nQ 3669 778 3244 343 \nQ 2819 -91 2113 -91 \nQ 1303 -91 875 529 \nQ 447 1150 447 2328 \nQ 447 3434 972 4092 \nQ 1497 4750 2381 4750 \nQ 2619 4750 2861 4703 \nQ 3103 4656 3366 4563 \nz\n\" transform=\"scale(0.015625)\"/>\n       </defs>\n       <use xlink:href=\"#DejaVuSans-36\"/>\n       <use xlink:href=\"#DejaVuSans-30\" x=\"63.623047\"/>\n       <use xlink:href=\"#DejaVuSans-30\" x=\"127.246094\"/>\n       <use xlink:href=\"#DejaVuSans-30\" x=\"190.869141\"/>\n       <use xlink:href=\"#DejaVuSans-30\" x=\"254.492188\"/>\n      </g>\n     </g>\n    </g>\n    <g id=\"xtick_5\">\n     <g id=\"line2d_5\">\n      <g>\n       <use xlink:href=\"#m49c28df892\" x=\"439.804337\" y=\"380.4\" style=\"fill: #ffffff; stroke: #ffffff; stroke-width: 0.8\"/>\n      </g>\n     </g>\n     <g id=\"text_5\">\n      <!-- 80000 -->\n      <g style=\"fill: #ffffff\" transform=\"translate(423.898087 394.998437)scale(0.1 -0.1)\">\n       <defs>\n        <path id=\"DejaVuSans-38\" d=\"M 2034 2216 \nQ 1584 2216 1326 1975 \nQ 1069 1734 1069 1313 \nQ 1069 891 1326 650 \nQ 1584 409 2034 409 \nQ 2484 409 2743 651 \nQ 3003 894 3003 1313 \nQ 3003 1734 2745 1975 \nQ 2488 2216 2034 2216 \nz\nM 1403 2484 \nQ 997 2584 770 2862 \nQ 544 3141 544 3541 \nQ 544 4100 942 4425 \nQ 1341 4750 2034 4750 \nQ 2731 4750 3128 4425 \nQ 3525 4100 3525 3541 \nQ 3525 3141 3298 2862 \nQ 3072 2584 2669 2484 \nQ 3125 2378 3379 2068 \nQ 3634 1759 3634 1313 \nQ 3634 634 3220 271 \nQ 2806 -91 2034 -91 \nQ 1263 -91 848 271 \nQ 434 634 434 1313 \nQ 434 1759 690 2068 \nQ 947 2378 1403 2484 \nz\nM 1172 3481 \nQ 1172 3119 1398 2916 \nQ 1625 2713 2034 2713 \nQ 2441 2713 2670 2916 \nQ 2900 3119 2900 3481 \nQ 2900 3844 2670 4047 \nQ 2441 4250 2034 4250 \nQ 1625 4250 1398 4047 \nQ 1172 3844 1172 3481 \nz\n\" transform=\"scale(0.015625)\"/>\n       </defs>\n       <use xlink:href=\"#DejaVuSans-38\"/>\n       <use xlink:href=\"#DejaVuSans-30\" x=\"63.623047\"/>\n       <use xlink:href=\"#DejaVuSans-30\" x=\"127.246094\"/>\n       <use xlink:href=\"#DejaVuSans-30\" x=\"190.869141\"/>\n       <use xlink:href=\"#DejaVuSans-30\" x=\"254.492188\"/>\n      </g>\n     </g>\n    </g>\n    <g id=\"xtick_6\">\n     <g id=\"line2d_6\">\n      <g>\n       <use xlink:href=\"#m49c28df892\" x=\"530.481433\" y=\"380.4\" style=\"fill: #ffffff; stroke: #ffffff; stroke-width: 0.8\"/>\n      </g>\n     </g>\n     <g id=\"text_6\">\n      <!-- 100000 -->\n      <g style=\"fill: #ffffff\" transform=\"translate(511.393933 394.998437)scale(0.1 -0.1)\">\n       <defs>\n        <path id=\"DejaVuSans-31\" d=\"M 794 531 \nL 1825 531 \nL 1825 4091 \nL 703 3866 \nL 703 4441 \nL 1819 4666 \nL 2450 4666 \nL 2450 531 \nL 3481 531 \nL 3481 0 \nL 794 0 \nL 794 531 \nz\n\" transform=\"scale(0.015625)\"/>\n       </defs>\n       <use xlink:href=\"#DejaVuSans-31\"/>\n       <use xlink:href=\"#DejaVuSans-30\" x=\"63.623047\"/>\n       <use xlink:href=\"#DejaVuSans-30\" x=\"127.246094\"/>\n       <use xlink:href=\"#DejaVuSans-30\" x=\"190.869141\"/>\n       <use xlink:href=\"#DejaVuSans-30\" x=\"254.492188\"/>\n       <use xlink:href=\"#DejaVuSans-30\" x=\"318.115234\"/>\n      </g>\n     </g>\n    </g>\n    <g id=\"xtick_7\">\n     <g id=\"line2d_7\">\n      <g>\n       <use xlink:href=\"#m49c28df892\" x=\"621.158529\" y=\"380.4\" style=\"fill: #ffffff; stroke: #ffffff; stroke-width: 0.8\"/>\n      </g>\n     </g>\n     <g id=\"text_7\">\n      <!-- 120000 -->\n      <g style=\"fill: #ffffff\" transform=\"translate(602.071029 394.998437)scale(0.1 -0.1)\">\n       <use xlink:href=\"#DejaVuSans-31\"/>\n       <use xlink:href=\"#DejaVuSans-32\" x=\"63.623047\"/>\n       <use xlink:href=\"#DejaVuSans-30\" x=\"127.246094\"/>\n       <use xlink:href=\"#DejaVuSans-30\" x=\"190.869141\"/>\n       <use xlink:href=\"#DejaVuSans-30\" x=\"254.492188\"/>\n       <use xlink:href=\"#DejaVuSans-30\" x=\"318.115234\"/>\n      </g>\n     </g>\n    </g>\n    <g id=\"xtick_8\">\n     <g id=\"line2d_8\">\n      <g>\n       <use xlink:href=\"#m49c28df892\" x=\"711.835625\" y=\"380.4\" style=\"fill: #ffffff; stroke: #ffffff; stroke-width: 0.8\"/>\n      </g>\n     </g>\n     <g id=\"text_8\">\n      <!-- 140000 -->\n      <g style=\"fill: #ffffff\" transform=\"translate(692.748125 394.998437)scale(0.1 -0.1)\">\n       <use xlink:href=\"#DejaVuSans-31\"/>\n       <use xlink:href=\"#DejaVuSans-34\" x=\"63.623047\"/>\n       <use xlink:href=\"#DejaVuSans-30\" x=\"127.246094\"/>\n       <use xlink:href=\"#DejaVuSans-30\" x=\"190.869141\"/>\n       <use xlink:href=\"#DejaVuSans-30\" x=\"254.492188\"/>\n       <use xlink:href=\"#DejaVuSans-30\" x=\"318.115234\"/>\n      </g>\n     </g>\n    </g>\n    <g id=\"text_9\">\n     <!-- Valor -->\n     <g style=\"fill: #ffffff\" transform=\"translate(385.659844 408.676562)scale(0.1 -0.1)\">\n      <defs>\n       <path id=\"DejaVuSans-56\" d=\"M 1831 0 \nL 50 4666 \nL 709 4666 \nL 2188 738 \nL 3669 4666 \nL 4325 4666 \nL 2547 0 \nL 1831 0 \nz\n\" transform=\"scale(0.015625)\"/>\n       <path id=\"DejaVuSans-61\" d=\"M 2194 1759 \nQ 1497 1759 1228 1600 \nQ 959 1441 959 1056 \nQ 959 750 1161 570 \nQ 1363 391 1709 391 \nQ 2188 391 2477 730 \nQ 2766 1069 2766 1631 \nL 2766 1759 \nL 2194 1759 \nz\nM 3341 1997 \nL 3341 0 \nL 2766 0 \nL 2766 531 \nQ 2569 213 2275 61 \nQ 1981 -91 1556 -91 \nQ 1019 -91 701 211 \nQ 384 513 384 1019 \nQ 384 1609 779 1909 \nQ 1175 2209 1959 2209 \nL 2766 2209 \nL 2766 2266 \nQ 2766 2663 2505 2880 \nQ 2244 3097 1772 3097 \nQ 1472 3097 1187 3025 \nQ 903 2953 641 2809 \nL 641 3341 \nQ 956 3463 1253 3523 \nQ 1550 3584 1831 3584 \nQ 2591 3584 2966 3190 \nQ 3341 2797 3341 1997 \nz\n\" transform=\"scale(0.015625)\"/>\n       <path id=\"DejaVuSans-6c\" d=\"M 603 4863 \nL 1178 4863 \nL 1178 0 \nL 603 0 \nL 603 4863 \nz\n\" transform=\"scale(0.015625)\"/>\n       <path id=\"DejaVuSans-6f\" d=\"M 1959 3097 \nQ 1497 3097 1228 2736 \nQ 959 2375 959 1747 \nQ 959 1119 1226 758 \nQ 1494 397 1959 397 \nQ 2419 397 2687 759 \nQ 2956 1122 2956 1747 \nQ 2956 2369 2687 2733 \nQ 2419 3097 1959 3097 \nz\nM 1959 3584 \nQ 2709 3584 3137 3096 \nQ 3566 2609 3566 1747 \nQ 3566 888 3137 398 \nQ 2709 -91 1959 -91 \nQ 1206 -91 779 398 \nQ 353 888 353 1747 \nQ 353 2609 779 3096 \nQ 1206 3584 1959 3584 \nz\n\" transform=\"scale(0.015625)\"/>\n       <path id=\"DejaVuSans-72\" d=\"M 2631 2963 \nQ 2534 3019 2420 3045 \nQ 2306 3072 2169 3072 \nQ 1681 3072 1420 2755 \nQ 1159 2438 1159 1844 \nL 1159 0 \nL 581 0 \nL 581 3500 \nL 1159 3500 \nL 1159 2956 \nQ 1341 3275 1631 3429 \nQ 1922 3584 2338 3584 \nQ 2397 3584 2469 3576 \nQ 2541 3569 2628 3553 \nL 2631 2963 \nz\n\" transform=\"scale(0.015625)\"/>\n      </defs>\n      <use xlink:href=\"#DejaVuSans-56\"/>\n      <use xlink:href=\"#DejaVuSans-61\" x=\"60.658203\"/>\n      <use xlink:href=\"#DejaVuSans-6c\" x=\"121.9375\"/>\n      <use xlink:href=\"#DejaVuSans-6f\" x=\"149.720703\"/>\n      <use xlink:href=\"#DejaVuSans-72\" x=\"210.902344\"/>\n     </g>\n    </g>\n   </g>\n   <g id=\"matplotlib.axis_2\">\n    <g id=\"ytick_1\">\n     <g id=\"line2d_9\">\n      <defs>\n       <path id=\"m670f1170e1\" d=\"M 0 0 \nL -3.5 0 \n\" style=\"stroke: #ffffff; stroke-width: 0.8\"/>\n      </defs>\n      <g>\n       <use xlink:href=\"#m670f1170e1\" x=\"53.328125\" y=\"380.4\" style=\"fill: #ffffff; stroke: #ffffff; stroke-width: 0.8\"/>\n      </g>\n     </g>\n     <g id=\"text_10\">\n      <!-- 0 -->\n      <g style=\"fill: #ffffff\" transform=\"translate(39.965625 384.199219)scale(0.1 -0.1)\">\n       <use xlink:href=\"#DejaVuSans-30\"/>\n      </g>\n     </g>\n    </g>\n    <g id=\"ytick_2\">\n     <g id=\"line2d_10\">\n      <g>\n       <use xlink:href=\"#m670f1170e1\" x=\"53.328125\" y=\"302.299425\" style=\"fill: #ffffff; stroke: #ffffff; stroke-width: 0.8\"/>\n      </g>\n     </g>\n     <g id=\"text_11\">\n      <!-- 2000 -->\n      <g style=\"fill: #ffffff\" transform=\"translate(20.878125 306.098644)scale(0.1 -0.1)\">\n       <use xlink:href=\"#DejaVuSans-32\"/>\n       <use xlink:href=\"#DejaVuSans-30\" x=\"63.623047\"/>\n       <use xlink:href=\"#DejaVuSans-30\" x=\"127.246094\"/>\n       <use xlink:href=\"#DejaVuSans-30\" x=\"190.869141\"/>\n      </g>\n     </g>\n    </g>\n    <g id=\"ytick_3\">\n     <g id=\"line2d_11\">\n      <g>\n       <use xlink:href=\"#m670f1170e1\" x=\"53.328125\" y=\"224.19885\" style=\"fill: #ffffff; stroke: #ffffff; stroke-width: 0.8\"/>\n      </g>\n     </g>\n     <g id=\"text_12\">\n      <!-- 4000 -->\n      <g style=\"fill: #ffffff\" transform=\"translate(20.878125 227.998069)scale(0.1 -0.1)\">\n       <use xlink:href=\"#DejaVuSans-34\"/>\n       <use xlink:href=\"#DejaVuSans-30\" x=\"63.623047\"/>\n       <use xlink:href=\"#DejaVuSans-30\" x=\"127.246094\"/>\n       <use xlink:href=\"#DejaVuSans-30\" x=\"190.869141\"/>\n      </g>\n     </g>\n    </g>\n    <g id=\"ytick_4\">\n     <g id=\"line2d_12\">\n      <g>\n       <use xlink:href=\"#m670f1170e1\" x=\"53.328125\" y=\"146.098276\" style=\"fill: #ffffff; stroke: #ffffff; stroke-width: 0.8\"/>\n      </g>\n     </g>\n     <g id=\"text_13\">\n      <!-- 6000 -->\n      <g style=\"fill: #ffffff\" transform=\"translate(20.878125 149.897494)scale(0.1 -0.1)\">\n       <use xlink:href=\"#DejaVuSans-36\"/>\n       <use xlink:href=\"#DejaVuSans-30\" x=\"63.623047\"/>\n       <use xlink:href=\"#DejaVuSans-30\" x=\"127.246094\"/>\n       <use xlink:href=\"#DejaVuSans-30\" x=\"190.869141\"/>\n      </g>\n     </g>\n    </g>\n    <g id=\"ytick_5\">\n     <g id=\"line2d_13\">\n      <g>\n       <use xlink:href=\"#m670f1170e1\" x=\"53.328125\" y=\"67.997701\" style=\"fill: #ffffff; stroke: #ffffff; stroke-width: 0.8\"/>\n      </g>\n     </g>\n     <g id=\"text_14\">\n      <!-- 8000 -->\n      <g style=\"fill: #ffffff\" transform=\"translate(20.878125 71.796919)scale(0.1 -0.1)\">\n       <use xlink:href=\"#DejaVuSans-38\"/>\n       <use xlink:href=\"#DejaVuSans-30\" x=\"63.623047\"/>\n       <use xlink:href=\"#DejaVuSans-30\" x=\"127.246094\"/>\n       <use xlink:href=\"#DejaVuSans-30\" x=\"190.869141\"/>\n      </g>\n     </g>\n    </g>\n    <g id=\"text_15\">\n     <!-- Count -->\n     <g style=\"fill: #ffffff\" transform=\"translate(14.798438 210.808437)rotate(-90)scale(0.1 -0.1)\">\n      <defs>\n       <path id=\"DejaVuSans-43\" d=\"M 4122 4306 \nL 4122 3641 \nQ 3803 3938 3442 4084 \nQ 3081 4231 2675 4231 \nQ 1875 4231 1450 3742 \nQ 1025 3253 1025 2328 \nQ 1025 1406 1450 917 \nQ 1875 428 2675 428 \nQ 3081 428 3442 575 \nQ 3803 722 4122 1019 \nL 4122 359 \nQ 3791 134 3420 21 \nQ 3050 -91 2638 -91 \nQ 1578 -91 968 557 \nQ 359 1206 359 2328 \nQ 359 3453 968 4101 \nQ 1578 4750 2638 4750 \nQ 3056 4750 3426 4639 \nQ 3797 4528 4122 4306 \nz\n\" transform=\"scale(0.015625)\"/>\n       <path id=\"DejaVuSans-75\" d=\"M 544 1381 \nL 544 3500 \nL 1119 3500 \nL 1119 1403 \nQ 1119 906 1312 657 \nQ 1506 409 1894 409 \nQ 2359 409 2629 706 \nQ 2900 1003 2900 1516 \nL 2900 3500 \nL 3475 3500 \nL 3475 0 \nL 2900 0 \nL 2900 538 \nQ 2691 219 2414 64 \nQ 2138 -91 1772 -91 \nQ 1169 -91 856 284 \nQ 544 659 544 1381 \nz\nM 1991 3584 \nL 1991 3584 \nz\n\" transform=\"scale(0.015625)\"/>\n       <path id=\"DejaVuSans-6e\" d=\"M 3513 2113 \nL 3513 0 \nL 2938 0 \nL 2938 2094 \nQ 2938 2591 2744 2837 \nQ 2550 3084 2163 3084 \nQ 1697 3084 1428 2787 \nQ 1159 2491 1159 1978 \nL 1159 0 \nL 581 0 \nL 581 3500 \nL 1159 3500 \nL 1159 2956 \nQ 1366 3272 1645 3428 \nQ 1925 3584 2291 3584 \nQ 2894 3584 3203 3211 \nQ 3513 2838 3513 2113 \nz\n\" transform=\"scale(0.015625)\"/>\n       <path id=\"DejaVuSans-74\" d=\"M 1172 4494 \nL 1172 3500 \nL 2356 3500 \nL 2356 3053 \nL 1172 3053 \nL 1172 1153 \nQ 1172 725 1289 603 \nQ 1406 481 1766 481 \nL 2356 481 \nL 2356 0 \nL 1766 0 \nQ 1100 0 847 248 \nQ 594 497 594 1153 \nL 594 3053 \nL 172 3053 \nL 172 3500 \nL 594 3500 \nL 594 4494 \nL 1172 4494 \nz\n\" transform=\"scale(0.015625)\"/>\n      </defs>\n      <use xlink:href=\"#DejaVuSans-43\"/>\n      <use xlink:href=\"#DejaVuSans-6f\" x=\"69.824219\"/>\n      <use xlink:href=\"#DejaVuSans-75\" x=\"131.005859\"/>\n      <use xlink:href=\"#DejaVuSans-6e\" x=\"194.384766\"/>\n      <use xlink:href=\"#DejaVuSans-74\" x=\"257.763672\"/>\n     </g>\n    </g>\n   </g>\n   <g id=\"line2d_14\">\n    <path d=\"M 84.685625 261.828694 \nL 87.837133 239.923072 \nL 94.140148 192.775207 \nL 100.443163 144.97146 \nL 103.59467 122.385341 \nL 106.746178 101.474758 \nL 109.897685 82.749116 \nL 113.049193 66.607631 \nL 116.2007 53.317355 \nL 119.352208 43.002175 \nL 122.503715 35.643382 \nL 125.655223 31.091212 \nL 128.806731 29.085714 \nL 131.958238 29.284464 \nL 135.109746 31.294133 \nL 138.261253 34.702742 \nL 141.412761 39.109583 \nL 144.564268 44.150335 \nL 157.170298 65.468925 \nL 160.321806 70.374314 \nL 163.473313 75.030661 \nL 169.776329 83.753694 \nL 182.382359 100.586199 \nL 188.685374 109.521045 \nL 194.988389 118.975389 \nL 210.745927 143.200685 \nL 213.897434 147.747038 \nL 217.048942 152.092372 \nL 220.200449 156.216987 \nL 223.351957 160.118111 \nL 226.503464 163.809948 \nL 232.806479 170.694809 \nL 248.564017 187.109517 \nL 254.867032 194.081929 \nL 264.321555 205.056841 \nL 276.927585 219.787469 \nL 286.382107 230.433473 \nL 298.988138 244.234036 \nL 308.44266 254.303117 \nL 314.745675 260.65027 \nL 321.04869 266.48345 \nL 324.200198 269.16073 \nL 327.351705 271.666096 \nL 330.503213 273.99938 \nL 333.65472 276.167074 \nL 336.806228 278.18088 \nL 343.109243 281.807894 \nL 349.412258 285.003537 \nL 355.715273 287.861353 \nL 362.018288 290.427754 \nL 368.321303 292.714322 \nL 374.624318 294.720729 \nL 380.927334 296.451298 \nL 387.230349 297.921398 \nL 393.533364 299.159671 \nL 402.987886 300.689579 \nL 418.745424 303.078856 \nL 425.048439 304.298025 \nL 431.351454 305.797643 \nL 437.654469 307.589068 \nL 443.957484 309.618478 \nL 456.563514 314.026245 \nL 475.47256 320.656725 \nL 484.927082 323.786778 \nL 494.381605 326.616332 \nL 503.836128 329.146641 \nL 519.593665 333.327517 \nL 547.957233 341.265092 \nL 557.411756 343.460974 \nL 566.866278 345.389583 \nL 579.472308 347.685581 \nL 614.138891 353.587396 \nL 620.441906 354.50314 \nL 626.744921 355.178282 \nL 633.047937 355.510578 \nL 639.350952 355.454587 \nL 645.653967 355.0541 \nL 664.563012 353.367157 \nL 670.866027 353.279638 \nL 674.017535 353.41344 \nL 677.169042 353.683701 \nL 680.32055 354.101447 \nL 683.472057 354.675804 \nL 686.623565 355.413694 \nL 689.775072 356.319119 \nL 692.92658 357.392099 \nL 696.078087 358.627449 \nL 699.229595 360.013643 \nL 705.53261 363.156859 \nL 711.835625 366.590904 \nL 711.835625 366.590904 \n\" clip-path=\"url(#paf9a514afc)\" style=\"fill: none; stroke: #8dd3c7; stroke-width: 1.5; stroke-linecap: square\"/>\n   </g>\n   <g id=\"patch_10\">\n    <path d=\"M 53.328125 380.4 \nL 53.328125 11.52 \n\" style=\"fill: none; stroke: #ffffff; stroke-width: 0.8; stroke-linejoin: miter; stroke-linecap: square\"/>\n   </g>\n   <g id=\"patch_11\">\n    <path d=\"M 53.328125 380.4 \nL 743.193125 380.4 \n\" style=\"fill: none; stroke: #ffffff; stroke-width: 0.8; stroke-linejoin: miter; stroke-linecap: square\"/>\n   </g>\n  </g>\n  <g id=\"text_16\">\n   <!-- Histograna - Valor Veículos - Recorte (0 a 140k) -->\n   <g style=\"fill: #ffffff\" transform=\"translate(135.4025 21.597187)scale(0.18 -0.18)\">\n    <defs>\n     <path id=\"DejaVuSans-48\" d=\"M 628 4666 \nL 1259 4666 \nL 1259 2753 \nL 3553 2753 \nL 3553 4666 \nL 4184 4666 \nL 4184 0 \nL 3553 0 \nL 3553 2222 \nL 1259 2222 \nL 1259 0 \nL 628 0 \nL 628 4666 \nz\n\" transform=\"scale(0.015625)\"/>\n     <path id=\"DejaVuSans-69\" d=\"M 603 3500 \nL 1178 3500 \nL 1178 0 \nL 603 0 \nL 603 3500 \nz\nM 603 4863 \nL 1178 4863 \nL 1178 4134 \nL 603 4134 \nL 603 4863 \nz\n\" transform=\"scale(0.015625)\"/>\n     <path id=\"DejaVuSans-73\" d=\"M 2834 3397 \nL 2834 2853 \nQ 2591 2978 2328 3040 \nQ 2066 3103 1784 3103 \nQ 1356 3103 1142 2972 \nQ 928 2841 928 2578 \nQ 928 2378 1081 2264 \nQ 1234 2150 1697 2047 \nL 1894 2003 \nQ 2506 1872 2764 1633 \nQ 3022 1394 3022 966 \nQ 3022 478 2636 193 \nQ 2250 -91 1575 -91 \nQ 1294 -91 989 -36 \nQ 684 19 347 128 \nL 347 722 \nQ 666 556 975 473 \nQ 1284 391 1588 391 \nQ 1994 391 2212 530 \nQ 2431 669 2431 922 \nQ 2431 1156 2273 1281 \nQ 2116 1406 1581 1522 \nL 1381 1569 \nQ 847 1681 609 1914 \nQ 372 2147 372 2553 \nQ 372 3047 722 3315 \nQ 1072 3584 1716 3584 \nQ 2034 3584 2315 3537 \nQ 2597 3491 2834 3397 \nz\n\" transform=\"scale(0.015625)\"/>\n     <path id=\"DejaVuSans-67\" d=\"M 2906 1791 \nQ 2906 2416 2648 2759 \nQ 2391 3103 1925 3103 \nQ 1463 3103 1205 2759 \nQ 947 2416 947 1791 \nQ 947 1169 1205 825 \nQ 1463 481 1925 481 \nQ 2391 481 2648 825 \nQ 2906 1169 2906 1791 \nz\nM 3481 434 \nQ 3481 -459 3084 -895 \nQ 2688 -1331 1869 -1331 \nQ 1566 -1331 1297 -1286 \nQ 1028 -1241 775 -1147 \nL 775 -588 \nQ 1028 -725 1275 -790 \nQ 1522 -856 1778 -856 \nQ 2344 -856 2625 -561 \nQ 2906 -266 2906 331 \nL 2906 616 \nQ 2728 306 2450 153 \nQ 2172 0 1784 0 \nQ 1141 0 747 490 \nQ 353 981 353 1791 \nQ 353 2603 747 3093 \nQ 1141 3584 1784 3584 \nQ 2172 3584 2450 3431 \nQ 2728 3278 2906 2969 \nL 2906 3500 \nL 3481 3500 \nL 3481 434 \nz\n\" transform=\"scale(0.015625)\"/>\n     <path id=\"DejaVuSans-20\" transform=\"scale(0.015625)\"/>\n     <path id=\"DejaVuSans-2d\" d=\"M 313 2009 \nL 1997 2009 \nL 1997 1497 \nL 313 1497 \nL 313 2009 \nz\n\" transform=\"scale(0.015625)\"/>\n     <path id=\"DejaVuSans-65\" d=\"M 3597 1894 \nL 3597 1613 \nL 953 1613 \nQ 991 1019 1311 708 \nQ 1631 397 2203 397 \nQ 2534 397 2845 478 \nQ 3156 559 3463 722 \nL 3463 178 \nQ 3153 47 2828 -22 \nQ 2503 -91 2169 -91 \nQ 1331 -91 842 396 \nQ 353 884 353 1716 \nQ 353 2575 817 3079 \nQ 1281 3584 2069 3584 \nQ 2775 3584 3186 3129 \nQ 3597 2675 3597 1894 \nz\nM 3022 2063 \nQ 3016 2534 2758 2815 \nQ 2500 3097 2075 3097 \nQ 1594 3097 1305 2825 \nQ 1016 2553 972 2059 \nL 3022 2063 \nz\n\" transform=\"scale(0.015625)\"/>\n     <path id=\"DejaVuSans-ed\" d=\"M 1322 5119 \nL 1944 5119 \nL 926 3944 \nL 447 3944 \nL 1322 5119 \nz\nM 603 3500 \nL 1178 3500 \nL 1178 0 \nL 603 0 \nL 603 3500 \nz\nM 891 3584 \nL 891 3584 \nz\n\" transform=\"scale(0.015625)\"/>\n     <path id=\"DejaVuSans-63\" d=\"M 3122 3366 \nL 3122 2828 \nQ 2878 2963 2633 3030 \nQ 2388 3097 2138 3097 \nQ 1578 3097 1268 2742 \nQ 959 2388 959 1747 \nQ 959 1106 1268 751 \nQ 1578 397 2138 397 \nQ 2388 397 2633 464 \nQ 2878 531 3122 666 \nL 3122 134 \nQ 2881 22 2623 -34 \nQ 2366 -91 2075 -91 \nQ 1284 -91 818 406 \nQ 353 903 353 1747 \nQ 353 2603 823 3093 \nQ 1294 3584 2113 3584 \nQ 2378 3584 2631 3529 \nQ 2884 3475 3122 3366 \nz\n\" transform=\"scale(0.015625)\"/>\n     <path id=\"DejaVuSans-52\" d=\"M 2841 2188 \nQ 3044 2119 3236 1894 \nQ 3428 1669 3622 1275 \nL 4263 0 \nL 3584 0 \nL 2988 1197 \nQ 2756 1666 2539 1819 \nQ 2322 1972 1947 1972 \nL 1259 1972 \nL 1259 0 \nL 628 0 \nL 628 4666 \nL 2053 4666 \nQ 2853 4666 3247 4331 \nQ 3641 3997 3641 3322 \nQ 3641 2881 3436 2590 \nQ 3231 2300 2841 2188 \nz\nM 1259 4147 \nL 1259 2491 \nL 2053 2491 \nQ 2509 2491 2742 2702 \nQ 2975 2913 2975 3322 \nQ 2975 3731 2742 3939 \nQ 2509 4147 2053 4147 \nL 1259 4147 \nz\n\" transform=\"scale(0.015625)\"/>\n     <path id=\"DejaVuSans-28\" d=\"M 1984 4856 \nQ 1566 4138 1362 3434 \nQ 1159 2731 1159 2009 \nQ 1159 1288 1364 580 \nQ 1569 -128 1984 -844 \nL 1484 -844 \nQ 1016 -109 783 600 \nQ 550 1309 550 2009 \nQ 550 2706 781 3412 \nQ 1013 4119 1484 4856 \nL 1984 4856 \nz\n\" transform=\"scale(0.015625)\"/>\n     <path id=\"DejaVuSans-6b\" d=\"M 581 4863 \nL 1159 4863 \nL 1159 1991 \nL 2875 3500 \nL 3609 3500 \nL 1753 1863 \nL 3688 0 \nL 2938 0 \nL 1159 1709 \nL 1159 0 \nL 581 0 \nL 581 4863 \nz\n\" transform=\"scale(0.015625)\"/>\n     <path id=\"DejaVuSans-29\" d=\"M 513 4856 \nL 1013 4856 \nQ 1481 4119 1714 3412 \nQ 1947 2706 1947 2009 \nQ 1947 1309 1714 600 \nQ 1481 -109 1013 -844 \nL 513 -844 \nQ 928 -128 1133 580 \nQ 1338 1288 1338 2009 \nQ 1338 2731 1133 3434 \nQ 928 4138 513 4856 \nz\n\" transform=\"scale(0.015625)\"/>\n    </defs>\n    <use xlink:href=\"#DejaVuSans-48\"/>\n    <use xlink:href=\"#DejaVuSans-69\" x=\"75.195312\"/>\n    <use xlink:href=\"#DejaVuSans-73\" x=\"102.978516\"/>\n    <use xlink:href=\"#DejaVuSans-74\" x=\"155.078125\"/>\n    <use xlink:href=\"#DejaVuSans-6f\" x=\"194.287109\"/>\n    <use xlink:href=\"#DejaVuSans-67\" x=\"255.46875\"/>\n    <use xlink:href=\"#DejaVuSans-72\" x=\"318.945312\"/>\n    <use xlink:href=\"#DejaVuSans-61\" x=\"360.058594\"/>\n    <use xlink:href=\"#DejaVuSans-6e\" x=\"421.337891\"/>\n    <use xlink:href=\"#DejaVuSans-61\" x=\"484.716797\"/>\n    <use xlink:href=\"#DejaVuSans-20\" x=\"545.996094\"/>\n    <use xlink:href=\"#DejaVuSans-2d\" x=\"577.783203\"/>\n    <use xlink:href=\"#DejaVuSans-20\" x=\"613.867188\"/>\n    <use xlink:href=\"#DejaVuSans-56\" x=\"645.654297\"/>\n    <use xlink:href=\"#DejaVuSans-61\" x=\"706.3125\"/>\n    <use xlink:href=\"#DejaVuSans-6c\" x=\"767.591797\"/>\n    <use xlink:href=\"#DejaVuSans-6f\" x=\"795.375\"/>\n    <use xlink:href=\"#DejaVuSans-72\" x=\"856.556641\"/>\n    <use xlink:href=\"#DejaVuSans-20\" x=\"897.669922\"/>\n    <use xlink:href=\"#DejaVuSans-56\" x=\"929.457031\"/>\n    <use xlink:href=\"#DejaVuSans-65\" x=\"990.115234\"/>\n    <use xlink:href=\"#DejaVuSans-ed\" x=\"1051.638672\"/>\n    <use xlink:href=\"#DejaVuSans-63\" x=\"1079.421875\"/>\n    <use xlink:href=\"#DejaVuSans-75\" x=\"1134.402344\"/>\n    <use xlink:href=\"#DejaVuSans-6c\" x=\"1197.78125\"/>\n    <use xlink:href=\"#DejaVuSans-6f\" x=\"1225.564453\"/>\n    <use xlink:href=\"#DejaVuSans-73\" x=\"1286.746094\"/>\n    <use xlink:href=\"#DejaVuSans-20\" x=\"1338.845703\"/>\n    <use xlink:href=\"#DejaVuSans-2d\" x=\"1370.632812\"/>\n    <use xlink:href=\"#DejaVuSans-20\" x=\"1406.716797\"/>\n    <use xlink:href=\"#DejaVuSans-52\" x=\"1438.503906\"/>\n    <use xlink:href=\"#DejaVuSans-65\" x=\"1503.486328\"/>\n    <use xlink:href=\"#DejaVuSans-63\" x=\"1565.009766\"/>\n    <use xlink:href=\"#DejaVuSans-6f\" x=\"1619.990234\"/>\n    <use xlink:href=\"#DejaVuSans-72\" x=\"1681.171875\"/>\n    <use xlink:href=\"#DejaVuSans-74\" x=\"1722.285156\"/>\n    <use xlink:href=\"#DejaVuSans-65\" x=\"1761.494141\"/>\n    <use xlink:href=\"#DejaVuSans-20\" x=\"1823.017578\"/>\n    <use xlink:href=\"#DejaVuSans-28\" x=\"1854.804688\"/>\n    <use xlink:href=\"#DejaVuSans-30\" x=\"1893.818359\"/>\n    <use xlink:href=\"#DejaVuSans-20\" x=\"1957.441406\"/>\n    <use xlink:href=\"#DejaVuSans-61\" x=\"1989.228516\"/>\n    <use xlink:href=\"#DejaVuSans-20\" x=\"2050.507812\"/>\n    <use xlink:href=\"#DejaVuSans-31\" x=\"2082.294922\"/>\n    <use xlink:href=\"#DejaVuSans-34\" x=\"2145.917969\"/>\n    <use xlink:href=\"#DejaVuSans-30\" x=\"2209.541016\"/>\n    <use xlink:href=\"#DejaVuSans-6b\" x=\"2273.164062\"/>\n    <use xlink:href=\"#DejaVuSans-29\" x=\"2331.074219\"/>\n   </g>\n  </g>\n </g>\n <defs>\n  <clipPath id=\"paf9a514afc\">\n   <rect x=\"53.328125\" y=\"11.52\" width=\"689.865\" height=\"368.88\"/>\n  </clipPath>\n </defs>\n</svg>\n",
            "text/plain": [
              "<Figure size 864x432 with 1 Axes>"
            ]
          },
          "metadata": {},
          "output_type": "display_data"
        }
      ],
      "source": [
        "df = sns.displot(\n",
        "      filtro_valores.Valor\n",
        "    , bins = 7\n",
        "    , kde = True\n",
        "    # , cumulative = True\n",
        ")\n",
        "df.figure.set_size_inches(12,6)\n",
        "df.fig.suptitle('Histograma - Valor Veículos - Recorte (0 a 140k)', fontsize=18)"
      ]
    },
    {
      "cell_type": "markdown",
      "metadata": {
        "id": "uJVHwmkOK9at"
      },
      "source": [
        "### **<font>Item c </font>**<br>Analise dos resultados"
      ]
    },
    {
      "cell_type": "markdown",
      "metadata": {
        "id": "8twAaSsbK9at"
      },
      "source": [
        "### **<font color=green>Item 13 </font>**<br>Apresente graficamente utilizando um boxplot:"
      ]
    },
    {
      "cell_type": "markdown",
      "metadata": {
        "id": "b9-RmL0QK9at"
      },
      "source": [
        "### **<font>Item a</font>**<br>informações relativas a todas as vendas de veículos"
      ]
    },
    {
      "cell_type": "code",
      "execution_count": null,
      "metadata": {
        "id": "JNg6d1-oK9at",
        "outputId": "9b10735c-d60d-45b6-9f14-c1853c28f9c0"
      },
      "outputs": [
        {
          "name": "stderr",
          "output_type": "stream",
          "text": [
            "d:\\SW_INSTALADOS\\DataScience\\Python\\Python310\\lib\\site-packages\\seaborn\\_decorators.py:36: FutureWarning: Pass the following variable as a keyword arg: x. From version 0.12, the only valid positional argument will be `data`, and passing other arguments without an explicit keyword will result in an error or misinterpretation.\n",
            "  warnings.warn(\n"
          ]
        },
        {
          "data": {
            "text/plain": [
              "Text(0, 0.5, 'Densidade')"
            ]
          },
          "execution_count": 48,
          "metadata": {},
          "output_type": "execute_result"
        },
        {
          "data": {
            "image/png": "[encoded data removed]",
            "image/svg+xml": "<?xml version=\"1.0\" encoding=\"utf-8\" standalone=\"no\"?>\n<!DOCTYPE svg PUBLIC \"-//W3C//DTD SVG 1.1//EN\"\n  \"http://www.w3.org/Graphics/SVG/1.1/DTD/svg11.dtd\">\n<svg xmlns:xlink=\"http://www.w3.org/1999/xlink\" width=\"931.749375pt\" height=\"499.313437pt\" viewBox=\"0 0 931.749375 499.313437\" xmlns=\"http://www.w3.org/2000/svg\" version=\"1.1\">\n <metadata>\n  <rdf:RDF xmlns:dc=\"http://purl.org/dc/elements/1.1/\" xmlns:cc=\"http://creativecommons.org/ns#\" xmlns:rdf=\"http://www.w3.org/1999/02/22-rdf-syntax-ns#\">\n   <cc:Work>\n    <dc:type rdf:resource=\"http://purl.org/dc/dcmitype/StillImage\"/>\n    <dc:date>2022-10-17T20:02:22.256357</dc:date>\n    <dc:format>image/svg+xml</dc:format>\n    <dc:creator>\n     <cc:Agent>\n      <dc:title>Matplotlib v3.5.1, https://matplotlib.org/</dc:title>\n     </cc:Agent>\n    </dc:creator>\n   </cc:Work>\n  </rdf:RDF>\n </metadata>\n <defs>\n  <style type=\"text/css\">*{stroke-linejoin: round; stroke-linecap: butt}</style>\n </defs>\n <g id=\"figure_1\">\n  <g id=\"patch_1\">\n   <path d=\"M 0 499.313437 \nL 931.749375 499.313437 \nL 931.749375 0 \nL 0 0 \nz\n\"/>\n  </g>\n  <g id=\"axes_1\">\n   <g id=\"patch_2\">\n    <path d=\"M 31.749375 461.757187 \nL 924.549375 461.757187 \nL 924.549375 26.877187 \nL 31.749375 26.877187 \nz\n\"/>\n   </g>\n   <g id=\"patch_3\">\n    <path d=\"M 347.430228 70.365187 \nL 347.430228 418.269187 \nL 507.119564 418.269187 \nL 507.119564 70.365187 \nL 347.430228 70.365187 \nz\n\" clip-path=\"url(#p794399298d)\" style=\"fill: #96cac1; stroke: #6a6a6a; stroke-width: 1.5; stroke-linejoin: miter\"/>\n   </g>\n   <g id=\"matplotlib.axis_1\">\n    <g id=\"xtick_1\">\n     <g id=\"line2d_1\">\n      <defs>\n       <path id=\"m29ccfff0ed\" d=\"M 0 0 \nL 0 3.5 \n\" style=\"stroke: #ffffff; stroke-width: 0.8\"/>\n      </defs>\n      <g>\n       <use xlink:href=\"#m29ccfff0ed\" x=\"72.331193\" y=\"461.757187\" style=\"fill: #ffffff; stroke: #ffffff; stroke-width: 0.8\"/>\n      </g>\n     </g>\n     <g id=\"text_1\">\n      <!-- 0 -->\n      <g style=\"fill: #ffffff\" transform=\"translate(69.149943 476.355625)scale(0.1 -0.1)\">\n       <defs>\n        <path id=\"DejaVuSans-30\" d=\"M 2034 4250 \nQ 1547 4250 1301 3770 \nQ 1056 3291 1056 2328 \nQ 1056 1369 1301 889 \nQ 1547 409 2034 409 \nQ 2525 409 2770 889 \nQ 3016 1369 3016 2328 \nQ 3016 3291 2770 3770 \nQ 2525 4250 2034 4250 \nz\nM 2034 4750 \nQ 2819 4750 3233 4129 \nQ 3647 3509 3647 2328 \nQ 3647 1150 3233 529 \nQ 2819 -91 2034 -91 \nQ 1250 -91 836 529 \nQ 422 1150 422 2328 \nQ 422 3509 836 4129 \nQ 1250 4750 2034 4750 \nz\n\" transform=\"scale(0.015625)\"/>\n       </defs>\n       <use xlink:href=\"#DejaVuSans-30\"/>\n      </g>\n     </g>\n    </g>\n    <g id=\"xtick_2\">\n     <g id=\"line2d_2\">\n      <g>\n       <use xlink:href=\"#m29ccfff0ed\" x=\"190.096191\" y=\"461.757187\" style=\"fill: #ffffff; stroke: #ffffff; stroke-width: 0.8\"/>\n      </g>\n     </g>\n     <g id=\"text_2\">\n      <!-- 500 -->\n      <g style=\"fill: #ffffff\" transform=\"translate(180.552441 476.355625)scale(0.1 -0.1)\">\n       <defs>\n        <path id=\"DejaVuSans-35\" d=\"M 691 4666 \nL 3169 4666 \nL 3169 4134 \nL 1269 4134 \nL 1269 2991 \nQ 1406 3038 1543 3061 \nQ 1681 3084 1819 3084 \nQ 2600 3084 3056 2656 \nQ 3513 2228 3513 1497 \nQ 3513 744 3044 326 \nQ 2575 -91 1722 -91 \nQ 1428 -91 1123 -41 \nQ 819 9 494 109 \nL 494 744 \nQ 775 591 1075 516 \nQ 1375 441 1709 441 \nQ 2250 441 2565 725 \nQ 2881 1009 2881 1497 \nQ 2881 1984 2565 2268 \nQ 2250 2553 1709 2553 \nQ 1456 2553 1204 2497 \nQ 953 2441 691 2322 \nL 691 4666 \nz\n\" transform=\"scale(0.015625)\"/>\n       </defs>\n       <use xlink:href=\"#DejaVuSans-35\"/>\n       <use xlink:href=\"#DejaVuSans-30\" x=\"63.623047\"/>\n       <use xlink:href=\"#DejaVuSans-30\" x=\"127.246094\"/>\n      </g>\n     </g>\n    </g>\n    <g id=\"xtick_3\">\n     <g id=\"line2d_3\">\n      <g>\n       <use xlink:href=\"#m29ccfff0ed\" x=\"307.861188\" y=\"461.757187\" style=\"fill: #ffffff; stroke: #ffffff; stroke-width: 0.8\"/>\n      </g>\n     </g>\n     <g id=\"text_3\">\n      <!-- 1000 -->\n      <g style=\"fill: #ffffff\" transform=\"translate(295.136188 476.355625)scale(0.1 -0.1)\">\n       <defs>\n        <path id=\"DejaVuSans-31\" d=\"M 794 531 \nL 1825 531 \nL 1825 4091 \nL 703 3866 \nL 703 4441 \nL 1819 4666 \nL 2450 4666 \nL 2450 531 \nL 3481 531 \nL 3481 0 \nL 794 0 \nL 794 531 \nz\n\" transform=\"scale(0.015625)\"/>\n       </defs>\n       <use xlink:href=\"#DejaVuSans-31\"/>\n       <use xlink:href=\"#DejaVuSans-30\" x=\"63.623047\"/>\n       <use xlink:href=\"#DejaVuSans-30\" x=\"127.246094\"/>\n       <use xlink:href=\"#DejaVuSans-30\" x=\"190.869141\"/>\n      </g>\n     </g>\n    </g>\n    <g id=\"xtick_4\">\n     <g id=\"line2d_4\">\n      <g>\n       <use xlink:href=\"#m29ccfff0ed\" x=\"425.626186\" y=\"461.757187\" style=\"fill: #ffffff; stroke: #ffffff; stroke-width: 0.8\"/>\n      </g>\n     </g>\n     <g id=\"text_4\">\n      <!-- 1500 -->\n      <g style=\"fill: #ffffff\" transform=\"translate(412.901186 476.355625)scale(0.1 -0.1)\">\n       <use xlink:href=\"#DejaVuSans-31\"/>\n       <use xlink:href=\"#DejaVuSans-35\" x=\"63.623047\"/>\n       <use xlink:href=\"#DejaVuSans-30\" x=\"127.246094\"/>\n       <use xlink:href=\"#DejaVuSans-30\" x=\"190.869141\"/>\n      </g>\n     </g>\n    </g>\n    <g id=\"xtick_5\">\n     <g id=\"line2d_5\">\n      <g>\n       <use xlink:href=\"#m29ccfff0ed\" x=\"543.391184\" y=\"461.757187\" style=\"fill: #ffffff; stroke: #ffffff; stroke-width: 0.8\"/>\n      </g>\n     </g>\n     <g id=\"text_5\">\n      <!-- 2000 -->\n      <g style=\"fill: #ffffff\" transform=\"translate(530.666184 476.355625)scale(0.1 -0.1)\">\n       <defs>\n        <path id=\"DejaVuSans-32\" d=\"M 1228 531 \nL 3431 531 \nL 3431 0 \nL 469 0 \nL 469 531 \nQ 828 903 1448 1529 \nQ 2069 2156 2228 2338 \nQ 2531 2678 2651 2914 \nQ 2772 3150 2772 3378 \nQ 2772 3750 2511 3984 \nQ 2250 4219 1831 4219 \nQ 1534 4219 1204 4116 \nQ 875 4013 500 3803 \nL 500 4441 \nQ 881 4594 1212 4672 \nQ 1544 4750 1819 4750 \nQ 2544 4750 2975 4387 \nQ 3406 4025 3406 3419 \nQ 3406 3131 3298 2873 \nQ 3191 2616 2906 2266 \nQ 2828 2175 2409 1742 \nQ 1991 1309 1228 531 \nz\n\" transform=\"scale(0.015625)\"/>\n       </defs>\n       <use xlink:href=\"#DejaVuSans-32\"/>\n       <use xlink:href=\"#DejaVuSans-30\" x=\"63.623047\"/>\n       <use xlink:href=\"#DejaVuSans-30\" x=\"127.246094\"/>\n       <use xlink:href=\"#DejaVuSans-30\" x=\"190.869141\"/>\n      </g>\n     </g>\n    </g>\n    <g id=\"xtick_6\">\n     <g id=\"line2d_6\">\n      <g>\n       <use xlink:href=\"#m29ccfff0ed\" x=\"661.156181\" y=\"461.757187\" style=\"fill: #ffffff; stroke: #ffffff; stroke-width: 0.8\"/>\n      </g>\n     </g>\n     <g id=\"text_6\">\n      <!-- 2500 -->\n      <g style=\"fill: #ffffff\" transform=\"translate(648.431181 476.355625)scale(0.1 -0.1)\">\n       <use xlink:href=\"#DejaVuSans-32\"/>\n       <use xlink:href=\"#DejaVuSans-35\" x=\"63.623047\"/>\n       <use xlink:href=\"#DejaVuSans-30\" x=\"127.246094\"/>\n       <use xlink:href=\"#DejaVuSans-30\" x=\"190.869141\"/>\n      </g>\n     </g>\n    </g>\n    <g id=\"xtick_7\">\n     <g id=\"line2d_7\">\n      <g>\n       <use xlink:href=\"#m29ccfff0ed\" x=\"778.921179\" y=\"461.757187\" style=\"fill: #ffffff; stroke: #ffffff; stroke-width: 0.8\"/>\n      </g>\n     </g>\n     <g id=\"text_7\">\n      <!-- 3000 -->\n      <g style=\"fill: #ffffff\" transform=\"translate(766.196179 476.355625)scale(0.1 -0.1)\">\n       <defs>\n        <path id=\"DejaVuSans-33\" d=\"M 2597 2516 \nQ 3050 2419 3304 2112 \nQ 3559 1806 3559 1356 \nQ 3559 666 3084 287 \nQ 2609 -91 1734 -91 \nQ 1441 -91 1130 -33 \nQ 819 25 488 141 \nL 488 750 \nQ 750 597 1062 519 \nQ 1375 441 1716 441 \nQ 2309 441 2620 675 \nQ 2931 909 2931 1356 \nQ 2931 1769 2642 2001 \nQ 2353 2234 1838 2234 \nL 1294 2234 \nL 1294 2753 \nL 1863 2753 \nQ 2328 2753 2575 2939 \nQ 2822 3125 2822 3475 \nQ 2822 3834 2567 4026 \nQ 2313 4219 1838 4219 \nQ 1578 4219 1281 4162 \nQ 984 4106 628 3988 \nL 628 4550 \nQ 988 4650 1302 4700 \nQ 1616 4750 1894 4750 \nQ 2613 4750 3031 4423 \nQ 3450 4097 3450 3541 \nQ 3450 3153 3228 2886 \nQ 3006 2619 2597 2516 \nz\n\" transform=\"scale(0.015625)\"/>\n       </defs>\n       <use xlink:href=\"#DejaVuSans-33\"/>\n       <use xlink:href=\"#DejaVuSans-30\" x=\"63.623047\"/>\n       <use xlink:href=\"#DejaVuSans-30\" x=\"127.246094\"/>\n       <use xlink:href=\"#DejaVuSans-30\" x=\"190.869141\"/>\n      </g>\n     </g>\n    </g>\n    <g id=\"xtick_8\">\n     <g id=\"line2d_8\">\n      <g>\n       <use xlink:href=\"#m29ccfff0ed\" x=\"896.686177\" y=\"461.757187\" style=\"fill: #ffffff; stroke: #ffffff; stroke-width: 0.8\"/>\n      </g>\n     </g>\n     <g id=\"text_8\">\n      <!-- 3500 -->\n      <g style=\"fill: #ffffff\" transform=\"translate(883.961177 476.355625)scale(0.1 -0.1)\">\n       <use xlink:href=\"#DejaVuSans-33\"/>\n       <use xlink:href=\"#DejaVuSans-35\" x=\"63.623047\"/>\n       <use xlink:href=\"#DejaVuSans-30\" x=\"127.246094\"/>\n       <use xlink:href=\"#DejaVuSans-30\" x=\"190.869141\"/>\n      </g>\n     </g>\n    </g>\n    <g id=\"text_9\">\n     <!-- Vendas -->\n     <g style=\"fill: #ffffff\" transform=\"translate(460.028281 490.03375)scale(0.1 -0.1)\">\n      <defs>\n       <path id=\"DejaVuSans-56\" d=\"M 1831 0 \nL 50 4666 \nL 709 4666 \nL 2188 738 \nL 3669 4666 \nL 4325 4666 \nL 2547 0 \nL 1831 0 \nz\n\" transform=\"scale(0.015625)\"/>\n       <path id=\"DejaVuSans-65\" d=\"M 3597 1894 \nL 3597 1613 \nL 953 1613 \nQ 991 1019 1311 708 \nQ 1631 397 2203 397 \nQ 2534 397 2845 478 \nQ 3156 559 3463 722 \nL 3463 178 \nQ 3153 47 2828 -22 \nQ 2503 -91 2169 -91 \nQ 1331 -91 842 396 \nQ 353 884 353 1716 \nQ 353 2575 817 3079 \nQ 1281 3584 2069 3584 \nQ 2775 3584 3186 3129 \nQ 3597 2675 3597 1894 \nz\nM 3022 2063 \nQ 3016 2534 2758 2815 \nQ 2500 3097 2075 3097 \nQ 1594 3097 1305 2825 \nQ 1016 2553 972 2059 \nL 3022 2063 \nz\n\" transform=\"scale(0.015625)\"/>\n       <path id=\"DejaVuSans-6e\" d=\"M 3513 2113 \nL 3513 0 \nL 2938 0 \nL 2938 2094 \nQ 2938 2591 2744 2837 \nQ 2550 3084 2163 3084 \nQ 1697 3084 1428 2787 \nQ 1159 2491 1159 1978 \nL 1159 0 \nL 581 0 \nL 581 3500 \nL 1159 3500 \nL 1159 2956 \nQ 1366 3272 1645 3428 \nQ 1925 3584 2291 3584 \nQ 2894 3584 3203 3211 \nQ 3513 2838 3513 2113 \nz\n\" transform=\"scale(0.015625)\"/>\n       <path id=\"DejaVuSans-64\" d=\"M 2906 2969 \nL 2906 4863 \nL 3481 4863 \nL 3481 0 \nL 2906 0 \nL 2906 525 \nQ 2725 213 2448 61 \nQ 2172 -91 1784 -91 \nQ 1150 -91 751 415 \nQ 353 922 353 1747 \nQ 353 2572 751 3078 \nQ 1150 3584 1784 3584 \nQ 2172 3584 2448 3432 \nQ 2725 3281 2906 2969 \nz\nM 947 1747 \nQ 947 1113 1208 752 \nQ 1469 391 1925 391 \nQ 2381 391 2643 752 \nQ 2906 1113 2906 1747 \nQ 2906 2381 2643 2742 \nQ 2381 3103 1925 3103 \nQ 1469 3103 1208 2742 \nQ 947 2381 947 1747 \nz\n\" transform=\"scale(0.015625)\"/>\n       <path id=\"DejaVuSans-61\" d=\"M 2194 1759 \nQ 1497 1759 1228 1600 \nQ 959 1441 959 1056 \nQ 959 750 1161 570 \nQ 1363 391 1709 391 \nQ 2188 391 2477 730 \nQ 2766 1069 2766 1631 \nL 2766 1759 \nL 2194 1759 \nz\nM 3341 1997 \nL 3341 0 \nL 2766 0 \nL 2766 531 \nQ 2569 213 2275 61 \nQ 1981 -91 1556 -91 \nQ 1019 -91 701 211 \nQ 384 513 384 1019 \nQ 384 1609 779 1909 \nQ 1175 2209 1959 2209 \nL 2766 2209 \nL 2766 2266 \nQ 2766 2663 2505 2880 \nQ 2244 3097 1772 3097 \nQ 1472 3097 1187 3025 \nQ 903 2953 641 2809 \nL 641 3341 \nQ 956 3463 1253 3523 \nQ 1550 3584 1831 3584 \nQ 2591 3584 2966 3190 \nQ 3341 2797 3341 1997 \nz\n\" transform=\"scale(0.015625)\"/>\n       <path id=\"DejaVuSans-73\" d=\"M 2834 3397 \nL 2834 2853 \nQ 2591 2978 2328 3040 \nQ 2066 3103 1784 3103 \nQ 1356 3103 1142 2972 \nQ 928 2841 928 2578 \nQ 928 2378 1081 2264 \nQ 1234 2150 1697 2047 \nL 1894 2003 \nQ 2506 1872 2764 1633 \nQ 3022 1394 3022 966 \nQ 3022 478 2636 193 \nQ 2250 -91 1575 -91 \nQ 1294 -91 989 -36 \nQ 684 19 347 128 \nL 347 722 \nQ 666 556 975 473 \nQ 1284 391 1588 391 \nQ 1994 391 2212 530 \nQ 2431 669 2431 922 \nQ 2431 1156 2273 1281 \nQ 2116 1406 1581 1522 \nL 1381 1569 \nQ 847 1681 609 1914 \nQ 372 2147 372 2553 \nQ 372 3047 722 3315 \nQ 1072 3584 1716 3584 \nQ 2034 3584 2315 3537 \nQ 2597 3491 2834 3397 \nz\n\" transform=\"scale(0.015625)\"/>\n      </defs>\n      <use xlink:href=\"#DejaVuSans-56\"/>\n      <use xlink:href=\"#DejaVuSans-65\" x=\"60.658203\"/>\n      <use xlink:href=\"#DejaVuSans-6e\" x=\"122.181641\"/>\n      <use xlink:href=\"#DejaVuSans-64\" x=\"185.560547\"/>\n      <use xlink:href=\"#DejaVuSans-61\" x=\"249.037109\"/>\n      <use xlink:href=\"#DejaVuSans-73\" x=\"310.316406\"/>\n     </g>\n    </g>\n   </g>\n   <g id=\"matplotlib.axis_2\">\n    <g id=\"ytick_1\">\n     <g id=\"line2d_9\">\n      <defs>\n       <path id=\"mefdaad3904\" d=\"M 0 0 \nL -3.5 0 \n\" style=\"stroke: #ffffff; stroke-width: 0.8\"/>\n      </defs>\n      <g>\n       <use xlink:href=\"#mefdaad3904\" x=\"31.749375\" y=\"244.317187\" style=\"fill: #ffffff; stroke: #ffffff; stroke-width: 0.8\"/>\n      </g>\n     </g>\n    </g>\n    <g id=\"text_10\">\n     <!-- Densidade -->\n     <g style=\"fill: #ffffff\" transform=\"translate(17.837813 281.526562)rotate(-90)scale(0.14 -0.14)\">\n      <defs>\n       <path id=\"DejaVuSans-44\" d=\"M 1259 4147 \nL 1259 519 \nL 2022 519 \nQ 2988 519 3436 956 \nQ 3884 1394 3884 2338 \nQ 3884 3275 3436 3711 \nQ 2988 4147 2022 4147 \nL 1259 4147 \nz\nM 628 4666 \nL 1925 4666 \nQ 3281 4666 3915 4102 \nQ 4550 3538 4550 2338 \nQ 4550 1131 3912 565 \nQ 3275 0 1925 0 \nL 628 0 \nL 628 4666 \nz\n\" transform=\"scale(0.015625)\"/>\n       <path id=\"DejaVuSans-69\" d=\"M 603 3500 \nL 1178 3500 \nL 1178 0 \nL 603 0 \nL 603 3500 \nz\nM 603 4863 \nL 1178 4863 \nL 1178 4134 \nL 603 4134 \nL 603 4863 \nz\n\" transform=\"scale(0.015625)\"/>\n      </defs>\n      <use xlink:href=\"#DejaVuSans-44\"/>\n      <use xlink:href=\"#DejaVuSans-65\" x=\"77.001953\"/>\n      <use xlink:href=\"#DejaVuSans-6e\" x=\"138.525391\"/>\n      <use xlink:href=\"#DejaVuSans-73\" x=\"201.904297\"/>\n      <use xlink:href=\"#DejaVuSans-69\" x=\"254.003906\"/>\n      <use xlink:href=\"#DejaVuSans-64\" x=\"281.787109\"/>\n      <use xlink:href=\"#DejaVuSans-61\" x=\"345.263672\"/>\n      <use xlink:href=\"#DejaVuSans-64\" x=\"406.542969\"/>\n      <use xlink:href=\"#DejaVuSans-65\" x=\"470.019531\"/>\n     </g>\n    </g>\n   </g>\n   <g id=\"line2d_10\">\n    <path d=\"M 347.430228 244.317187 \nL 107.896222 244.317187 \n\" clip-path=\"url(#p794399298d)\" style=\"fill: none; stroke: #6a6a6a; stroke-width: 1.5; stroke-linecap: square\"/>\n   </g>\n   <g id=\"line2d_11\">\n    <path d=\"M 507.119564 244.317187 \nL 746.18251 244.317187 \n\" clip-path=\"url(#p794399298d)\" style=\"fill: none; stroke: #6a6a6a; stroke-width: 1.5; stroke-linecap: square\"/>\n   </g>\n   <g id=\"line2d_12\">\n    <path d=\"M 107.896222 157.341187 \nL 107.896222 331.293187 \n\" clip-path=\"url(#p794399298d)\" style=\"fill: none; stroke: #6a6a6a; stroke-width: 1.5; stroke-linecap: square\"/>\n   </g>\n   <g id=\"line2d_13\">\n    <path d=\"M 746.18251 157.341187 \nL 746.18251 331.293187 \n\" clip-path=\"url(#p794399298d)\" style=\"fill: none; stroke: #6a6a6a; stroke-width: 1.5; stroke-linecap: square\"/>\n   </g>\n   <g id=\"line2d_14\">\n    <defs>\n     <path id=\"m6bae53431a\" d=\"M 0 3.535534 \nL 2.12132 0 \nL 0 -3.535534 \nL -2.12132 0 \nz\n\" style=\"stroke: #6a6a6a; stroke-linejoin: miter\"/>\n    </defs>\n    <g clip-path=\"url(#p794399298d)\">\n     <use xlink:href=\"#m6bae53431a\" x=\"87.405113\" y=\"244.317187\" style=\"fill: #6a6a6a; stroke: #6a6a6a; stroke-linejoin: miter\"/>\n     <use xlink:href=\"#m6bae53431a\" x=\"83.401103\" y=\"244.317187\" style=\"fill: #6a6a6a; stroke: #6a6a6a; stroke-linejoin: miter\"/>\n     <use xlink:href=\"#m6bae53431a\" x=\"106.954102\" y=\"244.317187\" style=\"fill: #6a6a6a; stroke: #6a6a6a; stroke-linejoin: miter\"/>\n     <use xlink:href=\"#m6bae53431a\" x=\"92.586773\" y=\"244.317187\" style=\"fill: #6a6a6a; stroke: #6a6a6a; stroke-linejoin: miter\"/>\n     <use xlink:href=\"#m6bae53431a\" x=\"92.822303\" y=\"244.317187\" style=\"fill: #6a6a6a; stroke: #6a6a6a; stroke-linejoin: miter\"/>\n     <use xlink:href=\"#m6bae53431a\" x=\"83.165573\" y=\"244.317187\" style=\"fill: #6a6a6a; stroke: #6a6a6a; stroke-linejoin: miter\"/>\n     <use xlink:href=\"#m6bae53431a\" x=\"81.281333\" y=\"244.317187\" style=\"fill: #6a6a6a; stroke: #6a6a6a; stroke-linejoin: miter\"/>\n     <use xlink:href=\"#m6bae53431a\" x=\"107.189632\" y=\"244.317187\" style=\"fill: #6a6a6a; stroke: #6a6a6a; stroke-linejoin: miter\"/>\n     <use xlink:href=\"#m6bae53431a\" x=\"99.888203\" y=\"244.317187\" style=\"fill: #6a6a6a; stroke: #6a6a6a; stroke-linejoin: miter\"/>\n     <use xlink:href=\"#m6bae53431a\" x=\"79.632623\" y=\"244.317187\" style=\"fill: #6a6a6a; stroke: #6a6a6a; stroke-linejoin: miter\"/>\n     <use xlink:href=\"#m6bae53431a\" x=\"91.880183\" y=\"244.317187\" style=\"fill: #6a6a6a; stroke: #6a6a6a; stroke-linejoin: miter\"/>\n     <use xlink:href=\"#m6bae53431a\" x=\"100.594793\" y=\"244.317187\" style=\"fill: #6a6a6a; stroke: #6a6a6a; stroke-linejoin: miter\"/>\n     <use xlink:href=\"#m6bae53431a\" x=\"74.215433\" y=\"244.317187\" style=\"fill: #6a6a6a; stroke: #6a6a6a; stroke-linejoin: miter\"/>\n     <use xlink:href=\"#m6bae53431a\" x=\"84.343223\" y=\"244.317187\" style=\"fill: #6a6a6a; stroke: #6a6a6a; stroke-linejoin: miter\"/>\n     <use xlink:href=\"#m6bae53431a\" x=\"104.363273\" y=\"244.317187\" style=\"fill: #6a6a6a; stroke: #6a6a6a; stroke-linejoin: miter\"/>\n     <use xlink:href=\"#m6bae53431a\" x=\"84.107693\" y=\"244.317187\" style=\"fill: #6a6a6a; stroke: #6a6a6a; stroke-linejoin: miter\"/>\n     <use xlink:href=\"#m6bae53431a\" x=\"74.215433\" y=\"244.317187\" style=\"fill: #6a6a6a; stroke: #6a6a6a; stroke-linejoin: miter\"/>\n     <use xlink:href=\"#m6bae53431a\" x=\"91.644653\" y=\"244.317187\" style=\"fill: #6a6a6a; stroke: #6a6a6a; stroke-linejoin: miter\"/>\n     <use xlink:href=\"#m6bae53431a\" x=\"101.772443\" y=\"244.317187\" style=\"fill: #6a6a6a; stroke: #6a6a6a; stroke-linejoin: miter\"/>\n     <use xlink:href=\"#m6bae53431a\" x=\"105.540923\" y=\"244.317187\" style=\"fill: #6a6a6a; stroke: #6a6a6a; stroke-linejoin: miter\"/>\n     <use xlink:href=\"#m6bae53431a\" x=\"90.467003\" y=\"244.317187\" style=\"fill: #6a6a6a; stroke: #6a6a6a; stroke-linejoin: miter\"/>\n     <use xlink:href=\"#m6bae53431a\" x=\"80.339213\" y=\"244.317187\" style=\"fill: #6a6a6a; stroke: #6a6a6a; stroke-linejoin: miter\"/>\n     <use xlink:href=\"#m6bae53431a\" x=\"106.718572\" y=\"244.317187\" style=\"fill: #6a6a6a; stroke: #6a6a6a; stroke-linejoin: miter\"/>\n     <use xlink:href=\"#m6bae53431a\" x=\"99.652673\" y=\"244.317187\" style=\"fill: #6a6a6a; stroke: #6a6a6a; stroke-linejoin: miter\"/>\n     <use xlink:href=\"#m6bae53431a\" x=\"102.950093\" y=\"244.317187\" style=\"fill: #6a6a6a; stroke: #6a6a6a; stroke-linejoin: miter\"/>\n     <use xlink:href=\"#m6bae53431a\" x=\"101.301383\" y=\"244.317187\" style=\"fill: #6a6a6a; stroke: #6a6a6a; stroke-linejoin: miter\"/>\n     <use xlink:href=\"#m6bae53431a\" x=\"83.165573\" y=\"244.317187\" style=\"fill: #6a6a6a; stroke: #6a6a6a; stroke-linejoin: miter\"/>\n     <use xlink:href=\"#m6bae53431a\" x=\"84.578753\" y=\"244.317187\" style=\"fill: #6a6a6a; stroke: #6a6a6a; stroke-linejoin: miter\"/>\n     <use xlink:href=\"#m6bae53431a\" x=\"98.946083\" y=\"244.317187\" style=\"fill: #6a6a6a; stroke: #6a6a6a; stroke-linejoin: miter\"/>\n     <use xlink:href=\"#m6bae53431a\" x=\"85.991933\" y=\"244.317187\" style=\"fill: #6a6a6a; stroke: #6a6a6a; stroke-linejoin: miter\"/>\n     <use xlink:href=\"#m6bae53431a\" x=\"82.458983\" y=\"244.317187\" style=\"fill: #6a6a6a; stroke: #6a6a6a; stroke-linejoin: miter\"/>\n     <use xlink:href=\"#m6bae53431a\" x=\"72.331193\" y=\"244.317187\" style=\"fill: #6a6a6a; stroke: #6a6a6a; stroke-linejoin: miter\"/>\n     <use xlink:href=\"#m6bae53431a\" x=\"78.926033\" y=\"244.317187\" style=\"fill: #6a6a6a; stroke: #6a6a6a; stroke-linejoin: miter\"/>\n     <use xlink:href=\"#m6bae53431a\" x=\"80.339213\" y=\"244.317187\" style=\"fill: #6a6a6a; stroke: #6a6a6a; stroke-linejoin: miter\"/>\n     <use xlink:href=\"#m6bae53431a\" x=\"100.594793\" y=\"244.317187\" style=\"fill: #6a6a6a; stroke: #6a6a6a; stroke-linejoin: miter\"/>\n     <use xlink:href=\"#m6bae53431a\" x=\"105.305393\" y=\"244.317187\" style=\"fill: #6a6a6a; stroke: #6a6a6a; stroke-linejoin: miter\"/>\n     <use xlink:href=\"#m6bae53431a\" x=\"83.872163\" y=\"244.317187\" style=\"fill: #6a6a6a; stroke: #6a6a6a; stroke-linejoin: miter\"/>\n     <use xlink:href=\"#m6bae53431a\" x=\"89.760413\" y=\"244.317187\" style=\"fill: #6a6a6a; stroke: #6a6a6a; stroke-linejoin: miter\"/>\n     <use xlink:href=\"#m6bae53431a\" x=\"106.011983\" y=\"244.317187\" style=\"fill: #6a6a6a; stroke: #6a6a6a; stroke-linejoin: miter\"/>\n     <use xlink:href=\"#m6bae53431a\" x=\"90.467003\" y=\"244.317187\" style=\"fill: #6a6a6a; stroke: #6a6a6a; stroke-linejoin: miter\"/>\n     <use xlink:href=\"#m6bae53431a\" x=\"75.393083\" y=\"244.317187\" style=\"fill: #6a6a6a; stroke: #6a6a6a; stroke-linejoin: miter\"/>\n     <use xlink:href=\"#m6bae53431a\" x=\"88.111703\" y=\"244.317187\" style=\"fill: #6a6a6a; stroke: #6a6a6a; stroke-linejoin: miter\"/>\n     <use xlink:href=\"#m6bae53431a\" x=\"81.987923\" y=\"244.317187\" style=\"fill: #6a6a6a; stroke: #6a6a6a; stroke-linejoin: miter\"/>\n     <use xlink:href=\"#m6bae53431a\" x=\"80.103683\" y=\"244.317187\" style=\"fill: #6a6a6a; stroke: #6a6a6a; stroke-linejoin: miter\"/>\n     <use xlink:href=\"#m6bae53431a\" x=\"78.690503\" y=\"244.317187\" style=\"fill: #6a6a6a; stroke: #6a6a6a; stroke-linejoin: miter\"/>\n     <use xlink:href=\"#m6bae53431a\" x=\"102.243503\" y=\"244.317187\" style=\"fill: #6a6a6a; stroke: #6a6a6a; stroke-linejoin: miter\"/>\n     <use xlink:href=\"#m6bae53431a\" x=\"88.818293\" y=\"244.317187\" style=\"fill: #6a6a6a; stroke: #6a6a6a; stroke-linejoin: miter\"/>\n     <use xlink:href=\"#m6bae53431a\" x=\"98.710553\" y=\"244.317187\" style=\"fill: #6a6a6a; stroke: #6a6a6a; stroke-linejoin: miter\"/>\n     <use xlink:href=\"#m6bae53431a\" x=\"106.954102\" y=\"244.317187\" style=\"fill: #6a6a6a; stroke: #6a6a6a; stroke-linejoin: miter\"/>\n     <use xlink:href=\"#m6bae53431a\" x=\"86.227463\" y=\"244.317187\" style=\"fill: #6a6a6a; stroke: #6a6a6a; stroke-linejoin: miter\"/>\n     <use xlink:href=\"#m6bae53431a\" x=\"88.111703\" y=\"244.317187\" style=\"fill: #6a6a6a; stroke: #6a6a6a; stroke-linejoin: miter\"/>\n     <use xlink:href=\"#m6bae53431a\" x=\"95.177603\" y=\"244.317187\" style=\"fill: #6a6a6a; stroke: #6a6a6a; stroke-linejoin: miter\"/>\n     <use xlink:href=\"#m6bae53431a\" x=\"72.802253\" y=\"244.317187\" style=\"fill: #6a6a6a; stroke: #6a6a6a; stroke-linejoin: miter\"/>\n     <use xlink:href=\"#m6bae53431a\" x=\"98.475023\" y=\"244.317187\" style=\"fill: #6a6a6a; stroke: #6a6a6a; stroke-linejoin: miter\"/>\n     <use xlink:href=\"#m6bae53431a\" x=\"74.686493\" y=\"244.317187\" style=\"fill: #6a6a6a; stroke: #6a6a6a; stroke-linejoin: miter\"/>\n     <use xlink:href=\"#m6bae53431a\" x=\"89.053823\" y=\"244.317187\" style=\"fill: #6a6a6a; stroke: #6a6a6a; stroke-linejoin: miter\"/>\n     <use xlink:href=\"#m6bae53431a\" x=\"104.598803\" y=\"244.317187\" style=\"fill: #6a6a6a; stroke: #6a6a6a; stroke-linejoin: miter\"/>\n     <use xlink:href=\"#m6bae53431a\" x=\"74.450963\" y=\"244.317187\" style=\"fill: #6a6a6a; stroke: #6a6a6a; stroke-linejoin: miter\"/>\n     <use xlink:href=\"#m6bae53431a\" x=\"79.397093\" y=\"244.317187\" style=\"fill: #6a6a6a; stroke: #6a6a6a; stroke-linejoin: miter\"/>\n     <use xlink:href=\"#m6bae53431a\" x=\"91.880183\" y=\"244.317187\" style=\"fill: #6a6a6a; stroke: #6a6a6a; stroke-linejoin: miter\"/>\n     <use xlink:href=\"#m6bae53431a\" x=\"84.107693\" y=\"244.317187\" style=\"fill: #6a6a6a; stroke: #6a6a6a; stroke-linejoin: miter\"/>\n     <use xlink:href=\"#m6bae53431a\" x=\"90.231473\" y=\"244.317187\" style=\"fill: #6a6a6a; stroke: #6a6a6a; stroke-linejoin: miter\"/>\n     <use xlink:href=\"#m6bae53431a\" x=\"107.425162\" y=\"244.317187\" style=\"fill: #6a6a6a; stroke: #6a6a6a; stroke-linejoin: miter\"/>\n     <use xlink:href=\"#m6bae53431a\" x=\"91.880183\" y=\"244.317187\" style=\"fill: #6a6a6a; stroke: #6a6a6a; stroke-linejoin: miter\"/>\n     <use xlink:href=\"#m6bae53431a\" x=\"73.979903\" y=\"244.317187\" style=\"fill: #6a6a6a; stroke: #6a6a6a; stroke-linejoin: miter\"/>\n     <use xlink:href=\"#m6bae53431a\" x=\"103.892213\" y=\"244.317187\" style=\"fill: #6a6a6a; stroke: #6a6a6a; stroke-linejoin: miter\"/>\n     <use xlink:href=\"#m6bae53431a\" x=\"97.532903\" y=\"244.317187\" style=\"fill: #6a6a6a; stroke: #6a6a6a; stroke-linejoin: miter\"/>\n     <use xlink:href=\"#m6bae53431a\" x=\"106.718572\" y=\"244.317187\" style=\"fill: #6a6a6a; stroke: #6a6a6a; stroke-linejoin: miter\"/>\n     <use xlink:href=\"#m6bae53431a\" x=\"84.814283\" y=\"244.317187\" style=\"fill: #6a6a6a; stroke: #6a6a6a; stroke-linejoin: miter\"/>\n     <use xlink:href=\"#m6bae53431a\" x=\"94.942073\" y=\"244.317187\" style=\"fill: #6a6a6a; stroke: #6a6a6a; stroke-linejoin: miter\"/>\n     <use xlink:href=\"#m6bae53431a\" x=\"101.301383\" y=\"244.317187\" style=\"fill: #6a6a6a; stroke: #6a6a6a; stroke-linejoin: miter\"/>\n     <use xlink:href=\"#m6bae53431a\" x=\"102.479033\" y=\"244.317187\" style=\"fill: #6a6a6a; stroke: #6a6a6a; stroke-linejoin: miter\"/>\n     <use xlink:href=\"#m6bae53431a\" x=\"77.041793\" y=\"244.317187\" style=\"fill: #6a6a6a; stroke: #6a6a6a; stroke-linejoin: miter\"/>\n     <use xlink:href=\"#m6bae53431a\" x=\"93.999953\" y=\"244.317187\" style=\"fill: #6a6a6a; stroke: #6a6a6a; stroke-linejoin: miter\"/>\n     <use xlink:href=\"#m6bae53431a\" x=\"79.161563\" y=\"244.317187\" style=\"fill: #6a6a6a; stroke: #6a6a6a; stroke-linejoin: miter\"/>\n     <use xlink:href=\"#m6bae53431a\" x=\"72.802253\" y=\"244.317187\" style=\"fill: #6a6a6a; stroke: #6a6a6a; stroke-linejoin: miter\"/>\n     <use xlink:href=\"#m6bae53431a\" x=\"74.922023\" y=\"244.317187\" style=\"fill: #6a6a6a; stroke: #6a6a6a; stroke-linejoin: miter\"/>\n     <use xlink:href=\"#m6bae53431a\" x=\"89.995943\" y=\"244.317187\" style=\"fill: #6a6a6a; stroke: #6a6a6a; stroke-linejoin: miter\"/>\n     <use xlink:href=\"#m6bae53431a\" x=\"103.421153\" y=\"244.317187\" style=\"fill: #6a6a6a; stroke: #6a6a6a; stroke-linejoin: miter\"/>\n     <use xlink:href=\"#m6bae53431a\" x=\"83.165573\" y=\"244.317187\" style=\"fill: #6a6a6a; stroke: #6a6a6a; stroke-linejoin: miter\"/>\n     <use xlink:href=\"#m6bae53431a\" x=\"78.926033\" y=\"244.317187\" style=\"fill: #6a6a6a; stroke: #6a6a6a; stroke-linejoin: miter\"/>\n     <use xlink:href=\"#m6bae53431a\" x=\"91.880183\" y=\"244.317187\" style=\"fill: #6a6a6a; stroke: #6a6a6a; stroke-linejoin: miter\"/>\n     <use xlink:href=\"#m6bae53431a\" x=\"102.243503\" y=\"244.317187\" style=\"fill: #6a6a6a; stroke: #6a6a6a; stroke-linejoin: miter\"/>\n     <use xlink:href=\"#m6bae53431a\" x=\"92.115713\" y=\"244.317187\" style=\"fill: #6a6a6a; stroke: #6a6a6a; stroke-linejoin: miter\"/>\n     <use xlink:href=\"#m6bae53431a\" x=\"90.231473\" y=\"244.317187\" style=\"fill: #6a6a6a; stroke: #6a6a6a; stroke-linejoin: miter\"/>\n     <use xlink:href=\"#m6bae53431a\" x=\"90.231473\" y=\"244.317187\" style=\"fill: #6a6a6a; stroke: #6a6a6a; stroke-linejoin: miter\"/>\n     <use xlink:href=\"#m6bae53431a\" x=\"88.818293\" y=\"244.317187\" style=\"fill: #6a6a6a; stroke: #6a6a6a; stroke-linejoin: miter\"/>\n     <use xlink:href=\"#m6bae53431a\" x=\"78.926033\" y=\"244.317187\" style=\"fill: #6a6a6a; stroke: #6a6a6a; stroke-linejoin: miter\"/>\n     <use xlink:href=\"#m6bae53431a\" x=\"78.454973\" y=\"244.317187\" style=\"fill: #6a6a6a; stroke: #6a6a6a; stroke-linejoin: miter\"/>\n     <use xlink:href=\"#m6bae53431a\" x=\"100.123733\" y=\"244.317187\" style=\"fill: #6a6a6a; stroke: #6a6a6a; stroke-linejoin: miter\"/>\n     <use xlink:href=\"#m6bae53431a\" x=\"78.219443\" y=\"244.317187\" style=\"fill: #6a6a6a; stroke: #6a6a6a; stroke-linejoin: miter\"/>\n     <use xlink:href=\"#m6bae53431a\" x=\"750.65758\" y=\"244.317187\" style=\"fill: #6a6a6a; stroke: #6a6a6a; stroke-linejoin: miter\"/>\n     <use xlink:href=\"#m6bae53431a\" x=\"787.400259\" y=\"244.317187\" style=\"fill: #6a6a6a; stroke: #6a6a6a; stroke-linejoin: miter\"/>\n     <use xlink:href=\"#m6bae53431a\" x=\"795.408279\" y=\"244.317187\" style=\"fill: #6a6a6a; stroke: #6a6a6a; stroke-linejoin: miter\"/>\n     <use xlink:href=\"#m6bae53431a\" x=\"749.95099\" y=\"244.317187\" style=\"fill: #6a6a6a; stroke: #6a6a6a; stroke-linejoin: miter\"/>\n     <use xlink:href=\"#m6bae53431a\" x=\"756.074769\" y=\"244.317187\" style=\"fill: #6a6a6a; stroke: #6a6a6a; stroke-linejoin: miter\"/>\n     <use xlink:href=\"#m6bae53431a\" x=\"778.685649\" y=\"244.317187\" style=\"fill: #6a6a6a; stroke: #6a6a6a; stroke-linejoin: miter\"/>\n     <use xlink:href=\"#m6bae53431a\" x=\"800.589938\" y=\"244.317187\" style=\"fill: #6a6a6a; stroke: #6a6a6a; stroke-linejoin: miter\"/>\n     <use xlink:href=\"#m6bae53431a\" x=\"757.016889\" y=\"244.317187\" style=\"fill: #6a6a6a; stroke: #6a6a6a; stroke-linejoin: miter\"/>\n     <use xlink:href=\"#m6bae53431a\" x=\"759.136659\" y=\"244.317187\" style=\"fill: #6a6a6a; stroke: #6a6a6a; stroke-linejoin: miter\"/>\n     <use xlink:href=\"#m6bae53431a\" x=\"756.781359\" y=\"244.317187\" style=\"fill: #6a6a6a; stroke: #6a6a6a; stroke-linejoin: miter\"/>\n     <use xlink:href=\"#m6bae53431a\" x=\"758.194539\" y=\"244.317187\" style=\"fill: #6a6a6a; stroke: #6a6a6a; stroke-linejoin: miter\"/>\n     <use xlink:href=\"#m6bae53431a\" x=\"822.023168\" y=\"244.317187\" style=\"fill: #6a6a6a; stroke: #6a6a6a; stroke-linejoin: miter\"/>\n     <use xlink:href=\"#m6bae53431a\" x=\"803.180768\" y=\"244.317187\" style=\"fill: #6a6a6a; stroke: #6a6a6a; stroke-linejoin: miter\"/>\n     <use xlink:href=\"#m6bae53431a\" x=\"755.839239\" y=\"244.317187\" style=\"fill: #6a6a6a; stroke: #6a6a6a; stroke-linejoin: miter\"/>\n     <use xlink:href=\"#m6bae53431a\" x=\"847.460408\" y=\"244.317187\" style=\"fill: #6a6a6a; stroke: #6a6a6a; stroke-linejoin: miter\"/>\n     <use xlink:href=\"#m6bae53431a\" x=\"837.803678\" y=\"244.317187\" style=\"fill: #6a6a6a; stroke: #6a6a6a; stroke-linejoin: miter\"/>\n     <use xlink:href=\"#m6bae53431a\" x=\"768.322329\" y=\"244.317187\" style=\"fill: #6a6a6a; stroke: #6a6a6a; stroke-linejoin: miter\"/>\n     <use xlink:href=\"#m6bae53431a\" x=\"802.238648\" y=\"244.317187\" style=\"fill: #6a6a6a; stroke: #6a6a6a; stroke-linejoin: miter\"/>\n     <use xlink:href=\"#m6bae53431a\" x=\"852.877597\" y=\"244.317187\" style=\"fill: #6a6a6a; stroke: #6a6a6a; stroke-linejoin: miter\"/>\n     <use xlink:href=\"#m6bae53431a\" x=\"749.47993\" y=\"244.317187\" style=\"fill: #6a6a6a; stroke: #6a6a6a; stroke-linejoin: miter\"/>\n     <use xlink:href=\"#m6bae53431a\" x=\"811.659848\" y=\"244.317187\" style=\"fill: #6a6a6a; stroke: #6a6a6a; stroke-linejoin: miter\"/>\n     <use xlink:href=\"#m6bae53431a\" x=\"750.65758\" y=\"244.317187\" style=\"fill: #6a6a6a; stroke: #6a6a6a; stroke-linejoin: miter\"/>\n     <use xlink:href=\"#m6bae53431a\" x=\"783.631779\" y=\"244.317187\" style=\"fill: #6a6a6a; stroke: #6a6a6a; stroke-linejoin: miter\"/>\n     <use xlink:href=\"#m6bae53431a\" x=\"756.781359\" y=\"244.317187\" style=\"fill: #6a6a6a; stroke: #6a6a6a; stroke-linejoin: miter\"/>\n     <use xlink:href=\"#m6bae53431a\" x=\"769.264449\" y=\"244.317187\" style=\"fill: #6a6a6a; stroke: #6a6a6a; stroke-linejoin: miter\"/>\n     <use xlink:href=\"#m6bae53431a\" x=\"779.863299\" y=\"244.317187\" style=\"fill: #6a6a6a; stroke: #6a6a6a; stroke-linejoin: miter\"/>\n     <use xlink:href=\"#m6bae53431a\" x=\"767.380209\" y=\"244.317187\" style=\"fill: #6a6a6a; stroke: #6a6a6a; stroke-linejoin: miter\"/>\n     <use xlink:href=\"#m6bae53431a\" x=\"787.400259\" y=\"244.317187\" style=\"fill: #6a6a6a; stroke: #6a6a6a; stroke-linejoin: miter\"/>\n     <use xlink:href=\"#m6bae53431a\" x=\"838.039208\" y=\"244.317187\" style=\"fill: #6a6a6a; stroke: #6a6a6a; stroke-linejoin: miter\"/>\n     <use xlink:href=\"#m6bae53431a\" x=\"783.160719\" y=\"244.317187\" style=\"fill: #6a6a6a; stroke: #6a6a6a; stroke-linejoin: miter\"/>\n     <use xlink:href=\"#m6bae53431a\" x=\"753.719469\" y=\"244.317187\" style=\"fill: #6a6a6a; stroke: #6a6a6a; stroke-linejoin: miter\"/>\n     <use xlink:href=\"#m6bae53431a\" x=\"749.47993\" y=\"244.317187\" style=\"fill: #6a6a6a; stroke: #6a6a6a; stroke-linejoin: miter\"/>\n     <use xlink:href=\"#m6bae53431a\" x=\"824.142938\" y=\"244.317187\" style=\"fill: #6a6a6a; stroke: #6a6a6a; stroke-linejoin: miter\"/>\n     <use xlink:href=\"#m6bae53431a\" x=\"790.933209\" y=\"244.317187\" style=\"fill: #6a6a6a; stroke: #6a6a6a; stroke-linejoin: miter\"/>\n     <use xlink:href=\"#m6bae53431a\" x=\"757.487949\" y=\"244.317187\" style=\"fill: #6a6a6a; stroke: #6a6a6a; stroke-linejoin: miter\"/>\n     <use xlink:href=\"#m6bae53431a\" x=\"766.202559\" y=\"244.317187\" style=\"fill: #6a6a6a; stroke: #6a6a6a; stroke-linejoin: miter\"/>\n     <use xlink:href=\"#m6bae53431a\" x=\"758.194539\" y=\"244.317187\" style=\"fill: #6a6a6a; stroke: #6a6a6a; stroke-linejoin: miter\"/>\n     <use xlink:href=\"#m6bae53431a\" x=\"764.553849\" y=\"244.317187\" style=\"fill: #6a6a6a; stroke: #6a6a6a; stroke-linejoin: miter\"/>\n     <use xlink:href=\"#m6bae53431a\" x=\"843.220868\" y=\"244.317187\" style=\"fill: #6a6a6a; stroke: #6a6a6a; stroke-linejoin: miter\"/>\n     <use xlink:href=\"#m6bae53431a\" x=\"769.735509\" y=\"244.317187\" style=\"fill: #6a6a6a; stroke: #6a6a6a; stroke-linejoin: miter\"/>\n     <use xlink:href=\"#m6bae53431a\" x=\"771.384219\" y=\"244.317187\" style=\"fill: #6a6a6a; stroke: #6a6a6a; stroke-linejoin: miter\"/>\n     <use xlink:href=\"#m6bae53431a\" x=\"749.47993\" y=\"244.317187\" style=\"fill: #6a6a6a; stroke: #6a6a6a; stroke-linejoin: miter\"/>\n     <use xlink:href=\"#m6bae53431a\" x=\"755.603709\" y=\"244.317187\" style=\"fill: #6a6a6a; stroke: #6a6a6a; stroke-linejoin: miter\"/>\n     <use xlink:href=\"#m6bae53431a\" x=\"750.42205\" y=\"244.317187\" style=\"fill: #6a6a6a; stroke: #6a6a6a; stroke-linejoin: miter\"/>\n     <use xlink:href=\"#m6bae53431a\" x=\"778.685649\" y=\"244.317187\" style=\"fill: #6a6a6a; stroke: #6a6a6a; stroke-linejoin: miter\"/>\n     <use xlink:href=\"#m6bae53431a\" x=\"750.89311\" y=\"244.317187\" style=\"fill: #6a6a6a; stroke: #6a6a6a; stroke-linejoin: miter\"/>\n     <use xlink:href=\"#m6bae53431a\" x=\"769.028919\" y=\"244.317187\" style=\"fill: #6a6a6a; stroke: #6a6a6a; stroke-linejoin: miter\"/>\n     <use xlink:href=\"#m6bae53431a\" x=\"746.8891\" y=\"244.317187\" style=\"fill: #6a6a6a; stroke: #6a6a6a; stroke-linejoin: miter\"/>\n     <use xlink:href=\"#m6bae53431a\" x=\"754.190529\" y=\"244.317187\" style=\"fill: #6a6a6a; stroke: #6a6a6a; stroke-linejoin: miter\"/>\n     <use xlink:href=\"#m6bae53431a\" x=\"777.507999\" y=\"244.317187\" style=\"fill: #6a6a6a; stroke: #6a6a6a; stroke-linejoin: miter\"/>\n     <use xlink:href=\"#m6bae53431a\" x=\"772.797399\" y=\"244.317187\" style=\"fill: #6a6a6a; stroke: #6a6a6a; stroke-linejoin: miter\"/>\n     <use xlink:href=\"#m6bae53431a\" x=\"786.693669\" y=\"244.317187\" style=\"fill: #6a6a6a; stroke: #6a6a6a; stroke-linejoin: miter\"/>\n     <use xlink:href=\"#m6bae53431a\" x=\"818.490218\" y=\"244.317187\" style=\"fill: #6a6a6a; stroke: #6a6a6a; stroke-linejoin: miter\"/>\n     <use xlink:href=\"#m6bae53431a\" x=\"759.136659\" y=\"244.317187\" style=\"fill: #6a6a6a; stroke: #6a6a6a; stroke-linejoin: miter\"/>\n     <use xlink:href=\"#m6bae53431a\" x=\"763.376199\" y=\"244.317187\" style=\"fill: #6a6a6a; stroke: #6a6a6a; stroke-linejoin: miter\"/>\n     <use xlink:href=\"#m6bae53431a\" x=\"780.569889\" y=\"244.317187\" style=\"fill: #6a6a6a; stroke: #6a6a6a; stroke-linejoin: miter\"/>\n     <use xlink:href=\"#m6bae53431a\" x=\"770.442099\" y=\"244.317187\" style=\"fill: #6a6a6a; stroke: #6a6a6a; stroke-linejoin: miter\"/>\n     <use xlink:href=\"#m6bae53431a\" x=\"770.206569\" y=\"244.317187\" style=\"fill: #6a6a6a; stroke: #6a6a6a; stroke-linejoin: miter\"/>\n     <use xlink:href=\"#m6bae53431a\" x=\"769.499979\" y=\"244.317187\" style=\"fill: #6a6a6a; stroke: #6a6a6a; stroke-linejoin: miter\"/>\n     <use xlink:href=\"#m6bae53431a\" x=\"837.332618\" y=\"244.317187\" style=\"fill: #6a6a6a; stroke: #6a6a6a; stroke-linejoin: miter\"/>\n     <use xlink:href=\"#m6bae53431a\" x=\"813.073028\" y=\"244.317187\" style=\"fill: #6a6a6a; stroke: #6a6a6a; stroke-linejoin: miter\"/>\n     <use xlink:href=\"#m6bae53431a\" x=\"763.376199\" y=\"244.317187\" style=\"fill: #6a6a6a; stroke: #6a6a6a; stroke-linejoin: miter\"/>\n     <use xlink:href=\"#m6bae53431a\" x=\"785.280489\" y=\"244.317187\" style=\"fill: #6a6a6a; stroke: #6a6a6a; stroke-linejoin: miter\"/>\n     <use xlink:href=\"#m6bae53431a\" x=\"764.553849\" y=\"244.317187\" style=\"fill: #6a6a6a; stroke: #6a6a6a; stroke-linejoin: miter\"/>\n     <use xlink:href=\"#m6bae53431a\" x=\"783.160719\" y=\"244.317187\" style=\"fill: #6a6a6a; stroke: #6a6a6a; stroke-linejoin: miter\"/>\n     <use xlink:href=\"#m6bae53431a\" x=\"772.326339\" y=\"244.317187\" style=\"fill: #6a6a6a; stroke: #6a6a6a; stroke-linejoin: miter\"/>\n     <use xlink:href=\"#m6bae53431a\" x=\"883.967557\" y=\"244.317187\" style=\"fill: #6a6a6a; stroke: #6a6a6a; stroke-linejoin: miter\"/>\n     <use xlink:href=\"#m6bae53431a\" x=\"765.731499\" y=\"244.317187\" style=\"fill: #6a6a6a; stroke: #6a6a6a; stroke-linejoin: miter\"/>\n    </g>\n   </g>\n   <g id=\"line2d_15\">\n    <path d=\"M 426.568306 70.365187 \nL 426.568306 418.269187 \n\" clip-path=\"url(#p794399298d)\" style=\"fill: none; stroke: #6a6a6a; stroke-width: 1.5; stroke-linecap: square\"/>\n   </g>\n   <g id=\"patch_4\">\n    <path d=\"M 31.749375 461.757187 \nL 31.749375 26.877187 \n\" style=\"fill: none; stroke: #ffffff; stroke-width: 0.8; stroke-linejoin: miter; stroke-linecap: square\"/>\n   </g>\n   <g id=\"patch_5\">\n    <path d=\"M 924.549375 461.757187 \nL 924.549375 26.877187 \n\" style=\"fill: none; stroke: #ffffff; stroke-width: 0.8; stroke-linejoin: miter; stroke-linecap: square\"/>\n   </g>\n   <g id=\"patch_6\">\n    <path d=\"M 31.749375 461.757187 \nL 924.549375 461.757187 \n\" style=\"fill: none; stroke: #ffffff; stroke-width: 0.8; stroke-linejoin: miter; stroke-linecap: square\"/>\n   </g>\n   <g id=\"patch_7\">\n    <path d=\"M 31.749375 26.877187 \nL 924.549375 26.877187 \n\" style=\"fill: none; stroke: #ffffff; stroke-width: 0.8; stroke-linejoin: miter; stroke-linecap: square\"/>\n   </g>\n   <g id=\"text_11\">\n    <!-- Boxplot - Vendas Totais -->\n    <g style=\"fill: #ffffff\" transform=\"translate(374.020781 20.877187)scale(0.18 -0.18)\">\n     <defs>\n      <path id=\"DejaVuSans-42\" d=\"M 1259 2228 \nL 1259 519 \nL 2272 519 \nQ 2781 519 3026 730 \nQ 3272 941 3272 1375 \nQ 3272 1813 3026 2020 \nQ 2781 2228 2272 2228 \nL 1259 2228 \nz\nM 1259 4147 \nL 1259 2741 \nL 2194 2741 \nQ 2656 2741 2882 2914 \nQ 3109 3088 3109 3444 \nQ 3109 3797 2882 3972 \nQ 2656 4147 2194 4147 \nL 1259 4147 \nz\nM 628 4666 \nL 2241 4666 \nQ 2963 4666 3353 4366 \nQ 3744 4066 3744 3513 \nQ 3744 3084 3544 2831 \nQ 3344 2578 2956 2516 \nQ 3422 2416 3680 2098 \nQ 3938 1781 3938 1306 \nQ 3938 681 3513 340 \nQ 3088 0 2303 0 \nL 628 0 \nL 628 4666 \nz\n\" transform=\"scale(0.015625)\"/>\n      <path id=\"DejaVuSans-6f\" d=\"M 1959 3097 \nQ 1497 3097 1228 2736 \nQ 959 2375 959 1747 \nQ 959 1119 1226 758 \nQ 1494 397 1959 397 \nQ 2419 397 2687 759 \nQ 2956 1122 2956 1747 \nQ 2956 2369 2687 2733 \nQ 2419 3097 1959 3097 \nz\nM 1959 3584 \nQ 2709 3584 3137 3096 \nQ 3566 2609 3566 1747 \nQ 3566 888 3137 398 \nQ 2709 -91 1959 -91 \nQ 1206 -91 779 398 \nQ 353 888 353 1747 \nQ 353 2609 779 3096 \nQ 1206 3584 1959 3584 \nz\n\" transform=\"scale(0.015625)\"/>\n      <path id=\"DejaVuSans-78\" d=\"M 3513 3500 \nL 2247 1797 \nL 3578 0 \nL 2900 0 \nL 1881 1375 \nL 863 0 \nL 184 0 \nL 1544 1831 \nL 300 3500 \nL 978 3500 \nL 1906 2253 \nL 2834 3500 \nL 3513 3500 \nz\n\" transform=\"scale(0.015625)\"/>\n      <path id=\"DejaVuSans-70\" d=\"M 1159 525 \nL 1159 -1331 \nL 581 -1331 \nL 581 3500 \nL 1159 3500 \nL 1159 2969 \nQ 1341 3281 1617 3432 \nQ 1894 3584 2278 3584 \nQ 2916 3584 3314 3078 \nQ 3713 2572 3713 1747 \nQ 3713 922 3314 415 \nQ 2916 -91 2278 -91 \nQ 1894 -91 1617 61 \nQ 1341 213 1159 525 \nz\nM 3116 1747 \nQ 3116 2381 2855 2742 \nQ 2594 3103 2138 3103 \nQ 1681 3103 1420 2742 \nQ 1159 2381 1159 1747 \nQ 1159 1113 1420 752 \nQ 1681 391 2138 391 \nQ 2594 391 2855 752 \nQ 3116 1113 3116 1747 \nz\n\" transform=\"scale(0.015625)\"/>\n      <path id=\"DejaVuSans-6c\" d=\"M 603 4863 \nL 1178 4863 \nL 1178 0 \nL 603 0 \nL 603 4863 \nz\n\" transform=\"scale(0.015625)\"/>\n      <path id=\"DejaVuSans-74\" d=\"M 1172 4494 \nL 1172 3500 \nL 2356 3500 \nL 2356 3053 \nL 1172 3053 \nL 1172 1153 \nQ 1172 725 1289 603 \nQ 1406 481 1766 481 \nL 2356 481 \nL 2356 0 \nL 1766 0 \nQ 1100 0 847 248 \nQ 594 497 594 1153 \nL 594 3053 \nL 172 3053 \nL 172 3500 \nL 594 3500 \nL 594 4494 \nL 1172 4494 \nz\n\" transform=\"scale(0.015625)\"/>\n      <path id=\"DejaVuSans-20\" transform=\"scale(0.015625)\"/>\n      <path id=\"DejaVuSans-2d\" d=\"M 313 2009 \nL 1997 2009 \nL 1997 1497 \nL 313 1497 \nL 313 2009 \nz\n\" transform=\"scale(0.015625)\"/>\n      <path id=\"DejaVuSans-54\" d=\"M -19 4666 \nL 3928 4666 \nL 3928 4134 \nL 2272 4134 \nL 2272 0 \nL 1638 0 \nL 1638 4134 \nL -19 4134 \nL -19 4666 \nz\n\" transform=\"scale(0.015625)\"/>\n     </defs>\n     <use xlink:href=\"#DejaVuSans-42\"/>\n     <use xlink:href=\"#DejaVuSans-6f\" x=\"68.603516\"/>\n     <use xlink:href=\"#DejaVuSans-78\" x=\"126.660156\"/>\n     <use xlink:href=\"#DejaVuSans-70\" x=\"185.839844\"/>\n     <use xlink:href=\"#DejaVuSans-6c\" x=\"249.316406\"/>\n     <use xlink:href=\"#DejaVuSans-6f\" x=\"277.099609\"/>\n     <use xlink:href=\"#DejaVuSans-74\" x=\"338.28125\"/>\n     <use xlink:href=\"#DejaVuSans-20\" x=\"377.490234\"/>\n     <use xlink:href=\"#DejaVuSans-2d\" x=\"409.277344\"/>\n     <use xlink:href=\"#DejaVuSans-20\" x=\"445.361328\"/>\n     <use xlink:href=\"#DejaVuSans-56\" x=\"477.148438\"/>\n     <use xlink:href=\"#DejaVuSans-65\" x=\"537.806641\"/>\n     <use xlink:href=\"#DejaVuSans-6e\" x=\"599.330078\"/>\n     <use xlink:href=\"#DejaVuSans-64\" x=\"662.708984\"/>\n     <use xlink:href=\"#DejaVuSans-61\" x=\"726.185547\"/>\n     <use xlink:href=\"#DejaVuSans-73\" x=\"787.464844\"/>\n     <use xlink:href=\"#DejaVuSans-20\" x=\"839.564453\"/>\n     <use xlink:href=\"#DejaVuSans-54\" x=\"871.351562\"/>\n     <use xlink:href=\"#DejaVuSans-6f\" x=\"915.435547\"/>\n     <use xlink:href=\"#DejaVuSans-74\" x=\"976.617188\"/>\n     <use xlink:href=\"#DejaVuSans-61\" x=\"1015.826172\"/>\n     <use xlink:href=\"#DejaVuSans-69\" x=\"1077.105469\"/>\n     <use xlink:href=\"#DejaVuSans-73\" x=\"1104.888672\"/>\n    </g>\n   </g>\n  </g>\n </g>\n <defs>\n  <clipPath id=\"p794399298d\">\n   <rect x=\"31.749375\" y=\"26.877187\" width=\"892.8\" height=\"434.88\"/>\n  </clipPath>\n </defs>\n</svg>\n",
            "text/plain": [
              "<Figure size 1152x576 with 1 Axes>"
            ]
          },
          "metadata": {},
          "output_type": "display_data"
        }
      ],
      "source": [
        "g1 = sns.boxplot(dados.Vendas)\n",
        "g1.figure.set_size_inches(16,8)\n",
        "g1.set_title('Boxplot - Vendas Totais', fontsize = 18)\n",
        "g1.set_ylabel('Densidade', fontsize = 14)"
      ]
    },
    {
      "cell_type": "markdown",
      "metadata": {
        "id": "7_3py0N_K9au"
      },
      "source": [
        "### **<font>Item b</font>**<br>informações de Vendas e Ano dos veículos"
      ]
    },
    {
      "cell_type": "code",
      "execution_count": null,
      "metadata": {
        "id": "jW4Lz5OBK9au",
        "outputId": "5ef43bf7-1d9a-42fe-fbb8-115564596014"
      },
      "outputs": [
        {
          "data": {
            "text/plain": [
              "Text(0, 0.5, 'Densidade')"
            ]
          },
          "execution_count": 49,
          "metadata": {},
          "output_type": "execute_result"
        },
        {
          "data": {
            "image/png": "[encoded data removed]",
            "image/svg+xml": "<?xml version=\"1.0\" encoding=\"utf-8\" standalone=\"no\"?>\n<!DOCTYPE svg PUBLIC \"-//W3C//DTD SVG 1.1//EN\"\n  \"http://www.w3.org/Graphics/SVG/1.1/DTD/svg11.dtd\">\n<svg xmlns:xlink=\"http://www.w3.org/1999/xlink\" width=\"1180.399375pt\" height=\"608.033437pt\" viewBox=\"0 0 1180.399375 608.033437\" xmlns=\"http://www.w3.org/2000/svg\" version=\"1.1\">\n <metadata>\n  <rdf:RDF xmlns:dc=\"http://purl.org/dc/elements/1.1/\" xmlns:cc=\"http://creativecommons.org/ns#\" xmlns:rdf=\"http://www.w3.org/1999/02/22-rdf-syntax-ns#\">\n   <cc:Work>\n    <dc:type rdf:resource=\"http://purl.org/dc/dcmitype/StillImage\"/>\n    <dc:date>2022-10-17T20:02:28.316032</dc:date>\n    <dc:format>image/svg+xml</dc:format>\n    <dc:creator>\n     <cc:Agent>\n      <dc:title>Matplotlib v3.5.1, https://matplotlib.org/</dc:title>\n     </cc:Agent>\n    </dc:creator>\n   </cc:Work>\n  </rdf:RDF>\n </metadata>\n <defs>\n  <style type=\"text/css\">*{stroke-linejoin: round; stroke-linecap: butt}</style>\n </defs>\n <g id=\"figure_1\">\n  <g id=\"patch_1\">\n   <path d=\"M 0 608.033437 \nL 1180.399375 608.033437 \nL 1180.399375 0 \nL 0 0 \nz\n\"/>\n  </g>\n  <g id=\"axes_1\">\n   <g id=\"patch_2\">\n    <path d=\"M 57.199375 570.477187 \nL 1173.199375 570.477187 \nL 1173.199375 26.877187 \nL 57.199375 26.877187 \nz\n\"/>\n   </g>\n   <g id=\"patch_3\">\n    <path d=\"M 445.17616 28.307714 \nL 445.17616 39.751924 \nL 635.072218 39.751924 \nL 635.072218 28.307714 \nL 445.17616 28.307714 \nz\n\" clip-path=\"url(#p4bd4d4df97)\" style=\"fill: #ea96a3; stroke: #454545; stroke-width: 1.5; stroke-linejoin: miter\"/>\n   </g>\n   <g id=\"patch_4\">\n    <path d=\"M 439.140704 42.612977 \nL 439.140704 54.057187 \nL 647.879162 54.057187 \nL 647.879162 42.612977 \nL 439.140704 42.612977 \nz\n\" clip-path=\"url(#p4bd4d4df97)\" style=\"fill: #ea9796; stroke: #454545; stroke-width: 1.5; stroke-linejoin: miter\"/>\n   </g>\n   <g id=\"patch_5\">\n    <path d=\"M 422.506398 56.91824 \nL 422.506398 68.362451 \nL 646.922321 68.362451 \nL 646.922321 56.91824 \nL 422.506398 56.91824 \nz\n\" clip-path=\"url(#p4bd4d4df97)\" style=\"fill: #e79680; stroke: #454545; stroke-width: 1.5; stroke-linejoin: miter\"/>\n   </g>\n   <g id=\"patch_6\">\n    <path d=\"M 463.503337 71.223503 \nL 463.503337 82.667714 \nL 645.891878 82.667714 \nL 645.891878 71.223503 \nL 463.503337 71.223503 \nz\n\" clip-path=\"url(#p4bd4d4df97)\" style=\"fill: #e2925d; stroke: #454545; stroke-width: 1.5; stroke-linejoin: miter\"/>\n   </g>\n   <g id=\"patch_7\">\n    <path d=\"M 462.546497 85.528766 \nL 462.546497 96.972977 \nL 649.940049 96.972977 \nL 649.940049 85.528766 \nL 462.546497 85.528766 \nz\n\" clip-path=\"url(#p4bd4d4df97)\" style=\"fill: #d4954d; stroke: #454545; stroke-width: 1.5; stroke-linejoin: miter\"/>\n   </g>\n   <g id=\"patch_8\">\n    <path d=\"M 428.836266 99.83403 \nL 428.836266 111.27824 \nL 619.026737 111.27824 \nL 619.026737 99.83403 \nL 428.836266 99.83403 \nz\n\" clip-path=\"url(#p4bd4d4df97)\" style=\"fill: #c7984b; stroke: #454545; stroke-width: 1.5; stroke-linejoin: miter\"/>\n   </g>\n   <g id=\"patch_9\">\n    <path d=\"M 438.11026 114.139293 \nL 438.11026 125.583503 \nL 641.622896 125.583503 \nL 641.622896 114.139293 \nL 438.11026 114.139293 \nz\n\" clip-path=\"url(#p4bd4d4df97)\" style=\"fill: #bc9b4a; stroke: #454545; stroke-width: 1.5; stroke-linejoin: miter\"/>\n   </g>\n   <g id=\"patch_10\">\n    <path d=\"M 461.810466 128.444556 \nL 461.810466 139.888766 \nL 634.041775 139.888766 \nL 634.041775 128.444556 \nL 461.810466 128.444556 \nz\n\" clip-path=\"url(#p4bd4d4df97)\" style=\"fill: #b29d48; stroke: #454545; stroke-width: 1.5; stroke-linejoin: miter\"/>\n   </g>\n   <g id=\"patch_11\">\n    <path d=\"M 460.117594 142.749819 \nL 460.117594 154.19403 \nL 659.14044 154.19403 \nL 659.14044 142.749819 \nL 460.117594 142.749819 \nz\n\" clip-path=\"url(#p4bd4d4df97)\" style=\"fill: #a79e46; stroke: #454545; stroke-width: 1.5; stroke-linejoin: miter\"/>\n   </g>\n   <g id=\"patch_12\">\n    <path d=\"M 439.803132 157.055082 \nL 439.803132 168.499293 \nL 663.924643 168.499293 \nL 663.924643 157.055082 \nL 439.803132 157.055082 \nz\n\" clip-path=\"url(#p4bd4d4df97)\" style=\"fill: #9da045; stroke: #454545; stroke-width: 1.5; stroke-linejoin: miter\"/>\n   </g>\n   <g id=\"patch_13\">\n    <path d=\"M 446.942635 171.360345 \nL 446.942635 182.804556 \nL 644.051799 182.804556 \nL 644.051799 171.360345 \nL 446.942635 171.360345 \nz\n\" clip-path=\"url(#p4bd4d4df97)\" style=\"fill: #92a446; stroke: #454545; stroke-width: 1.5; stroke-linejoin: miter\"/>\n   </g>\n   <g id=\"patch_14\">\n    <path d=\"M 417.648591 185.665609 \nL 417.648591 197.109819 \nL 649.498431 197.109819 \nL 649.498431 185.665609 \nL 417.648591 185.665609 \nz\n\" clip-path=\"url(#p4bd4d4df97)\" style=\"fill: #86a746; stroke: #454545; stroke-width: 1.5; stroke-linejoin: miter\"/>\n   </g>\n   <g id=\"patch_15\">\n    <path d=\"M 450.549188 199.970872 \nL 450.549188 211.415082 \nL 654.356237 211.415082 \nL 654.356237 199.970872 \nL 450.549188 199.970872 \nz\n\" clip-path=\"url(#p4bd4d4df97)\" style=\"fill: #73ab47; stroke: #454545; stroke-width: 1.5; stroke-linejoin: miter\"/>\n   </g>\n   <g id=\"patch_16\">\n    <path d=\"M 440.023941 214.276135 \nL 440.023941 225.720345 \nL 646.112687 225.720345 \nL 646.112687 214.276135 \nL 440.023941 214.276135 \nz\n\" clip-path=\"url(#p4bd4d4df97)\" style=\"fill: #51b047; stroke: #454545; stroke-width: 1.5; stroke-linejoin: miter\"/>\n   </g>\n   <g id=\"patch_17\">\n    <path d=\"M 458.277516 228.581398 \nL 458.277516 240.025609 \nL 659.950074 240.025609 \nL 659.950074 228.581398 \nL 458.277516 228.581398 \nz\n\" clip-path=\"url(#p4bd4d4df97)\" style=\"fill: #48af6c; stroke: #454545; stroke-width: 1.5; stroke-linejoin: miter\"/>\n   </g>\n   <g id=\"patch_18\">\n    <path d=\"M 446.501016 242.886661 \nL 446.501016 254.330872 \nL 642.726943 254.330872 \nL 642.726943 242.886661 \nL 446.501016 242.886661 \nz\n\" clip-path=\"url(#p4bd4d4df97)\" style=\"fill: #49ae80; stroke: #454545; stroke-width: 1.5; stroke-linejoin: miter\"/>\n   </g>\n   <g id=\"patch_19\">\n    <path d=\"M 457.467881 257.191924 \nL 457.467881 268.636135 \nL 647.437543 268.636135 \nL 647.437543 257.191924 \nL 457.467881 257.191924 \nz\n\" clip-path=\"url(#p4bd4d4df97)\" style=\"fill: #4aad8c; stroke: #454545; stroke-width: 1.5; stroke-linejoin: miter\"/>\n   </g>\n   <g id=\"patch_20\">\n    <path d=\"M 458.424722 271.497187 \nL 458.424722 282.941398 \nL 652.000937 282.941398 \nL 652.000937 271.497187 \nL 458.424722 271.497187 \nz\n\" clip-path=\"url(#p4bd4d4df97)\" style=\"fill: #4aad96; stroke: #454545; stroke-width: 1.5; stroke-linejoin: miter\"/>\n   </g>\n   <g id=\"patch_21\">\n    <path d=\"M 466.300256 285.802451 \nL 466.300256 297.246661 \nL 658.993233 297.246661 \nL 658.993233 285.802451 \nL 466.300256 285.802451 \nz\n\" clip-path=\"url(#p4bd4d4df97)\" style=\"fill: #4bac9d; stroke: #454545; stroke-width: 1.5; stroke-linejoin: miter\"/>\n   </g>\n   <g id=\"patch_22\">\n    <path d=\"M 455.112581 300.107714 \nL 455.112581 311.551924 \nL 654.061824 311.551924 \nL 654.061824 300.107714 \nL 455.112581 300.107714 \nz\n\" clip-path=\"url(#p4bd4d4df97)\" style=\"fill: #4baba4; stroke: #454545; stroke-width: 1.5; stroke-linejoin: miter\"/>\n   </g>\n   <g id=\"patch_23\">\n    <path d=\"M 450.033966 314.412977 \nL 450.033966 325.857187 \nL 651.706524 325.857187 \nL 651.706524 314.412977 \nL 450.033966 314.412977 \nz\n\" clip-path=\"url(#p4bd4d4df97)\" style=\"fill: #4baaab; stroke: #454545; stroke-width: 1.5; stroke-linejoin: miter\"/>\n   </g>\n   <g id=\"patch_24\">\n    <path d=\"M 440.612766 328.71824 \nL 440.612766 340.162451 \nL 646.480702 340.162451 \nL 646.480702 328.71824 \nL 440.612766 328.71824 \nz\n\" clip-path=\"url(#p4bd4d4df97)\" style=\"fill: #4dabb3; stroke: #454545; stroke-width: 1.5; stroke-linejoin: miter\"/>\n   </g>\n   <g id=\"patch_25\">\n    <path d=\"M 452.683678 343.023503 \nL 452.683678 354.467714 \nL 653.178587 354.467714 \nL 653.178587 343.023503 \nL 452.683678 343.023503 \nz\n\" clip-path=\"url(#p4bd4d4df97)\" style=\"fill: #4fabbb; stroke: #454545; stroke-width: 1.5; stroke-linejoin: miter\"/>\n   </g>\n   <g id=\"patch_26\">\n    <path d=\"M 463.871353 357.328766 \nL 463.871353 368.772977 \nL 650.528874 368.772977 \nL 650.528874 357.328766 \nL 463.871353 357.328766 \nz\n\" clip-path=\"url(#p4bd4d4df97)\" style=\"fill: #51acc5; stroke: #454545; stroke-width: 1.5; stroke-linejoin: miter\"/>\n   </g>\n   <g id=\"patch_27\">\n    <path d=\"M 461.810466 371.63403 \nL 461.810466 383.07824 \nL 657.079552 383.07824 \nL 657.079552 371.63403 \nL 461.810466 371.63403 \nz\n\" clip-path=\"url(#p4bd4d4df97)\" style=\"fill: #54acd1; stroke: #454545; stroke-width: 1.5; stroke-linejoin: miter\"/>\n   </g>\n   <g id=\"patch_28\">\n    <path d=\"M 447.384253 385.939293 \nL 447.384253 397.383503 \nL 648.173574 397.383503 \nL 648.173574 385.939293 \nL 447.384253 385.939293 \nz\n\" clip-path=\"url(#p4bd4d4df97)\" style=\"fill: #5cade0; stroke: #454545; stroke-width: 1.5; stroke-linejoin: miter\"/>\n   </g>\n   <g id=\"patch_29\">\n    <path d=\"M 446.648222 400.244556 \nL 446.648222 411.688766 \nL 651.264906 411.688766 \nL 651.264906 400.244556 \nL 446.648222 400.244556 \nz\n\" clip-path=\"url(#p4bd4d4df97)\" style=\"fill: #84aee6; stroke: #454545; stroke-width: 1.5; stroke-linejoin: miter\"/>\n   </g>\n   <g id=\"patch_30\">\n    <path d=\"M 452.978091 414.549819 \nL 452.978091 425.99403 \nL 653.472999 425.99403 \nL 653.472999 414.549819 \nL 452.978091 414.549819 \nz\n\" clip-path=\"url(#p4bd4d4df97)\" style=\"fill: #9dade9; stroke: #454545; stroke-width: 1.5; stroke-linejoin: miter\"/>\n   </g>\n   <g id=\"patch_31\">\n    <path d=\"M 449.445141 428.855082 \nL 449.445141 440.299293 \nL 658.478012 440.299293 \nL 658.478012 428.855082 \nL 449.445141 428.855082 \nz\n\" clip-path=\"url(#p4bd4d4df97)\" style=\"fill: #afaaeb; stroke: #454545; stroke-width: 1.5; stroke-linejoin: miter\"/>\n   </g>\n   <g id=\"patch_32\">\n    <path d=\"M 454.744566 443.160345 \nL 454.744566 454.604556 \nL 646.701512 454.604556 \nL 646.701512 443.160345 \nL 454.744566 443.160345 \nz\n\" clip-path=\"url(#p4bd4d4df97)\" style=\"fill: #bda5ea; stroke: #454545; stroke-width: 1.5; stroke-linejoin: miter\"/>\n   </g>\n   <g id=\"patch_33\">\n    <path d=\"M 456.805453 457.465609 \nL 456.805453 468.909819 \nL 655.828299 468.909819 \nL 655.828299 457.465609 \nL 456.805453 457.465609 \nz\n\" clip-path=\"url(#p4bd4d4df97)\" style=\"fill: #c99ee9; stroke: #454545; stroke-width: 1.5; stroke-linejoin: miter\"/>\n   </g>\n   <g id=\"patch_34\">\n    <path d=\"M 456.658247 471.770872 \nL 456.658247 483.215082 \nL 648.836002 483.215082 \nL 648.836002 471.770872 \nL 456.658247 471.770872 \nz\n\" clip-path=\"url(#p4bd4d4df97)\" style=\"fill: #d696e8; stroke: #454545; stroke-width: 1.5; stroke-linejoin: miter\"/>\n   </g>\n   <g id=\"patch_35\">\n    <path d=\"M 447.384253 486.076135 \nL 447.384253 497.520345 \nL 645.523862 497.520345 \nL 645.523862 486.076135 \nL 447.384253 486.076135 \nz\n\" clip-path=\"url(#p4bd4d4df97)\" style=\"fill: #e38be7; stroke: #454545; stroke-width: 1.5; stroke-linejoin: miter\"/>\n   </g>\n   <g id=\"patch_36\">\n    <path d=\"M 460.632816 500.381398 \nL 460.632816 511.825609 \nL 652.589762 511.825609 \nL 652.589762 500.381398 \nL 460.632816 500.381398 \nz\n\" clip-path=\"url(#p4bd4d4df97)\" style=\"fill: #e78bdb; stroke: #454545; stroke-width: 1.5; stroke-linejoin: miter\"/>\n   </g>\n   <g id=\"patch_37\">\n    <path d=\"M 453.714122 514.686661 \nL 453.714122 526.130872 \nL 652.442555 526.130872 \nL 652.442555 514.686661 \nL 453.714122 514.686661 \nz\n\" clip-path=\"url(#p4bd4d4df97)\" style=\"fill: #e88ecf; stroke: #454545; stroke-width: 1.5; stroke-linejoin: miter\"/>\n   </g>\n   <g id=\"patch_38\">\n    <path d=\"M 445.691382 528.991924 \nL 445.691382 540.436135 \nL 640.813262 540.436135 \nL 640.813262 528.991924 \nL 445.691382 528.991924 \nz\n\" clip-path=\"url(#p4bd4d4df97)\" style=\"fill: #e890c4; stroke: #454545; stroke-width: 1.5; stroke-linejoin: miter\"/>\n   </g>\n   <g id=\"patch_39\">\n    <path d=\"M 458.571928 543.297187 \nL 458.571928 554.741398 \nL 656.049109 554.741398 \nL 656.049109 543.297187 \nL 458.571928 543.297187 \nz\n\" clip-path=\"url(#p4bd4d4df97)\" style=\"fill: #e992ba; stroke: #454545; stroke-width: 1.5; stroke-linejoin: miter\"/>\n   </g>\n   <g id=\"patch_40\">\n    <path d=\"M 455.186184 557.602451 \nL 455.186184 569.046661 \nL 651.559318 569.046661 \nL 651.559318 557.602451 \nL 455.186184 557.602451 \nz\n\" clip-path=\"url(#p4bd4d4df97)\" style=\"fill: #e994b0; stroke: #454545; stroke-width: 1.5; stroke-linejoin: miter\"/>\n   </g>\n   <g id=\"matplotlib.axis_1\">\n    <g id=\"xtick_1\">\n     <g id=\"line2d_1\">\n      <defs>\n       <path id=\"mc35aa4d765\" d=\"M 0 0 \nL 0 3.5 \n\" style=\"stroke: #ffffff; stroke-width: 0.8\"/>\n      </defs>\n      <g>\n       <use xlink:href=\"#mc35aa4d765\" x=\"107.926648\" y=\"570.477187\" style=\"fill: #ffffff; stroke: #ffffff; stroke-width: 0.8\"/>\n      </g>\n     </g>\n     <g id=\"text_1\">\n      <!-- 0 -->\n      <g style=\"fill: #ffffff\" transform=\"translate(104.745398 585.075625)scale(0.1 -0.1)\">\n       <defs>\n        <path id=\"DejaVuSans-30\" d=\"M 2034 4250 \nQ 1547 4250 1301 3770 \nQ 1056 3291 1056 2328 \nQ 1056 1369 1301 889 \nQ 1547 409 2034 409 \nQ 2525 409 2770 889 \nQ 3016 1369 3016 2328 \nQ 3016 3291 2770 3770 \nQ 2525 4250 2034 4250 \nz\nM 2034 4750 \nQ 2819 4750 3233 4129 \nQ 3647 3509 3647 2328 \nQ 3647 1150 3233 529 \nQ 2819 -91 2034 -91 \nQ 1250 -91 836 529 \nQ 422 1150 422 2328 \nQ 422 3509 836 4129 \nQ 1250 4750 2034 4750 \nz\n\" transform=\"scale(0.015625)\"/>\n       </defs>\n       <use xlink:href=\"#DejaVuSans-30\"/>\n      </g>\n     </g>\n    </g>\n    <g id=\"xtick_2\">\n     <g id=\"line2d_2\">\n      <g>\n       <use xlink:href=\"#mc35aa4d765\" x=\"255.132895\" y=\"570.477187\" style=\"fill: #ffffff; stroke: #ffffff; stroke-width: 0.8\"/>\n      </g>\n     </g>\n     <g id=\"text_2\">\n      <!-- 500 -->\n      <g style=\"fill: #ffffff\" transform=\"translate(245.589145 585.075625)scale(0.1 -0.1)\">\n       <defs>\n        <path id=\"DejaVuSans-35\" d=\"M 691 4666 \nL 3169 4666 \nL 3169 4134 \nL 1269 4134 \nL 1269 2991 \nQ 1406 3038 1543 3061 \nQ 1681 3084 1819 3084 \nQ 2600 3084 3056 2656 \nQ 3513 2228 3513 1497 \nQ 3513 744 3044 326 \nQ 2575 -91 1722 -91 \nQ 1428 -91 1123 -41 \nQ 819 9 494 109 \nL 494 744 \nQ 775 591 1075 516 \nQ 1375 441 1709 441 \nQ 2250 441 2565 725 \nQ 2881 1009 2881 1497 \nQ 2881 1984 2565 2268 \nQ 2250 2553 1709 2553 \nQ 1456 2553 1204 2497 \nQ 953 2441 691 2322 \nL 691 4666 \nz\n\" transform=\"scale(0.015625)\"/>\n       </defs>\n       <use xlink:href=\"#DejaVuSans-35\"/>\n       <use xlink:href=\"#DejaVuSans-30\" x=\"63.623047\"/>\n       <use xlink:href=\"#DejaVuSans-30\" x=\"127.246094\"/>\n      </g>\n     </g>\n    </g>\n    <g id=\"xtick_3\">\n     <g id=\"line2d_3\">\n      <g>\n       <use xlink:href=\"#mc35aa4d765\" x=\"402.339142\" y=\"570.477187\" style=\"fill: #ffffff; stroke: #ffffff; stroke-width: 0.8\"/>\n      </g>\n     </g>\n     <g id=\"text_3\">\n      <!-- 1000 -->\n      <g style=\"fill: #ffffff\" transform=\"translate(389.614142 585.075625)scale(0.1 -0.1)\">\n       <defs>\n        <path id=\"DejaVuSans-31\" d=\"M 794 531 \nL 1825 531 \nL 1825 4091 \nL 703 3866 \nL 703 4441 \nL 1819 4666 \nL 2450 4666 \nL 2450 531 \nL 3481 531 \nL 3481 0 \nL 794 0 \nL 794 531 \nz\n\" transform=\"scale(0.015625)\"/>\n       </defs>\n       <use xlink:href=\"#DejaVuSans-31\"/>\n       <use xlink:href=\"#DejaVuSans-30\" x=\"63.623047\"/>\n       <use xlink:href=\"#DejaVuSans-30\" x=\"127.246094\"/>\n       <use xlink:href=\"#DejaVuSans-30\" x=\"190.869141\"/>\n      </g>\n     </g>\n    </g>\n    <g id=\"xtick_4\">\n     <g id=\"line2d_4\">\n      <g>\n       <use xlink:href=\"#mc35aa4d765\" x=\"549.545389\" y=\"570.477187\" style=\"fill: #ffffff; stroke: #ffffff; stroke-width: 0.8\"/>\n      </g>\n     </g>\n     <g id=\"text_4\">\n      <!-- 1500 -->\n      <g style=\"fill: #ffffff\" transform=\"translate(536.820389 585.075625)scale(0.1 -0.1)\">\n       <use xlink:href=\"#DejaVuSans-31\"/>\n       <use xlink:href=\"#DejaVuSans-35\" x=\"63.623047\"/>\n       <use xlink:href=\"#DejaVuSans-30\" x=\"127.246094\"/>\n       <use xlink:href=\"#DejaVuSans-30\" x=\"190.869141\"/>\n      </g>\n     </g>\n    </g>\n    <g id=\"xtick_5\">\n     <g id=\"line2d_5\">\n      <g>\n       <use xlink:href=\"#mc35aa4d765\" x=\"696.751636\" y=\"570.477187\" style=\"fill: #ffffff; stroke: #ffffff; stroke-width: 0.8\"/>\n      </g>\n     </g>\n     <g id=\"text_5\">\n      <!-- 2000 -->\n      <g style=\"fill: #ffffff\" transform=\"translate(684.026636 585.075625)scale(0.1 -0.1)\">\n       <defs>\n        <path id=\"DejaVuSans-32\" d=\"M 1228 531 \nL 3431 531 \nL 3431 0 \nL 469 0 \nL 469 531 \nQ 828 903 1448 1529 \nQ 2069 2156 2228 2338 \nQ 2531 2678 2651 2914 \nQ 2772 3150 2772 3378 \nQ 2772 3750 2511 3984 \nQ 2250 4219 1831 4219 \nQ 1534 4219 1204 4116 \nQ 875 4013 500 3803 \nL 500 4441 \nQ 881 4594 1212 4672 \nQ 1544 4750 1819 4750 \nQ 2544 4750 2975 4387 \nQ 3406 4025 3406 3419 \nQ 3406 3131 3298 2873 \nQ 3191 2616 2906 2266 \nQ 2828 2175 2409 1742 \nQ 1991 1309 1228 531 \nz\n\" transform=\"scale(0.015625)\"/>\n       </defs>\n       <use xlink:href=\"#DejaVuSans-32\"/>\n       <use xlink:href=\"#DejaVuSans-30\" x=\"63.623047\"/>\n       <use xlink:href=\"#DejaVuSans-30\" x=\"127.246094\"/>\n       <use xlink:href=\"#DejaVuSans-30\" x=\"190.869141\"/>\n      </g>\n     </g>\n    </g>\n    <g id=\"xtick_6\">\n     <g id=\"line2d_6\">\n      <g>\n       <use xlink:href=\"#mc35aa4d765\" x=\"843.957883\" y=\"570.477187\" style=\"fill: #ffffff; stroke: #ffffff; stroke-width: 0.8\"/>\n      </g>\n     </g>\n     <g id=\"text_6\">\n      <!-- 2500 -->\n      <g style=\"fill: #ffffff\" transform=\"translate(831.232883 585.075625)scale(0.1 -0.1)\">\n       <use xlink:href=\"#DejaVuSans-32\"/>\n       <use xlink:href=\"#DejaVuSans-35\" x=\"63.623047\"/>\n       <use xlink:href=\"#DejaVuSans-30\" x=\"127.246094\"/>\n       <use xlink:href=\"#DejaVuSans-30\" x=\"190.869141\"/>\n      </g>\n     </g>\n    </g>\n    <g id=\"xtick_7\">\n     <g id=\"line2d_7\">\n      <g>\n       <use xlink:href=\"#mc35aa4d765\" x=\"991.16413\" y=\"570.477187\" style=\"fill: #ffffff; stroke: #ffffff; stroke-width: 0.8\"/>\n      </g>\n     </g>\n     <g id=\"text_7\">\n      <!-- 3000 -->\n      <g style=\"fill: #ffffff\" transform=\"translate(978.43913 585.075625)scale(0.1 -0.1)\">\n       <defs>\n        <path id=\"DejaVuSans-33\" d=\"M 2597 2516 \nQ 3050 2419 3304 2112 \nQ 3559 1806 3559 1356 \nQ 3559 666 3084 287 \nQ 2609 -91 1734 -91 \nQ 1441 -91 1130 -33 \nQ 819 25 488 141 \nL 488 750 \nQ 750 597 1062 519 \nQ 1375 441 1716 441 \nQ 2309 441 2620 675 \nQ 2931 909 2931 1356 \nQ 2931 1769 2642 2001 \nQ 2353 2234 1838 2234 \nL 1294 2234 \nL 1294 2753 \nL 1863 2753 \nQ 2328 2753 2575 2939 \nQ 2822 3125 2822 3475 \nQ 2822 3834 2567 4026 \nQ 2313 4219 1838 4219 \nQ 1578 4219 1281 4162 \nQ 984 4106 628 3988 \nL 628 4550 \nQ 988 4650 1302 4700 \nQ 1616 4750 1894 4750 \nQ 2613 4750 3031 4423 \nQ 3450 4097 3450 3541 \nQ 3450 3153 3228 2886 \nQ 3006 2619 2597 2516 \nz\n\" transform=\"scale(0.015625)\"/>\n       </defs>\n       <use xlink:href=\"#DejaVuSans-33\"/>\n       <use xlink:href=\"#DejaVuSans-30\" x=\"63.623047\"/>\n       <use xlink:href=\"#DejaVuSans-30\" x=\"127.246094\"/>\n       <use xlink:href=\"#DejaVuSans-30\" x=\"190.869141\"/>\n      </g>\n     </g>\n    </g>\n    <g id=\"xtick_8\">\n     <g id=\"line2d_8\">\n      <g>\n       <use xlink:href=\"#mc35aa4d765\" x=\"1138.370377\" y=\"570.477187\" style=\"fill: #ffffff; stroke: #ffffff; stroke-width: 0.8\"/>\n      </g>\n     </g>\n     <g id=\"text_8\">\n      <!-- 3500 -->\n      <g style=\"fill: #ffffff\" transform=\"translate(1125.645377 585.075625)scale(0.1 -0.1)\">\n       <use xlink:href=\"#DejaVuSans-33\"/>\n       <use xlink:href=\"#DejaVuSans-35\" x=\"63.623047\"/>\n       <use xlink:href=\"#DejaVuSans-30\" x=\"127.246094\"/>\n       <use xlink:href=\"#DejaVuSans-30\" x=\"190.869141\"/>\n      </g>\n     </g>\n    </g>\n    <g id=\"text_9\">\n     <!-- Vendas -->\n     <g style=\"fill: #ffffff\" transform=\"translate(597.078281 598.75375)scale(0.1 -0.1)\">\n      <defs>\n       <path id=\"DejaVuSans-56\" d=\"M 1831 0 \nL 50 4666 \nL 709 4666 \nL 2188 738 \nL 3669 4666 \nL 4325 4666 \nL 2547 0 \nL 1831 0 \nz\n\" transform=\"scale(0.015625)\"/>\n       <path id=\"DejaVuSans-65\" d=\"M 3597 1894 \nL 3597 1613 \nL 953 1613 \nQ 991 1019 1311 708 \nQ 1631 397 2203 397 \nQ 2534 397 2845 478 \nQ 3156 559 3463 722 \nL 3463 178 \nQ 3153 47 2828 -22 \nQ 2503 -91 2169 -91 \nQ 1331 -91 842 396 \nQ 353 884 353 1716 \nQ 353 2575 817 3079 \nQ 1281 3584 2069 3584 \nQ 2775 3584 3186 3129 \nQ 3597 2675 3597 1894 \nz\nM 3022 2063 \nQ 3016 2534 2758 2815 \nQ 2500 3097 2075 3097 \nQ 1594 3097 1305 2825 \nQ 1016 2553 972 2059 \nL 3022 2063 \nz\n\" transform=\"scale(0.015625)\"/>\n       <path id=\"DejaVuSans-6e\" d=\"M 3513 2113 \nL 3513 0 \nL 2938 0 \nL 2938 2094 \nQ 2938 2591 2744 2837 \nQ 2550 3084 2163 3084 \nQ 1697 3084 1428 2787 \nQ 1159 2491 1159 1978 \nL 1159 0 \nL 581 0 \nL 581 3500 \nL 1159 3500 \nL 1159 2956 \nQ 1366 3272 1645 3428 \nQ 1925 3584 2291 3584 \nQ 2894 3584 3203 3211 \nQ 3513 2838 3513 2113 \nz\n\" transform=\"scale(0.015625)\"/>\n       <path id=\"DejaVuSans-64\" d=\"M 2906 2969 \nL 2906 4863 \nL 3481 4863 \nL 3481 0 \nL 2906 0 \nL 2906 525 \nQ 2725 213 2448 61 \nQ 2172 -91 1784 -91 \nQ 1150 -91 751 415 \nQ 353 922 353 1747 \nQ 353 2572 751 3078 \nQ 1150 3584 1784 3584 \nQ 2172 3584 2448 3432 \nQ 2725 3281 2906 2969 \nz\nM 947 1747 \nQ 947 1113 1208 752 \nQ 1469 391 1925 391 \nQ 2381 391 2643 752 \nQ 2906 1113 2906 1747 \nQ 2906 2381 2643 2742 \nQ 2381 3103 1925 3103 \nQ 1469 3103 1208 2742 \nQ 947 2381 947 1747 \nz\n\" transform=\"scale(0.015625)\"/>\n       <path id=\"DejaVuSans-61\" d=\"M 2194 1759 \nQ 1497 1759 1228 1600 \nQ 959 1441 959 1056 \nQ 959 750 1161 570 \nQ 1363 391 1709 391 \nQ 2188 391 2477 730 \nQ 2766 1069 2766 1631 \nL 2766 1759 \nL 2194 1759 \nz\nM 3341 1997 \nL 3341 0 \nL 2766 0 \nL 2766 531 \nQ 2569 213 2275 61 \nQ 1981 -91 1556 -91 \nQ 1019 -91 701 211 \nQ 384 513 384 1019 \nQ 384 1609 779 1909 \nQ 1175 2209 1959 2209 \nL 2766 2209 \nL 2766 2266 \nQ 2766 2663 2505 2880 \nQ 2244 3097 1772 3097 \nQ 1472 3097 1187 3025 \nQ 903 2953 641 2809 \nL 641 3341 \nQ 956 3463 1253 3523 \nQ 1550 3584 1831 3584 \nQ 2591 3584 2966 3190 \nQ 3341 2797 3341 1997 \nz\n\" transform=\"scale(0.015625)\"/>\n       <path id=\"DejaVuSans-73\" d=\"M 2834 3397 \nL 2834 2853 \nQ 2591 2978 2328 3040 \nQ 2066 3103 1784 3103 \nQ 1356 3103 1142 2972 \nQ 928 2841 928 2578 \nQ 928 2378 1081 2264 \nQ 1234 2150 1697 2047 \nL 1894 2003 \nQ 2506 1872 2764 1633 \nQ 3022 1394 3022 966 \nQ 3022 478 2636 193 \nQ 2250 -91 1575 -91 \nQ 1294 -91 989 -36 \nQ 684 19 347 128 \nL 347 722 \nQ 666 556 975 473 \nQ 1284 391 1588 391 \nQ 1994 391 2212 530 \nQ 2431 669 2431 922 \nQ 2431 1156 2273 1281 \nQ 2116 1406 1581 1522 \nL 1381 1569 \nQ 847 1681 609 1914 \nQ 372 2147 372 2553 \nQ 372 3047 722 3315 \nQ 1072 3584 1716 3584 \nQ 2034 3584 2315 3537 \nQ 2597 3491 2834 3397 \nz\n\" transform=\"scale(0.015625)\"/>\n      </defs>\n      <use xlink:href=\"#DejaVuSans-56\"/>\n      <use xlink:href=\"#DejaVuSans-65\" x=\"60.658203\"/>\n      <use xlink:href=\"#DejaVuSans-6e\" x=\"122.181641\"/>\n      <use xlink:href=\"#DejaVuSans-64\" x=\"185.560547\"/>\n      <use xlink:href=\"#DejaVuSans-61\" x=\"249.037109\"/>\n      <use xlink:href=\"#DejaVuSans-73\" x=\"310.316406\"/>\n     </g>\n    </g>\n   </g>\n   <g id=\"matplotlib.axis_2\">\n    <g id=\"ytick_1\">\n     <g id=\"line2d_9\">\n      <defs>\n       <path id=\"mbeed849007\" d=\"M 0 0 \nL -3.5 0 \n\" style=\"stroke: #ffffff; stroke-width: 0.8\"/>\n      </defs>\n      <g>\n       <use xlink:href=\"#mbeed849007\" x=\"57.199375\" y=\"34.029819\" style=\"fill: #ffffff; stroke: #ffffff; stroke-width: 0.8\"/>\n      </g>\n     </g>\n     <g id=\"text_10\">\n      <!-- 1985 -->\n      <g style=\"fill: #ffffff\" transform=\"translate(24.749375 37.829038)scale(0.1 -0.1)\">\n       <defs>\n        <path id=\"DejaVuSans-39\" d=\"M 703 97 \nL 703 672 \nQ 941 559 1184 500 \nQ 1428 441 1663 441 \nQ 2288 441 2617 861 \nQ 2947 1281 2994 2138 \nQ 2813 1869 2534 1725 \nQ 2256 1581 1919 1581 \nQ 1219 1581 811 2004 \nQ 403 2428 403 3163 \nQ 403 3881 828 4315 \nQ 1253 4750 1959 4750 \nQ 2769 4750 3195 4129 \nQ 3622 3509 3622 2328 \nQ 3622 1225 3098 567 \nQ 2575 -91 1691 -91 \nQ 1453 -91 1209 -44 \nQ 966 3 703 97 \nz\nM 1959 2075 \nQ 2384 2075 2632 2365 \nQ 2881 2656 2881 3163 \nQ 2881 3666 2632 3958 \nQ 2384 4250 1959 4250 \nQ 1534 4250 1286 3958 \nQ 1038 3666 1038 3163 \nQ 1038 2656 1286 2365 \nQ 1534 2075 1959 2075 \nz\n\" transform=\"scale(0.015625)\"/>\n        <path id=\"DejaVuSans-38\" d=\"M 2034 2216 \nQ 1584 2216 1326 1975 \nQ 1069 1734 1069 1313 \nQ 1069 891 1326 650 \nQ 1584 409 2034 409 \nQ 2484 409 2743 651 \nQ 3003 894 3003 1313 \nQ 3003 1734 2745 1975 \nQ 2488 2216 2034 2216 \nz\nM 1403 2484 \nQ 997 2584 770 2862 \nQ 544 3141 544 3541 \nQ 544 4100 942 4425 \nQ 1341 4750 2034 4750 \nQ 2731 4750 3128 4425 \nQ 3525 4100 3525 3541 \nQ 3525 3141 3298 2862 \nQ 3072 2584 2669 2484 \nQ 3125 2378 3379 2068 \nQ 3634 1759 3634 1313 \nQ 3634 634 3220 271 \nQ 2806 -91 2034 -91 \nQ 1263 -91 848 271 \nQ 434 634 434 1313 \nQ 434 1759 690 2068 \nQ 947 2378 1403 2484 \nz\nM 1172 3481 \nQ 1172 3119 1398 2916 \nQ 1625 2713 2034 2713 \nQ 2441 2713 2670 2916 \nQ 2900 3119 2900 3481 \nQ 2900 3844 2670 4047 \nQ 2441 4250 2034 4250 \nQ 1625 4250 1398 4047 \nQ 1172 3844 1172 3481 \nz\n\" transform=\"scale(0.015625)\"/>\n       </defs>\n       <use xlink:href=\"#DejaVuSans-31\"/>\n       <use xlink:href=\"#DejaVuSans-39\" x=\"63.623047\"/>\n       <use xlink:href=\"#DejaVuSans-38\" x=\"127.246094\"/>\n       <use xlink:href=\"#DejaVuSans-35\" x=\"190.869141\"/>\n      </g>\n     </g>\n    </g>\n    <g id=\"ytick_2\">\n     <g id=\"line2d_10\">\n      <g>\n       <use xlink:href=\"#mbeed849007\" x=\"57.199375\" y=\"48.335082\" style=\"fill: #ffffff; stroke: #ffffff; stroke-width: 0.8\"/>\n      </g>\n     </g>\n     <g id=\"text_11\">\n      <!-- 1986 -->\n      <g style=\"fill: #ffffff\" transform=\"translate(24.749375 52.134301)scale(0.1 -0.1)\">\n       <defs>\n        <path id=\"DejaVuSans-36\" d=\"M 2113 2584 \nQ 1688 2584 1439 2293 \nQ 1191 2003 1191 1497 \nQ 1191 994 1439 701 \nQ 1688 409 2113 409 \nQ 2538 409 2786 701 \nQ 3034 994 3034 1497 \nQ 3034 2003 2786 2293 \nQ 2538 2584 2113 2584 \nz\nM 3366 4563 \nL 3366 3988 \nQ 3128 4100 2886 4159 \nQ 2644 4219 2406 4219 \nQ 1781 4219 1451 3797 \nQ 1122 3375 1075 2522 \nQ 1259 2794 1537 2939 \nQ 1816 3084 2150 3084 \nQ 2853 3084 3261 2657 \nQ 3669 2231 3669 1497 \nQ 3669 778 3244 343 \nQ 2819 -91 2113 -91 \nQ 1303 -91 875 529 \nQ 447 1150 447 2328 \nQ 447 3434 972 4092 \nQ 1497 4750 2381 4750 \nQ 2619 4750 2861 4703 \nQ 3103 4656 3366 4563 \nz\n\" transform=\"scale(0.015625)\"/>\n       </defs>\n       <use xlink:href=\"#DejaVuSans-31\"/>\n       <use xlink:href=\"#DejaVuSans-39\" x=\"63.623047\"/>\n       <use xlink:href=\"#DejaVuSans-38\" x=\"127.246094\"/>\n       <use xlink:href=\"#DejaVuSans-36\" x=\"190.869141\"/>\n      </g>\n     </g>\n    </g>\n    <g id=\"ytick_3\">\n     <g id=\"line2d_11\">\n      <g>\n       <use xlink:href=\"#mbeed849007\" x=\"57.199375\" y=\"62.640345\" style=\"fill: #ffffff; stroke: #ffffff; stroke-width: 0.8\"/>\n      </g>\n     </g>\n     <g id=\"text_12\">\n      <!-- 1987 -->\n      <g style=\"fill: #ffffff\" transform=\"translate(24.749375 66.439564)scale(0.1 -0.1)\">\n       <defs>\n        <path id=\"DejaVuSans-37\" d=\"M 525 4666 \nL 3525 4666 \nL 3525 4397 \nL 1831 0 \nL 1172 0 \nL 2766 4134 \nL 525 4134 \nL 525 4666 \nz\n\" transform=\"scale(0.015625)\"/>\n       </defs>\n       <use xlink:href=\"#DejaVuSans-31\"/>\n       <use xlink:href=\"#DejaVuSans-39\" x=\"63.623047\"/>\n       <use xlink:href=\"#DejaVuSans-38\" x=\"127.246094\"/>\n       <use xlink:href=\"#DejaVuSans-37\" x=\"190.869141\"/>\n      </g>\n     </g>\n    </g>\n    <g id=\"ytick_4\">\n     <g id=\"line2d_12\">\n      <g>\n       <use xlink:href=\"#mbeed849007\" x=\"57.199375\" y=\"76.945609\" style=\"fill: #ffffff; stroke: #ffffff; stroke-width: 0.8\"/>\n      </g>\n     </g>\n     <g id=\"text_13\">\n      <!-- 1988 -->\n      <g style=\"fill: #ffffff\" transform=\"translate(24.749375 80.744827)scale(0.1 -0.1)\">\n       <use xlink:href=\"#DejaVuSans-31\"/>\n       <use xlink:href=\"#DejaVuSans-39\" x=\"63.623047\"/>\n       <use xlink:href=\"#DejaVuSans-38\" x=\"127.246094\"/>\n       <use xlink:href=\"#DejaVuSans-38\" x=\"190.869141\"/>\n      </g>\n     </g>\n    </g>\n    <g id=\"ytick_5\">\n     <g id=\"line2d_13\">\n      <g>\n       <use xlink:href=\"#mbeed849007\" x=\"57.199375\" y=\"91.250872\" style=\"fill: #ffffff; stroke: #ffffff; stroke-width: 0.8\"/>\n      </g>\n     </g>\n     <g id=\"text_14\">\n      <!-- 1989 -->\n      <g style=\"fill: #ffffff\" transform=\"translate(24.749375 95.05009)scale(0.1 -0.1)\">\n       <use xlink:href=\"#DejaVuSans-31\"/>\n       <use xlink:href=\"#DejaVuSans-39\" x=\"63.623047\"/>\n       <use xlink:href=\"#DejaVuSans-38\" x=\"127.246094\"/>\n       <use xlink:href=\"#DejaVuSans-39\" x=\"190.869141\"/>\n      </g>\n     </g>\n    </g>\n    <g id=\"ytick_6\">\n     <g id=\"line2d_14\">\n      <g>\n       <use xlink:href=\"#mbeed849007\" x=\"57.199375\" y=\"105.556135\" style=\"fill: #ffffff; stroke: #ffffff; stroke-width: 0.8\"/>\n      </g>\n     </g>\n     <g id=\"text_15\">\n      <!-- 1990 -->\n      <g style=\"fill: #ffffff\" transform=\"translate(24.749375 109.355354)scale(0.1 -0.1)\">\n       <use xlink:href=\"#DejaVuSans-31\"/>\n       <use xlink:href=\"#DejaVuSans-39\" x=\"63.623047\"/>\n       <use xlink:href=\"#DejaVuSans-39\" x=\"127.246094\"/>\n       <use xlink:href=\"#DejaVuSans-30\" x=\"190.869141\"/>\n      </g>\n     </g>\n    </g>\n    <g id=\"ytick_7\">\n     <g id=\"line2d_15\">\n      <g>\n       <use xlink:href=\"#mbeed849007\" x=\"57.199375\" y=\"119.861398\" style=\"fill: #ffffff; stroke: #ffffff; stroke-width: 0.8\"/>\n      </g>\n     </g>\n     <g id=\"text_16\">\n      <!-- 1991 -->\n      <g style=\"fill: #ffffff\" transform=\"translate(24.749375 123.660617)scale(0.1 -0.1)\">\n       <use xlink:href=\"#DejaVuSans-31\"/>\n       <use xlink:href=\"#DejaVuSans-39\" x=\"63.623047\"/>\n       <use xlink:href=\"#DejaVuSans-39\" x=\"127.246094\"/>\n       <use xlink:href=\"#DejaVuSans-31\" x=\"190.869141\"/>\n      </g>\n     </g>\n    </g>\n    <g id=\"ytick_8\">\n     <g id=\"line2d_16\">\n      <g>\n       <use xlink:href=\"#mbeed849007\" x=\"57.199375\" y=\"134.166661\" style=\"fill: #ffffff; stroke: #ffffff; stroke-width: 0.8\"/>\n      </g>\n     </g>\n     <g id=\"text_17\">\n      <!-- 1992 -->\n      <g style=\"fill: #ffffff\" transform=\"translate(24.749375 137.96588)scale(0.1 -0.1)\">\n       <use xlink:href=\"#DejaVuSans-31\"/>\n       <use xlink:href=\"#DejaVuSans-39\" x=\"63.623047\"/>\n       <use xlink:href=\"#DejaVuSans-39\" x=\"127.246094\"/>\n       <use xlink:href=\"#DejaVuSans-32\" x=\"190.869141\"/>\n      </g>\n     </g>\n    </g>\n    <g id=\"ytick_9\">\n     <g id=\"line2d_17\">\n      <g>\n       <use xlink:href=\"#mbeed849007\" x=\"57.199375\" y=\"148.471924\" style=\"fill: #ffffff; stroke: #ffffff; stroke-width: 0.8\"/>\n      </g>\n     </g>\n     <g id=\"text_18\">\n      <!-- 1993 -->\n      <g style=\"fill: #ffffff\" transform=\"translate(24.749375 152.271143)scale(0.1 -0.1)\">\n       <use xlink:href=\"#DejaVuSans-31\"/>\n       <use xlink:href=\"#DejaVuSans-39\" x=\"63.623047\"/>\n       <use xlink:href=\"#DejaVuSans-39\" x=\"127.246094\"/>\n       <use xlink:href=\"#DejaVuSans-33\" x=\"190.869141\"/>\n      </g>\n     </g>\n    </g>\n    <g id=\"ytick_10\">\n     <g id=\"line2d_18\">\n      <g>\n       <use xlink:href=\"#mbeed849007\" x=\"57.199375\" y=\"162.777187\" style=\"fill: #ffffff; stroke: #ffffff; stroke-width: 0.8\"/>\n      </g>\n     </g>\n     <g id=\"text_19\">\n      <!-- 1994 -->\n      <g style=\"fill: #ffffff\" transform=\"translate(24.749375 166.576406)scale(0.1 -0.1)\">\n       <defs>\n        <path id=\"DejaVuSans-34\" d=\"M 2419 4116 \nL 825 1625 \nL 2419 1625 \nL 2419 4116 \nz\nM 2253 4666 \nL 3047 4666 \nL 3047 1625 \nL 3713 1625 \nL 3713 1100 \nL 3047 1100 \nL 3047 0 \nL 2419 0 \nL 2419 1100 \nL 313 1100 \nL 313 1709 \nL 2253 4666 \nz\n\" transform=\"scale(0.015625)\"/>\n       </defs>\n       <use xlink:href=\"#DejaVuSans-31\"/>\n       <use xlink:href=\"#DejaVuSans-39\" x=\"63.623047\"/>\n       <use xlink:href=\"#DejaVuSans-39\" x=\"127.246094\"/>\n       <use xlink:href=\"#DejaVuSans-34\" x=\"190.869141\"/>\n      </g>\n     </g>\n    </g>\n    <g id=\"ytick_11\">\n     <g id=\"line2d_19\">\n      <g>\n       <use xlink:href=\"#mbeed849007\" x=\"57.199375\" y=\"177.082451\" style=\"fill: #ffffff; stroke: #ffffff; stroke-width: 0.8\"/>\n      </g>\n     </g>\n     <g id=\"text_20\">\n      <!-- 1995 -->\n      <g style=\"fill: #ffffff\" transform=\"translate(24.749375 180.881669)scale(0.1 -0.1)\">\n       <use xlink:href=\"#DejaVuSans-31\"/>\n       <use xlink:href=\"#DejaVuSans-39\" x=\"63.623047\"/>\n       <use xlink:href=\"#DejaVuSans-39\" x=\"127.246094\"/>\n       <use xlink:href=\"#DejaVuSans-35\" x=\"190.869141\"/>\n      </g>\n     </g>\n    </g>\n    <g id=\"ytick_12\">\n     <g id=\"line2d_20\">\n      <g>\n       <use xlink:href=\"#mbeed849007\" x=\"57.199375\" y=\"191.387714\" style=\"fill: #ffffff; stroke: #ffffff; stroke-width: 0.8\"/>\n      </g>\n     </g>\n     <g id=\"text_21\">\n      <!-- 1996 -->\n      <g style=\"fill: #ffffff\" transform=\"translate(24.749375 195.186933)scale(0.1 -0.1)\">\n       <use xlink:href=\"#DejaVuSans-31\"/>\n       <use xlink:href=\"#DejaVuSans-39\" x=\"63.623047\"/>\n       <use xlink:href=\"#DejaVuSans-39\" x=\"127.246094\"/>\n       <use xlink:href=\"#DejaVuSans-36\" x=\"190.869141\"/>\n      </g>\n     </g>\n    </g>\n    <g id=\"ytick_13\">\n     <g id=\"line2d_21\">\n      <g>\n       <use xlink:href=\"#mbeed849007\" x=\"57.199375\" y=\"205.692977\" style=\"fill: #ffffff; stroke: #ffffff; stroke-width: 0.8\"/>\n      </g>\n     </g>\n     <g id=\"text_22\">\n      <!-- 1997 -->\n      <g style=\"fill: #ffffff\" transform=\"translate(24.749375 209.492196)scale(0.1 -0.1)\">\n       <use xlink:href=\"#DejaVuSans-31\"/>\n       <use xlink:href=\"#DejaVuSans-39\" x=\"63.623047\"/>\n       <use xlink:href=\"#DejaVuSans-39\" x=\"127.246094\"/>\n       <use xlink:href=\"#DejaVuSans-37\" x=\"190.869141\"/>\n      </g>\n     </g>\n    </g>\n    <g id=\"ytick_14\">\n     <g id=\"line2d_22\">\n      <g>\n       <use xlink:href=\"#mbeed849007\" x=\"57.199375\" y=\"219.99824\" style=\"fill: #ffffff; stroke: #ffffff; stroke-width: 0.8\"/>\n      </g>\n     </g>\n     <g id=\"text_23\">\n      <!-- 1998 -->\n      <g style=\"fill: #ffffff\" transform=\"translate(24.749375 223.797459)scale(0.1 -0.1)\">\n       <use xlink:href=\"#DejaVuSans-31\"/>\n       <use xlink:href=\"#DejaVuSans-39\" x=\"63.623047\"/>\n       <use xlink:href=\"#DejaVuSans-39\" x=\"127.246094\"/>\n       <use xlink:href=\"#DejaVuSans-38\" x=\"190.869141\"/>\n      </g>\n     </g>\n    </g>\n    <g id=\"ytick_15\">\n     <g id=\"line2d_23\">\n      <g>\n       <use xlink:href=\"#mbeed849007\" x=\"57.199375\" y=\"234.303503\" style=\"fill: #ffffff; stroke: #ffffff; stroke-width: 0.8\"/>\n      </g>\n     </g>\n     <g id=\"text_24\">\n      <!-- 1999 -->\n      <g style=\"fill: #ffffff\" transform=\"translate(24.749375 238.102722)scale(0.1 -0.1)\">\n       <use xlink:href=\"#DejaVuSans-31\"/>\n       <use xlink:href=\"#DejaVuSans-39\" x=\"63.623047\"/>\n       <use xlink:href=\"#DejaVuSans-39\" x=\"127.246094\"/>\n       <use xlink:href=\"#DejaVuSans-39\" x=\"190.869141\"/>\n      </g>\n     </g>\n    </g>\n    <g id=\"ytick_16\">\n     <g id=\"line2d_24\">\n      <g>\n       <use xlink:href=\"#mbeed849007\" x=\"57.199375\" y=\"248.608766\" style=\"fill: #ffffff; stroke: #ffffff; stroke-width: 0.8\"/>\n      </g>\n     </g>\n     <g id=\"text_25\">\n      <!-- 2000 -->\n      <g style=\"fill: #ffffff\" transform=\"translate(24.749375 252.407985)scale(0.1 -0.1)\">\n       <use xlink:href=\"#DejaVuSans-32\"/>\n       <use xlink:href=\"#DejaVuSans-30\" x=\"63.623047\"/>\n       <use xlink:href=\"#DejaVuSans-30\" x=\"127.246094\"/>\n       <use xlink:href=\"#DejaVuSans-30\" x=\"190.869141\"/>\n      </g>\n     </g>\n    </g>\n    <g id=\"ytick_17\">\n     <g id=\"line2d_25\">\n      <g>\n       <use xlink:href=\"#mbeed849007\" x=\"57.199375\" y=\"262.91403\" style=\"fill: #ffffff; stroke: #ffffff; stroke-width: 0.8\"/>\n      </g>\n     </g>\n     <g id=\"text_26\">\n      <!-- 2001 -->\n      <g style=\"fill: #ffffff\" transform=\"translate(24.749375 266.713248)scale(0.1 -0.1)\">\n       <use xlink:href=\"#DejaVuSans-32\"/>\n       <use xlink:href=\"#DejaVuSans-30\" x=\"63.623047\"/>\n       <use xlink:href=\"#DejaVuSans-30\" x=\"127.246094\"/>\n       <use xlink:href=\"#DejaVuSans-31\" x=\"190.869141\"/>\n      </g>\n     </g>\n    </g>\n    <g id=\"ytick_18\">\n     <g id=\"line2d_26\">\n      <g>\n       <use xlink:href=\"#mbeed849007\" x=\"57.199375\" y=\"277.219293\" style=\"fill: #ffffff; stroke: #ffffff; stroke-width: 0.8\"/>\n      </g>\n     </g>\n     <g id=\"text_27\">\n      <!-- 2002 -->\n      <g style=\"fill: #ffffff\" transform=\"translate(24.749375 281.018512)scale(0.1 -0.1)\">\n       <use xlink:href=\"#DejaVuSans-32\"/>\n       <use xlink:href=\"#DejaVuSans-30\" x=\"63.623047\"/>\n       <use xlink:href=\"#DejaVuSans-30\" x=\"127.246094\"/>\n       <use xlink:href=\"#DejaVuSans-32\" x=\"190.869141\"/>\n      </g>\n     </g>\n    </g>\n    <g id=\"ytick_19\">\n     <g id=\"line2d_27\">\n      <g>\n       <use xlink:href=\"#mbeed849007\" x=\"57.199375\" y=\"291.524556\" style=\"fill: #ffffff; stroke: #ffffff; stroke-width: 0.8\"/>\n      </g>\n     </g>\n     <g id=\"text_28\">\n      <!-- 2003 -->\n      <g style=\"fill: #ffffff\" transform=\"translate(24.749375 295.323775)scale(0.1 -0.1)\">\n       <use xlink:href=\"#DejaVuSans-32\"/>\n       <use xlink:href=\"#DejaVuSans-30\" x=\"63.623047\"/>\n       <use xlink:href=\"#DejaVuSans-30\" x=\"127.246094\"/>\n       <use xlink:href=\"#DejaVuSans-33\" x=\"190.869141\"/>\n      </g>\n     </g>\n    </g>\n    <g id=\"ytick_20\">\n     <g id=\"line2d_28\">\n      <g>\n       <use xlink:href=\"#mbeed849007\" x=\"57.199375\" y=\"305.829819\" style=\"fill: #ffffff; stroke: #ffffff; stroke-width: 0.8\"/>\n      </g>\n     </g>\n     <g id=\"text_29\">\n      <!-- 2004 -->\n      <g style=\"fill: #ffffff\" transform=\"translate(24.749375 309.629038)scale(0.1 -0.1)\">\n       <use xlink:href=\"#DejaVuSans-32\"/>\n       <use xlink:href=\"#DejaVuSans-30\" x=\"63.623047\"/>\n       <use xlink:href=\"#DejaVuSans-30\" x=\"127.246094\"/>\n       <use xlink:href=\"#DejaVuSans-34\" x=\"190.869141\"/>\n      </g>\n     </g>\n    </g>\n    <g id=\"ytick_21\">\n     <g id=\"line2d_29\">\n      <g>\n       <use xlink:href=\"#mbeed849007\" x=\"57.199375\" y=\"320.135082\" style=\"fill: #ffffff; stroke: #ffffff; stroke-width: 0.8\"/>\n      </g>\n     </g>\n     <g id=\"text_30\">\n      <!-- 2005 -->\n      <g style=\"fill: #ffffff\" transform=\"translate(24.749375 323.934301)scale(0.1 -0.1)\">\n       <use xlink:href=\"#DejaVuSans-32\"/>\n       <use xlink:href=\"#DejaVuSans-30\" x=\"63.623047\"/>\n       <use xlink:href=\"#DejaVuSans-30\" x=\"127.246094\"/>\n       <use xlink:href=\"#DejaVuSans-35\" x=\"190.869141\"/>\n      </g>\n     </g>\n    </g>\n    <g id=\"ytick_22\">\n     <g id=\"line2d_30\">\n      <g>\n       <use xlink:href=\"#mbeed849007\" x=\"57.199375\" y=\"334.440345\" style=\"fill: #ffffff; stroke: #ffffff; stroke-width: 0.8\"/>\n      </g>\n     </g>\n     <g id=\"text_31\">\n      <!-- 2006 -->\n      <g style=\"fill: #ffffff\" transform=\"translate(24.749375 338.239564)scale(0.1 -0.1)\">\n       <use xlink:href=\"#DejaVuSans-32\"/>\n       <use xlink:href=\"#DejaVuSans-30\" x=\"63.623047\"/>\n       <use xlink:href=\"#DejaVuSans-30\" x=\"127.246094\"/>\n       <use xlink:href=\"#DejaVuSans-36\" x=\"190.869141\"/>\n      </g>\n     </g>\n    </g>\n    <g id=\"ytick_23\">\n     <g id=\"line2d_31\">\n      <g>\n       <use xlink:href=\"#mbeed849007\" x=\"57.199375\" y=\"348.745609\" style=\"fill: #ffffff; stroke: #ffffff; stroke-width: 0.8\"/>\n      </g>\n     </g>\n     <g id=\"text_32\">\n      <!-- 2007 -->\n      <g style=\"fill: #ffffff\" transform=\"translate(24.749375 352.544827)scale(0.1 -0.1)\">\n       <use xlink:href=\"#DejaVuSans-32\"/>\n       <use xlink:href=\"#DejaVuSans-30\" x=\"63.623047\"/>\n       <use xlink:href=\"#DejaVuSans-30\" x=\"127.246094\"/>\n       <use xlink:href=\"#DejaVuSans-37\" x=\"190.869141\"/>\n      </g>\n     </g>\n    </g>\n    <g id=\"ytick_24\">\n     <g id=\"line2d_32\">\n      <g>\n       <use xlink:href=\"#mbeed849007\" x=\"57.199375\" y=\"363.050872\" style=\"fill: #ffffff; stroke: #ffffff; stroke-width: 0.8\"/>\n      </g>\n     </g>\n     <g id=\"text_33\">\n      <!-- 2008 -->\n      <g style=\"fill: #ffffff\" transform=\"translate(24.749375 366.85009)scale(0.1 -0.1)\">\n       <use xlink:href=\"#DejaVuSans-32\"/>\n       <use xlink:href=\"#DejaVuSans-30\" x=\"63.623047\"/>\n       <use xlink:href=\"#DejaVuSans-30\" x=\"127.246094\"/>\n       <use xlink:href=\"#DejaVuSans-38\" x=\"190.869141\"/>\n      </g>\n     </g>\n    </g>\n    <g id=\"ytick_25\">\n     <g id=\"line2d_33\">\n      <g>\n       <use xlink:href=\"#mbeed849007\" x=\"57.199375\" y=\"377.356135\" style=\"fill: #ffffff; stroke: #ffffff; stroke-width: 0.8\"/>\n      </g>\n     </g>\n     <g id=\"text_34\">\n      <!-- 2009 -->\n      <g style=\"fill: #ffffff\" transform=\"translate(24.749375 381.155354)scale(0.1 -0.1)\">\n       <use xlink:href=\"#DejaVuSans-32\"/>\n       <use xlink:href=\"#DejaVuSans-30\" x=\"63.623047\"/>\n       <use xlink:href=\"#DejaVuSans-30\" x=\"127.246094\"/>\n       <use xlink:href=\"#DejaVuSans-39\" x=\"190.869141\"/>\n      </g>\n     </g>\n    </g>\n    <g id=\"ytick_26\">\n     <g id=\"line2d_34\">\n      <g>\n       <use xlink:href=\"#mbeed849007\" x=\"57.199375\" y=\"391.661398\" style=\"fill: #ffffff; stroke: #ffffff; stroke-width: 0.8\"/>\n      </g>\n     </g>\n     <g id=\"text_35\">\n      <!-- 2010 -->\n      <g style=\"fill: #ffffff\" transform=\"translate(24.749375 395.460617)scale(0.1 -0.1)\">\n       <use xlink:href=\"#DejaVuSans-32\"/>\n       <use xlink:href=\"#DejaVuSans-30\" x=\"63.623047\"/>\n       <use xlink:href=\"#DejaVuSans-31\" x=\"127.246094\"/>\n       <use xlink:href=\"#DejaVuSans-30\" x=\"190.869141\"/>\n      </g>\n     </g>\n    </g>\n    <g id=\"ytick_27\">\n     <g id=\"line2d_35\">\n      <g>\n       <use xlink:href=\"#mbeed849007\" x=\"57.199375\" y=\"405.966661\" style=\"fill: #ffffff; stroke: #ffffff; stroke-width: 0.8\"/>\n      </g>\n     </g>\n     <g id=\"text_36\">\n      <!-- 2011 -->\n      <g style=\"fill: #ffffff\" transform=\"translate(24.749375 409.76588)scale(0.1 -0.1)\">\n       <use xlink:href=\"#DejaVuSans-32\"/>\n       <use xlink:href=\"#DejaVuSans-30\" x=\"63.623047\"/>\n       <use xlink:href=\"#DejaVuSans-31\" x=\"127.246094\"/>\n       <use xlink:href=\"#DejaVuSans-31\" x=\"190.869141\"/>\n      </g>\n     </g>\n    </g>\n    <g id=\"ytick_28\">\n     <g id=\"line2d_36\">\n      <g>\n       <use xlink:href=\"#mbeed849007\" x=\"57.199375\" y=\"420.271924\" style=\"fill: #ffffff; stroke: #ffffff; stroke-width: 0.8\"/>\n      </g>\n     </g>\n     <g id=\"text_37\">\n      <!-- 2012 -->\n      <g style=\"fill: #ffffff\" transform=\"translate(24.749375 424.071143)scale(0.1 -0.1)\">\n       <use xlink:href=\"#DejaVuSans-32\"/>\n       <use xlink:href=\"#DejaVuSans-30\" x=\"63.623047\"/>\n       <use xlink:href=\"#DejaVuSans-31\" x=\"127.246094\"/>\n       <use xlink:href=\"#DejaVuSans-32\" x=\"190.869141\"/>\n      </g>\n     </g>\n    </g>\n    <g id=\"ytick_29\">\n     <g id=\"line2d_37\">\n      <g>\n       <use xlink:href=\"#mbeed849007\" x=\"57.199375\" y=\"434.577187\" style=\"fill: #ffffff; stroke: #ffffff; stroke-width: 0.8\"/>\n      </g>\n     </g>\n     <g id=\"text_38\">\n      <!-- 2013 -->\n      <g style=\"fill: #ffffff\" transform=\"translate(24.749375 438.376406)scale(0.1 -0.1)\">\n       <use xlink:href=\"#DejaVuSans-32\"/>\n       <use xlink:href=\"#DejaVuSans-30\" x=\"63.623047\"/>\n       <use xlink:href=\"#DejaVuSans-31\" x=\"127.246094\"/>\n       <use xlink:href=\"#DejaVuSans-33\" x=\"190.869141\"/>\n      </g>\n     </g>\n    </g>\n    <g id=\"ytick_30\">\n     <g id=\"line2d_38\">\n      <g>\n       <use xlink:href=\"#mbeed849007\" x=\"57.199375\" y=\"448.882451\" style=\"fill: #ffffff; stroke: #ffffff; stroke-width: 0.8\"/>\n      </g>\n     </g>\n     <g id=\"text_39\">\n      <!-- 2014 -->\n      <g style=\"fill: #ffffff\" transform=\"translate(24.749375 452.681669)scale(0.1 -0.1)\">\n       <use xlink:href=\"#DejaVuSans-32\"/>\n       <use xlink:href=\"#DejaVuSans-30\" x=\"63.623047\"/>\n       <use xlink:href=\"#DejaVuSans-31\" x=\"127.246094\"/>\n       <use xlink:href=\"#DejaVuSans-34\" x=\"190.869141\"/>\n      </g>\n     </g>\n    </g>\n    <g id=\"ytick_31\">\n     <g id=\"line2d_39\">\n      <g>\n       <use xlink:href=\"#mbeed849007\" x=\"57.199375\" y=\"463.187714\" style=\"fill: #ffffff; stroke: #ffffff; stroke-width: 0.8\"/>\n      </g>\n     </g>\n     <g id=\"text_40\">\n      <!-- 2015 -->\n      <g style=\"fill: #ffffff\" transform=\"translate(24.749375 466.986933)scale(0.1 -0.1)\">\n       <use xlink:href=\"#DejaVuSans-32\"/>\n       <use xlink:href=\"#DejaVuSans-30\" x=\"63.623047\"/>\n       <use xlink:href=\"#DejaVuSans-31\" x=\"127.246094\"/>\n       <use xlink:href=\"#DejaVuSans-35\" x=\"190.869141\"/>\n      </g>\n     </g>\n    </g>\n    <g id=\"ytick_32\">\n     <g id=\"line2d_40\">\n      <g>\n       <use xlink:href=\"#mbeed849007\" x=\"57.199375\" y=\"477.492977\" style=\"fill: #ffffff; stroke: #ffffff; stroke-width: 0.8\"/>\n      </g>\n     </g>\n     <g id=\"text_41\">\n      <!-- 2016 -->\n      <g style=\"fill: #ffffff\" transform=\"translate(24.749375 481.292196)scale(0.1 -0.1)\">\n       <use xlink:href=\"#DejaVuSans-32\"/>\n       <use xlink:href=\"#DejaVuSans-30\" x=\"63.623047\"/>\n       <use xlink:href=\"#DejaVuSans-31\" x=\"127.246094\"/>\n       <use xlink:href=\"#DejaVuSans-36\" x=\"190.869141\"/>\n      </g>\n     </g>\n    </g>\n    <g id=\"ytick_33\">\n     <g id=\"line2d_41\">\n      <g>\n       <use xlink:href=\"#mbeed849007\" x=\"57.199375\" y=\"491.79824\" style=\"fill: #ffffff; stroke: #ffffff; stroke-width: 0.8\"/>\n      </g>\n     </g>\n     <g id=\"text_42\">\n      <!-- 2017 -->\n      <g style=\"fill: #ffffff\" transform=\"translate(24.749375 495.597459)scale(0.1 -0.1)\">\n       <use xlink:href=\"#DejaVuSans-32\"/>\n       <use xlink:href=\"#DejaVuSans-30\" x=\"63.623047\"/>\n       <use xlink:href=\"#DejaVuSans-31\" x=\"127.246094\"/>\n       <use xlink:href=\"#DejaVuSans-37\" x=\"190.869141\"/>\n      </g>\n     </g>\n    </g>\n    <g id=\"ytick_34\">\n     <g id=\"line2d_42\">\n      <g>\n       <use xlink:href=\"#mbeed849007\" x=\"57.199375\" y=\"506.103503\" style=\"fill: #ffffff; stroke: #ffffff; stroke-width: 0.8\"/>\n      </g>\n     </g>\n     <g id=\"text_43\">\n      <!-- 2018 -->\n      <g style=\"fill: #ffffff\" transform=\"translate(24.749375 509.902722)scale(0.1 -0.1)\">\n       <use xlink:href=\"#DejaVuSans-32\"/>\n       <use xlink:href=\"#DejaVuSans-30\" x=\"63.623047\"/>\n       <use xlink:href=\"#DejaVuSans-31\" x=\"127.246094\"/>\n       <use xlink:href=\"#DejaVuSans-38\" x=\"190.869141\"/>\n      </g>\n     </g>\n    </g>\n    <g id=\"ytick_35\">\n     <g id=\"line2d_43\">\n      <g>\n       <use xlink:href=\"#mbeed849007\" x=\"57.199375\" y=\"520.408766\" style=\"fill: #ffffff; stroke: #ffffff; stroke-width: 0.8\"/>\n      </g>\n     </g>\n     <g id=\"text_44\">\n      <!-- 2019 -->\n      <g style=\"fill: #ffffff\" transform=\"translate(24.749375 524.207985)scale(0.1 -0.1)\">\n       <use xlink:href=\"#DejaVuSans-32\"/>\n       <use xlink:href=\"#DejaVuSans-30\" x=\"63.623047\"/>\n       <use xlink:href=\"#DejaVuSans-31\" x=\"127.246094\"/>\n       <use xlink:href=\"#DejaVuSans-39\" x=\"190.869141\"/>\n      </g>\n     </g>\n    </g>\n    <g id=\"ytick_36\">\n     <g id=\"line2d_44\">\n      <g>\n       <use xlink:href=\"#mbeed849007\" x=\"57.199375\" y=\"534.71403\" style=\"fill: #ffffff; stroke: #ffffff; stroke-width: 0.8\"/>\n      </g>\n     </g>\n     <g id=\"text_45\">\n      <!-- 2020 -->\n      <g style=\"fill: #ffffff\" transform=\"translate(24.749375 538.513248)scale(0.1 -0.1)\">\n       <use xlink:href=\"#DejaVuSans-32\"/>\n       <use xlink:href=\"#DejaVuSans-30\" x=\"63.623047\"/>\n       <use xlink:href=\"#DejaVuSans-32\" x=\"127.246094\"/>\n       <use xlink:href=\"#DejaVuSans-30\" x=\"190.869141\"/>\n      </g>\n     </g>\n    </g>\n    <g id=\"ytick_37\">\n     <g id=\"line2d_45\">\n      <g>\n       <use xlink:href=\"#mbeed849007\" x=\"57.199375\" y=\"549.019293\" style=\"fill: #ffffff; stroke: #ffffff; stroke-width: 0.8\"/>\n      </g>\n     </g>\n     <g id=\"text_46\">\n      <!-- 2021 -->\n      <g style=\"fill: #ffffff\" transform=\"translate(24.749375 552.818512)scale(0.1 -0.1)\">\n       <use xlink:href=\"#DejaVuSans-32\"/>\n       <use xlink:href=\"#DejaVuSans-30\" x=\"63.623047\"/>\n       <use xlink:href=\"#DejaVuSans-32\" x=\"127.246094\"/>\n       <use xlink:href=\"#DejaVuSans-31\" x=\"190.869141\"/>\n      </g>\n     </g>\n    </g>\n    <g id=\"ytick_38\">\n     <g id=\"line2d_46\">\n      <g>\n       <use xlink:href=\"#mbeed849007\" x=\"57.199375\" y=\"563.324556\" style=\"fill: #ffffff; stroke: #ffffff; stroke-width: 0.8\"/>\n      </g>\n     </g>\n     <g id=\"text_47\">\n      <!-- 2022 -->\n      <g style=\"fill: #ffffff\" transform=\"translate(24.749375 567.123775)scale(0.1 -0.1)\">\n       <use xlink:href=\"#DejaVuSans-32\"/>\n       <use xlink:href=\"#DejaVuSans-30\" x=\"63.623047\"/>\n       <use xlink:href=\"#DejaVuSans-32\" x=\"127.246094\"/>\n       <use xlink:href=\"#DejaVuSans-32\" x=\"190.869141\"/>\n      </g>\n     </g>\n    </g>\n    <g id=\"text_48\">\n     <!-- Densidade -->\n     <g style=\"fill: #ffffff\" transform=\"translate(17.837812 335.886562)rotate(-90)scale(0.14 -0.14)\">\n      <defs>\n       <path id=\"DejaVuSans-44\" d=\"M 1259 4147 \nL 1259 519 \nL 2022 519 \nQ 2988 519 3436 956 \nQ 3884 1394 3884 2338 \nQ 3884 3275 3436 3711 \nQ 2988 4147 2022 4147 \nL 1259 4147 \nz\nM 628 4666 \nL 1925 4666 \nQ 3281 4666 3915 4102 \nQ 4550 3538 4550 2338 \nQ 4550 1131 3912 565 \nQ 3275 0 1925 0 \nL 628 0 \nL 628 4666 \nz\n\" transform=\"scale(0.015625)\"/>\n       <path id=\"DejaVuSans-69\" d=\"M 603 3500 \nL 1178 3500 \nL 1178 0 \nL 603 0 \nL 603 3500 \nz\nM 603 4863 \nL 1178 4863 \nL 1178 4134 \nL 603 4134 \nL 603 4863 \nz\n\" transform=\"scale(0.015625)\"/>\n      </defs>\n      <use xlink:href=\"#DejaVuSans-44\"/>\n      <use xlink:href=\"#DejaVuSans-65\" x=\"77.001953\"/>\n      <use xlink:href=\"#DejaVuSans-6e\" x=\"138.525391\"/>\n      <use xlink:href=\"#DejaVuSans-73\" x=\"201.904297\"/>\n      <use xlink:href=\"#DejaVuSans-69\" x=\"254.003906\"/>\n      <use xlink:href=\"#DejaVuSans-64\" x=\"281.787109\"/>\n      <use xlink:href=\"#DejaVuSans-61\" x=\"345.263672\"/>\n      <use xlink:href=\"#DejaVuSans-64\" x=\"406.542969\"/>\n      <use xlink:href=\"#DejaVuSans-65\" x=\"470.019531\"/>\n     </g>\n    </g>\n   </g>\n   <g id=\"line2d_47\">\n    <path d=\"M 445.17616 34.029819 \nL 192.128621 34.029819 \n\" clip-path=\"url(#p4bd4d4df97)\" style=\"fill: none; stroke: #454545; stroke-width: 1.5; stroke-linecap: square\"/>\n   </g>\n   <g id=\"line2d_48\">\n    <path d=\"M 635.072218 34.029819 \nL 876.343257 34.029819 \n\" clip-path=\"url(#p4bd4d4df97)\" style=\"fill: none; stroke: #454545; stroke-width: 1.5; stroke-linecap: square\"/>\n   </g>\n   <g id=\"line2d_49\">\n    <path d=\"M 192.128621 31.168766 \nL 192.128621 36.890872 \n\" clip-path=\"url(#p4bd4d4df97)\" style=\"fill: none; stroke: #454545; stroke-width: 1.5; stroke-linecap: square\"/>\n   </g>\n   <g id=\"line2d_50\">\n    <path d=\"M 876.343257 31.168766 \nL 876.343257 36.890872 \n\" clip-path=\"url(#p4bd4d4df97)\" style=\"fill: none; stroke: #454545; stroke-width: 1.5; stroke-linecap: square\"/>\n   </g>\n   <g id=\"line2d_51\">\n    <defs>\n     <path id=\"meb6f50767c\" d=\"M 0 3.535534 \nL 2.12132 0 \nL 0 -3.535534 \nL -2.12132 0 \nz\n\" style=\"stroke: #454545; stroke-linejoin: miter\"/>\n    </defs>\n    <g clip-path=\"url(#p4bd4d4df97)\">\n     <use xlink:href=\"#meb6f50767c\" x=\"119.99756\" y=\"34.029819\" style=\"fill: #454545; stroke: #454545; stroke-linejoin: miter\"/>\n    </g>\n   </g>\n   <g id=\"line2d_52\">\n    <path d=\"M 439.140704 48.335082 \nL 175.935934 48.335082 \n\" clip-path=\"url(#p4bd4d4df97)\" style=\"fill: none; stroke: #454545; stroke-width: 1.5; stroke-linecap: square\"/>\n   </g>\n   <g id=\"line2d_53\">\n    <path d=\"M 647.879162 48.335082 \nL 863.977932 48.335082 \n\" clip-path=\"url(#p4bd4d4df97)\" style=\"fill: none; stroke: #454545; stroke-width: 1.5; stroke-linecap: square\"/>\n   </g>\n   <g id=\"line2d_54\">\n    <path d=\"M 175.935934 45.47403 \nL 175.935934 51.196135 \n\" clip-path=\"url(#p4bd4d4df97)\" style=\"fill: none; stroke: #454545; stroke-width: 1.5; stroke-linecap: square\"/>\n   </g>\n   <g id=\"line2d_55\">\n    <path d=\"M 863.977932 45.47403 \nL 863.977932 51.196135 \n\" clip-path=\"url(#p4bd4d4df97)\" style=\"fill: none; stroke: #454545; stroke-width: 1.5; stroke-linecap: square\"/>\n   </g>\n   <g id=\"line2d_56\">\n    <g clip-path=\"url(#p4bd4d4df97)\">\n     <use xlink:href=\"#meb6f50767c\" x=\"982.92058\" y=\"48.335082\" style=\"fill: #454545; stroke: #454545; stroke-linejoin: miter\"/>\n    </g>\n   </g>\n   <g id=\"line2d_57\">\n    <path d=\"M 422.506398 62.640345 \nL 130.59641 62.640345 \n\" clip-path=\"url(#p4bd4d4df97)\" style=\"fill: none; stroke: #454545; stroke-width: 1.5; stroke-linecap: square\"/>\n   </g>\n   <g id=\"line2d_58\">\n    <path d=\"M 646.922321 62.640345 \nL 948.474318 62.640345 \n\" clip-path=\"url(#p4bd4d4df97)\" style=\"fill: none; stroke: #454545; stroke-width: 1.5; stroke-linecap: square\"/>\n   </g>\n   <g id=\"line2d_59\">\n    <path d=\"M 130.59641 59.779293 \nL 130.59641 65.501398 \n\" clip-path=\"url(#p4bd4d4df97)\" style=\"fill: none; stroke: #454545; stroke-width: 1.5; stroke-linecap: square\"/>\n   </g>\n   <g id=\"line2d_60\">\n    <path d=\"M 948.474318 59.779293 \nL 948.474318 65.501398 \n\" clip-path=\"url(#p4bd4d4df97)\" style=\"fill: none; stroke: #454545; stroke-width: 1.5; stroke-linecap: square\"/>\n   </g>\n   <g id=\"line2d_61\"/>\n   <g id=\"line2d_62\">\n    <path d=\"M 463.503337 76.945609 \nL 204.199533 76.945609 \n\" clip-path=\"url(#p4bd4d4df97)\" style=\"fill: none; stroke: #454545; stroke-width: 1.5; stroke-linecap: square\"/>\n   </g>\n   <g id=\"line2d_63\">\n    <path d=\"M 645.891878 76.945609 \nL 910.495107 76.945609 \n\" clip-path=\"url(#p4bd4d4df97)\" style=\"fill: none; stroke: #454545; stroke-width: 1.5; stroke-linecap: square\"/>\n   </g>\n   <g id=\"line2d_64\">\n    <path d=\"M 204.199533 74.084556 \nL 204.199533 79.806661 \n\" clip-path=\"url(#p4bd4d4df97)\" style=\"fill: none; stroke: #454545; stroke-width: 1.5; stroke-linecap: square\"/>\n   </g>\n   <g id=\"line2d_65\">\n    <path d=\"M 910.495107 74.084556 \nL 910.495107 79.806661 \n\" clip-path=\"url(#p4bd4d4df97)\" style=\"fill: none; stroke: #454545; stroke-width: 1.5; stroke-linecap: square\"/>\n   </g>\n   <g id=\"line2d_66\">\n    <g clip-path=\"url(#p4bd4d4df97)\">\n     <use xlink:href=\"#meb6f50767c\" x=\"927.865444\" y=\"76.945609\" style=\"fill: #454545; stroke: #454545; stroke-linejoin: miter\"/>\n    </g>\n   </g>\n   <g id=\"line2d_67\">\n    <path d=\"M 462.546497 91.250872 \nL 254.249657 91.250872 \n\" clip-path=\"url(#p4bd4d4df97)\" style=\"fill: none; stroke: #454545; stroke-width: 1.5; stroke-linecap: square\"/>\n   </g>\n   <g id=\"line2d_68\">\n    <path d=\"M 649.940049 91.250872 \nL 842.780233 91.250872 \n\" clip-path=\"url(#p4bd4d4df97)\" style=\"fill: none; stroke: #454545; stroke-width: 1.5; stroke-linecap: square\"/>\n   </g>\n   <g id=\"line2d_69\">\n    <path d=\"M 254.249657 88.389819 \nL 254.249657 94.111924 \n\" clip-path=\"url(#p4bd4d4df97)\" style=\"fill: none; stroke: #454545; stroke-width: 1.5; stroke-linecap: square\"/>\n   </g>\n   <g id=\"line2d_70\">\n    <path d=\"M 842.780233 88.389819 \nL 842.780233 94.111924 \n\" clip-path=\"url(#p4bd4d4df97)\" style=\"fill: none; stroke: #454545; stroke-width: 1.5; stroke-linecap: square\"/>\n   </g>\n   <g id=\"line2d_71\">\n    <g clip-path=\"url(#p4bd4d4df97)\">\n     <use xlink:href=\"#meb6f50767c\" x=\"979.093218\" y=\"91.250872\" style=\"fill: #454545; stroke: #454545; stroke-linejoin: miter\"/>\n    </g>\n   </g>\n   <g id=\"line2d_72\">\n    <path d=\"M 428.836266 105.556135 \nL 147.966747 105.556135 \n\" clip-path=\"url(#p4bd4d4df97)\" style=\"fill: none; stroke: #454545; stroke-width: 1.5; stroke-linecap: square\"/>\n   </g>\n   <g id=\"line2d_73\">\n    <path d=\"M 619.026737 105.556135 \nL 894.302419 105.556135 \n\" clip-path=\"url(#p4bd4d4df97)\" style=\"fill: none; stroke: #454545; stroke-width: 1.5; stroke-linecap: square\"/>\n   </g>\n   <g id=\"line2d_74\">\n    <path d=\"M 147.966747 102.695082 \nL 147.966747 108.417187 \n\" clip-path=\"url(#p4bd4d4df97)\" style=\"fill: none; stroke: #454545; stroke-width: 1.5; stroke-linecap: square\"/>\n   </g>\n   <g id=\"line2d_75\">\n    <path d=\"M 894.302419 102.695082 \nL 894.302419 108.417187 \n\" clip-path=\"url(#p4bd4d4df97)\" style=\"fill: none; stroke: #454545; stroke-width: 1.5; stroke-linecap: square\"/>\n   </g>\n   <g id=\"line2d_76\"/>\n   <g id=\"line2d_77\">\n    <path d=\"M 438.11026 119.861398 \nL 133.540535 119.861398 \n\" clip-path=\"url(#p4bd4d4df97)\" style=\"fill: none; stroke: #454545; stroke-width: 1.5; stroke-linecap: square\"/>\n   </g>\n   <g id=\"line2d_78\">\n    <path d=\"M 641.622896 119.861398 \nL 908.434219 119.861398 \n\" clip-path=\"url(#p4bd4d4df97)\" style=\"fill: none; stroke: #454545; stroke-width: 1.5; stroke-linecap: square\"/>\n   </g>\n   <g id=\"line2d_79\">\n    <path d=\"M 133.540535 117.000345 \nL 133.540535 122.722451 \n\" clip-path=\"url(#p4bd4d4df97)\" style=\"fill: none; stroke: #454545; stroke-width: 1.5; stroke-linecap: square\"/>\n   </g>\n   <g id=\"line2d_80\">\n    <path d=\"M 908.434219 117.000345 \nL 908.434219 122.722451 \n\" clip-path=\"url(#p4bd4d4df97)\" style=\"fill: none; stroke: #454545; stroke-width: 1.5; stroke-linecap: square\"/>\n   </g>\n   <g id=\"line2d_81\"/>\n   <g id=\"line2d_82\">\n    <path d=\"M 461.810466 134.166661 \nL 220.686633 134.166661 \n\" clip-path=\"url(#p4bd4d4df97)\" style=\"fill: none; stroke: #454545; stroke-width: 1.5; stroke-linecap: square\"/>\n   </g>\n   <g id=\"line2d_83\">\n    <path d=\"M 634.041775 134.166661 \nL 845.429945 134.166661 \n\" clip-path=\"url(#p4bd4d4df97)\" style=\"fill: none; stroke: #454545; stroke-width: 1.5; stroke-linecap: square\"/>\n   </g>\n   <g id=\"line2d_84\">\n    <path d=\"M 220.686633 131.305609 \nL 220.686633 137.027714 \n\" clip-path=\"url(#p4bd4d4df97)\" style=\"fill: none; stroke: #454545; stroke-width: 1.5; stroke-linecap: square\"/>\n   </g>\n   <g id=\"line2d_85\">\n    <path d=\"M 845.429945 131.305609 \nL 845.429945 137.027714 \n\" clip-path=\"url(#p4bd4d4df97)\" style=\"fill: none; stroke: #454545; stroke-width: 1.5; stroke-linecap: square\"/>\n   </g>\n   <g id=\"line2d_86\">\n    <g clip-path=\"url(#p4bd4d4df97)\">\n     <use xlink:href=\"#meb6f50767c\" x=\"172.108571\" y=\"134.166661\" style=\"fill: #454545; stroke: #454545; stroke-linejoin: miter\"/>\n     <use xlink:href=\"#meb6f50767c\" x=\"125.002572\" y=\"134.166661\" style=\"fill: #454545; stroke: #454545; stroke-linejoin: miter\"/>\n     <use xlink:href=\"#meb6f50767c\" x=\"121.469622\" y=\"134.166661\" style=\"fill: #454545; stroke: #454545; stroke-linejoin: miter\"/>\n     <use xlink:href=\"#meb6f50767c\" x=\"116.170198\" y=\"134.166661\" style=\"fill: #454545; stroke: #454545; stroke-linejoin: miter\"/>\n     <use xlink:href=\"#meb6f50767c\" x=\"929.631919\" y=\"134.166661\" style=\"fill: #454545; stroke: #454545; stroke-linejoin: miter\"/>\n     <use xlink:href=\"#meb6f50767c\" x=\"908.434219\" y=\"134.166661\" style=\"fill: #454545; stroke: #454545; stroke-linejoin: miter\"/>\n     <use xlink:href=\"#meb6f50767c\" x=\"955.834631\" y=\"134.166661\" style=\"fill: #454545; stroke: #454545; stroke-linejoin: miter\"/>\n     <use xlink:href=\"#meb6f50767c\" x=\"896.952132\" y=\"134.166661\" style=\"fill: #454545; stroke: #454545; stroke-linejoin: miter\"/>\n     <use xlink:href=\"#meb6f50767c\" x=\"938.758706\" y=\"134.166661\" style=\"fill: #454545; stroke: #454545; stroke-linejoin: miter\"/>\n     <use xlink:href=\"#meb6f50767c\" x=\"906.373332\" y=\"134.166661\" style=\"fill: #454545; stroke: #454545; stroke-linejoin: miter\"/>\n    </g>\n   </g>\n   <g id=\"line2d_87\">\n    <path d=\"M 460.117594 148.471924 \nL 169.753271 148.471924 \n\" clip-path=\"url(#p4bd4d4df97)\" style=\"fill: none; stroke: #454545; stroke-width: 1.5; stroke-linecap: square\"/>\n   </g>\n   <g id=\"line2d_88\">\n    <path d=\"M 659.14044 148.471924 \nL 928.748681 148.471924 \n\" clip-path=\"url(#p4bd4d4df97)\" style=\"fill: none; stroke: #454545; stroke-width: 1.5; stroke-linecap: square\"/>\n   </g>\n   <g id=\"line2d_89\">\n    <path d=\"M 169.753271 145.610872 \nL 169.753271 151.332977 \n\" clip-path=\"url(#p4bd4d4df97)\" style=\"fill: none; stroke: #454545; stroke-width: 1.5; stroke-linecap: square\"/>\n   </g>\n   <g id=\"line2d_90\">\n    <path d=\"M 928.748681 145.610872 \nL 928.748681 151.332977 \n\" clip-path=\"url(#p4bd4d4df97)\" style=\"fill: none; stroke: #454545; stroke-width: 1.5; stroke-linecap: square\"/>\n   </g>\n   <g id=\"line2d_91\">\n    <g clip-path=\"url(#p4bd4d4df97)\">\n     <use xlink:href=\"#meb6f50767c\" x=\"981.74293\" y=\"148.471924\" style=\"fill: #454545; stroke: #454545; stroke-linejoin: miter\"/>\n     <use xlink:href=\"#meb6f50767c\" x=\"1040.625429\" y=\"148.471924\" style=\"fill: #454545; stroke: #454545; stroke-linejoin: miter\"/>\n    </g>\n   </g>\n   <g id=\"line2d_92\">\n    <path d=\"M 439.803132 162.777187 \nL 179.468884 162.777187 \n\" clip-path=\"url(#p4bd4d4df97)\" style=\"fill: none; stroke: #454545; stroke-width: 1.5; stroke-linecap: square\"/>\n   </g>\n   <g id=\"line2d_93\">\n    <path d=\"M 663.924643 162.777187 \nL 992.34178 162.777187 \n\" clip-path=\"url(#p4bd4d4df97)\" style=\"fill: none; stroke: #454545; stroke-width: 1.5; stroke-linecap: square\"/>\n   </g>\n   <g id=\"line2d_94\">\n    <path d=\"M 179.468884 159.916135 \nL 179.468884 165.63824 \n\" clip-path=\"url(#p4bd4d4df97)\" style=\"fill: none; stroke: #454545; stroke-width: 1.5; stroke-linecap: square\"/>\n   </g>\n   <g id=\"line2d_95\">\n    <path d=\"M 992.34178 159.916135 \nL 992.34178 165.63824 \n\" clip-path=\"url(#p4bd4d4df97)\" style=\"fill: none; stroke: #454545; stroke-width: 1.5; stroke-linecap: square\"/>\n   </g>\n   <g id=\"line2d_96\"/>\n   <g id=\"line2d_97\">\n    <path d=\"M 446.942635 177.082451 \nL 176.819171 177.082451 \n\" clip-path=\"url(#p4bd4d4df97)\" style=\"fill: none; stroke: #454545; stroke-width: 1.5; stroke-linecap: square\"/>\n   </g>\n   <g id=\"line2d_98\">\n    <path d=\"M 644.051799 177.082451 \nL 916.677769 177.082451 \n\" clip-path=\"url(#p4bd4d4df97)\" style=\"fill: none; stroke: #454545; stroke-width: 1.5; stroke-linecap: square\"/>\n   </g>\n   <g id=\"line2d_99\">\n    <path d=\"M 176.819171 174.221398 \nL 176.819171 179.943503 \n\" clip-path=\"url(#p4bd4d4df97)\" style=\"fill: none; stroke: #454545; stroke-width: 1.5; stroke-linecap: square\"/>\n   </g>\n   <g id=\"line2d_100\">\n    <path d=\"M 916.677769 174.221398 \nL 916.677769 179.943503 \n\" clip-path=\"url(#p4bd4d4df97)\" style=\"fill: none; stroke: #454545; stroke-width: 1.5; stroke-linecap: square\"/>\n   </g>\n   <g id=\"line2d_101\">\n    <g clip-path=\"url(#p4bd4d4df97)\">\n     <use xlink:href=\"#meb6f50767c\" x=\"121.764035\" y=\"177.082451\" style=\"fill: #454545; stroke: #454545; stroke-linejoin: miter\"/>\n     <use xlink:href=\"#meb6f50767c\" x=\"132.362885\" y=\"177.082451\" style=\"fill: #454545; stroke: #454545; stroke-linejoin: miter\"/>\n     <use xlink:href=\"#meb6f50767c\" x=\"122.941685\" y=\"177.082451\" style=\"fill: #454545; stroke: #454545; stroke-linejoin: miter\"/>\n     <use xlink:href=\"#meb6f50767c\" x=\"141.19526\" y=\"177.082451\" style=\"fill: #454545; stroke: #454545; stroke-linejoin: miter\"/>\n     <use xlink:href=\"#meb6f50767c\" x=\"136.190247\" y=\"177.082451\" style=\"fill: #454545; stroke: #454545; stroke-linejoin: miter\"/>\n     <use xlink:href=\"#meb6f50767c\" x=\"115.581373\" y=\"177.082451\" style=\"fill: #454545; stroke: #454545; stroke-linejoin: miter\"/>\n     <use xlink:href=\"#meb6f50767c\" x=\"947.885493\" y=\"177.082451\" style=\"fill: #454545; stroke: #454545; stroke-linejoin: miter\"/>\n     <use xlink:href=\"#meb6f50767c\" x=\"1047.691329\" y=\"177.082451\" style=\"fill: #454545; stroke: #454545; stroke-linejoin: miter\"/>\n     <use xlink:href=\"#meb6f50767c\" x=\"946.119018\" y=\"177.082451\" style=\"fill: #454545; stroke: #454545; stroke-linejoin: miter\"/>\n     <use xlink:href=\"#meb6f50767c\" x=\"1064.178428\" y=\"177.082451\" style=\"fill: #454545; stroke: #454545; stroke-linejoin: miter\"/>\n    </g>\n   </g>\n   <g id=\"line2d_102\">\n    <path d=\"M 417.648591 191.387714 \nL 108.515473 191.387714 \n\" clip-path=\"url(#p4bd4d4df97)\" style=\"fill: none; stroke: #454545; stroke-width: 1.5; stroke-linecap: square\"/>\n   </g>\n   <g id=\"line2d_103\">\n    <path d=\"M 649.498431 191.387714 \nL 973.204968 191.387714 \n\" clip-path=\"url(#p4bd4d4df97)\" style=\"fill: none; stroke: #454545; stroke-width: 1.5; stroke-linecap: square\"/>\n   </g>\n   <g id=\"line2d_104\">\n    <path d=\"M 108.515473 188.526661 \nL 108.515473 194.248766 \n\" clip-path=\"url(#p4bd4d4df97)\" style=\"fill: none; stroke: #454545; stroke-width: 1.5; stroke-linecap: square\"/>\n   </g>\n   <g id=\"line2d_105\">\n    <path d=\"M 973.204968 188.526661 \nL 973.204968 194.248766 \n\" clip-path=\"url(#p4bd4d4df97)\" style=\"fill: none; stroke: #454545; stroke-width: 1.5; stroke-linecap: square\"/>\n   </g>\n   <g id=\"line2d_106\"/>\n   <g id=\"line2d_107\">\n    <path d=\"M 450.549188 205.692977 \nL 169.753271 205.692977 \n\" clip-path=\"url(#p4bd4d4df97)\" style=\"fill: none; stroke: #454545; stroke-width: 1.5; stroke-linecap: square\"/>\n   </g>\n   <g id=\"line2d_108\">\n    <path d=\"M 654.356237 205.692977 \nL 933.753694 205.692977 \n\" clip-path=\"url(#p4bd4d4df97)\" style=\"fill: none; stroke: #454545; stroke-width: 1.5; stroke-linecap: square\"/>\n   </g>\n   <g id=\"line2d_109\">\n    <path d=\"M 169.753271 202.831924 \nL 169.753271 208.55403 \n\" clip-path=\"url(#p4bd4d4df97)\" style=\"fill: none; stroke: #454545; stroke-width: 1.5; stroke-linecap: square\"/>\n   </g>\n   <g id=\"line2d_110\">\n    <path d=\"M 933.753694 202.831924 \nL 933.753694 208.55403 \n\" clip-path=\"url(#p4bd4d4df97)\" style=\"fill: none; stroke: #454545; stroke-width: 1.5; stroke-linecap: square\"/>\n   </g>\n   <g id=\"line2d_111\">\n    <g clip-path=\"url(#p4bd4d4df97)\">\n     <use xlink:href=\"#meb6f50767c\" x=\"110.281948\" y=\"205.692977\" style=\"fill: #454545; stroke: #454545; stroke-linejoin: miter\"/>\n     <use xlink:href=\"#meb6f50767c\" x=\"142.078497\" y=\"205.692977\" style=\"fill: #454545; stroke: #454545; stroke-linejoin: miter\"/>\n     <use xlink:href=\"#meb6f50767c\" x=\"128.535522\" y=\"205.692977\" style=\"fill: #454545; stroke: #454545; stroke-linejoin: miter\"/>\n     <use xlink:href=\"#meb6f50767c\" x=\"111.165185\" y=\"205.692977\" style=\"fill: #454545; stroke: #454545; stroke-linejoin: miter\"/>\n     <use xlink:href=\"#meb6f50767c\" x=\"996.463555\" y=\"205.692977\" style=\"fill: #454545; stroke: #454545; stroke-linejoin: miter\"/>\n     <use xlink:href=\"#meb6f50767c\" x=\"1000.879742\" y=\"205.692977\" style=\"fill: #454545; stroke: #454545; stroke-linejoin: miter\"/>\n    </g>\n   </g>\n   <g id=\"line2d_112\">\n    <path d=\"M 440.023941 219.99824 \nL 185.945959 219.99824 \n\" clip-path=\"url(#p4bd4d4df97)\" style=\"fill: none; stroke: #454545; stroke-width: 1.5; stroke-linecap: square\"/>\n   </g>\n   <g id=\"line2d_113\">\n    <path d=\"M 646.112687 219.99824 \nL 954.362568 219.99824 \n\" clip-path=\"url(#p4bd4d4df97)\" style=\"fill: none; stroke: #454545; stroke-width: 1.5; stroke-linecap: square\"/>\n   </g>\n   <g id=\"line2d_114\">\n    <path d=\"M 185.945959 217.137187 \nL 185.945959 222.859293 \n\" clip-path=\"url(#p4bd4d4df97)\" style=\"fill: none; stroke: #454545; stroke-width: 1.5; stroke-linecap: square\"/>\n   </g>\n   <g id=\"line2d_115\">\n    <path d=\"M 954.362568 217.137187 \nL 954.362568 222.859293 \n\" clip-path=\"url(#p4bd4d4df97)\" style=\"fill: none; stroke: #454545; stroke-width: 1.5; stroke-linecap: square\"/>\n   </g>\n   <g id=\"line2d_116\">\n    <g clip-path=\"url(#p4bd4d4df97)\">\n     <use xlink:href=\"#meb6f50767c\" x=\"119.114323\" y=\"219.99824\" style=\"fill: #454545; stroke: #454545; stroke-linejoin: miter\"/>\n     <use xlink:href=\"#meb6f50767c\" x=\"117.053435\" y=\"219.99824\" style=\"fill: #454545; stroke: #454545; stroke-linejoin: miter\"/>\n     <use xlink:href=\"#meb6f50767c\" x=\"107.926648\" y=\"219.99824\" style=\"fill: #454545; stroke: #454545; stroke-linejoin: miter\"/>\n     <use xlink:href=\"#meb6f50767c\" x=\"996.463555\" y=\"219.99824\" style=\"fill: #454545; stroke: #454545; stroke-linejoin: miter\"/>\n     <use xlink:href=\"#meb6f50767c\" x=\"974.67703\" y=\"219.99824\" style=\"fill: #454545; stroke: #454545; stroke-linejoin: miter\"/>\n    </g>\n   </g>\n   <g id=\"line2d_117\">\n    <path d=\"M 458.277516 234.303503 \nL 161.804134 234.303503 \n\" clip-path=\"url(#p4bd4d4df97)\" style=\"fill: none; stroke: #454545; stroke-width: 1.5; stroke-linecap: square\"/>\n   </g>\n   <g id=\"line2d_118\">\n    <path d=\"M 659.950074 234.303503 \nL 944.058131 234.303503 \n\" clip-path=\"url(#p4bd4d4df97)\" style=\"fill: none; stroke: #454545; stroke-width: 1.5; stroke-linecap: square\"/>\n   </g>\n   <g id=\"line2d_119\">\n    <path d=\"M 161.804134 231.442451 \nL 161.804134 237.164556 \n\" clip-path=\"url(#p4bd4d4df97)\" style=\"fill: none; stroke: #454545; stroke-width: 1.5; stroke-linecap: square\"/>\n   </g>\n   <g id=\"line2d_120\">\n    <path d=\"M 944.058131 231.442451 \nL 944.058131 237.164556 \n\" clip-path=\"url(#p4bd4d4df97)\" style=\"fill: none; stroke: #454545; stroke-width: 1.5; stroke-linecap: square\"/>\n   </g>\n   <g id=\"line2d_121\">\n    <g clip-path=\"url(#p4bd4d4df97)\">\n     <use xlink:href=\"#meb6f50767c\" x=\"108.515473\" y=\"234.303503\" style=\"fill: #454545; stroke: #454545; stroke-linejoin: miter\"/>\n     <use xlink:href=\"#meb6f50767c\" x=\"132.657297\" y=\"234.303503\" style=\"fill: #454545; stroke: #454545; stroke-linejoin: miter\"/>\n     <use xlink:href=\"#meb6f50767c\" x=\"1001.76298\" y=\"234.303503\" style=\"fill: #454545; stroke: #454545; stroke-linejoin: miter\"/>\n     <use xlink:href=\"#meb6f50767c\" x=\"1011.773005\" y=\"234.303503\" style=\"fill: #454545; stroke: #454545; stroke-linejoin: miter\"/>\n     <use xlink:href=\"#meb6f50767c\" x=\"976.737918\" y=\"234.303503\" style=\"fill: #454545; stroke: #454545; stroke-linejoin: miter\"/>\n     <use xlink:href=\"#meb6f50767c\" x=\"964.372593\" y=\"234.303503\" style=\"fill: #454545; stroke: #454545; stroke-linejoin: miter\"/>\n    </g>\n   </g>\n   <g id=\"line2d_122\">\n    <path d=\"M 446.501016 248.608766 \nL 152.382934 248.608766 \n\" clip-path=\"url(#p4bd4d4df97)\" style=\"fill: none; stroke: #454545; stroke-width: 1.5; stroke-linecap: square\"/>\n   </g>\n   <g id=\"line2d_123\">\n    <path d=\"M 642.726943 248.608766 \nL 936.403406 248.608766 \n\" clip-path=\"url(#p4bd4d4df97)\" style=\"fill: none; stroke: #454545; stroke-width: 1.5; stroke-linecap: square\"/>\n   </g>\n   <g id=\"line2d_124\">\n    <path d=\"M 152.382934 245.747714 \nL 152.382934 251.469819 \n\" clip-path=\"url(#p4bd4d4df97)\" style=\"fill: none; stroke: #454545; stroke-width: 1.5; stroke-linecap: square\"/>\n   </g>\n   <g id=\"line2d_125\">\n    <path d=\"M 936.403406 245.747714 \nL 936.403406 251.469819 \n\" clip-path=\"url(#p4bd4d4df97)\" style=\"fill: none; stroke: #454545; stroke-width: 1.5; stroke-linecap: square\"/>\n   </g>\n   <g id=\"line2d_126\">\n    <g clip-path=\"url(#p4bd4d4df97)\">\n     <use xlink:href=\"#meb6f50767c\" x=\"954.362568\" y=\"248.608766\" style=\"fill: #454545; stroke: #454545; stroke-linejoin: miter\"/>\n     <use xlink:href=\"#meb6f50767c\" x=\"939.641943\" y=\"248.608766\" style=\"fill: #454545; stroke: #454545; stroke-linejoin: miter\"/>\n     <use xlink:href=\"#meb6f50767c\" x=\"946.413431\" y=\"248.608766\" style=\"fill: #454545; stroke: #454545; stroke-linejoin: miter\"/>\n     <use xlink:href=\"#meb6f50767c\" x=\"971.732905\" y=\"248.608766\" style=\"fill: #454545; stroke: #454545; stroke-linejoin: miter\"/>\n    </g>\n   </g>\n   <g id=\"line2d_127\">\n    <path d=\"M 457.467881 262.91403 \nL 176.524759 262.91403 \n\" clip-path=\"url(#p4bd4d4df97)\" style=\"fill: none; stroke: #454545; stroke-width: 1.5; stroke-linecap: square\"/>\n   </g>\n   <g id=\"line2d_128\">\n    <path d=\"M 647.437543 262.91403 \nL 898.718607 262.91403 \n\" clip-path=\"url(#p4bd4d4df97)\" style=\"fill: none; stroke: #454545; stroke-width: 1.5; stroke-linecap: square\"/>\n   </g>\n   <g id=\"line2d_129\">\n    <path d=\"M 176.524759 260.052977 \nL 176.524759 265.775082 \n\" clip-path=\"url(#p4bd4d4df97)\" style=\"fill: none; stroke: #454545; stroke-width: 1.5; stroke-linecap: square\"/>\n   </g>\n   <g id=\"line2d_130\">\n    <path d=\"M 898.718607 260.052977 \nL 898.718607 265.775082 \n\" clip-path=\"url(#p4bd4d4df97)\" style=\"fill: none; stroke: #454545; stroke-width: 1.5; stroke-linecap: square\"/>\n   </g>\n   <g id=\"line2d_131\">\n    <g clip-path=\"url(#p4bd4d4df97)\">\n     <use xlink:href=\"#meb6f50767c\" x=\"122.35286\" y=\"262.91403\" style=\"fill: #454545; stroke: #454545; stroke-linejoin: miter\"/>\n     <use xlink:href=\"#meb6f50767c\" x=\"165.925909\" y=\"262.91403\" style=\"fill: #454545; stroke: #454545; stroke-linejoin: miter\"/>\n     <use xlink:href=\"#meb6f50767c\" x=\"136.48466\" y=\"262.91403\" style=\"fill: #454545; stroke: #454545; stroke-linejoin: miter\"/>\n     <use xlink:href=\"#meb6f50767c\" x=\"109.987535\" y=\"262.91403\" style=\"fill: #454545; stroke: #454545; stroke-linejoin: miter\"/>\n     <use xlink:href=\"#meb6f50767c\" x=\"167.986797\" y=\"262.91403\" style=\"fill: #454545; stroke: #454545; stroke-linejoin: miter\"/>\n     <use xlink:href=\"#meb6f50767c\" x=\"949.063143\" y=\"262.91403\" style=\"fill: #454545; stroke: #454545; stroke-linejoin: miter\"/>\n     <use xlink:href=\"#meb6f50767c\" x=\"971.732905\" y=\"262.91403\" style=\"fill: #454545; stroke: #454545; stroke-linejoin: miter\"/>\n     <use xlink:href=\"#meb6f50767c\" x=\"979.38763\" y=\"262.91403\" style=\"fill: #454545; stroke: #454545; stroke-linejoin: miter\"/>\n     <use xlink:href=\"#meb6f50767c\" x=\"932.576044\" y=\"262.91403\" style=\"fill: #454545; stroke: #454545; stroke-linejoin: miter\"/>\n    </g>\n   </g>\n   <g id=\"line2d_132\">\n    <path d=\"M 458.424722 277.219293 \nL 183.296246 277.219293 \n\" clip-path=\"url(#p4bd4d4df97)\" style=\"fill: none; stroke: #454545; stroke-width: 1.5; stroke-linecap: square\"/>\n   </g>\n   <g id=\"line2d_133\">\n    <path d=\"M 652.000937 277.219293 \nL 896.952132 277.219293 \n\" clip-path=\"url(#p4bd4d4df97)\" style=\"fill: none; stroke: #454545; stroke-width: 1.5; stroke-linecap: square\"/>\n   </g>\n   <g id=\"line2d_134\">\n    <path d=\"M 183.296246 274.35824 \nL 183.296246 280.080345 \n\" clip-path=\"url(#p4bd4d4df97)\" style=\"fill: none; stroke: #454545; stroke-width: 1.5; stroke-linecap: square\"/>\n   </g>\n   <g id=\"line2d_135\">\n    <path d=\"M 896.952132 274.35824 \nL 896.952132 280.080345 \n\" clip-path=\"url(#p4bd4d4df97)\" style=\"fill: none; stroke: #454545; stroke-width: 1.5; stroke-linecap: square\"/>\n   </g>\n   <g id=\"line2d_136\">\n    <g clip-path=\"url(#p4bd4d4df97)\">\n     <use xlink:href=\"#meb6f50767c\" x=\"160.920897\" y=\"277.219293\" style=\"fill: #454545; stroke: #454545; stroke-linejoin: miter\"/>\n     <use xlink:href=\"#meb6f50767c\" x=\"162.687372\" y=\"277.219293\" style=\"fill: #454545; stroke: #454545; stroke-linejoin: miter\"/>\n     <use xlink:href=\"#meb6f50767c\" x=\"139.428785\" y=\"277.219293\" style=\"fill: #454545; stroke: #454545; stroke-linejoin: miter\"/>\n     <use xlink:href=\"#meb6f50767c\" x=\"154.149409\" y=\"277.219293\" style=\"fill: #454545; stroke: #454545; stroke-linejoin: miter\"/>\n     <use xlink:href=\"#meb6f50767c\" x=\"1018.250079\" y=\"277.219293\" style=\"fill: #454545; stroke: #454545; stroke-linejoin: miter\"/>\n     <use xlink:href=\"#meb6f50767c\" x=\"1045.041616\" y=\"277.219293\" style=\"fill: #454545; stroke: #454545; stroke-linejoin: miter\"/>\n     <use xlink:href=\"#meb6f50767c\" x=\"1071.538741\" y=\"277.219293\" style=\"fill: #454545; stroke: #454545; stroke-linejoin: miter\"/>\n     <use xlink:href=\"#meb6f50767c\" x=\"999.113267\" y=\"277.219293\" style=\"fill: #454545; stroke: #454545; stroke-linejoin: miter\"/>\n     <use xlink:href=\"#meb6f50767c\" x=\"1122.472102\" y=\"277.219293\" style=\"fill: #454545; stroke: #454545; stroke-linejoin: miter\"/>\n    </g>\n   </g>\n   <g id=\"line2d_137\">\n    <path d=\"M 466.300256 291.524556 \nL 178.291234 291.524556 \n\" clip-path=\"url(#p4bd4d4df97)\" style=\"fill: none; stroke: #454545; stroke-width: 1.5; stroke-linecap: square\"/>\n   </g>\n   <g id=\"line2d_138\">\n    <path d=\"M 658.993233 291.524556 \nL 932.576044 291.524556 \n\" clip-path=\"url(#p4bd4d4df97)\" style=\"fill: none; stroke: #454545; stroke-width: 1.5; stroke-linecap: square\"/>\n   </g>\n   <g id=\"line2d_139\">\n    <path d=\"M 178.291234 288.663503 \nL 178.291234 294.385609 \n\" clip-path=\"url(#p4bd4d4df97)\" style=\"fill: none; stroke: #454545; stroke-width: 1.5; stroke-linecap: square\"/>\n   </g>\n   <g id=\"line2d_140\">\n    <path d=\"M 932.576044 288.663503 \nL 932.576044 294.385609 \n\" clip-path=\"url(#p4bd4d4df97)\" style=\"fill: none; stroke: #454545; stroke-width: 1.5; stroke-linecap: square\"/>\n   </g>\n   <g id=\"line2d_141\">\n    <g clip-path=\"url(#p4bd4d4df97)\">\n     <use xlink:href=\"#meb6f50767c\" x=\"144.139384\" y=\"291.524556\" style=\"fill: #454545; stroke: #454545; stroke-linejoin: miter\"/>\n     <use xlink:href=\"#meb6f50767c\" x=\"132.362885\" y=\"291.524556\" style=\"fill: #454545; stroke: #454545; stroke-linejoin: miter\"/>\n     <use xlink:href=\"#meb6f50767c\" x=\"966.43348\" y=\"291.524556\" style=\"fill: #454545; stroke: #454545; stroke-linejoin: miter\"/>\n     <use xlink:href=\"#meb6f50767c\" x=\"978.798805\" y=\"291.524556\" style=\"fill: #454545; stroke: #454545; stroke-linejoin: miter\"/>\n     <use xlink:href=\"#meb6f50767c\" x=\"966.43348\" y=\"291.524556\" style=\"fill: #454545; stroke: #454545; stroke-linejoin: miter\"/>\n    </g>\n   </g>\n   <g id=\"line2d_142\">\n    <path d=\"M 455.112581 305.829819 \nL 160.037659 305.829819 \n\" clip-path=\"url(#p4bd4d4df97)\" style=\"fill: none; stroke: #454545; stroke-width: 1.5; stroke-linecap: square\"/>\n   </g>\n   <g id=\"line2d_143\">\n    <path d=\"M 654.061824 305.829819 \nL 929.631919 305.829819 \n\" clip-path=\"url(#p4bd4d4df97)\" style=\"fill: none; stroke: #454545; stroke-width: 1.5; stroke-linecap: square\"/>\n   </g>\n   <g id=\"line2d_144\">\n    <path d=\"M 160.037659 302.968766 \nL 160.037659 308.690872 \n\" clip-path=\"url(#p4bd4d4df97)\" style=\"fill: none; stroke: #454545; stroke-width: 1.5; stroke-linecap: square\"/>\n   </g>\n   <g id=\"line2d_145\">\n    <path d=\"M 929.631919 302.968766 \nL 929.631919 308.690872 \n\" clip-path=\"url(#p4bd4d4df97)\" style=\"fill: none; stroke: #454545; stroke-width: 1.5; stroke-linecap: square\"/>\n   </g>\n   <g id=\"line2d_146\">\n    <g clip-path=\"url(#p4bd4d4df97)\">\n     <use xlink:href=\"#meb6f50767c\" x=\"122.647272\" y=\"305.829819\" style=\"fill: #454545; stroke: #454545; stroke-linejoin: miter\"/>\n     <use xlink:href=\"#meb6f50767c\" x=\"143.256147\" y=\"305.829819\" style=\"fill: #454545; stroke: #454545; stroke-linejoin: miter\"/>\n     <use xlink:href=\"#meb6f50767c\" x=\"146.789097\" y=\"305.829819\" style=\"fill: #454545; stroke: #454545; stroke-linejoin: miter\"/>\n     <use xlink:href=\"#meb6f50767c\" x=\"1083.609653\" y=\"305.829819\" style=\"fill: #454545; stroke: #454545; stroke-linejoin: miter\"/>\n    </g>\n   </g>\n   <g id=\"line2d_147\">\n    <path d=\"M 450.033966 320.135082 \nL 149.144397 320.135082 \n\" clip-path=\"url(#p4bd4d4df97)\" style=\"fill: none; stroke: #454545; stroke-width: 1.5; stroke-linecap: square\"/>\n   </g>\n   <g id=\"line2d_148\">\n    <path d=\"M 651.706524 320.135082 \nL 950.240793 320.135082 \n\" clip-path=\"url(#p4bd4d4df97)\" style=\"fill: none; stroke: #454545; stroke-width: 1.5; stroke-linecap: square\"/>\n   </g>\n   <g id=\"line2d_149\">\n    <path d=\"M 149.144397 317.27403 \nL 149.144397 322.996135 \n\" clip-path=\"url(#p4bd4d4df97)\" style=\"fill: none; stroke: #454545; stroke-width: 1.5; stroke-linecap: square\"/>\n   </g>\n   <g id=\"line2d_150\">\n    <path d=\"M 950.240793 317.27403 \nL 950.240793 322.996135 \n\" clip-path=\"url(#p4bd4d4df97)\" style=\"fill: none; stroke: #454545; stroke-width: 1.5; stroke-linecap: square\"/>\n   </g>\n   <g id=\"line2d_151\">\n    <g clip-path=\"url(#p4bd4d4df97)\">\n     <use xlink:href=\"#meb6f50767c\" x=\"130.007585\" y=\"320.135082\" style=\"fill: #454545; stroke: #454545; stroke-linejoin: miter\"/>\n    </g>\n   </g>\n   <g id=\"line2d_152\">\n    <path d=\"M 440.612766 334.440345 \nL 145.611447 334.440345 \n\" clip-path=\"url(#p4bd4d4df97)\" style=\"fill: none; stroke: #454545; stroke-width: 1.5; stroke-linecap: square\"/>\n   </g>\n   <g id=\"line2d_153\">\n    <path d=\"M 646.480702 334.440345 \nL 919.327481 334.440345 \n\" clip-path=\"url(#p4bd4d4df97)\" style=\"fill: none; stroke: #454545; stroke-width: 1.5; stroke-linecap: square\"/>\n   </g>\n   <g id=\"line2d_154\">\n    <path d=\"M 145.611447 331.579293 \nL 145.611447 337.301398 \n\" clip-path=\"url(#p4bd4d4df97)\" style=\"fill: none; stroke: #454545; stroke-width: 1.5; stroke-linecap: square\"/>\n   </g>\n   <g id=\"line2d_155\">\n    <path d=\"M 919.327481 331.579293 \nL 919.327481 337.301398 \n\" clip-path=\"url(#p4bd4d4df97)\" style=\"fill: none; stroke: #454545; stroke-width: 1.5; stroke-linecap: square\"/>\n   </g>\n   <g id=\"line2d_156\">\n    <g clip-path=\"url(#p4bd4d4df97)\">\n     <use xlink:href=\"#meb6f50767c\" x=\"129.713172\" y=\"334.440345\" style=\"fill: #454545; stroke: #454545; stroke-linejoin: miter\"/>\n     <use xlink:href=\"#meb6f50767c\" x=\"111.75401\" y=\"334.440345\" style=\"fill: #454545; stroke: #454545; stroke-linejoin: miter\"/>\n     <use xlink:href=\"#meb6f50767c\" x=\"127.652285\" y=\"334.440345\" style=\"fill: #454545; stroke: #454545; stroke-linejoin: miter\"/>\n     <use xlink:href=\"#meb6f50767c\" x=\"130.301997\" y=\"334.440345\" style=\"fill: #454545; stroke: #454545; stroke-linejoin: miter\"/>\n     <use xlink:href=\"#meb6f50767c\" x=\"990.869717\" y=\"334.440345\" style=\"fill: #454545; stroke: #454545; stroke-linejoin: miter\"/>\n     <use xlink:href=\"#meb6f50767c\" x=\"962.311706\" y=\"334.440345\" style=\"fill: #454545; stroke: #454545; stroke-linejoin: miter\"/>\n     <use xlink:href=\"#meb6f50767c\" x=\"1006.179167\" y=\"334.440345\" style=\"fill: #454545; stroke: #454545; stroke-linejoin: miter\"/>\n    </g>\n   </g>\n   <g id=\"line2d_157\">\n    <path d=\"M 452.683678 348.745609 \nL 152.382934 348.745609 \n\" clip-path=\"url(#p4bd4d4df97)\" style=\"fill: none; stroke: #454545; stroke-width: 1.5; stroke-linecap: square\"/>\n   </g>\n   <g id=\"line2d_158\">\n    <path d=\"M 653.178587 348.745609 \nL 943.469306 348.745609 \n\" clip-path=\"url(#p4bd4d4df97)\" style=\"fill: none; stroke: #454545; stroke-width: 1.5; stroke-linecap: square\"/>\n   </g>\n   <g id=\"line2d_159\">\n    <path d=\"M 152.382934 345.884556 \nL 152.382934 351.606661 \n\" clip-path=\"url(#p4bd4d4df97)\" style=\"fill: none; stroke: #454545; stroke-width: 1.5; stroke-linecap: square\"/>\n   </g>\n   <g id=\"line2d_160\">\n    <path d=\"M 943.469306 345.884556 \nL 943.469306 351.606661 \n\" clip-path=\"url(#p4bd4d4df97)\" style=\"fill: none; stroke: #454545; stroke-width: 1.5; stroke-linecap: square\"/>\n   </g>\n   <g id=\"line2d_161\">\n    <g clip-path=\"url(#p4bd4d4df97)\">\n     <use xlink:href=\"#meb6f50767c\" x=\"150.027634\" y=\"348.745609\" style=\"fill: #454545; stroke: #454545; stroke-linejoin: miter\"/>\n     <use xlink:href=\"#meb6f50767c\" x=\"954.951393\" y=\"348.745609\" style=\"fill: #454545; stroke: #454545; stroke-linejoin: miter\"/>\n     <use xlink:href=\"#meb6f50767c\" x=\"1076.838166\" y=\"348.745609\" style=\"fill: #454545; stroke: #454545; stroke-linejoin: miter\"/>\n     <use xlink:href=\"#meb6f50767c\" x=\"960.250818\" y=\"348.745609\" style=\"fill: #454545; stroke: #454545; stroke-linejoin: miter\"/>\n     <use xlink:href=\"#meb6f50767c\" x=\"980.56528\" y=\"348.745609\" style=\"fill: #454545; stroke: #454545; stroke-linejoin: miter\"/>\n    </g>\n   </g>\n   <g id=\"line2d_162\">\n    <path d=\"M 463.871353 363.050872 \nL 191.834209 363.050872 \n\" clip-path=\"url(#p4bd4d4df97)\" style=\"fill: none; stroke: #454545; stroke-width: 1.5; stroke-linecap: square\"/>\n   </g>\n   <g id=\"line2d_163\">\n    <path d=\"M 650.528874 363.050872 \nL 909.611869 363.050872 \n\" clip-path=\"url(#p4bd4d4df97)\" style=\"fill: none; stroke: #454545; stroke-width: 1.5; stroke-linecap: square\"/>\n   </g>\n   <g id=\"line2d_164\">\n    <path d=\"M 191.834209 360.189819 \nL 191.834209 365.911924 \n\" clip-path=\"url(#p4bd4d4df97)\" style=\"fill: none; stroke: #454545; stroke-width: 1.5; stroke-linecap: square\"/>\n   </g>\n   <g id=\"line2d_165\">\n    <path d=\"M 909.611869 360.189819 \nL 909.611869 365.911924 \n\" clip-path=\"url(#p4bd4d4df97)\" style=\"fill: none; stroke: #454545; stroke-width: 1.5; stroke-linecap: square\"/>\n   </g>\n   <g id=\"line2d_166\">\n    <g clip-path=\"url(#p4bd4d4df97)\">\n     <use xlink:href=\"#meb6f50767c\" x=\"167.103559\" y=\"363.050872\" style=\"fill: #454545; stroke: #454545; stroke-linejoin: miter\"/>\n     <use xlink:href=\"#meb6f50767c\" x=\"179.763296\" y=\"363.050872\" style=\"fill: #454545; stroke: #454545; stroke-linejoin: miter\"/>\n     <use xlink:href=\"#meb6f50767c\" x=\"172.402984\" y=\"363.050872\" style=\"fill: #454545; stroke: #454545; stroke-linejoin: miter\"/>\n     <use xlink:href=\"#meb6f50767c\" x=\"176.819171\" y=\"363.050872\" style=\"fill: #454545; stroke: #454545; stroke-linejoin: miter\"/>\n     <use xlink:href=\"#meb6f50767c\" x=\"963.489355\" y=\"363.050872\" style=\"fill: #454545; stroke: #454545; stroke-linejoin: miter\"/>\n     <use xlink:href=\"#meb6f50767c\" x=\"932.281631\" y=\"363.050872\" style=\"fill: #454545; stroke: #454545; stroke-linejoin: miter\"/>\n     <use xlink:href=\"#meb6f50767c\" x=\"954.362568\" y=\"363.050872\" style=\"fill: #454545; stroke: #454545; stroke-linejoin: miter\"/>\n    </g>\n   </g>\n   <g id=\"line2d_167\">\n    <path d=\"M 461.810466 377.356135 \nL 184.473896 377.356135 \n\" clip-path=\"url(#p4bd4d4df97)\" style=\"fill: none; stroke: #454545; stroke-width: 1.5; stroke-linecap: square\"/>\n   </g>\n   <g id=\"line2d_168\">\n    <path d=\"M 657.079552 377.356135 \nL 944.941368 377.356135 \n\" clip-path=\"url(#p4bd4d4df97)\" style=\"fill: none; stroke: #454545; stroke-width: 1.5; stroke-linecap: square\"/>\n   </g>\n   <g id=\"line2d_169\">\n    <path d=\"M 184.473896 374.495082 \nL 184.473896 380.217187 \n\" clip-path=\"url(#p4bd4d4df97)\" style=\"fill: none; stroke: #454545; stroke-width: 1.5; stroke-linecap: square\"/>\n   </g>\n   <g id=\"line2d_170\">\n    <path d=\"M 944.941368 374.495082 \nL 944.941368 380.217187 \n\" clip-path=\"url(#p4bd4d4df97)\" style=\"fill: none; stroke: #454545; stroke-width: 1.5; stroke-linecap: square\"/>\n   </g>\n   <g id=\"line2d_171\">\n    <g clip-path=\"url(#p4bd4d4df97)\">\n     <use xlink:href=\"#meb6f50767c\" x=\"155.915884\" y=\"377.356135\" style=\"fill: #454545; stroke: #454545; stroke-linejoin: miter\"/>\n     <use xlink:href=\"#meb6f50767c\" x=\"120.586385\" y=\"377.356135\" style=\"fill: #454545; stroke: #454545; stroke-linejoin: miter\"/>\n     <use xlink:href=\"#meb6f50767c\" x=\"127.652285\" y=\"377.356135\" style=\"fill: #454545; stroke: #454545; stroke-linejoin: miter\"/>\n     <use xlink:href=\"#meb6f50767c\" x=\"113.814898\" y=\"377.356135\" style=\"fill: #454545; stroke: #454545; stroke-linejoin: miter\"/>\n    </g>\n   </g>\n   <g id=\"line2d_172\">\n    <path d=\"M 447.384253 391.661398 \nL 172.108571 391.661398 \n\" clip-path=\"url(#p4bd4d4df97)\" style=\"fill: none; stroke: #454545; stroke-width: 1.5; stroke-linecap: square\"/>\n   </g>\n   <g id=\"line2d_173\">\n    <path d=\"M 648.173574 391.661398 \nL 948.474318 391.661398 \n\" clip-path=\"url(#p4bd4d4df97)\" style=\"fill: none; stroke: #454545; stroke-width: 1.5; stroke-linecap: square\"/>\n   </g>\n   <g id=\"line2d_174\">\n    <path d=\"M 172.108571 388.800345 \nL 172.108571 394.522451 \n\" clip-path=\"url(#p4bd4d4df97)\" style=\"fill: none; stroke: #454545; stroke-width: 1.5; stroke-linecap: square\"/>\n   </g>\n   <g id=\"line2d_175\">\n    <path d=\"M 948.474318 388.800345 \nL 948.474318 394.522451 \n\" clip-path=\"url(#p4bd4d4df97)\" style=\"fill: none; stroke: #454545; stroke-width: 1.5; stroke-linecap: square\"/>\n   </g>\n   <g id=\"line2d_176\">\n    <g clip-path=\"url(#p4bd4d4df97)\">\n     <use xlink:href=\"#meb6f50767c\" x=\"126.769047\" y=\"391.661398\" style=\"fill: #454545; stroke: #454545; stroke-linejoin: miter\"/>\n     <use xlink:href=\"#meb6f50767c\" x=\"123.236097\" y=\"391.661398\" style=\"fill: #454545; stroke: #454545; stroke-linejoin: miter\"/>\n     <use xlink:href=\"#meb6f50767c\" x=\"130.301997\" y=\"391.661398\" style=\"fill: #454545; stroke: #454545; stroke-linejoin: miter\"/>\n     <use xlink:href=\"#meb6f50767c\" x=\"955.540218\" y=\"391.661398\" style=\"fill: #454545; stroke: #454545; stroke-linejoin: miter\"/>\n    </g>\n   </g>\n   <g id=\"line2d_177\">\n    <path d=\"M 446.648222 405.966661 \nL 145.317034 405.966661 \n\" clip-path=\"url(#p4bd4d4df97)\" style=\"fill: none; stroke: #454545; stroke-width: 1.5; stroke-linecap: square\"/>\n   </g>\n   <g id=\"line2d_178\">\n    <path d=\"M 651.264906 405.966661 \nL 951.124031 405.966661 \n\" clip-path=\"url(#p4bd4d4df97)\" style=\"fill: none; stroke: #454545; stroke-width: 1.5; stroke-linecap: square\"/>\n   </g>\n   <g id=\"line2d_179\">\n    <path d=\"M 145.317034 403.105609 \nL 145.317034 408.827714 \n\" clip-path=\"url(#p4bd4d4df97)\" style=\"fill: none; stroke: #454545; stroke-width: 1.5; stroke-linecap: square\"/>\n   </g>\n   <g id=\"line2d_180\">\n    <path d=\"M 951.124031 403.105609 \nL 951.124031 408.827714 \n\" clip-path=\"url(#p4bd4d4df97)\" style=\"fill: none; stroke: #454545; stroke-width: 1.5; stroke-linecap: square\"/>\n   </g>\n   <g id=\"line2d_181\"/>\n   <g id=\"line2d_182\">\n    <path d=\"M 452.978091 420.271924 \nL 165.337084 420.271924 \n\" clip-path=\"url(#p4bd4d4df97)\" style=\"fill: none; stroke: #454545; stroke-width: 1.5; stroke-linecap: square\"/>\n   </g>\n   <g id=\"line2d_183\">\n    <path d=\"M 653.472999 420.271924 \nL 947.591081 420.271924 \n\" clip-path=\"url(#p4bd4d4df97)\" style=\"fill: none; stroke: #454545; stroke-width: 1.5; stroke-linecap: square\"/>\n   </g>\n   <g id=\"line2d_184\">\n    <path d=\"M 165.337084 417.410872 \nL 165.337084 423.132977 \n\" clip-path=\"url(#p4bd4d4df97)\" style=\"fill: none; stroke: #454545; stroke-width: 1.5; stroke-linecap: square\"/>\n   </g>\n   <g id=\"line2d_185\">\n    <path d=\"M 947.591081 417.410872 \nL 947.591081 423.132977 \n\" clip-path=\"url(#p4bd4d4df97)\" style=\"fill: none; stroke: #454545; stroke-width: 1.5; stroke-linecap: square\"/>\n   </g>\n   <g id=\"line2d_186\">\n    <g clip-path=\"url(#p4bd4d4df97)\">\n     <use xlink:href=\"#meb6f50767c\" x=\"149.438809\" y=\"420.271924\" style=\"fill: #454545; stroke: #454545; stroke-linejoin: miter\"/>\n     <use xlink:href=\"#meb6f50767c\" x=\"121.469622\" y=\"420.271924\" style=\"fill: #454545; stroke: #454545; stroke-linejoin: miter\"/>\n     <use xlink:href=\"#meb6f50767c\" x=\"148.261159\" y=\"420.271924\" style=\"fill: #454545; stroke: #454545; stroke-linejoin: miter\"/>\n     <use xlink:href=\"#meb6f50767c\" x=\"132.362885\" y=\"420.271924\" style=\"fill: #454545; stroke: #454545; stroke-linejoin: miter\"/>\n     <use xlink:href=\"#meb6f50767c\" x=\"147.377922\" y=\"420.271924\" style=\"fill: #454545; stroke: #454545; stroke-linejoin: miter\"/>\n     <use xlink:href=\"#meb6f50767c\" x=\"955.834631\" y=\"420.271924\" style=\"fill: #454545; stroke: #454545; stroke-linejoin: miter\"/>\n     <use xlink:href=\"#meb6f50767c\" x=\"963.489355\" y=\"420.271924\" style=\"fill: #454545; stroke: #454545; stroke-linejoin: miter\"/>\n     <use xlink:href=\"#meb6f50767c\" x=\"956.129043\" y=\"420.271924\" style=\"fill: #454545; stroke: #454545; stroke-linejoin: miter\"/>\n    </g>\n   </g>\n   <g id=\"line2d_187\">\n    <path d=\"M 449.445141 434.577187 \nL 142.37291 434.577187 \n\" clip-path=\"url(#p4bd4d4df97)\" style=\"fill: none; stroke: #454545; stroke-width: 1.5; stroke-linecap: square\"/>\n   </g>\n   <g id=\"line2d_188\">\n    <path d=\"M 658.478012 434.577187 \nL 947.591081 434.577187 \n\" clip-path=\"url(#p4bd4d4df97)\" style=\"fill: none; stroke: #454545; stroke-width: 1.5; stroke-linecap: square\"/>\n   </g>\n   <g id=\"line2d_189\">\n    <path d=\"M 142.37291 431.716135 \nL 142.37291 437.43824 \n\" clip-path=\"url(#p4bd4d4df97)\" style=\"fill: none; stroke: #454545; stroke-width: 1.5; stroke-linecap: square\"/>\n   </g>\n   <g id=\"line2d_190\">\n    <path d=\"M 947.591081 431.716135 \nL 947.591081 437.43824 \n\" clip-path=\"url(#p4bd4d4df97)\" style=\"fill: none; stroke: #454545; stroke-width: 1.5; stroke-linecap: square\"/>\n   </g>\n   <g id=\"line2d_191\">\n    <g clip-path=\"url(#p4bd4d4df97)\">\n     <use xlink:href=\"#meb6f50767c\" x=\"128.829935\" y=\"434.577187\" style=\"fill: #454545; stroke: #454545; stroke-linejoin: miter\"/>\n     <use xlink:href=\"#meb6f50767c\" x=\"116.759023\" y=\"434.577187\" style=\"fill: #454545; stroke: #454545; stroke-linejoin: miter\"/>\n     <use xlink:href=\"#meb6f50767c\" x=\"997.05238\" y=\"434.577187\" style=\"fill: #454545; stroke: #454545; stroke-linejoin: miter\"/>\n    </g>\n   </g>\n   <g id=\"line2d_192\">\n    <path d=\"M 454.744566 448.882451 \nL 193.600683 448.882451 \n\" clip-path=\"url(#p4bd4d4df97)\" style=\"fill: none; stroke: #454545; stroke-width: 1.5; stroke-linecap: square\"/>\n   </g>\n   <g id=\"line2d_193\">\n    <path d=\"M 646.701512 448.882451 \nL 918.149831 448.882451 \n\" clip-path=\"url(#p4bd4d4df97)\" style=\"fill: none; stroke: #454545; stroke-width: 1.5; stroke-linecap: square\"/>\n   </g>\n   <g id=\"line2d_194\">\n    <path d=\"M 193.600683 446.021398 \nL 193.600683 451.743503 \n\" clip-path=\"url(#p4bd4d4df97)\" style=\"fill: none; stroke: #454545; stroke-width: 1.5; stroke-linecap: square\"/>\n   </g>\n   <g id=\"line2d_195\">\n    <path d=\"M 918.149831 446.021398 \nL 918.149831 451.743503 \n\" clip-path=\"url(#p4bd4d4df97)\" style=\"fill: none; stroke: #454545; stroke-width: 1.5; stroke-linecap: square\"/>\n   </g>\n   <g id=\"line2d_196\">\n    <g clip-path=\"url(#p4bd4d4df97)\">\n     <use xlink:href=\"#meb6f50767c\" x=\"156.504709\" y=\"448.882451\" style=\"fill: #454545; stroke: #454545; stroke-linejoin: miter\"/>\n     <use xlink:href=\"#meb6f50767c\" x=\"165.925909\" y=\"448.882451\" style=\"fill: #454545; stroke: #454545; stroke-linejoin: miter\"/>\n     <use xlink:href=\"#meb6f50767c\" x=\"130.301997\" y=\"448.882451\" style=\"fill: #454545; stroke: #454545; stroke-linejoin: miter\"/>\n     <use xlink:href=\"#meb6f50767c\" x=\"962.606118\" y=\"448.882451\" style=\"fill: #454545; stroke: #454545; stroke-linejoin: miter\"/>\n     <use xlink:href=\"#meb6f50767c\" x=\"963.783768\" y=\"448.882451\" style=\"fill: #454545; stroke: #454545; stroke-linejoin: miter\"/>\n     <use xlink:href=\"#meb6f50767c\" x=\"965.25583\" y=\"448.882451\" style=\"fill: #454545; stroke: #454545; stroke-linejoin: miter\"/>\n     <use xlink:href=\"#meb6f50767c\" x=\"1032.087467\" y=\"448.882451\" style=\"fill: #454545; stroke: #454545; stroke-linejoin: miter\"/>\n     <use xlink:href=\"#meb6f50767c\" x=\"975.265855\" y=\"448.882451\" style=\"fill: #454545; stroke: #454545; stroke-linejoin: miter\"/>\n     <use xlink:href=\"#meb6f50767c\" x=\"937.875468\" y=\"448.882451\" style=\"fill: #454545; stroke: #454545; stroke-linejoin: miter\"/>\n     <use xlink:href=\"#meb6f50767c\" x=\"980.270868\" y=\"448.882451\" style=\"fill: #454545; stroke: #454545; stroke-linejoin: miter\"/>\n     <use xlink:href=\"#meb6f50767c\" x=\"1033.853942\" y=\"448.882451\" style=\"fill: #454545; stroke: #454545; stroke-linejoin: miter\"/>\n    </g>\n   </g>\n   <g id=\"line2d_197\">\n    <path d=\"M 456.805453 463.187714 \nL 160.920897 463.187714 \n\" clip-path=\"url(#p4bd4d4df97)\" style=\"fill: none; stroke: #454545; stroke-width: 1.5; stroke-linecap: square\"/>\n   </g>\n   <g id=\"line2d_198\">\n    <path d=\"M 655.828299 463.187714 \nL 937.286644 463.187714 \n\" clip-path=\"url(#p4bd4d4df97)\" style=\"fill: none; stroke: #454545; stroke-width: 1.5; stroke-linecap: square\"/>\n   </g>\n   <g id=\"line2d_199\">\n    <path d=\"M 160.920897 460.326661 \nL 160.920897 466.048766 \n\" clip-path=\"url(#p4bd4d4df97)\" style=\"fill: none; stroke: #454545; stroke-width: 1.5; stroke-linecap: square\"/>\n   </g>\n   <g id=\"line2d_200\">\n    <path d=\"M 937.286644 460.326661 \nL 937.286644 466.048766 \n\" clip-path=\"url(#p4bd4d4df97)\" style=\"fill: none; stroke: #454545; stroke-width: 1.5; stroke-linecap: square\"/>\n   </g>\n   <g id=\"line2d_201\">\n    <g clip-path=\"url(#p4bd4d4df97)\">\n     <use xlink:href=\"#meb6f50767c\" x=\"143.256147\" y=\"463.187714\" style=\"fill: #454545; stroke: #454545; stroke-linejoin: miter\"/>\n     <use xlink:href=\"#meb6f50767c\" x=\"132.068472\" y=\"463.187714\" style=\"fill: #454545; stroke: #454545; stroke-linejoin: miter\"/>\n     <use xlink:href=\"#meb6f50767c\" x=\"123.53051\" y=\"463.187714\" style=\"fill: #454545; stroke: #454545; stroke-linejoin: miter\"/>\n     <use xlink:href=\"#meb6f50767c\" x=\"116.170198\" y=\"463.187714\" style=\"fill: #454545; stroke: #454545; stroke-linejoin: miter\"/>\n     <use xlink:href=\"#meb6f50767c\" x=\"1021.488617\" y=\"463.187714\" style=\"fill: #454545; stroke: #454545; stroke-linejoin: miter\"/>\n     <use xlink:href=\"#meb6f50767c\" x=\"1065.061666\" y=\"463.187714\" style=\"fill: #454545; stroke: #454545; stroke-linejoin: miter\"/>\n     <use xlink:href=\"#meb6f50767c\" x=\"990.869717\" y=\"463.187714\" style=\"fill: #454545; stroke: #454545; stroke-linejoin: miter\"/>\n    </g>\n   </g>\n   <g id=\"line2d_202\">\n    <path d=\"M 456.658247 477.492977 \nL 169.753271 477.492977 \n\" clip-path=\"url(#p4bd4d4df97)\" style=\"fill: none; stroke: #454545; stroke-width: 1.5; stroke-linecap: square\"/>\n   </g>\n   <g id=\"line2d_203\">\n    <path d=\"M 648.836002 477.492977 \nL 931.398394 477.492977 \n\" clip-path=\"url(#p4bd4d4df97)\" style=\"fill: none; stroke: #454545; stroke-width: 1.5; stroke-linecap: square\"/>\n   </g>\n   <g id=\"line2d_204\">\n    <path d=\"M 169.753271 474.631924 \nL 169.753271 480.35403 \n\" clip-path=\"url(#p4bd4d4df97)\" style=\"fill: none; stroke: #454545; stroke-width: 1.5; stroke-linecap: square\"/>\n   </g>\n   <g id=\"line2d_205\">\n    <path d=\"M 931.398394 474.631924 \nL 931.398394 480.35403 \n\" clip-path=\"url(#p4bd4d4df97)\" style=\"fill: none; stroke: #454545; stroke-width: 1.5; stroke-linecap: square\"/>\n   </g>\n   <g id=\"line2d_206\">\n    <g clip-path=\"url(#p4bd4d4df97)\">\n     <use xlink:href=\"#meb6f50767c\" x=\"133.246122\" y=\"477.492977\" style=\"fill: #454545; stroke: #454545; stroke-linejoin: miter\"/>\n     <use xlink:href=\"#meb6f50767c\" x=\"157.976772\" y=\"477.492977\" style=\"fill: #454545; stroke: #454545; stroke-linejoin: miter\"/>\n     <use xlink:href=\"#meb6f50767c\" x=\"152.382934\" y=\"477.492977\" style=\"fill: #454545; stroke: #454545; stroke-linejoin: miter\"/>\n     <use xlink:href=\"#meb6f50767c\" x=\"116.46461\" y=\"477.492977\" style=\"fill: #454545; stroke: #454545; stroke-linejoin: miter\"/>\n     <use xlink:href=\"#meb6f50767c\" x=\"162.687372\" y=\"477.492977\" style=\"fill: #454545; stroke: #454545; stroke-linejoin: miter\"/>\n     <use xlink:href=\"#meb6f50767c\" x=\"973.204968\" y=\"477.492977\" style=\"fill: #454545; stroke: #454545; stroke-linejoin: miter\"/>\n     <use xlink:href=\"#meb6f50767c\" x=\"993.225017\" y=\"477.492977\" style=\"fill: #454545; stroke: #454545; stroke-linejoin: miter\"/>\n    </g>\n   </g>\n   <g id=\"line2d_207\">\n    <path d=\"M 447.384253 491.79824 \nL 150.910872 491.79824 \n\" clip-path=\"url(#p4bd4d4df97)\" style=\"fill: none; stroke: #454545; stroke-width: 1.5; stroke-linecap: square\"/>\n   </g>\n   <g id=\"line2d_208\">\n    <path d=\"M 645.523862 491.79824 \nL 939.053118 491.79824 \n\" clip-path=\"url(#p4bd4d4df97)\" style=\"fill: none; stroke: #454545; stroke-width: 1.5; stroke-linecap: square\"/>\n   </g>\n   <g id=\"line2d_209\">\n    <path d=\"M 150.910872 488.937187 \nL 150.910872 494.659293 \n\" clip-path=\"url(#p4bd4d4df97)\" style=\"fill: none; stroke: #454545; stroke-width: 1.5; stroke-linecap: square\"/>\n   </g>\n   <g id=\"line2d_210\">\n    <path d=\"M 939.053118 488.937187 \nL 939.053118 494.659293 \n\" clip-path=\"url(#p4bd4d4df97)\" style=\"fill: none; stroke: #454545; stroke-width: 1.5; stroke-linecap: square\"/>\n   </g>\n   <g id=\"line2d_211\">\n    <g clip-path=\"url(#p4bd4d4df97)\">\n     <use xlink:href=\"#meb6f50767c\" x=\"121.469622\" y=\"491.79824\" style=\"fill: #454545; stroke: #454545; stroke-linejoin: miter\"/>\n     <use xlink:href=\"#meb6f50767c\" x=\"140.606435\" y=\"491.79824\" style=\"fill: #454545; stroke: #454545; stroke-linejoin: miter\"/>\n     <use xlink:href=\"#meb6f50767c\" x=\"1020.310967\" y=\"491.79824\" style=\"fill: #454545; stroke: #454545; stroke-linejoin: miter\"/>\n     <use xlink:href=\"#meb6f50767c\" x=\"944.646956\" y=\"491.79824\" style=\"fill: #454545; stroke: #454545; stroke-linejoin: miter\"/>\n    </g>\n   </g>\n   <g id=\"line2d_212\">\n    <path d=\"M 460.632816 506.103503 \nL 175.935934 506.103503 \n\" clip-path=\"url(#p4bd4d4df97)\" style=\"fill: none; stroke: #454545; stroke-width: 1.5; stroke-linecap: square\"/>\n   </g>\n   <g id=\"line2d_213\">\n    <path d=\"M 652.589762 506.103503 \nL 916.972181 506.103503 \n\" clip-path=\"url(#p4bd4d4df97)\" style=\"fill: none; stroke: #454545; stroke-width: 1.5; stroke-linecap: square\"/>\n   </g>\n   <g id=\"line2d_214\">\n    <path d=\"M 175.935934 503.242451 \nL 175.935934 508.964556 \n\" clip-path=\"url(#p4bd4d4df97)\" style=\"fill: none; stroke: #454545; stroke-width: 1.5; stroke-linecap: square\"/>\n   </g>\n   <g id=\"line2d_215\">\n    <path d=\"M 916.972181 503.242451 \nL 916.972181 508.964556 \n\" clip-path=\"url(#p4bd4d4df97)\" style=\"fill: none; stroke: #454545; stroke-width: 1.5; stroke-linecap: square\"/>\n   </g>\n   <g id=\"line2d_216\">\n    <g clip-path=\"url(#p4bd4d4df97)\">\n     <use xlink:href=\"#meb6f50767c\" x=\"117.936673\" y=\"506.103503\" style=\"fill: #454545; stroke: #454545; stroke-linejoin: miter\"/>\n     <use xlink:href=\"#meb6f50767c\" x=\"115.875785\" y=\"506.103503\" style=\"fill: #454545; stroke: #454545; stroke-linejoin: miter\"/>\n     <use xlink:href=\"#meb6f50767c\" x=\"110.57636\" y=\"506.103503\" style=\"fill: #454545; stroke: #454545; stroke-linejoin: miter\"/>\n     <use xlink:href=\"#meb6f50767c\" x=\"122.647272\" y=\"506.103503\" style=\"fill: #454545; stroke: #454545; stroke-linejoin: miter\"/>\n     <use xlink:href=\"#meb6f50767c\" x=\"158.565597\" y=\"506.103503\" style=\"fill: #454545; stroke: #454545; stroke-linejoin: miter\"/>\n     <use xlink:href=\"#meb6f50767c\" x=\"1064.767253\" y=\"506.103503\" style=\"fill: #454545; stroke: #454545; stroke-linejoin: miter\"/>\n     <use xlink:href=\"#meb6f50767c\" x=\"983.509405\" y=\"506.103503\" style=\"fill: #454545; stroke: #454545; stroke-linejoin: miter\"/>\n    </g>\n   </g>\n   <g id=\"line2d_217\">\n    <path d=\"M 453.714122 520.408766 \nL 165.925909 520.408766 \n\" clip-path=\"url(#p4bd4d4df97)\" style=\"fill: none; stroke: #454545; stroke-width: 1.5; stroke-linecap: square\"/>\n   </g>\n   <g id=\"line2d_218\">\n    <path d=\"M 652.442555 520.408766 \nL 949.063143 520.408766 \n\" clip-path=\"url(#p4bd4d4df97)\" style=\"fill: none; stroke: #454545; stroke-width: 1.5; stroke-linecap: square\"/>\n   </g>\n   <g id=\"line2d_219\">\n    <path d=\"M 165.925909 517.547714 \nL 165.925909 523.269819 \n\" clip-path=\"url(#p4bd4d4df97)\" style=\"fill: none; stroke: #454545; stroke-width: 1.5; stroke-linecap: square\"/>\n   </g>\n   <g id=\"line2d_220\">\n    <path d=\"M 949.063143 517.547714 \nL 949.063143 523.269819 \n\" clip-path=\"url(#p4bd4d4df97)\" style=\"fill: none; stroke: #454545; stroke-width: 1.5; stroke-linecap: square\"/>\n   </g>\n   <g id=\"line2d_221\">\n    <g clip-path=\"url(#p4bd4d4df97)\">\n     <use xlink:href=\"#meb6f50767c\" x=\"151.205284\" y=\"520.408766\" style=\"fill: #454545; stroke: #454545; stroke-linejoin: miter\"/>\n     <use xlink:href=\"#meb6f50767c\" x=\"116.170198\" y=\"520.408766\" style=\"fill: #454545; stroke: #454545; stroke-linejoin: miter\"/>\n     <use xlink:href=\"#meb6f50767c\" x=\"117.64226\" y=\"520.408766\" style=\"fill: #454545; stroke: #454545; stroke-linejoin: miter\"/>\n     <use xlink:href=\"#meb6f50767c\" x=\"140.900847\" y=\"520.408766\" style=\"fill: #454545; stroke: #454545; stroke-linejoin: miter\"/>\n     <use xlink:href=\"#meb6f50767c\" x=\"125.296985\" y=\"520.408766\" style=\"fill: #454545; stroke: #454545; stroke-linejoin: miter\"/>\n     <use xlink:href=\"#meb6f50767c\" x=\"110.870773\" y=\"520.408766\" style=\"fill: #454545; stroke: #454545; stroke-linejoin: miter\"/>\n     <use xlink:href=\"#meb6f50767c\" x=\"144.139384\" y=\"520.408766\" style=\"fill: #454545; stroke: #454545; stroke-linejoin: miter\"/>\n     <use xlink:href=\"#meb6f50767c\" x=\"128.535522\" y=\"520.408766\" style=\"fill: #454545; stroke: #454545; stroke-linejoin: miter\"/>\n     <use xlink:href=\"#meb6f50767c\" x=\"959.661993\" y=\"520.408766\" style=\"fill: #454545; stroke: #454545; stroke-linejoin: miter\"/>\n     <use xlink:href=\"#meb6f50767c\" x=\"965.25583\" y=\"520.408766\" style=\"fill: #454545; stroke: #454545; stroke-linejoin: miter\"/>\n    </g>\n   </g>\n   <g id=\"line2d_222\">\n    <path d=\"M 445.691382 534.71403 \nL 165.925909 534.71403 \n\" clip-path=\"url(#p4bd4d4df97)\" style=\"fill: none; stroke: #454545; stroke-width: 1.5; stroke-linecap: square\"/>\n   </g>\n   <g id=\"line2d_223\">\n    <path d=\"M 640.813262 534.71403 \nL 932.281631 534.71403 \n\" clip-path=\"url(#p4bd4d4df97)\" style=\"fill: none; stroke: #454545; stroke-width: 1.5; stroke-linecap: square\"/>\n   </g>\n   <g id=\"line2d_224\">\n    <path d=\"M 165.925909 531.852977 \nL 165.925909 537.575082 \n\" clip-path=\"url(#p4bd4d4df97)\" style=\"fill: none; stroke: #454545; stroke-width: 1.5; stroke-linecap: square\"/>\n   </g>\n   <g id=\"line2d_225\">\n    <path d=\"M 932.281631 531.852977 \nL 932.281631 537.575082 \n\" clip-path=\"url(#p4bd4d4df97)\" style=\"fill: none; stroke: #454545; stroke-width: 1.5; stroke-linecap: square\"/>\n   </g>\n   <g id=\"line2d_226\">\n    <g clip-path=\"url(#p4bd4d4df97)\">\n     <use xlink:href=\"#meb6f50767c\" x=\"144.728209\" y=\"534.71403\" style=\"fill: #454545; stroke: #454545; stroke-linejoin: miter\"/>\n     <use xlink:href=\"#meb6f50767c\" x=\"132.362885\" y=\"534.71403\" style=\"fill: #454545; stroke: #454545; stroke-linejoin: miter\"/>\n     <use xlink:href=\"#meb6f50767c\" x=\"115.28696\" y=\"534.71403\" style=\"fill: #454545; stroke: #454545; stroke-linejoin: miter\"/>\n     <use xlink:href=\"#meb6f50767c\" x=\"938.464293\" y=\"534.71403\" style=\"fill: #454545; stroke: #454545; stroke-linejoin: miter\"/>\n     <use xlink:href=\"#meb6f50767c\" x=\"962.017293\" y=\"534.71403\" style=\"fill: #454545; stroke: #454545; stroke-linejoin: miter\"/>\n     <use xlink:href=\"#meb6f50767c\" x=\"989.397655\" y=\"534.71403\" style=\"fill: #454545; stroke: #454545; stroke-linejoin: miter\"/>\n    </g>\n   </g>\n   <g id=\"line2d_227\">\n    <path d=\"M 458.571928 549.019293 \nL 195.367158 549.019293 \n\" clip-path=\"url(#p4bd4d4df97)\" style=\"fill: none; stroke: #454545; stroke-width: 1.5; stroke-linecap: square\"/>\n   </g>\n   <g id=\"line2d_228\">\n    <path d=\"M 656.049109 549.019293 \nL 948.768731 549.019293 \n\" clip-path=\"url(#p4bd4d4df97)\" style=\"fill: none; stroke: #454545; stroke-width: 1.5; stroke-linecap: square\"/>\n   </g>\n   <g id=\"line2d_229\">\n    <path d=\"M 195.367158 546.15824 \nL 195.367158 551.880345 \n\" clip-path=\"url(#p4bd4d4df97)\" style=\"fill: none; stroke: #454545; stroke-width: 1.5; stroke-linecap: square\"/>\n   </g>\n   <g id=\"line2d_230\">\n    <path d=\"M 948.768731 546.15824 \nL 948.768731 551.880345 \n\" clip-path=\"url(#p4bd4d4df97)\" style=\"fill: none; stroke: #454545; stroke-width: 1.5; stroke-linecap: square\"/>\n   </g>\n   <g id=\"line2d_231\">\n    <g clip-path=\"url(#p4bd4d4df97)\">\n     <use xlink:href=\"#meb6f50767c\" x=\"159.448834\" y=\"549.019293\" style=\"fill: #454545; stroke: #454545; stroke-linejoin: miter\"/>\n     <use xlink:href=\"#meb6f50767c\" x=\"979.682043\" y=\"549.019293\" style=\"fill: #454545; stroke: #454545; stroke-linejoin: miter\"/>\n    </g>\n   </g>\n   <g id=\"line2d_232\">\n    <path d=\"M 455.186184 563.324556 \nL 166.809147 563.324556 \n\" clip-path=\"url(#p4bd4d4df97)\" style=\"fill: none; stroke: #454545; stroke-width: 1.5; stroke-linecap: square\"/>\n   </g>\n   <g id=\"line2d_233\">\n    <path d=\"M 651.559318 563.324556 \nL 868.688532 563.324556 \n\" clip-path=\"url(#p4bd4d4df97)\" style=\"fill: none; stroke: #454545; stroke-width: 1.5; stroke-linecap: square\"/>\n   </g>\n   <g id=\"line2d_234\">\n    <path d=\"M 166.809147 560.463503 \nL 166.809147 566.185609 \n\" clip-path=\"url(#p4bd4d4df97)\" style=\"fill: none; stroke: #454545; stroke-width: 1.5; stroke-linecap: square\"/>\n   </g>\n   <g id=\"line2d_235\">\n    <path d=\"M 868.688532 560.463503 \nL 868.688532 566.185609 \n\" clip-path=\"url(#p4bd4d4df97)\" style=\"fill: none; stroke: #454545; stroke-width: 1.5; stroke-linecap: square\"/>\n   </g>\n   <g id=\"line2d_236\">\n    <g clip-path=\"url(#p4bd4d4df97)\">\n     <use xlink:href=\"#meb6f50767c\" x=\"117.936673\" y=\"563.324556\" style=\"fill: #454545; stroke: #454545; stroke-linejoin: miter\"/>\n     <use xlink:href=\"#meb6f50767c\" x=\"154.149409\" y=\"563.324556\" style=\"fill: #454545; stroke: #454545; stroke-linejoin: miter\"/>\n     <use xlink:href=\"#meb6f50767c\" x=\"142.667322\" y=\"563.324556\" style=\"fill: #454545; stroke: #454545; stroke-linejoin: miter\"/>\n     <use xlink:href=\"#meb6f50767c\" x=\"1001.76298\" y=\"563.324556\" style=\"fill: #454545; stroke: #454545; stroke-linejoin: miter\"/>\n    </g>\n   </g>\n   <g id=\"line2d_237\">\n    <path d=\"M 556.905701 28.307714 \nL 556.905701 39.751924 \n\" clip-path=\"url(#p4bd4d4df97)\" style=\"fill: none; stroke: #454545; stroke-width: 1.5; stroke-linecap: square\"/>\n   </g>\n   <g id=\"line2d_238\">\n    <path d=\"M 536.591239 42.612977 \nL 536.591239 54.057187 \n\" clip-path=\"url(#p4bd4d4df97)\" style=\"fill: none; stroke: #454545; stroke-width: 1.5; stroke-linecap: square\"/>\n   </g>\n   <g id=\"line2d_239\">\n    <path d=\"M 544.245964 56.91824 \nL 544.245964 68.362451 \n\" clip-path=\"url(#p4bd4d4df97)\" style=\"fill: none; stroke: #454545; stroke-width: 1.5; stroke-linecap: square\"/>\n   </g>\n   <g id=\"line2d_240\">\n    <path d=\"M 551.017451 71.223503 \nL 551.017451 82.667714 \n\" clip-path=\"url(#p4bd4d4df97)\" style=\"fill: none; stroke: #454545; stroke-width: 1.5; stroke-linecap: square\"/>\n   </g>\n   <g id=\"line2d_241\">\n    <path d=\"M 542.921108 85.528766 \nL 542.921108 96.972977 \n\" clip-path=\"url(#p4bd4d4df97)\" style=\"fill: none; stroke: #454545; stroke-width: 1.5; stroke-linecap: square\"/>\n   </g>\n   <g id=\"line2d_242\">\n    <path d=\"M 527.317246 99.83403 \nL 527.317246 111.27824 \n\" clip-path=\"url(#p4bd4d4df97)\" style=\"fill: none; stroke: #454545; stroke-width: 1.5; stroke-linecap: square\"/>\n   </g>\n   <g id=\"line2d_243\">\n    <path d=\"M 554.844814 114.139293 \nL 554.844814 125.583503 \n\" clip-path=\"url(#p4bd4d4df97)\" style=\"fill: none; stroke: #454545; stroke-width: 1.5; stroke-linecap: square\"/>\n   </g>\n   <g id=\"line2d_244\">\n    <path d=\"M 542.479489 128.444556 \nL 542.479489 139.888766 \n\" clip-path=\"url(#p4bd4d4df97)\" style=\"fill: none; stroke: #454545; stroke-width: 1.5; stroke-linecap: square\"/>\n   </g>\n   <g id=\"line2d_245\">\n    <path d=\"M 566.474107 142.749819 \nL 566.474107 154.19403 \n\" clip-path=\"url(#p4bd4d4df97)\" style=\"fill: none; stroke: #454545; stroke-width: 1.5; stroke-linecap: square\"/>\n   </g>\n   <g id=\"line2d_246\">\n    <path d=\"M 550.870245 157.055082 \nL 550.870245 168.499293 \n\" clip-path=\"url(#p4bd4d4df97)\" style=\"fill: none; stroke: #454545; stroke-width: 1.5; stroke-linecap: square\"/>\n   </g>\n   <g id=\"line2d_247\">\n    <path d=\"M 551.017451 171.360345 \nL 551.017451 182.804556 \n\" clip-path=\"url(#p4bd4d4df97)\" style=\"fill: none; stroke: #454545; stroke-width: 1.5; stroke-linecap: square\"/>\n   </g>\n   <g id=\"line2d_248\">\n    <path d=\"M 530.114164 185.665609 \nL 530.114164 197.109819 \n\" clip-path=\"url(#p4bd4d4df97)\" style=\"fill: none; stroke: #454545; stroke-width: 1.5; stroke-linecap: square\"/>\n   </g>\n   <g id=\"line2d_249\">\n    <path d=\"M 553.667164 199.970872 \nL 553.667164 211.415082 \n\" clip-path=\"url(#p4bd4d4df97)\" style=\"fill: none; stroke: #454545; stroke-width: 1.5; stroke-linecap: square\"/>\n   </g>\n   <g id=\"line2d_250\">\n    <path d=\"M 546.012439 214.276135 \nL 546.012439 225.720345 \n\" clip-path=\"url(#p4bd4d4df97)\" style=\"fill: none; stroke: #454545; stroke-width: 1.5; stroke-linecap: square\"/>\n   </g>\n   <g id=\"line2d_251\">\n    <path d=\"M 556.905701 228.581398 \nL 556.905701 240.025609 \n\" clip-path=\"url(#p4bd4d4df97)\" style=\"fill: none; stroke: #454545; stroke-width: 1.5; stroke-linecap: square\"/>\n   </g>\n   <g id=\"line2d_252\">\n    <path d=\"M 546.601264 242.886661 \nL 546.601264 254.330872 \n\" clip-path=\"url(#p4bd4d4df97)\" style=\"fill: none; stroke: #454545; stroke-width: 1.5; stroke-linecap: square\"/>\n   </g>\n   <g id=\"line2d_253\">\n    <path d=\"M 548.220533 257.191924 \nL 548.220533 268.636135 \n\" clip-path=\"url(#p4bd4d4df97)\" style=\"fill: none; stroke: #454545; stroke-width: 1.5; stroke-linecap: square\"/>\n   </g>\n   <g id=\"line2d_254\">\n    <path d=\"M 548.220533 271.497187 \nL 548.220533 282.941398 \n\" clip-path=\"url(#p4bd4d4df97)\" style=\"fill: none; stroke: #454545; stroke-width: 1.5; stroke-linecap: square\"/>\n   </g>\n   <g id=\"line2d_255\">\n    <path d=\"M 567.798963 285.802451 \nL 567.798963 297.246661 \n\" clip-path=\"url(#p4bd4d4df97)\" style=\"fill: none; stroke: #454545; stroke-width: 1.5; stroke-linecap: square\"/>\n   </g>\n   <g id=\"line2d_256\">\n    <path d=\"M 558.083351 300.107714 \nL 558.083351 311.551924 \n\" clip-path=\"url(#p4bd4d4df97)\" style=\"fill: none; stroke: #454545; stroke-width: 1.5; stroke-linecap: square\"/>\n   </g>\n   <g id=\"line2d_257\">\n    <path d=\"M 540.124189 314.412977 \nL 540.124189 325.857187 \n\" clip-path=\"url(#p4bd4d4df97)\" style=\"fill: none; stroke: #454545; stroke-width: 1.5; stroke-linecap: square\"/>\n   </g>\n   <g id=\"line2d_258\">\n    <path d=\"M 545.865233 328.71824 \nL 545.865233 340.162451 \n\" clip-path=\"url(#p4bd4d4df97)\" style=\"fill: none; stroke: #454545; stroke-width: 1.5; stroke-linecap: square\"/>\n   </g>\n   <g id=\"line2d_259\">\n    <path d=\"M 550.428626 343.023503 \nL 550.428626 354.467714 \n\" clip-path=\"url(#p4bd4d4df97)\" style=\"fill: none; stroke: #454545; stroke-width: 1.5; stroke-linecap: square\"/>\n   </g>\n   <g id=\"line2d_260\">\n    <path d=\"M 552.342308 357.328766 \nL 552.342308 368.772977 \n\" clip-path=\"url(#p4bd4d4df97)\" style=\"fill: none; stroke: #454545; stroke-width: 1.5; stroke-linecap: square\"/>\n   </g>\n   <g id=\"line2d_261\">\n    <path d=\"M 549.839801 371.63403 \nL 549.839801 383.07824 \n\" clip-path=\"url(#p4bd4d4df97)\" style=\"fill: none; stroke: #454545; stroke-width: 1.5; stroke-linecap: square\"/>\n   </g>\n   <g id=\"line2d_262\">\n    <path d=\"M 550.723039 385.939293 \nL 550.723039 397.383503 \n\" clip-path=\"url(#p4bd4d4df97)\" style=\"fill: none; stroke: #454545; stroke-width: 1.5; stroke-linecap: square\"/>\n   </g>\n   <g id=\"line2d_263\">\n    <path d=\"M 547.778914 400.244556 \nL 547.778914 411.688766 \n\" clip-path=\"url(#p4bd4d4df97)\" style=\"fill: none; stroke: #454545; stroke-width: 1.5; stroke-linecap: square\"/>\n   </g>\n   <g id=\"line2d_264\">\n    <path d=\"M 546.306851 414.549819 \nL 546.306851 425.99403 \n\" clip-path=\"url(#p4bd4d4df97)\" style=\"fill: none; stroke: #454545; stroke-width: 1.5; stroke-linecap: square\"/>\n   </g>\n   <g id=\"line2d_265\">\n    <path d=\"M 550.428626 428.855082 \nL 550.428626 440.299293 \n\" clip-path=\"url(#p4bd4d4df97)\" style=\"fill: none; stroke: #454545; stroke-width: 1.5; stroke-linecap: square\"/>\n   </g>\n   <g id=\"line2d_266\">\n    <path d=\"M 546.895676 443.160345 \nL 546.895676 454.604556 \n\" clip-path=\"url(#p4bd4d4df97)\" style=\"fill: none; stroke: #454545; stroke-width: 1.5; stroke-linecap: square\"/>\n   </g>\n   <g id=\"line2d_267\">\n    <path d=\"M 553.961576 457.465609 \nL 553.961576 468.909819 \n\" clip-path=\"url(#p4bd4d4df97)\" style=\"fill: none; stroke: #454545; stroke-width: 1.5; stroke-linecap: square\"/>\n   </g>\n   <g id=\"line2d_268\">\n    <path d=\"M 548.367739 471.770872 \nL 548.367739 483.215082 \n\" clip-path=\"url(#p4bd4d4df97)\" style=\"fill: none; stroke: #454545; stroke-width: 1.5; stroke-linecap: square\"/>\n   </g>\n   <g id=\"line2d_269\">\n    <path d=\"M 546.895676 486.076135 \nL 546.895676 497.520345 \n\" clip-path=\"url(#p4bd4d4df97)\" style=\"fill: none; stroke: #454545; stroke-width: 1.5; stroke-linecap: square\"/>\n   </g>\n   <g id=\"line2d_270\">\n    <path d=\"M 557.788939 500.381398 \nL 557.788939 511.825609 \n\" clip-path=\"url(#p4bd4d4df97)\" style=\"fill: none; stroke: #454545; stroke-width: 1.5; stroke-linecap: square\"/>\n   </g>\n   <g id=\"line2d_271\">\n    <path d=\"M 558.083351 514.686661 \nL 558.083351 526.130872 \n\" clip-path=\"url(#p4bd4d4df97)\" style=\"fill: none; stroke: #454545; stroke-width: 1.5; stroke-linecap: square\"/>\n   </g>\n   <g id=\"line2d_272\">\n    <path d=\"M 544.834789 528.991924 \nL 544.834789 540.436135 \n\" clip-path=\"url(#p4bd4d4df97)\" style=\"fill: none; stroke: #454545; stroke-width: 1.5; stroke-linecap: square\"/>\n   </g>\n   <g id=\"line2d_273\">\n    <path d=\"M 553.961576 543.297187 \nL 553.961576 554.741398 \n\" clip-path=\"url(#p4bd4d4df97)\" style=\"fill: none; stroke: #454545; stroke-width: 1.5; stroke-linecap: square\"/>\n   </g>\n   <g id=\"line2d_274\">\n    <path d=\"M 557.200114 557.602451 \nL 557.200114 569.046661 \n\" clip-path=\"url(#p4bd4d4df97)\" style=\"fill: none; stroke: #454545; stroke-width: 1.5; stroke-linecap: square\"/>\n   </g>\n   <g id=\"patch_41\">\n    <path d=\"M 57.199375 570.477187 \nL 57.199375 26.877187 \n\" style=\"fill: none; stroke: #ffffff; stroke-width: 0.8; stroke-linejoin: miter; stroke-linecap: square\"/>\n   </g>\n   <g id=\"patch_42\">\n    <path d=\"M 1173.199375 570.477187 \nL 1173.199375 26.877187 \n\" style=\"fill: none; stroke: #ffffff; stroke-width: 0.8; stroke-linejoin: miter; stroke-linecap: square\"/>\n   </g>\n   <g id=\"patch_43\">\n    <path d=\"M 57.199375 570.477187 \nL 1173.199375 570.477187 \n\" style=\"fill: none; stroke: #ffffff; stroke-width: 0.8; stroke-linejoin: miter; stroke-linecap: square\"/>\n   </g>\n   <g id=\"patch_44\">\n    <path d=\"M 57.199375 26.877187 \nL 1173.199375 26.877187 \n\" style=\"fill: none; stroke: #ffffff; stroke-width: 0.8; stroke-linejoin: miter; stroke-linecap: square\"/>\n   </g>\n   <g id=\"text_49\">\n    <!-- Boxplot - Vendas Totais por Ano -->\n    <g style=\"fill: #ffffff\" transform=\"translate(473.062656 20.877187)scale(0.18 -0.18)\">\n     <defs>\n      <path id=\"DejaVuSans-42\" d=\"M 1259 2228 \nL 1259 519 \nL 2272 519 \nQ 2781 519 3026 730 \nQ 3272 941 3272 1375 \nQ 3272 1813 3026 2020 \nQ 2781 2228 2272 2228 \nL 1259 2228 \nz\nM 1259 4147 \nL 1259 2741 \nL 2194 2741 \nQ 2656 2741 2882 2914 \nQ 3109 3088 3109 3444 \nQ 3109 3797 2882 3972 \nQ 2656 4147 2194 4147 \nL 1259 4147 \nz\nM 628 4666 \nL 2241 4666 \nQ 2963 4666 3353 4366 \nQ 3744 4066 3744 3513 \nQ 3744 3084 3544 2831 \nQ 3344 2578 2956 2516 \nQ 3422 2416 3680 2098 \nQ 3938 1781 3938 1306 \nQ 3938 681 3513 340 \nQ 3088 0 2303 0 \nL 628 0 \nL 628 4666 \nz\n\" transform=\"scale(0.015625)\"/>\n      <path id=\"DejaVuSans-6f\" d=\"M 1959 3097 \nQ 1497 3097 1228 2736 \nQ 959 2375 959 1747 \nQ 959 1119 1226 758 \nQ 1494 397 1959 397 \nQ 2419 397 2687 759 \nQ 2956 1122 2956 1747 \nQ 2956 2369 2687 2733 \nQ 2419 3097 1959 3097 \nz\nM 1959 3584 \nQ 2709 3584 3137 3096 \nQ 3566 2609 3566 1747 \nQ 3566 888 3137 398 \nQ 2709 -91 1959 -91 \nQ 1206 -91 779 398 \nQ 353 888 353 1747 \nQ 353 2609 779 3096 \nQ 1206 3584 1959 3584 \nz\n\" transform=\"scale(0.015625)\"/>\n      <path id=\"DejaVuSans-78\" d=\"M 3513 3500 \nL 2247 1797 \nL 3578 0 \nL 2900 0 \nL 1881 1375 \nL 863 0 \nL 184 0 \nL 1544 1831 \nL 300 3500 \nL 978 3500 \nL 1906 2253 \nL 2834 3500 \nL 3513 3500 \nz\n\" transform=\"scale(0.015625)\"/>\n      <path id=\"DejaVuSans-70\" d=\"M 1159 525 \nL 1159 -1331 \nL 581 -1331 \nL 581 3500 \nL 1159 3500 \nL 1159 2969 \nQ 1341 3281 1617 3432 \nQ 1894 3584 2278 3584 \nQ 2916 3584 3314 3078 \nQ 3713 2572 3713 1747 \nQ 3713 922 3314 415 \nQ 2916 -91 2278 -91 \nQ 1894 -91 1617 61 \nQ 1341 213 1159 525 \nz\nM 3116 1747 \nQ 3116 2381 2855 2742 \nQ 2594 3103 2138 3103 \nQ 1681 3103 1420 2742 \nQ 1159 2381 1159 1747 \nQ 1159 1113 1420 752 \nQ 1681 391 2138 391 \nQ 2594 391 2855 752 \nQ 3116 1113 3116 1747 \nz\n\" transform=\"scale(0.015625)\"/>\n      <path id=\"DejaVuSans-6c\" d=\"M 603 4863 \nL 1178 4863 \nL 1178 0 \nL 603 0 \nL 603 4863 \nz\n\" transform=\"scale(0.015625)\"/>\n      <path id=\"DejaVuSans-74\" d=\"M 1172 4494 \nL 1172 3500 \nL 2356 3500 \nL 2356 3053 \nL 1172 3053 \nL 1172 1153 \nQ 1172 725 1289 603 \nQ 1406 481 1766 481 \nL 2356 481 \nL 2356 0 \nL 1766 0 \nQ 1100 0 847 248 \nQ 594 497 594 1153 \nL 594 3053 \nL 172 3053 \nL 172 3500 \nL 594 3500 \nL 594 4494 \nL 1172 4494 \nz\n\" transform=\"scale(0.015625)\"/>\n      <path id=\"DejaVuSans-20\" transform=\"scale(0.015625)\"/>\n      <path id=\"DejaVuSans-2d\" d=\"M 313 2009 \nL 1997 2009 \nL 1997 1497 \nL 313 1497 \nL 313 2009 \nz\n\" transform=\"scale(0.015625)\"/>\n      <path id=\"DejaVuSans-54\" d=\"M -19 4666 \nL 3928 4666 \nL 3928 4134 \nL 2272 4134 \nL 2272 0 \nL 1638 0 \nL 1638 4134 \nL -19 4134 \nL -19 4666 \nz\n\" transform=\"scale(0.015625)\"/>\n      <path id=\"DejaVuSans-72\" d=\"M 2631 2963 \nQ 2534 3019 2420 3045 \nQ 2306 3072 2169 3072 \nQ 1681 3072 1420 2755 \nQ 1159 2438 1159 1844 \nL 1159 0 \nL 581 0 \nL 581 3500 \nL 1159 3500 \nL 1159 2956 \nQ 1341 3275 1631 3429 \nQ 1922 3584 2338 3584 \nQ 2397 3584 2469 3576 \nQ 2541 3569 2628 3553 \nL 2631 2963 \nz\n\" transform=\"scale(0.015625)\"/>\n      <path id=\"DejaVuSans-41\" d=\"M 2188 4044 \nL 1331 1722 \nL 3047 1722 \nL 2188 4044 \nz\nM 1831 4666 \nL 2547 4666 \nL 4325 0 \nL 3669 0 \nL 3244 1197 \nL 1141 1197 \nL 716 0 \nL 50 0 \nL 1831 4666 \nz\n\" transform=\"scale(0.015625)\"/>\n     </defs>\n     <use xlink:href=\"#DejaVuSans-42\"/>\n     <use xlink:href=\"#DejaVuSans-6f\" x=\"68.603516\"/>\n     <use xlink:href=\"#DejaVuSans-78\" x=\"126.660156\"/>\n     <use xlink:href=\"#DejaVuSans-70\" x=\"185.839844\"/>\n     <use xlink:href=\"#DejaVuSans-6c\" x=\"249.316406\"/>\n     <use xlink:href=\"#DejaVuSans-6f\" x=\"277.099609\"/>\n     <use xlink:href=\"#DejaVuSans-74\" x=\"338.28125\"/>\n     <use xlink:href=\"#DejaVuSans-20\" x=\"377.490234\"/>\n     <use xlink:href=\"#DejaVuSans-2d\" x=\"409.277344\"/>\n     <use xlink:href=\"#DejaVuSans-20\" x=\"445.361328\"/>\n     <use xlink:href=\"#DejaVuSans-56\" x=\"477.148438\"/>\n     <use xlink:href=\"#DejaVuSans-65\" x=\"537.806641\"/>\n     <use xlink:href=\"#DejaVuSans-6e\" x=\"599.330078\"/>\n     <use xlink:href=\"#DejaVuSans-64\" x=\"662.708984\"/>\n     <use xlink:href=\"#DejaVuSans-61\" x=\"726.185547\"/>\n     <use xlink:href=\"#DejaVuSans-73\" x=\"787.464844\"/>\n     <use xlink:href=\"#DejaVuSans-20\" x=\"839.564453\"/>\n     <use xlink:href=\"#DejaVuSans-54\" x=\"871.351562\"/>\n     <use xlink:href=\"#DejaVuSans-6f\" x=\"915.435547\"/>\n     <use xlink:href=\"#DejaVuSans-74\" x=\"976.617188\"/>\n     <use xlink:href=\"#DejaVuSans-61\" x=\"1015.826172\"/>\n     <use xlink:href=\"#DejaVuSans-69\" x=\"1077.105469\"/>\n     <use xlink:href=\"#DejaVuSans-73\" x=\"1104.888672\"/>\n     <use xlink:href=\"#DejaVuSans-20\" x=\"1156.988281\"/>\n     <use xlink:href=\"#DejaVuSans-70\" x=\"1188.775391\"/>\n     <use xlink:href=\"#DejaVuSans-6f\" x=\"1252.251953\"/>\n     <use xlink:href=\"#DejaVuSans-72\" x=\"1313.433594\"/>\n     <use xlink:href=\"#DejaVuSans-20\" x=\"1354.546875\"/>\n     <use xlink:href=\"#DejaVuSans-41\" x=\"1386.333984\"/>\n     <use xlink:href=\"#DejaVuSans-6e\" x=\"1454.742188\"/>\n     <use xlink:href=\"#DejaVuSans-6f\" x=\"1518.121094\"/>\n    </g>\n   </g>\n  </g>\n </g>\n <defs>\n  <clipPath id=\"p4bd4d4df97\">\n   <rect x=\"57.199375\" y=\"26.877187\" width=\"1116\" height=\"543.6\"/>\n  </clipPath>\n </defs>\n</svg>\n",
            "text/plain": [
              "<Figure size 1440x720 with 1 Axes>"
            ]
          },
          "metadata": {},
          "output_type": "display_data"
        }
      ],
      "source": [
        "g2 = sns.boxplot(x='Vendas', y='Ano', data=dados, orient='h')\n",
        "g2.figure.set_size_inches(20,10)\n",
        "g2.set_title('Boxplot - Vendas Totais por Ano', fontsize = 18)\n",
        "g2.set_ylabel('Densidade', fontsize = 14)"
      ]
    },
    {
      "cell_type": "markdown",
      "metadata": {
        "id": "EbGa2W3VK9au"
      },
      "source": [
        "### **<font>Item c</font>**<br>informações de Vendas e Ano dos veículos entre 2000 e 2010"
      ]
    },
    {
      "cell_type": "code",
      "execution_count": null,
      "metadata": {
        "id": "wvaqAxY_K9au",
        "outputId": "5dccdc9c-6b8b-43a0-8eee-aaeb52280196"
      },
      "outputs": [
        {
          "data": {
            "text/plain": [
              "Text(0, 0.5, 'Densidade')"
            ]
          },
          "execution_count": 50,
          "metadata": {},
          "output_type": "execute_result"
        },
        {
          "data": {
            "image/png": "[encoded data removed]",
            "image/svg+xml": "<?xml version=\"1.0\" encoding=\"utf-8\" standalone=\"no\"?>\n<!DOCTYPE svg PUBLIC \"-//W3C//DTD SVG 1.1//EN\"\n  \"http://www.w3.org/Graphics/SVG/1.1/DTD/svg11.dtd\">\n<svg xmlns:xlink=\"http://www.w3.org/1999/xlink\" width=\"1180.399375pt\" height=\"608.033437pt\" viewBox=\"0 0 1180.399375 608.033437\" xmlns=\"http://www.w3.org/2000/svg\" version=\"1.1\">\n <metadata>\n  <rdf:RDF xmlns:dc=\"http://purl.org/dc/elements/1.1/\" xmlns:cc=\"http://creativecommons.org/ns#\" xmlns:rdf=\"http://www.w3.org/1999/02/22-rdf-syntax-ns#\">\n   <cc:Work>\n    <dc:type rdf:resource=\"http://purl.org/dc/dcmitype/StillImage\"/>\n    <dc:date>2022-10-17T20:02:32.318636</dc:date>\n    <dc:format>image/svg+xml</dc:format>\n    <dc:creator>\n     <cc:Agent>\n      <dc:title>Matplotlib v3.5.1, https://matplotlib.org/</dc:title>\n     </cc:Agent>\n    </dc:creator>\n   </cc:Work>\n  </rdf:RDF>\n </metadata>\n <defs>\n  <style type=\"text/css\">*{stroke-linejoin: round; stroke-linecap: butt}</style>\n </defs>\n <g id=\"figure_1\">\n  <g id=\"patch_1\">\n   <path d=\"M 0 608.033437 \nL 1180.399375 608.033437 \nL 1180.399375 0 \nL 0 0 \nz\n\"/>\n  </g>\n  <g id=\"axes_1\">\n   <g id=\"patch_2\">\n    <path d=\"M 57.199375 570.477187 \nL 1173.199375 570.477187 \nL 1173.199375 26.877187 \nL 57.199375 26.877187 \nz\n\"/>\n   </g>\n   <g id=\"patch_3\">\n    <path d=\"M 445.125093 31.819006 \nL 445.125093 71.353551 \nL 641.750434 71.353551 \nL 641.750434 31.819006 \nL 445.125093 31.819006 \nz\n\" clip-path=\"url(#p69b57e0a49)\" style=\"fill: #ea96a3; stroke: #474747; stroke-width: 1.5; stroke-linejoin: miter\"/>\n   </g>\n   <g id=\"patch_4\">\n    <path d=\"M 456.114282 81.237187 \nL 456.114282 120.771733 \nL 646.470622 120.771733 \nL 646.470622 81.237187 \nL 456.114282 81.237187 \nz\n\" clip-path=\"url(#p69b57e0a49)\" style=\"fill: #dc924e; stroke: #474747; stroke-width: 1.5; stroke-linejoin: miter\"/>\n   </g>\n   <g id=\"patch_5\">\n    <path d=\"M 457.07307 130.655369 \nL 457.07307 170.189915 \nL 651.043304 170.189915 \nL 651.043304 130.655369 \nL 457.07307 130.655369 \nz\n\" clip-path=\"url(#p69b57e0a49)\" style=\"fill: #b39d48; stroke: #474747; stroke-width: 1.5; stroke-linejoin: miter\"/>\n   </g>\n   <g id=\"patch_6\">\n    <path d=\"M 464.964634 180.073551 \nL 464.964634 219.608097 \nL 658.049834 219.608097 \nL 658.049834 180.073551 \nL 464.964634 180.073551 \nz\n\" clip-path=\"url(#p69b57e0a49)\" style=\"fill: #8ea546; stroke: #474747; stroke-width: 1.5; stroke-linejoin: miter\"/>\n   </g>\n   <g id=\"patch_7\">\n    <path d=\"M 453.754187 229.491733 \nL 453.754187 269.026278 \nL 653.108387 269.026278 \nL 653.108387 229.491733 \nL 453.754187 229.491733 \nz\n\" clip-path=\"url(#p69b57e0a49)\" style=\"fill: #48b067; stroke: #474747; stroke-width: 1.5; stroke-linejoin: miter\"/>\n   </g>\n   <g id=\"patch_8\">\n    <path d=\"M 448.665235 278.909915 \nL 448.665235 318.44446 \nL 650.748292 318.44446 \nL 650.748292 278.909915 \nL 448.665235 278.909915 \nz\n\" clip-path=\"url(#p69b57e0a49)\" style=\"fill: #4aac98; stroke: #474747; stroke-width: 1.5; stroke-linejoin: miter\"/>\n   </g>\n   <g id=\"patch_9\">\n    <path d=\"M 439.224858 328.328097 \nL 439.224858 367.862642 \nL 645.511834 367.862642 \nL 645.511834 328.328097 \nL 439.224858 328.328097 \nz\n\" clip-path=\"url(#p69b57e0a49)\" style=\"fill: #4dabb0; stroke: #474747; stroke-width: 1.5; stroke-linejoin: miter\"/>\n   </g>\n   <g id=\"patch_10\">\n    <path d=\"M 451.32034 377.746278 \nL 451.32034 417.280824 \nL 652.223351 417.280824 \nL 652.223351 377.746278 \nL 451.32034 377.746278 \nz\n\" clip-path=\"url(#p69b57e0a49)\" style=\"fill: #54acd3; stroke: #474747; stroke-width: 1.5; stroke-linejoin: miter\"/>\n   </g>\n   <g id=\"patch_11\">\n    <path d=\"M 462.530787 427.16446 \nL 462.530787 466.699006 \nL 649.568245 466.699006 \nL 649.568245 427.16446 \nL 462.530787 427.16446 \nz\n\" clip-path=\"url(#p69b57e0a49)\" style=\"fill: #a9aceb; stroke: #474747; stroke-width: 1.5; stroke-linejoin: miter\"/>\n   </g>\n   <g id=\"patch_12\">\n    <path d=\"M 460.465705 476.582642 \nL 460.465705 516.117187 \nL 656.132257 516.117187 \nL 656.132257 476.582642 \nL 460.465705 476.582642 \nz\n\" clip-path=\"url(#p69b57e0a49)\" style=\"fill: #d795e8; stroke: #474747; stroke-width: 1.5; stroke-linejoin: miter\"/>\n   </g>\n   <g id=\"patch_13\">\n    <path d=\"M 446.010129 526.000824 \nL 446.010129 565.535369 \nL 647.208151 565.535369 \nL 647.208151 526.000824 \nL 446.010129 526.000824 \nz\n\" clip-path=\"url(#p69b57e0a49)\" style=\"fill: #e88fc9; stroke: #474747; stroke-width: 1.5; stroke-linejoin: miter\"/>\n   </g>\n   <g id=\"matplotlib.axis_1\">\n    <g id=\"xtick_1\">\n     <g id=\"line2d_1\">\n      <defs>\n       <path id=\"m03183a6be9\" d=\"M 0 0 \nL 0 3.5 \n\" style=\"stroke: #ffffff; stroke-width: 0.8\"/>\n      </defs>\n      <g>\n       <use xlink:href=\"#m03183a6be9\" x=\"105.861565\" y=\"570.477187\" style=\"fill: #ffffff; stroke: #ffffff; stroke-width: 0.8\"/>\n      </g>\n     </g>\n     <g id=\"text_1\">\n      <!-- 0 -->\n      <g style=\"fill: #ffffff\" transform=\"translate(102.680315 585.075625)scale(0.1 -0.1)\">\n       <defs>\n        <path id=\"DejaVuSans-30\" d=\"M 2034 4250 \nQ 1547 4250 1301 3770 \nQ 1056 3291 1056 2328 \nQ 1056 1369 1301 889 \nQ 1547 409 2034 409 \nQ 2525 409 2770 889 \nQ 3016 1369 3016 2328 \nQ 3016 3291 2770 3770 \nQ 2525 4250 2034 4250 \nz\nM 2034 4750 \nQ 2819 4750 3233 4129 \nQ 3647 3509 3647 2328 \nQ 3647 1150 3233 529 \nQ 2819 -91 2034 -91 \nQ 1250 -91 836 529 \nQ 422 1150 422 2328 \nQ 422 3509 836 4129 \nQ 1250 4750 2034 4750 \nz\n\" transform=\"scale(0.015625)\"/>\n       </defs>\n       <use xlink:href=\"#DejaVuSans-30\"/>\n      </g>\n     </g>\n    </g>\n    <g id=\"xtick_2\">\n     <g id=\"line2d_2\">\n      <g>\n       <use xlink:href=\"#m03183a6be9\" x=\"253.367447\" y=\"570.477187\" style=\"fill: #ffffff; stroke: #ffffff; stroke-width: 0.8\"/>\n      </g>\n     </g>\n     <g id=\"text_2\">\n      <!-- 500 -->\n      <g style=\"fill: #ffffff\" transform=\"translate(243.823697 585.075625)scale(0.1 -0.1)\">\n       <defs>\n        <path id=\"DejaVuSans-35\" d=\"M 691 4666 \nL 3169 4666 \nL 3169 4134 \nL 1269 4134 \nL 1269 2991 \nQ 1406 3038 1543 3061 \nQ 1681 3084 1819 3084 \nQ 2600 3084 3056 2656 \nQ 3513 2228 3513 1497 \nQ 3513 744 3044 326 \nQ 2575 -91 1722 -91 \nQ 1428 -91 1123 -41 \nQ 819 9 494 109 \nL 494 744 \nQ 775 591 1075 516 \nQ 1375 441 1709 441 \nQ 2250 441 2565 725 \nQ 2881 1009 2881 1497 \nQ 2881 1984 2565 2268 \nQ 2250 2553 1709 2553 \nQ 1456 2553 1204 2497 \nQ 953 2441 691 2322 \nL 691 4666 \nz\n\" transform=\"scale(0.015625)\"/>\n       </defs>\n       <use xlink:href=\"#DejaVuSans-35\"/>\n       <use xlink:href=\"#DejaVuSans-30\" x=\"63.623047\"/>\n       <use xlink:href=\"#DejaVuSans-30\" x=\"127.246094\"/>\n      </g>\n     </g>\n    </g>\n    <g id=\"xtick_3\">\n     <g id=\"line2d_3\">\n      <g>\n       <use xlink:href=\"#m03183a6be9\" x=\"400.873329\" y=\"570.477187\" style=\"fill: #ffffff; stroke: #ffffff; stroke-width: 0.8\"/>\n      </g>\n     </g>\n     <g id=\"text_3\">\n      <!-- 1000 -->\n      <g style=\"fill: #ffffff\" transform=\"translate(388.148329 585.075625)scale(0.1 -0.1)\">\n       <defs>\n        <path id=\"DejaVuSans-31\" d=\"M 794 531 \nL 1825 531 \nL 1825 4091 \nL 703 3866 \nL 703 4441 \nL 1819 4666 \nL 2450 4666 \nL 2450 531 \nL 3481 531 \nL 3481 0 \nL 794 0 \nL 794 531 \nz\n\" transform=\"scale(0.015625)\"/>\n       </defs>\n       <use xlink:href=\"#DejaVuSans-31\"/>\n       <use xlink:href=\"#DejaVuSans-30\" x=\"63.623047\"/>\n       <use xlink:href=\"#DejaVuSans-30\" x=\"127.246094\"/>\n       <use xlink:href=\"#DejaVuSans-30\" x=\"190.869141\"/>\n      </g>\n     </g>\n    </g>\n    <g id=\"xtick_4\">\n     <g id=\"line2d_4\">\n      <g>\n       <use xlink:href=\"#m03183a6be9\" x=\"548.379211\" y=\"570.477187\" style=\"fill: #ffffff; stroke: #ffffff; stroke-width: 0.8\"/>\n      </g>\n     </g>\n     <g id=\"text_4\">\n      <!-- 1500 -->\n      <g style=\"fill: #ffffff\" transform=\"translate(535.654211 585.075625)scale(0.1 -0.1)\">\n       <use xlink:href=\"#DejaVuSans-31\"/>\n       <use xlink:href=\"#DejaVuSans-35\" x=\"63.623047\"/>\n       <use xlink:href=\"#DejaVuSans-30\" x=\"127.246094\"/>\n       <use xlink:href=\"#DejaVuSans-30\" x=\"190.869141\"/>\n      </g>\n     </g>\n    </g>\n    <g id=\"xtick_5\">\n     <g id=\"line2d_5\">\n      <g>\n       <use xlink:href=\"#m03183a6be9\" x=\"695.885092\" y=\"570.477187\" style=\"fill: #ffffff; stroke: #ffffff; stroke-width: 0.8\"/>\n      </g>\n     </g>\n     <g id=\"text_5\">\n      <!-- 2000 -->\n      <g style=\"fill: #ffffff\" transform=\"translate(683.160092 585.075625)scale(0.1 -0.1)\">\n       <defs>\n        <path id=\"DejaVuSans-32\" d=\"M 1228 531 \nL 3431 531 \nL 3431 0 \nL 469 0 \nL 469 531 \nQ 828 903 1448 1529 \nQ 2069 2156 2228 2338 \nQ 2531 2678 2651 2914 \nQ 2772 3150 2772 3378 \nQ 2772 3750 2511 3984 \nQ 2250 4219 1831 4219 \nQ 1534 4219 1204 4116 \nQ 875 4013 500 3803 \nL 500 4441 \nQ 881 4594 1212 4672 \nQ 1544 4750 1819 4750 \nQ 2544 4750 2975 4387 \nQ 3406 4025 3406 3419 \nQ 3406 3131 3298 2873 \nQ 3191 2616 2906 2266 \nQ 2828 2175 2409 1742 \nQ 1991 1309 1228 531 \nz\n\" transform=\"scale(0.015625)\"/>\n       </defs>\n       <use xlink:href=\"#DejaVuSans-32\"/>\n       <use xlink:href=\"#DejaVuSans-30\" x=\"63.623047\"/>\n       <use xlink:href=\"#DejaVuSans-30\" x=\"127.246094\"/>\n       <use xlink:href=\"#DejaVuSans-30\" x=\"190.869141\"/>\n      </g>\n     </g>\n    </g>\n    <g id=\"xtick_6\">\n     <g id=\"line2d_6\">\n      <g>\n       <use xlink:href=\"#m03183a6be9\" x=\"843.390974\" y=\"570.477187\" style=\"fill: #ffffff; stroke: #ffffff; stroke-width: 0.8\"/>\n      </g>\n     </g>\n     <g id=\"text_6\">\n      <!-- 2500 -->\n      <g style=\"fill: #ffffff\" transform=\"translate(830.665974 585.075625)scale(0.1 -0.1)\">\n       <use xlink:href=\"#DejaVuSans-32\"/>\n       <use xlink:href=\"#DejaVuSans-35\" x=\"63.623047\"/>\n       <use xlink:href=\"#DejaVuSans-30\" x=\"127.246094\"/>\n       <use xlink:href=\"#DejaVuSans-30\" x=\"190.869141\"/>\n      </g>\n     </g>\n    </g>\n    <g id=\"xtick_7\">\n     <g id=\"line2d_7\">\n      <g>\n       <use xlink:href=\"#m03183a6be9\" x=\"990.896856\" y=\"570.477187\" style=\"fill: #ffffff; stroke: #ffffff; stroke-width: 0.8\"/>\n      </g>\n     </g>\n     <g id=\"text_7\">\n      <!-- 3000 -->\n      <g style=\"fill: #ffffff\" transform=\"translate(978.171856 585.075625)scale(0.1 -0.1)\">\n       <defs>\n        <path id=\"DejaVuSans-33\" d=\"M 2597 2516 \nQ 3050 2419 3304 2112 \nQ 3559 1806 3559 1356 \nQ 3559 666 3084 287 \nQ 2609 -91 1734 -91 \nQ 1441 -91 1130 -33 \nQ 819 25 488 141 \nL 488 750 \nQ 750 597 1062 519 \nQ 1375 441 1716 441 \nQ 2309 441 2620 675 \nQ 2931 909 2931 1356 \nQ 2931 1769 2642 2001 \nQ 2353 2234 1838 2234 \nL 1294 2234 \nL 1294 2753 \nL 1863 2753 \nQ 2328 2753 2575 2939 \nQ 2822 3125 2822 3475 \nQ 2822 3834 2567 4026 \nQ 2313 4219 1838 4219 \nQ 1578 4219 1281 4162 \nQ 984 4106 628 3988 \nL 628 4550 \nQ 988 4650 1302 4700 \nQ 1616 4750 1894 4750 \nQ 2613 4750 3031 4423 \nQ 3450 4097 3450 3541 \nQ 3450 3153 3228 2886 \nQ 3006 2619 2597 2516 \nz\n\" transform=\"scale(0.015625)\"/>\n       </defs>\n       <use xlink:href=\"#DejaVuSans-33\"/>\n       <use xlink:href=\"#DejaVuSans-30\" x=\"63.623047\"/>\n       <use xlink:href=\"#DejaVuSans-30\" x=\"127.246094\"/>\n       <use xlink:href=\"#DejaVuSans-30\" x=\"190.869141\"/>\n      </g>\n     </g>\n    </g>\n    <g id=\"xtick_8\">\n     <g id=\"line2d_8\">\n      <g>\n       <use xlink:href=\"#m03183a6be9\" x=\"1138.402737\" y=\"570.477187\" style=\"fill: #ffffff; stroke: #ffffff; stroke-width: 0.8\"/>\n      </g>\n     </g>\n     <g id=\"text_8\">\n      <!-- 3500 -->\n      <g style=\"fill: #ffffff\" transform=\"translate(1125.677737 585.075625)scale(0.1 -0.1)\">\n       <use xlink:href=\"#DejaVuSans-33\"/>\n       <use xlink:href=\"#DejaVuSans-35\" x=\"63.623047\"/>\n       <use xlink:href=\"#DejaVuSans-30\" x=\"127.246094\"/>\n       <use xlink:href=\"#DejaVuSans-30\" x=\"190.869141\"/>\n      </g>\n     </g>\n    </g>\n    <g id=\"text_9\">\n     <!-- Vendas -->\n     <g style=\"fill: #ffffff\" transform=\"translate(597.078281 598.75375)scale(0.1 -0.1)\">\n      <defs>\n       <path id=\"DejaVuSans-56\" d=\"M 1831 0 \nL 50 4666 \nL 709 4666 \nL 2188 738 \nL 3669 4666 \nL 4325 4666 \nL 2547 0 \nL 1831 0 \nz\n\" transform=\"scale(0.015625)\"/>\n       <path id=\"DejaVuSans-65\" d=\"M 3597 1894 \nL 3597 1613 \nL 953 1613 \nQ 991 1019 1311 708 \nQ 1631 397 2203 397 \nQ 2534 397 2845 478 \nQ 3156 559 3463 722 \nL 3463 178 \nQ 3153 47 2828 -22 \nQ 2503 -91 2169 -91 \nQ 1331 -91 842 396 \nQ 353 884 353 1716 \nQ 353 2575 817 3079 \nQ 1281 3584 2069 3584 \nQ 2775 3584 3186 3129 \nQ 3597 2675 3597 1894 \nz\nM 3022 2063 \nQ 3016 2534 2758 2815 \nQ 2500 3097 2075 3097 \nQ 1594 3097 1305 2825 \nQ 1016 2553 972 2059 \nL 3022 2063 \nz\n\" transform=\"scale(0.015625)\"/>\n       <path id=\"DejaVuSans-6e\" d=\"M 3513 2113 \nL 3513 0 \nL 2938 0 \nL 2938 2094 \nQ 2938 2591 2744 2837 \nQ 2550 3084 2163 3084 \nQ 1697 3084 1428 2787 \nQ 1159 2491 1159 1978 \nL 1159 0 \nL 581 0 \nL 581 3500 \nL 1159 3500 \nL 1159 2956 \nQ 1366 3272 1645 3428 \nQ 1925 3584 2291 3584 \nQ 2894 3584 3203 3211 \nQ 3513 2838 3513 2113 \nz\n\" transform=\"scale(0.015625)\"/>\n       <path id=\"DejaVuSans-64\" d=\"M 2906 2969 \nL 2906 4863 \nL 3481 4863 \nL 3481 0 \nL 2906 0 \nL 2906 525 \nQ 2725 213 2448 61 \nQ 2172 -91 1784 -91 \nQ 1150 -91 751 415 \nQ 353 922 353 1747 \nQ 353 2572 751 3078 \nQ 1150 3584 1784 3584 \nQ 2172 3584 2448 3432 \nQ 2725 3281 2906 2969 \nz\nM 947 1747 \nQ 947 1113 1208 752 \nQ 1469 391 1925 391 \nQ 2381 391 2643 752 \nQ 2906 1113 2906 1747 \nQ 2906 2381 2643 2742 \nQ 2381 3103 1925 3103 \nQ 1469 3103 1208 2742 \nQ 947 2381 947 1747 \nz\n\" transform=\"scale(0.015625)\"/>\n       <path id=\"DejaVuSans-61\" d=\"M 2194 1759 \nQ 1497 1759 1228 1600 \nQ 959 1441 959 1056 \nQ 959 750 1161 570 \nQ 1363 391 1709 391 \nQ 2188 391 2477 730 \nQ 2766 1069 2766 1631 \nL 2766 1759 \nL 2194 1759 \nz\nM 3341 1997 \nL 3341 0 \nL 2766 0 \nL 2766 531 \nQ 2569 213 2275 61 \nQ 1981 -91 1556 -91 \nQ 1019 -91 701 211 \nQ 384 513 384 1019 \nQ 384 1609 779 1909 \nQ 1175 2209 1959 2209 \nL 2766 2209 \nL 2766 2266 \nQ 2766 2663 2505 2880 \nQ 2244 3097 1772 3097 \nQ 1472 3097 1187 3025 \nQ 903 2953 641 2809 \nL 641 3341 \nQ 956 3463 1253 3523 \nQ 1550 3584 1831 3584 \nQ 2591 3584 2966 3190 \nQ 3341 2797 3341 1997 \nz\n\" transform=\"scale(0.015625)\"/>\n       <path id=\"DejaVuSans-73\" d=\"M 2834 3397 \nL 2834 2853 \nQ 2591 2978 2328 3040 \nQ 2066 3103 1784 3103 \nQ 1356 3103 1142 2972 \nQ 928 2841 928 2578 \nQ 928 2378 1081 2264 \nQ 1234 2150 1697 2047 \nL 1894 2003 \nQ 2506 1872 2764 1633 \nQ 3022 1394 3022 966 \nQ 3022 478 2636 193 \nQ 2250 -91 1575 -91 \nQ 1294 -91 989 -36 \nQ 684 19 347 128 \nL 347 722 \nQ 666 556 975 473 \nQ 1284 391 1588 391 \nQ 1994 391 2212 530 \nQ 2431 669 2431 922 \nQ 2431 1156 2273 1281 \nQ 2116 1406 1581 1522 \nL 1381 1569 \nQ 847 1681 609 1914 \nQ 372 2147 372 2553 \nQ 372 3047 722 3315 \nQ 1072 3584 1716 3584 \nQ 2034 3584 2315 3537 \nQ 2597 3491 2834 3397 \nz\n\" transform=\"scale(0.015625)\"/>\n      </defs>\n      <use xlink:href=\"#DejaVuSans-56\"/>\n      <use xlink:href=\"#DejaVuSans-65\" x=\"60.658203\"/>\n      <use xlink:href=\"#DejaVuSans-6e\" x=\"122.181641\"/>\n      <use xlink:href=\"#DejaVuSans-64\" x=\"185.560547\"/>\n      <use xlink:href=\"#DejaVuSans-61\" x=\"249.037109\"/>\n      <use xlink:href=\"#DejaVuSans-73\" x=\"310.316406\"/>\n     </g>\n    </g>\n   </g>\n   <g id=\"matplotlib.axis_2\">\n    <g id=\"ytick_1\">\n     <g id=\"line2d_9\">\n      <defs>\n       <path id=\"m813f8c692a\" d=\"M 0 0 \nL -3.5 0 \n\" style=\"stroke: #ffffff; stroke-width: 0.8\"/>\n      </defs>\n      <g>\n       <use xlink:href=\"#m813f8c692a\" x=\"57.199375\" y=\"51.586278\" style=\"fill: #ffffff; stroke: #ffffff; stroke-width: 0.8\"/>\n      </g>\n     </g>\n     <g id=\"text_10\">\n      <!-- 2000 -->\n      <g style=\"fill: #ffffff\" transform=\"translate(24.749375 55.385497)scale(0.1 -0.1)\">\n       <use xlink:href=\"#DejaVuSans-32\"/>\n       <use xlink:href=\"#DejaVuSans-30\" x=\"63.623047\"/>\n       <use xlink:href=\"#DejaVuSans-30\" x=\"127.246094\"/>\n       <use xlink:href=\"#DejaVuSans-30\" x=\"190.869141\"/>\n      </g>\n     </g>\n    </g>\n    <g id=\"ytick_2\">\n     <g id=\"line2d_10\">\n      <g>\n       <use xlink:href=\"#m813f8c692a\" x=\"57.199375\" y=\"101.00446\" style=\"fill: #ffffff; stroke: #ffffff; stroke-width: 0.8\"/>\n      </g>\n     </g>\n     <g id=\"text_11\">\n      <!-- 2001 -->\n      <g style=\"fill: #ffffff\" transform=\"translate(24.749375 104.803679)scale(0.1 -0.1)\">\n       <use xlink:href=\"#DejaVuSans-32\"/>\n       <use xlink:href=\"#DejaVuSans-30\" x=\"63.623047\"/>\n       <use xlink:href=\"#DejaVuSans-30\" x=\"127.246094\"/>\n       <use xlink:href=\"#DejaVuSans-31\" x=\"190.869141\"/>\n      </g>\n     </g>\n    </g>\n    <g id=\"ytick_3\">\n     <g id=\"line2d_11\">\n      <g>\n       <use xlink:href=\"#m813f8c692a\" x=\"57.199375\" y=\"150.422642\" style=\"fill: #ffffff; stroke: #ffffff; stroke-width: 0.8\"/>\n      </g>\n     </g>\n     <g id=\"text_12\">\n      <!-- 2002 -->\n      <g style=\"fill: #ffffff\" transform=\"translate(24.749375 154.221861)scale(0.1 -0.1)\">\n       <use xlink:href=\"#DejaVuSans-32\"/>\n       <use xlink:href=\"#DejaVuSans-30\" x=\"63.623047\"/>\n       <use xlink:href=\"#DejaVuSans-30\" x=\"127.246094\"/>\n       <use xlink:href=\"#DejaVuSans-32\" x=\"190.869141\"/>\n      </g>\n     </g>\n    </g>\n    <g id=\"ytick_4\">\n     <g id=\"line2d_12\">\n      <g>\n       <use xlink:href=\"#m813f8c692a\" x=\"57.199375\" y=\"199.840824\" style=\"fill: #ffffff; stroke: #ffffff; stroke-width: 0.8\"/>\n      </g>\n     </g>\n     <g id=\"text_13\">\n      <!-- 2003 -->\n      <g style=\"fill: #ffffff\" transform=\"translate(24.749375 203.640043)scale(0.1 -0.1)\">\n       <use xlink:href=\"#DejaVuSans-32\"/>\n       <use xlink:href=\"#DejaVuSans-30\" x=\"63.623047\"/>\n       <use xlink:href=\"#DejaVuSans-30\" x=\"127.246094\"/>\n       <use xlink:href=\"#DejaVuSans-33\" x=\"190.869141\"/>\n      </g>\n     </g>\n    </g>\n    <g id=\"ytick_5\">\n     <g id=\"line2d_13\">\n      <g>\n       <use xlink:href=\"#m813f8c692a\" x=\"57.199375\" y=\"249.259006\" style=\"fill: #ffffff; stroke: #ffffff; stroke-width: 0.8\"/>\n      </g>\n     </g>\n     <g id=\"text_14\">\n      <!-- 2004 -->\n      <g style=\"fill: #ffffff\" transform=\"translate(24.749375 253.058224)scale(0.1 -0.1)\">\n       <defs>\n        <path id=\"DejaVuSans-34\" d=\"M 2419 4116 \nL 825 1625 \nL 2419 1625 \nL 2419 4116 \nz\nM 2253 4666 \nL 3047 4666 \nL 3047 1625 \nL 3713 1625 \nL 3713 1100 \nL 3047 1100 \nL 3047 0 \nL 2419 0 \nL 2419 1100 \nL 313 1100 \nL 313 1709 \nL 2253 4666 \nz\n\" transform=\"scale(0.015625)\"/>\n       </defs>\n       <use xlink:href=\"#DejaVuSans-32\"/>\n       <use xlink:href=\"#DejaVuSans-30\" x=\"63.623047\"/>\n       <use xlink:href=\"#DejaVuSans-30\" x=\"127.246094\"/>\n       <use xlink:href=\"#DejaVuSans-34\" x=\"190.869141\"/>\n      </g>\n     </g>\n    </g>\n    <g id=\"ytick_6\">\n     <g id=\"line2d_14\">\n      <g>\n       <use xlink:href=\"#m813f8c692a\" x=\"57.199375\" y=\"298.677187\" style=\"fill: #ffffff; stroke: #ffffff; stroke-width: 0.8\"/>\n      </g>\n     </g>\n     <g id=\"text_15\">\n      <!-- 2005 -->\n      <g style=\"fill: #ffffff\" transform=\"translate(24.749375 302.476406)scale(0.1 -0.1)\">\n       <use xlink:href=\"#DejaVuSans-32\"/>\n       <use xlink:href=\"#DejaVuSans-30\" x=\"63.623047\"/>\n       <use xlink:href=\"#DejaVuSans-30\" x=\"127.246094\"/>\n       <use xlink:href=\"#DejaVuSans-35\" x=\"190.869141\"/>\n      </g>\n     </g>\n    </g>\n    <g id=\"ytick_7\">\n     <g id=\"line2d_15\">\n      <g>\n       <use xlink:href=\"#m813f8c692a\" x=\"57.199375\" y=\"348.095369\" style=\"fill: #ffffff; stroke: #ffffff; stroke-width: 0.8\"/>\n      </g>\n     </g>\n     <g id=\"text_16\">\n      <!-- 2006 -->\n      <g style=\"fill: #ffffff\" transform=\"translate(24.749375 351.894588)scale(0.1 -0.1)\">\n       <defs>\n        <path id=\"DejaVuSans-36\" d=\"M 2113 2584 \nQ 1688 2584 1439 2293 \nQ 1191 2003 1191 1497 \nQ 1191 994 1439 701 \nQ 1688 409 2113 409 \nQ 2538 409 2786 701 \nQ 3034 994 3034 1497 \nQ 3034 2003 2786 2293 \nQ 2538 2584 2113 2584 \nz\nM 3366 4563 \nL 3366 3988 \nQ 3128 4100 2886 4159 \nQ 2644 4219 2406 4219 \nQ 1781 4219 1451 3797 \nQ 1122 3375 1075 2522 \nQ 1259 2794 1537 2939 \nQ 1816 3084 2150 3084 \nQ 2853 3084 3261 2657 \nQ 3669 2231 3669 1497 \nQ 3669 778 3244 343 \nQ 2819 -91 2113 -91 \nQ 1303 -91 875 529 \nQ 447 1150 447 2328 \nQ 447 3434 972 4092 \nQ 1497 4750 2381 4750 \nQ 2619 4750 2861 4703 \nQ 3103 4656 3366 4563 \nz\n\" transform=\"scale(0.015625)\"/>\n       </defs>\n       <use xlink:href=\"#DejaVuSans-32\"/>\n       <use xlink:href=\"#DejaVuSans-30\" x=\"63.623047\"/>\n       <use xlink:href=\"#DejaVuSans-30\" x=\"127.246094\"/>\n       <use xlink:href=\"#DejaVuSans-36\" x=\"190.869141\"/>\n      </g>\n     </g>\n    </g>\n    <g id=\"ytick_8\">\n     <g id=\"line2d_16\">\n      <g>\n       <use xlink:href=\"#m813f8c692a\" x=\"57.199375\" y=\"397.513551\" style=\"fill: #ffffff; stroke: #ffffff; stroke-width: 0.8\"/>\n      </g>\n     </g>\n     <g id=\"text_17\">\n      <!-- 2007 -->\n      <g style=\"fill: #ffffff\" transform=\"translate(24.749375 401.31277)scale(0.1 -0.1)\">\n       <defs>\n        <path id=\"DejaVuSans-37\" d=\"M 525 4666 \nL 3525 4666 \nL 3525 4397 \nL 1831 0 \nL 1172 0 \nL 2766 4134 \nL 525 4134 \nL 525 4666 \nz\n\" transform=\"scale(0.015625)\"/>\n       </defs>\n       <use xlink:href=\"#DejaVuSans-32\"/>\n       <use xlink:href=\"#DejaVuSans-30\" x=\"63.623047\"/>\n       <use xlink:href=\"#DejaVuSans-30\" x=\"127.246094\"/>\n       <use xlink:href=\"#DejaVuSans-37\" x=\"190.869141\"/>\n      </g>\n     </g>\n    </g>\n    <g id=\"ytick_9\">\n     <g id=\"line2d_17\">\n      <g>\n       <use xlink:href=\"#m813f8c692a\" x=\"57.199375\" y=\"446.931733\" style=\"fill: #ffffff; stroke: #ffffff; stroke-width: 0.8\"/>\n      </g>\n     </g>\n     <g id=\"text_18\">\n      <!-- 2008 -->\n      <g style=\"fill: #ffffff\" transform=\"translate(24.749375 450.730952)scale(0.1 -0.1)\">\n       <defs>\n        <path id=\"DejaVuSans-38\" d=\"M 2034 2216 \nQ 1584 2216 1326 1975 \nQ 1069 1734 1069 1313 \nQ 1069 891 1326 650 \nQ 1584 409 2034 409 \nQ 2484 409 2743 651 \nQ 3003 894 3003 1313 \nQ 3003 1734 2745 1975 \nQ 2488 2216 2034 2216 \nz\nM 1403 2484 \nQ 997 2584 770 2862 \nQ 544 3141 544 3541 \nQ 544 4100 942 4425 \nQ 1341 4750 2034 4750 \nQ 2731 4750 3128 4425 \nQ 3525 4100 3525 3541 \nQ 3525 3141 3298 2862 \nQ 3072 2584 2669 2484 \nQ 3125 2378 3379 2068 \nQ 3634 1759 3634 1313 \nQ 3634 634 3220 271 \nQ 2806 -91 2034 -91 \nQ 1263 -91 848 271 \nQ 434 634 434 1313 \nQ 434 1759 690 2068 \nQ 947 2378 1403 2484 \nz\nM 1172 3481 \nQ 1172 3119 1398 2916 \nQ 1625 2713 2034 2713 \nQ 2441 2713 2670 2916 \nQ 2900 3119 2900 3481 \nQ 2900 3844 2670 4047 \nQ 2441 4250 2034 4250 \nQ 1625 4250 1398 4047 \nQ 1172 3844 1172 3481 \nz\n\" transform=\"scale(0.015625)\"/>\n       </defs>\n       <use xlink:href=\"#DejaVuSans-32\"/>\n       <use xlink:href=\"#DejaVuSans-30\" x=\"63.623047\"/>\n       <use xlink:href=\"#DejaVuSans-30\" x=\"127.246094\"/>\n       <use xlink:href=\"#DejaVuSans-38\" x=\"190.869141\"/>\n      </g>\n     </g>\n    </g>\n    <g id=\"ytick_10\">\n     <g id=\"line2d_18\">\n      <g>\n       <use xlink:href=\"#m813f8c692a\" x=\"57.199375\" y=\"496.349915\" style=\"fill: #ffffff; stroke: #ffffff; stroke-width: 0.8\"/>\n      </g>\n     </g>\n     <g id=\"text_19\">\n      <!-- 2009 -->\n      <g style=\"fill: #ffffff\" transform=\"translate(24.749375 500.149134)scale(0.1 -0.1)\">\n       <defs>\n        <path id=\"DejaVuSans-39\" d=\"M 703 97 \nL 703 672 \nQ 941 559 1184 500 \nQ 1428 441 1663 441 \nQ 2288 441 2617 861 \nQ 2947 1281 2994 2138 \nQ 2813 1869 2534 1725 \nQ 2256 1581 1919 1581 \nQ 1219 1581 811 2004 \nQ 403 2428 403 3163 \nQ 403 3881 828 4315 \nQ 1253 4750 1959 4750 \nQ 2769 4750 3195 4129 \nQ 3622 3509 3622 2328 \nQ 3622 1225 3098 567 \nQ 2575 -91 1691 -91 \nQ 1453 -91 1209 -44 \nQ 966 3 703 97 \nz\nM 1959 2075 \nQ 2384 2075 2632 2365 \nQ 2881 2656 2881 3163 \nQ 2881 3666 2632 3958 \nQ 2384 4250 1959 4250 \nQ 1534 4250 1286 3958 \nQ 1038 3666 1038 3163 \nQ 1038 2656 1286 2365 \nQ 1534 2075 1959 2075 \nz\n\" transform=\"scale(0.015625)\"/>\n       </defs>\n       <use xlink:href=\"#DejaVuSans-32\"/>\n       <use xlink:href=\"#DejaVuSans-30\" x=\"63.623047\"/>\n       <use xlink:href=\"#DejaVuSans-30\" x=\"127.246094\"/>\n       <use xlink:href=\"#DejaVuSans-39\" x=\"190.869141\"/>\n      </g>\n     </g>\n    </g>\n    <g id=\"ytick_11\">\n     <g id=\"line2d_19\">\n      <g>\n       <use xlink:href=\"#m813f8c692a\" x=\"57.199375\" y=\"545.768097\" style=\"fill: #ffffff; stroke: #ffffff; stroke-width: 0.8\"/>\n      </g>\n     </g>\n     <g id=\"text_20\">\n      <!-- 2010 -->\n      <g style=\"fill: #ffffff\" transform=\"translate(24.749375 549.567315)scale(0.1 -0.1)\">\n       <use xlink:href=\"#DejaVuSans-32\"/>\n       <use xlink:href=\"#DejaVuSans-30\" x=\"63.623047\"/>\n       <use xlink:href=\"#DejaVuSans-31\" x=\"127.246094\"/>\n       <use xlink:href=\"#DejaVuSans-30\" x=\"190.869141\"/>\n      </g>\n     </g>\n    </g>\n    <g id=\"text_21\">\n     <!-- Densidade -->\n     <g style=\"fill: #ffffff\" transform=\"translate(17.837812 335.886562)rotate(-90)scale(0.14 -0.14)\">\n      <defs>\n       <path id=\"DejaVuSans-44\" d=\"M 1259 4147 \nL 1259 519 \nL 2022 519 \nQ 2988 519 3436 956 \nQ 3884 1394 3884 2338 \nQ 3884 3275 3436 3711 \nQ 2988 4147 2022 4147 \nL 1259 4147 \nz\nM 628 4666 \nL 1925 4666 \nQ 3281 4666 3915 4102 \nQ 4550 3538 4550 2338 \nQ 4550 1131 3912 565 \nQ 3275 0 1925 0 \nL 628 0 \nL 628 4666 \nz\n\" transform=\"scale(0.015625)\"/>\n       <path id=\"DejaVuSans-69\" d=\"M 603 3500 \nL 1178 3500 \nL 1178 0 \nL 603 0 \nL 603 3500 \nz\nM 603 4863 \nL 1178 4863 \nL 1178 4134 \nL 603 4134 \nL 603 4863 \nz\n\" transform=\"scale(0.015625)\"/>\n      </defs>\n      <use xlink:href=\"#DejaVuSans-44\"/>\n      <use xlink:href=\"#DejaVuSans-65\" x=\"77.001953\"/>\n      <use xlink:href=\"#DejaVuSans-6e\" x=\"138.525391\"/>\n      <use xlink:href=\"#DejaVuSans-73\" x=\"201.904297\"/>\n      <use xlink:href=\"#DejaVuSans-69\" x=\"254.003906\"/>\n      <use xlink:href=\"#DejaVuSans-64\" x=\"281.787109\"/>\n      <use xlink:href=\"#DejaVuSans-61\" x=\"345.263672\"/>\n      <use xlink:href=\"#DejaVuSans-64\" x=\"406.542969\"/>\n      <use xlink:href=\"#DejaVuSans-65\" x=\"470.019531\"/>\n     </g>\n    </g>\n   </g>\n   <g id=\"line2d_20\">\n    <path d=\"M 445.125093 51.586278 \nL 150.408342 51.586278 \n\" clip-path=\"url(#p69b57e0a49)\" style=\"fill: none; stroke: #474747; stroke-width: 1.5; stroke-linecap: square\"/>\n   </g>\n   <g id=\"line2d_21\">\n    <path d=\"M 641.750434 51.586278 \nL 936.024668 51.586278 \n\" clip-path=\"url(#p69b57e0a49)\" style=\"fill: none; stroke: #474747; stroke-width: 1.5; stroke-linecap: square\"/>\n   </g>\n   <g id=\"line2d_22\">\n    <path d=\"M 150.408342 41.702642 \nL 150.408342 61.469915 \n\" clip-path=\"url(#p69b57e0a49)\" style=\"fill: none; stroke: #474747; stroke-width: 1.5; stroke-linecap: square\"/>\n   </g>\n   <g id=\"line2d_23\">\n    <path d=\"M 936.024668 41.702642 \nL 936.024668 61.469915 \n\" clip-path=\"url(#p69b57e0a49)\" style=\"fill: none; stroke: #474747; stroke-width: 1.5; stroke-linecap: square\"/>\n   </g>\n   <g id=\"line2d_24\">\n    <defs>\n     <path id=\"m030e5d19c8\" d=\"M 0 3.535534 \nL 2.12132 0 \nL 0 -3.535534 \nL -2.12132 0 \nz\n\" style=\"stroke: #474747; stroke-linejoin: miter\"/>\n    </defs>\n    <g clip-path=\"url(#p69b57e0a49)\">\n     <use xlink:href=\"#m030e5d19c8\" x=\"954.020385\" y=\"51.586278\" style=\"fill: #474747; stroke: #474747; stroke-linejoin: miter\"/>\n     <use xlink:href=\"#m030e5d19c8\" x=\"939.269797\" y=\"51.586278\" style=\"fill: #474747; stroke: #474747; stroke-linejoin: miter\"/>\n     <use xlink:href=\"#m030e5d19c8\" x=\"946.055068\" y=\"51.586278\" style=\"fill: #474747; stroke: #474747; stroke-linejoin: miter\"/>\n     <use xlink:href=\"#m030e5d19c8\" x=\"971.426079\" y=\"51.586278\" style=\"fill: #474747; stroke: #474747; stroke-linejoin: miter\"/>\n    </g>\n   </g>\n   <g id=\"line2d_25\">\n    <path d=\"M 456.114282 101.00446 \nL 174.599306 101.00446 \n\" clip-path=\"url(#p69b57e0a49)\" style=\"fill: none; stroke: #474747; stroke-width: 1.5; stroke-linecap: square\"/>\n   </g>\n   <g id=\"line2d_26\">\n    <path d=\"M 646.470622 101.00446 \nL 898.263162 101.00446 \n\" clip-path=\"url(#p69b57e0a49)\" style=\"fill: none; stroke: #474747; stroke-width: 1.5; stroke-linecap: square\"/>\n   </g>\n   <g id=\"line2d_27\">\n    <path d=\"M 174.599306 91.120824 \nL 174.599306 110.888097 \n\" clip-path=\"url(#p69b57e0a49)\" style=\"fill: none; stroke: #474747; stroke-width: 1.5; stroke-linecap: square\"/>\n   </g>\n   <g id=\"line2d_28\">\n    <path d=\"M 898.263162 91.120824 \nL 898.263162 110.888097 \n\" clip-path=\"url(#p69b57e0a49)\" style=\"fill: none; stroke: #474747; stroke-width: 1.5; stroke-linecap: square\"/>\n   </g>\n   <g id=\"line2d_29\">\n    <g clip-path=\"url(#p69b57e0a49)\">\n     <use xlink:href=\"#m030e5d19c8\" x=\"120.317142\" y=\"101.00446\" style=\"fill: #474747; stroke: #474747; stroke-linejoin: miter\"/>\n     <use xlink:href=\"#m030e5d19c8\" x=\"163.978883\" y=\"101.00446\" style=\"fill: #474747; stroke: #474747; stroke-linejoin: miter\"/>\n     <use xlink:href=\"#m030e5d19c8\" x=\"134.477706\" y=\"101.00446\" style=\"fill: #474747; stroke: #474747; stroke-linejoin: miter\"/>\n     <use xlink:href=\"#m030e5d19c8\" x=\"107.926648\" y=\"101.00446\" style=\"fill: #474747; stroke: #474747; stroke-linejoin: miter\"/>\n     <use xlink:href=\"#m030e5d19c8\" x=\"166.043965\" y=\"101.00446\" style=\"fill: #474747; stroke: #474747; stroke-linejoin: miter\"/>\n     <use xlink:href=\"#m030e5d19c8\" x=\"948.710174\" y=\"101.00446\" style=\"fill: #474747; stroke: #474747; stroke-linejoin: miter\"/>\n     <use xlink:href=\"#m030e5d19c8\" x=\"971.426079\" y=\"101.00446\" style=\"fill: #474747; stroke: #474747; stroke-linejoin: miter\"/>\n     <use xlink:href=\"#m030e5d19c8\" x=\"979.096385\" y=\"101.00446\" style=\"fill: #474747; stroke: #474747; stroke-linejoin: miter\"/>\n     <use xlink:href=\"#m030e5d19c8\" x=\"932.189515\" y=\"101.00446\" style=\"fill: #474747; stroke: #474747; stroke-linejoin: miter\"/>\n    </g>\n   </g>\n   <g id=\"line2d_30\">\n    <path d=\"M 457.07307 150.422642 \nL 181.384577 150.422642 \n\" clip-path=\"url(#p69b57e0a49)\" style=\"fill: none; stroke: #474747; stroke-width: 1.5; stroke-linecap: square\"/>\n   </g>\n   <g id=\"line2d_31\">\n    <path d=\"M 651.043304 150.422642 \nL 896.493091 150.422642 \n\" clip-path=\"url(#p69b57e0a49)\" style=\"fill: none; stroke: #474747; stroke-width: 1.5; stroke-linecap: square\"/>\n   </g>\n   <g id=\"line2d_32\">\n    <path d=\"M 181.384577 140.539006 \nL 181.384577 160.306278 \n\" clip-path=\"url(#p69b57e0a49)\" style=\"fill: none; stroke: #474747; stroke-width: 1.5; stroke-linecap: square\"/>\n   </g>\n   <g id=\"line2d_33\">\n    <path d=\"M 896.493091 140.539006 \nL 896.493091 160.306278 \n\" clip-path=\"url(#p69b57e0a49)\" style=\"fill: none; stroke: #474747; stroke-width: 1.5; stroke-linecap: square\"/>\n   </g>\n   <g id=\"line2d_34\">\n    <g clip-path=\"url(#p69b57e0a49)\">\n     <use xlink:href=\"#m030e5d19c8\" x=\"158.963683\" y=\"150.422642\" style=\"fill: #474747; stroke: #474747; stroke-linejoin: miter\"/>\n     <use xlink:href=\"#m030e5d19c8\" x=\"160.733753\" y=\"150.422642\" style=\"fill: #474747; stroke: #474747; stroke-linejoin: miter\"/>\n     <use xlink:href=\"#m030e5d19c8\" x=\"137.427824\" y=\"150.422642\" style=\"fill: #474747; stroke: #474747; stroke-linejoin: miter\"/>\n     <use xlink:href=\"#m030e5d19c8\" x=\"152.178412\" y=\"150.422642\" style=\"fill: #474747; stroke: #474747; stroke-linejoin: miter\"/>\n     <use xlink:href=\"#m030e5d19c8\" x=\"1018.037938\" y=\"150.422642\" style=\"fill: #474747; stroke: #474747; stroke-linejoin: miter\"/>\n     <use xlink:href=\"#m030e5d19c8\" x=\"1044.884008\" y=\"150.422642\" style=\"fill: #474747; stroke: #474747; stroke-linejoin: miter\"/>\n     <use xlink:href=\"#m030e5d19c8\" x=\"1071.435067\" y=\"150.422642\" style=\"fill: #474747; stroke: #474747; stroke-linejoin: miter\"/>\n     <use xlink:href=\"#m030e5d19c8\" x=\"998.862173\" y=\"150.422642\" style=\"fill: #474747; stroke: #474747; stroke-linejoin: miter\"/>\n     <use xlink:href=\"#m030e5d19c8\" x=\"1122.472102\" y=\"150.422642\" style=\"fill: #474747; stroke: #474747; stroke-linejoin: miter\"/>\n    </g>\n   </g>\n   <g id=\"line2d_35\">\n    <path d=\"M 464.964634 199.840824 \nL 176.369377 199.840824 \n\" clip-path=\"url(#p69b57e0a49)\" style=\"fill: none; stroke: #474747; stroke-width: 1.5; stroke-linecap: square\"/>\n   </g>\n   <g id=\"line2d_36\">\n    <path d=\"M 658.049834 199.840824 \nL 932.189515 199.840824 \n\" clip-path=\"url(#p69b57e0a49)\" style=\"fill: none; stroke: #474747; stroke-width: 1.5; stroke-linecap: square\"/>\n   </g>\n   <g id=\"line2d_37\">\n    <path d=\"M 176.369377 189.957187 \nL 176.369377 209.72446 \n\" clip-path=\"url(#p69b57e0a49)\" style=\"fill: none; stroke: #474747; stroke-width: 1.5; stroke-linecap: square\"/>\n   </g>\n   <g id=\"line2d_38\">\n    <path d=\"M 932.189515 189.957187 \nL 932.189515 209.72446 \n\" clip-path=\"url(#p69b57e0a49)\" style=\"fill: none; stroke: #474747; stroke-width: 1.5; stroke-linecap: square\"/>\n   </g>\n   <g id=\"line2d_39\">\n    <g clip-path=\"url(#p69b57e0a49)\">\n     <use xlink:href=\"#m030e5d19c8\" x=\"142.148012\" y=\"199.840824\" style=\"fill: #474747; stroke: #474747; stroke-linejoin: miter\"/>\n     <use xlink:href=\"#m030e5d19c8\" x=\"130.347542\" y=\"199.840824\" style=\"fill: #474747; stroke: #474747; stroke-linejoin: miter\"/>\n     <use xlink:href=\"#m030e5d19c8\" x=\"966.115868\" y=\"199.840824\" style=\"fill: #474747; stroke: #474747; stroke-linejoin: miter\"/>\n     <use xlink:href=\"#m030e5d19c8\" x=\"978.506362\" y=\"199.840824\" style=\"fill: #474747; stroke: #474747; stroke-linejoin: miter\"/>\n     <use xlink:href=\"#m030e5d19c8\" x=\"966.115868\" y=\"199.840824\" style=\"fill: #474747; stroke: #474747; stroke-linejoin: miter\"/>\n    </g>\n   </g>\n   <g id=\"line2d_40\">\n    <path d=\"M 453.754187 249.259006 \nL 158.078648 249.259006 \n\" clip-path=\"url(#p69b57e0a49)\" style=\"fill: none; stroke: #474747; stroke-width: 1.5; stroke-linecap: square\"/>\n   </g>\n   <g id=\"line2d_41\">\n    <path d=\"M 653.108387 249.259006 \nL 929.239397 249.259006 \n\" clip-path=\"url(#p69b57e0a49)\" style=\"fill: none; stroke: #474747; stroke-width: 1.5; stroke-linecap: square\"/>\n   </g>\n   <g id=\"line2d_42\">\n    <path d=\"M 158.078648 239.375369 \nL 158.078648 259.142642 \n\" clip-path=\"url(#p69b57e0a49)\" style=\"fill: none; stroke: #474747; stroke-width: 1.5; stroke-linecap: square\"/>\n   </g>\n   <g id=\"line2d_43\">\n    <path d=\"M 929.239397 239.375369 \nL 929.239397 259.142642 \n\" clip-path=\"url(#p69b57e0a49)\" style=\"fill: none; stroke: #474747; stroke-width: 1.5; stroke-linecap: square\"/>\n   </g>\n   <g id=\"line2d_44\">\n    <g clip-path=\"url(#p69b57e0a49)\">\n     <use xlink:href=\"#m030e5d19c8\" x=\"120.612154\" y=\"249.259006\" style=\"fill: #474747; stroke: #474747; stroke-linejoin: miter\"/>\n     <use xlink:href=\"#m030e5d19c8\" x=\"141.262977\" y=\"249.259006\" style=\"fill: #474747; stroke: #474747; stroke-linejoin: miter\"/>\n     <use xlink:href=\"#m030e5d19c8\" x=\"144.803118\" y=\"249.259006\" style=\"fill: #474747; stroke: #474747; stroke-linejoin: miter\"/>\n     <use xlink:href=\"#m030e5d19c8\" x=\"1083.530549\" y=\"249.259006\" style=\"fill: #474747; stroke: #474747; stroke-linejoin: miter\"/>\n    </g>\n   </g>\n   <g id=\"line2d_45\">\n    <path d=\"M 448.665235 298.677187 \nL 147.163212 298.677187 \n\" clip-path=\"url(#p69b57e0a49)\" style=\"fill: none; stroke: #474747; stroke-width: 1.5; stroke-linecap: square\"/>\n   </g>\n   <g id=\"line2d_46\">\n    <path d=\"M 650.748292 298.677187 \nL 949.890221 298.677187 \n\" clip-path=\"url(#p69b57e0a49)\" style=\"fill: none; stroke: #474747; stroke-width: 1.5; stroke-linecap: square\"/>\n   </g>\n   <g id=\"line2d_47\">\n    <path d=\"M 147.163212 288.793551 \nL 147.163212 308.560824 \n\" clip-path=\"url(#p69b57e0a49)\" style=\"fill: none; stroke: #474747; stroke-width: 1.5; stroke-linecap: square\"/>\n   </g>\n   <g id=\"line2d_48\">\n    <path d=\"M 949.890221 288.793551 \nL 949.890221 308.560824 \n\" clip-path=\"url(#p69b57e0a49)\" style=\"fill: none; stroke: #474747; stroke-width: 1.5; stroke-linecap: square\"/>\n   </g>\n   <g id=\"line2d_49\">\n    <g clip-path=\"url(#p69b57e0a49)\">\n     <use xlink:href=\"#m030e5d19c8\" x=\"127.987448\" y=\"298.677187\" style=\"fill: #474747; stroke: #474747; stroke-linejoin: miter\"/>\n    </g>\n   </g>\n   <g id=\"line2d_50\">\n    <path d=\"M 439.224858 348.095369 \nL 143.623071 348.095369 \n\" clip-path=\"url(#p69b57e0a49)\" style=\"fill: none; stroke: #474747; stroke-width: 1.5; stroke-linecap: square\"/>\n   </g>\n   <g id=\"line2d_51\">\n    <path d=\"M 645.511834 348.095369 \nL 918.913985 348.095369 \n\" clip-path=\"url(#p69b57e0a49)\" style=\"fill: none; stroke: #474747; stroke-width: 1.5; stroke-linecap: square\"/>\n   </g>\n   <g id=\"line2d_52\">\n    <path d=\"M 143.623071 338.211733 \nL 143.623071 357.979006 \n\" clip-path=\"url(#p69b57e0a49)\" style=\"fill: none; stroke: #474747; stroke-width: 1.5; stroke-linecap: square\"/>\n   </g>\n   <g id=\"line2d_53\">\n    <path d=\"M 918.913985 338.211733 \nL 918.913985 357.979006 \n\" clip-path=\"url(#p69b57e0a49)\" style=\"fill: none; stroke: #474747; stroke-width: 1.5; stroke-linecap: square\"/>\n   </g>\n   <g id=\"line2d_54\">\n    <g clip-path=\"url(#p69b57e0a49)\">\n     <use xlink:href=\"#m030e5d19c8\" x=\"127.692436\" y=\"348.095369\" style=\"fill: #474747; stroke: #474747; stroke-linejoin: miter\"/>\n     <use xlink:href=\"#m030e5d19c8\" x=\"109.696718\" y=\"348.095369\" style=\"fill: #474747; stroke: #474747; stroke-linejoin: miter\"/>\n     <use xlink:href=\"#m030e5d19c8\" x=\"125.627354\" y=\"348.095369\" style=\"fill: #474747; stroke: #474747; stroke-linejoin: miter\"/>\n     <use xlink:href=\"#m030e5d19c8\" x=\"128.282459\" y=\"348.095369\" style=\"fill: #474747; stroke: #474747; stroke-linejoin: miter\"/>\n     <use xlink:href=\"#m030e5d19c8\" x=\"990.601844\" y=\"348.095369\" style=\"fill: #474747; stroke: #474747; stroke-linejoin: miter\"/>\n     <use xlink:href=\"#m030e5d19c8\" x=\"961.985703\" y=\"348.095369\" style=\"fill: #474747; stroke: #474747; stroke-linejoin: miter\"/>\n     <use xlink:href=\"#m030e5d19c8\" x=\"1005.942456\" y=\"348.095369\" style=\"fill: #474747; stroke: #474747; stroke-linejoin: miter\"/>\n    </g>\n   </g>\n   <g id=\"line2d_55\">\n    <path d=\"M 451.32034 397.513551 \nL 150.408342 397.513551 \n\" clip-path=\"url(#p69b57e0a49)\" style=\"fill: none; stroke: #474747; stroke-width: 1.5; stroke-linecap: square\"/>\n   </g>\n   <g id=\"line2d_56\">\n    <path d=\"M 652.223351 397.513551 \nL 943.10495 397.513551 \n\" clip-path=\"url(#p69b57e0a49)\" style=\"fill: none; stroke: #474747; stroke-width: 1.5; stroke-linecap: square\"/>\n   </g>\n   <g id=\"line2d_57\">\n    <path d=\"M 150.408342 387.629915 \nL 150.408342 407.397187 \n\" clip-path=\"url(#p69b57e0a49)\" style=\"fill: none; stroke: #474747; stroke-width: 1.5; stroke-linecap: square\"/>\n   </g>\n   <g id=\"line2d_58\">\n    <path d=\"M 943.10495 387.629915 \nL 943.10495 407.397187 \n\" clip-path=\"url(#p69b57e0a49)\" style=\"fill: none; stroke: #474747; stroke-width: 1.5; stroke-linecap: square\"/>\n   </g>\n   <g id=\"line2d_59\">\n    <g clip-path=\"url(#p69b57e0a49)\">\n     <use xlink:href=\"#m030e5d19c8\" x=\"148.048248\" y=\"397.513551\" style=\"fill: #474747; stroke: #474747; stroke-linejoin: miter\"/>\n     <use xlink:href=\"#m030e5d19c8\" x=\"954.610409\" y=\"397.513551\" style=\"fill: #474747; stroke: #474747; stroke-linejoin: miter\"/>\n     <use xlink:href=\"#m030e5d19c8\" x=\"1076.745279\" y=\"397.513551\" style=\"fill: #474747; stroke: #474747; stroke-linejoin: miter\"/>\n     <use xlink:href=\"#m030e5d19c8\" x=\"959.920621\" y=\"397.513551\" style=\"fill: #474747; stroke: #474747; stroke-linejoin: miter\"/>\n     <use xlink:href=\"#m030e5d19c8\" x=\"980.276432\" y=\"397.513551\" style=\"fill: #474747; stroke: #474747; stroke-linejoin: miter\"/>\n    </g>\n   </g>\n   <g id=\"line2d_60\">\n    <path d=\"M 462.530787 446.931733 \nL 189.939918 446.931733 \n\" clip-path=\"url(#p69b57e0a49)\" style=\"fill: none; stroke: #474747; stroke-width: 1.5; stroke-linecap: square\"/>\n   </g>\n   <g id=\"line2d_61\">\n    <path d=\"M 649.568245 446.931733 \nL 909.178597 446.931733 \n\" clip-path=\"url(#p69b57e0a49)\" style=\"fill: none; stroke: #474747; stroke-width: 1.5; stroke-linecap: square\"/>\n   </g>\n   <g id=\"line2d_62\">\n    <path d=\"M 189.939918 437.048097 \nL 189.939918 456.815369 \n\" clip-path=\"url(#p69b57e0a49)\" style=\"fill: none; stroke: #474747; stroke-width: 1.5; stroke-linecap: square\"/>\n   </g>\n   <g id=\"line2d_63\">\n    <path d=\"M 909.178597 437.048097 \nL 909.178597 456.815369 \n\" clip-path=\"url(#p69b57e0a49)\" style=\"fill: none; stroke: #474747; stroke-width: 1.5; stroke-linecap: square\"/>\n   </g>\n   <g id=\"line2d_64\">\n    <g clip-path=\"url(#p69b57e0a49)\">\n     <use xlink:href=\"#m030e5d19c8\" x=\"165.15893\" y=\"446.931733\" style=\"fill: #474747; stroke: #474747; stroke-linejoin: miter\"/>\n     <use xlink:href=\"#m030e5d19c8\" x=\"177.844436\" y=\"446.931733\" style=\"fill: #474747; stroke: #474747; stroke-linejoin: miter\"/>\n     <use xlink:href=\"#m030e5d19c8\" x=\"170.469142\" y=\"446.931733\" style=\"fill: #474747; stroke: #474747; stroke-linejoin: miter\"/>\n     <use xlink:href=\"#m030e5d19c8\" x=\"174.894318\" y=\"446.931733\" style=\"fill: #474747; stroke: #474747; stroke-linejoin: miter\"/>\n     <use xlink:href=\"#m030e5d19c8\" x=\"963.16575\" y=\"446.931733\" style=\"fill: #474747; stroke: #474747; stroke-linejoin: miter\"/>\n     <use xlink:href=\"#m030e5d19c8\" x=\"931.894503\" y=\"446.931733\" style=\"fill: #474747; stroke: #474747; stroke-linejoin: miter\"/>\n     <use xlink:href=\"#m030e5d19c8\" x=\"954.020385\" y=\"446.931733\" style=\"fill: #474747; stroke: #474747; stroke-linejoin: miter\"/>\n    </g>\n   </g>\n   <g id=\"line2d_65\">\n    <path d=\"M 460.465705 496.349915 \nL 182.564624 496.349915 \n\" clip-path=\"url(#p69b57e0a49)\" style=\"fill: none; stroke: #474747; stroke-width: 1.5; stroke-linecap: square\"/>\n   </g>\n   <g id=\"line2d_66\">\n    <path d=\"M 656.132257 496.349915 \nL 944.580009 496.349915 \n\" clip-path=\"url(#p69b57e0a49)\" style=\"fill: none; stroke: #474747; stroke-width: 1.5; stroke-linecap: square\"/>\n   </g>\n   <g id=\"line2d_67\">\n    <path d=\"M 182.564624 486.466278 \nL 182.564624 506.233551 \n\" clip-path=\"url(#p69b57e0a49)\" style=\"fill: none; stroke: #474747; stroke-width: 1.5; stroke-linecap: square\"/>\n   </g>\n   <g id=\"line2d_68\">\n    <path d=\"M 944.580009 486.466278 \nL 944.580009 506.233551 \n\" clip-path=\"url(#p69b57e0a49)\" style=\"fill: none; stroke: #474747; stroke-width: 1.5; stroke-linecap: square\"/>\n   </g>\n   <g id=\"line2d_69\">\n    <g clip-path=\"url(#p69b57e0a49)\">\n     <use xlink:href=\"#m030e5d19c8\" x=\"153.948483\" y=\"496.349915\" style=\"fill: #474747; stroke: #474747; stroke-linejoin: miter\"/>\n     <use xlink:href=\"#m030e5d19c8\" x=\"118.547071\" y=\"496.349915\" style=\"fill: #474747; stroke: #474747; stroke-linejoin: miter\"/>\n     <use xlink:href=\"#m030e5d19c8\" x=\"125.627354\" y=\"496.349915\" style=\"fill: #474747; stroke: #474747; stroke-linejoin: miter\"/>\n     <use xlink:href=\"#m030e5d19c8\" x=\"111.761801\" y=\"496.349915\" style=\"fill: #474747; stroke: #474747; stroke-linejoin: miter\"/>\n    </g>\n   </g>\n   <g id=\"line2d_70\">\n    <path d=\"M 446.010129 545.768097 \nL 170.17413 545.768097 \n\" clip-path=\"url(#p69b57e0a49)\" style=\"fill: none; stroke: #474747; stroke-width: 1.5; stroke-linecap: square\"/>\n   </g>\n   <g id=\"line2d_71\">\n    <path d=\"M 647.208151 545.768097 \nL 948.12015 545.768097 \n\" clip-path=\"url(#p69b57e0a49)\" style=\"fill: none; stroke: #474747; stroke-width: 1.5; stroke-linecap: square\"/>\n   </g>\n   <g id=\"line2d_72\">\n    <path d=\"M 170.17413 535.88446 \nL 170.17413 555.651733 \n\" clip-path=\"url(#p69b57e0a49)\" style=\"fill: none; stroke: #474747; stroke-width: 1.5; stroke-linecap: square\"/>\n   </g>\n   <g id=\"line2d_73\">\n    <path d=\"M 948.12015 535.88446 \nL 948.12015 555.651733 \n\" clip-path=\"url(#p69b57e0a49)\" style=\"fill: none; stroke: #474747; stroke-width: 1.5; stroke-linecap: square\"/>\n   </g>\n   <g id=\"line2d_74\">\n    <g clip-path=\"url(#p69b57e0a49)\">\n     <use xlink:href=\"#m030e5d19c8\" x=\"124.742318\" y=\"545.768097\" style=\"fill: #474747; stroke: #474747; stroke-linejoin: miter\"/>\n     <use xlink:href=\"#m030e5d19c8\" x=\"121.202177\" y=\"545.768097\" style=\"fill: #474747; stroke: #474747; stroke-linejoin: miter\"/>\n     <use xlink:href=\"#m030e5d19c8\" x=\"128.282459\" y=\"545.768097\" style=\"fill: #474747; stroke: #474747; stroke-linejoin: miter\"/>\n     <use xlink:href=\"#m030e5d19c8\" x=\"955.200432\" y=\"545.768097\" style=\"fill: #474747; stroke: #474747; stroke-linejoin: miter\"/>\n    </g>\n   </g>\n   <g id=\"line2d_75\">\n    <path d=\"M 545.429093 31.819006 \nL 545.429093 71.353551 \n\" clip-path=\"url(#p69b57e0a49)\" style=\"fill: none; stroke: #474747; stroke-width: 1.5; stroke-linecap: square\"/>\n   </g>\n   <g id=\"line2d_76\">\n    <path d=\"M 547.051658 81.237187 \nL 547.051658 120.771733 \n\" clip-path=\"url(#p69b57e0a49)\" style=\"fill: none; stroke: #474747; stroke-width: 1.5; stroke-linecap: square\"/>\n   </g>\n   <g id=\"line2d_77\">\n    <path d=\"M 547.051658 130.655369 \nL 547.051658 170.189915 \n\" clip-path=\"url(#p69b57e0a49)\" style=\"fill: none; stroke: #474747; stroke-width: 1.5; stroke-linecap: square\"/>\n   </g>\n   <g id=\"line2d_78\">\n    <path d=\"M 566.66994 180.073551 \nL 566.66994 219.608097 \n\" clip-path=\"url(#p69b57e0a49)\" style=\"fill: none; stroke: #474747; stroke-width: 1.5; stroke-linecap: square\"/>\n   </g>\n   <g id=\"line2d_79\">\n    <path d=\"M 556.934552 229.491733 \nL 556.934552 269.026278 \n\" clip-path=\"url(#p69b57e0a49)\" style=\"fill: none; stroke: #474747; stroke-width: 1.5; stroke-linecap: square\"/>\n   </g>\n   <g id=\"line2d_80\">\n    <path d=\"M 538.938834 278.909915 \nL 538.938834 318.44446 \n\" clip-path=\"url(#p69b57e0a49)\" style=\"fill: none; stroke: #474747; stroke-width: 1.5; stroke-linecap: square\"/>\n   </g>\n   <g id=\"line2d_81\">\n    <path d=\"M 544.691564 328.328097 \nL 544.691564 367.862642 \n\" clip-path=\"url(#p69b57e0a49)\" style=\"fill: none; stroke: #474747; stroke-width: 1.5; stroke-linecap: square\"/>\n   </g>\n   <g id=\"line2d_82\">\n    <path d=\"M 549.264246 377.746278 \nL 549.264246 417.280824 \n\" clip-path=\"url(#p69b57e0a49)\" style=\"fill: none; stroke: #474747; stroke-width: 1.5; stroke-linecap: square\"/>\n   </g>\n   <g id=\"line2d_83\">\n    <path d=\"M 551.181822 427.16446 \nL 551.181822 466.699006 \n\" clip-path=\"url(#p69b57e0a49)\" style=\"fill: none; stroke: #474747; stroke-width: 1.5; stroke-linecap: square\"/>\n   </g>\n   <g id=\"line2d_84\">\n    <path d=\"M 548.674222 476.582642 \nL 548.674222 516.117187 \n\" clip-path=\"url(#p69b57e0a49)\" style=\"fill: none; stroke: #474747; stroke-width: 1.5; stroke-linecap: square\"/>\n   </g>\n   <g id=\"line2d_85\">\n    <path d=\"M 549.559258 526.000824 \nL 549.559258 565.535369 \n\" clip-path=\"url(#p69b57e0a49)\" style=\"fill: none; stroke: #474747; stroke-width: 1.5; stroke-linecap: square\"/>\n   </g>\n   <g id=\"patch_14\">\n    <path d=\"M 57.199375 570.477187 \nL 57.199375 26.877187 \n\" style=\"fill: none; stroke: #ffffff; stroke-width: 0.8; stroke-linejoin: miter; stroke-linecap: square\"/>\n   </g>\n   <g id=\"patch_15\">\n    <path d=\"M 1173.199375 570.477187 \nL 1173.199375 26.877187 \n\" style=\"fill: none; stroke: #ffffff; stroke-width: 0.8; stroke-linejoin: miter; stroke-linecap: square\"/>\n   </g>\n   <g id=\"patch_16\">\n    <path d=\"M 57.199375 570.477187 \nL 1173.199375 570.477187 \n\" style=\"fill: none; stroke: #ffffff; stroke-width: 0.8; stroke-linejoin: miter; stroke-linecap: square\"/>\n   </g>\n   <g id=\"patch_17\">\n    <path d=\"M 57.199375 26.877187 \nL 1173.199375 26.877187 \n\" style=\"fill: none; stroke: #ffffff; stroke-width: 0.8; stroke-linejoin: miter; stroke-linecap: square\"/>\n   </g>\n   <g id=\"text_22\">\n    <!-- Boxplot - Vendas Totais por Ano -->\n    <g style=\"fill: #ffffff\" transform=\"translate(473.062656 20.877187)scale(0.18 -0.18)\">\n     <defs>\n      <path id=\"DejaVuSans-42\" d=\"M 1259 2228 \nL 1259 519 \nL 2272 519 \nQ 2781 519 3026 730 \nQ 3272 941 3272 1375 \nQ 3272 1813 3026 2020 \nQ 2781 2228 2272 2228 \nL 1259 2228 \nz\nM 1259 4147 \nL 1259 2741 \nL 2194 2741 \nQ 2656 2741 2882 2914 \nQ 3109 3088 3109 3444 \nQ 3109 3797 2882 3972 \nQ 2656 4147 2194 4147 \nL 1259 4147 \nz\nM 628 4666 \nL 2241 4666 \nQ 2963 4666 3353 4366 \nQ 3744 4066 3744 3513 \nQ 3744 3084 3544 2831 \nQ 3344 2578 2956 2516 \nQ 3422 2416 3680 2098 \nQ 3938 1781 3938 1306 \nQ 3938 681 3513 340 \nQ 3088 0 2303 0 \nL 628 0 \nL 628 4666 \nz\n\" transform=\"scale(0.015625)\"/>\n      <path id=\"DejaVuSans-6f\" d=\"M 1959 3097 \nQ 1497 3097 1228 2736 \nQ 959 2375 959 1747 \nQ 959 1119 1226 758 \nQ 1494 397 1959 397 \nQ 2419 397 2687 759 \nQ 2956 1122 2956 1747 \nQ 2956 2369 2687 2733 \nQ 2419 3097 1959 3097 \nz\nM 1959 3584 \nQ 2709 3584 3137 3096 \nQ 3566 2609 3566 1747 \nQ 3566 888 3137 398 \nQ 2709 -91 1959 -91 \nQ 1206 -91 779 398 \nQ 353 888 353 1747 \nQ 353 2609 779 3096 \nQ 1206 3584 1959 3584 \nz\n\" transform=\"scale(0.015625)\"/>\n      <path id=\"DejaVuSans-78\" d=\"M 3513 3500 \nL 2247 1797 \nL 3578 0 \nL 2900 0 \nL 1881 1375 \nL 863 0 \nL 184 0 \nL 1544 1831 \nL 300 3500 \nL 978 3500 \nL 1906 2253 \nL 2834 3500 \nL 3513 3500 \nz\n\" transform=\"scale(0.015625)\"/>\n      <path id=\"DejaVuSans-70\" d=\"M 1159 525 \nL 1159 -1331 \nL 581 -1331 \nL 581 3500 \nL 1159 3500 \nL 1159 2969 \nQ 1341 3281 1617 3432 \nQ 1894 3584 2278 3584 \nQ 2916 3584 3314 3078 \nQ 3713 2572 3713 1747 \nQ 3713 922 3314 415 \nQ 2916 -91 2278 -91 \nQ 1894 -91 1617 61 \nQ 1341 213 1159 525 \nz\nM 3116 1747 \nQ 3116 2381 2855 2742 \nQ 2594 3103 2138 3103 \nQ 1681 3103 1420 2742 \nQ 1159 2381 1159 1747 \nQ 1159 1113 1420 752 \nQ 1681 391 2138 391 \nQ 2594 391 2855 752 \nQ 3116 1113 3116 1747 \nz\n\" transform=\"scale(0.015625)\"/>\n      <path id=\"DejaVuSans-6c\" d=\"M 603 4863 \nL 1178 4863 \nL 1178 0 \nL 603 0 \nL 603 4863 \nz\n\" transform=\"scale(0.015625)\"/>\n      <path id=\"DejaVuSans-74\" d=\"M 1172 4494 \nL 1172 3500 \nL 2356 3500 \nL 2356 3053 \nL 1172 3053 \nL 1172 1153 \nQ 1172 725 1289 603 \nQ 1406 481 1766 481 \nL 2356 481 \nL 2356 0 \nL 1766 0 \nQ 1100 0 847 248 \nQ 594 497 594 1153 \nL 594 3053 \nL 172 3053 \nL 172 3500 \nL 594 3500 \nL 594 4494 \nL 1172 4494 \nz\n\" transform=\"scale(0.015625)\"/>\n      <path id=\"DejaVuSans-20\" transform=\"scale(0.015625)\"/>\n      <path id=\"DejaVuSans-2d\" d=\"M 313 2009 \nL 1997 2009 \nL 1997 1497 \nL 313 1497 \nL 313 2009 \nz\n\" transform=\"scale(0.015625)\"/>\n      <path id=\"DejaVuSans-54\" d=\"M -19 4666 \nL 3928 4666 \nL 3928 4134 \nL 2272 4134 \nL 2272 0 \nL 1638 0 \nL 1638 4134 \nL -19 4134 \nL -19 4666 \nz\n\" transform=\"scale(0.015625)\"/>\n      <path id=\"DejaVuSans-72\" d=\"M 2631 2963 \nQ 2534 3019 2420 3045 \nQ 2306 3072 2169 3072 \nQ 1681 3072 1420 2755 \nQ 1159 2438 1159 1844 \nL 1159 0 \nL 581 0 \nL 581 3500 \nL 1159 3500 \nL 1159 2956 \nQ 1341 3275 1631 3429 \nQ 1922 3584 2338 3584 \nQ 2397 3584 2469 3576 \nQ 2541 3569 2628 3553 \nL 2631 2963 \nz\n\" transform=\"scale(0.015625)\"/>\n      <path id=\"DejaVuSans-41\" d=\"M 2188 4044 \nL 1331 1722 \nL 3047 1722 \nL 2188 4044 \nz\nM 1831 4666 \nL 2547 4666 \nL 4325 0 \nL 3669 0 \nL 3244 1197 \nL 1141 1197 \nL 716 0 \nL 50 0 \nL 1831 4666 \nz\n\" transform=\"scale(0.015625)\"/>\n     </defs>\n     <use xlink:href=\"#DejaVuSans-42\"/>\n     <use xlink:href=\"#DejaVuSans-6f\" x=\"68.603516\"/>\n     <use xlink:href=\"#DejaVuSans-78\" x=\"126.660156\"/>\n     <use xlink:href=\"#DejaVuSans-70\" x=\"185.839844\"/>\n     <use xlink:href=\"#DejaVuSans-6c\" x=\"249.316406\"/>\n     <use xlink:href=\"#DejaVuSans-6f\" x=\"277.099609\"/>\n     <use xlink:href=\"#DejaVuSans-74\" x=\"338.28125\"/>\n     <use xlink:href=\"#DejaVuSans-20\" x=\"377.490234\"/>\n     <use xlink:href=\"#DejaVuSans-2d\" x=\"409.277344\"/>\n     <use xlink:href=\"#DejaVuSans-20\" x=\"445.361328\"/>\n     <use xlink:href=\"#DejaVuSans-56\" x=\"477.148438\"/>\n     <use xlink:href=\"#DejaVuSans-65\" x=\"537.806641\"/>\n     <use xlink:href=\"#DejaVuSans-6e\" x=\"599.330078\"/>\n     <use xlink:href=\"#DejaVuSans-64\" x=\"662.708984\"/>\n     <use xlink:href=\"#DejaVuSans-61\" x=\"726.185547\"/>\n     <use xlink:href=\"#DejaVuSans-73\" x=\"787.464844\"/>\n     <use xlink:href=\"#DejaVuSans-20\" x=\"839.564453\"/>\n     <use xlink:href=\"#DejaVuSans-54\" x=\"871.351562\"/>\n     <use xlink:href=\"#DejaVuSans-6f\" x=\"915.435547\"/>\n     <use xlink:href=\"#DejaVuSans-74\" x=\"976.617188\"/>\n     <use xlink:href=\"#DejaVuSans-61\" x=\"1015.826172\"/>\n     <use xlink:href=\"#DejaVuSans-69\" x=\"1077.105469\"/>\n     <use xlink:href=\"#DejaVuSans-73\" x=\"1104.888672\"/>\n     <use xlink:href=\"#DejaVuSans-20\" x=\"1156.988281\"/>\n     <use xlink:href=\"#DejaVuSans-70\" x=\"1188.775391\"/>\n     <use xlink:href=\"#DejaVuSans-6f\" x=\"1252.251953\"/>\n     <use xlink:href=\"#DejaVuSans-72\" x=\"1313.433594\"/>\n     <use xlink:href=\"#DejaVuSans-20\" x=\"1354.546875\"/>\n     <use xlink:href=\"#DejaVuSans-41\" x=\"1386.333984\"/>\n     <use xlink:href=\"#DejaVuSans-6e\" x=\"1454.742188\"/>\n     <use xlink:href=\"#DejaVuSans-6f\" x=\"1518.121094\"/>\n    </g>\n   </g>\n  </g>\n </g>\n <defs>\n  <clipPath id=\"p69b57e0a49\">\n   <rect x=\"57.199375\" y=\"26.877187\" width=\"1116\" height=\"543.6\"/>\n  </clipPath>\n </defs>\n</svg>\n",
            "text/plain": [
              "<Figure size 1440x720 with 1 Axes>"
            ]
          },
          "metadata": {},
          "output_type": "display_data"
        }
      ],
      "source": [
        "recorte = dados[(dados.Ano >= 2000) & (dados.Ano <= 2010)]\n",
        "\n",
        "g3 = sns.boxplot(x='Vendas', y='Ano', data=recorte, orient='h')\n",
        "g3.figure.set_size_inches(20,10)\n",
        "g3.set_title('Boxplot - Vendas Totais por Ano', fontsize = 18)\n",
        "g3.set_ylabel('Densidade', fontsize = 14)"
      ]
    },
    {
      "cell_type": "markdown",
      "metadata": {
        "id": "ubuwzVxbK9au"
      },
      "source": [
        "### **<font color=green>Item 14 </font>**<br>Apresente de forma agregada utilizando boxplot as informações relativas aos anos com maior número de unidades vendidas."
      ]
    },
    {
      "cell_type": "code",
      "execution_count": null,
      "metadata": {
        "id": "8d27FSYPK9au",
        "outputId": "4663793d-6aa7-4563-b380-82480b2a971f"
      },
      "outputs": [
        {
          "data": {
            "text/html": [
              "<div>\n",
              "<style scoped>\n",
              "    .dataframe tbody tr th:only-of-type {\n",
              "        vertical-align: middle;\n",
              "    }\n",
              "\n",
              "    .dataframe tbody tr th {\n",
              "        vertical-align: top;\n",
              "    }\n",
              "\n",
              "    .dataframe thead th {\n",
              "        text-align: right;\n",
              "    }\n",
              "</style>\n",
              "<table border=\"1\" class=\"dataframe\">\n",
              "  <thead>\n",
              "    <tr style=\"text-align: right;\">\n",
              "      <th></th>\n",
              "      <th>Marca</th>\n",
              "      <th>Modelo</th>\n",
              "      <th>Valor</th>\n",
              "      <th>Ano</th>\n",
              "      <th>Combustivel</th>\n",
              "      <th>Automatico</th>\n",
              "      <th>Vendas</th>\n",
              "    </tr>\n",
              "  </thead>\n",
              "  <tbody>\n",
              "    <tr>\n",
              "      <th>1429</th>\n",
              "      <td>BMW</td>\n",
              "      <td>320iA 2.0 Turbo/ActiveFlex 16V/GP 4p</td>\n",
              "      <td>264790.0</td>\n",
              "      <td>2019</td>\n",
              "      <td>Gasolina</td>\n",
              "      <td>False</td>\n",
              "      <td>1539</td>\n",
              "    </tr>\n",
              "    <tr>\n",
              "      <th>5033</th>\n",
              "      <td>Fiat</td>\n",
              "      <td>Palio Celebration 1.0 Fire Flex 8V 2p</td>\n",
              "      <td>24808.0</td>\n",
              "      <td>2015</td>\n",
              "      <td>Gasolina</td>\n",
              "      <td>False</td>\n",
              "      <td>1516</td>\n",
              "    </tr>\n",
              "    <tr>\n",
              "      <th>4498</th>\n",
              "      <td>Fiat</td>\n",
              "      <td>Ducato Multi 2.3 16V Diesel</td>\n",
              "      <td>193013.0</td>\n",
              "      <td>2019</td>\n",
              "      <td>Diesel</td>\n",
              "      <td>False</td>\n",
              "      <td>1608</td>\n",
              "    </tr>\n",
              "    <tr>\n",
              "      <th>22587</th>\n",
              "      <td>Toyota</td>\n",
              "      <td>ETIOS X Plus Sedan 1.5 Flex 16V 4p Mec.</td>\n",
              "      <td>57854.0</td>\n",
              "      <td>2019</td>\n",
              "      <td>Gasolina</td>\n",
              "      <td>False</td>\n",
              "      <td>1226</td>\n",
              "    </tr>\n",
              "    <tr>\n",
              "      <th>22127</th>\n",
              "      <td>Suzuki</td>\n",
              "      <td>Vitara 4YOU 1.6 16V Aut.</td>\n",
              "      <td>92120.0</td>\n",
              "      <td>2019</td>\n",
              "      <td>Gasolina</td>\n",
              "      <td>True</td>\n",
              "      <td>1529</td>\n",
              "    </tr>\n",
              "  </tbody>\n",
              "</table>\n",
              "</div>"
            ],
            "text/plain": [
              "        Marca                                   Modelo     Valor   Ano  \\\n",
              "1429      BMW     320iA 2.0 Turbo/ActiveFlex 16V/GP 4p  264790.0  2019   \n",
              "5033     Fiat    Palio Celebration 1.0 Fire Flex 8V 2p   24808.0  2015   \n",
              "4498     Fiat              Ducato Multi 2.3 16V Diesel  193013.0  2019   \n",
              "22587  Toyota  ETIOS X Plus Sedan 1.5 Flex 16V 4p Mec.   57854.0  2019   \n",
              "22127  Suzuki                 Vitara 4YOU 1.6 16V Aut.   92120.0  2019   \n",
              "\n",
              "      Combustivel  Automatico  Vendas  \n",
              "1429     Gasolina       False    1539  \n",
              "5033     Gasolina       False    1516  \n",
              "4498       Diesel       False    1608  \n",
              "22587    Gasolina       False    1226  \n",
              "22127    Gasolina        True    1529  "
            ]
          },
          "execution_count": 51,
          "metadata": {},
          "output_type": "execute_result"
        }
      ],
      "source": [
        "recorte2 = dados[(dados.Ano == 2012) | (dados.Ano == 2015) | (dados.Ano == 2019)]\n",
        "recorte2.sample(5)"
      ]
    },
    {
      "cell_type": "code",
      "execution_count": null,
      "metadata": {
        "id": "d0BFeFbHK9au",
        "outputId": "467233f2-6116-4ba0-e19c-068021bfc8c8"
      },
      "outputs": [
        {
          "data": {
            "text/plain": [
              "Text(0, 0.5, 'Densidade')"
            ]
          },
          "execution_count": 52,
          "metadata": {},
          "output_type": "execute_result"
        },
        {
          "data": {
            "image/png": "[encoded data removed]",
            "image/svg+xml": "<?xml version=\"1.0\" encoding=\"utf-8\" standalone=\"no\"?>\n<!DOCTYPE svg PUBLIC \"-//W3C//DTD SVG 1.1//EN\"\n  \"http://www.w3.org/Graphics/SVG/1.1/DTD/svg11.dtd\">\n<svg xmlns:xlink=\"http://www.w3.org/1999/xlink\" width=\"1180.399375pt\" height=\"608.033437pt\" viewBox=\"0 0 1180.399375 608.033437\" xmlns=\"http://www.w3.org/2000/svg\" version=\"1.1\">\n <metadata>\n  <rdf:RDF xmlns:dc=\"http://purl.org/dc/elements/1.1/\" xmlns:cc=\"http://creativecommons.org/ns#\" xmlns:rdf=\"http://www.w3.org/1999/02/22-rdf-syntax-ns#\">\n   <cc:Work>\n    <dc:type rdf:resource=\"http://purl.org/dc/dcmitype/StillImage\"/>\n    <dc:date>2022-10-17T20:02:34.037946</dc:date>\n    <dc:format>image/svg+xml</dc:format>\n    <dc:creator>\n     <cc:Agent>\n      <dc:title>Matplotlib v3.5.1, https://matplotlib.org/</dc:title>\n     </cc:Agent>\n    </dc:creator>\n   </cc:Work>\n  </rdf:RDF>\n </metadata>\n <defs>\n  <style type=\"text/css\">*{stroke-linejoin: round; stroke-linecap: butt}</style>\n </defs>\n <g id=\"figure_1\">\n  <g id=\"patch_1\">\n   <path d=\"M 0 608.033437 \nL 1180.399375 608.033437 \nL 1180.399375 0 \nL 0 0 \nz\n\"/>\n  </g>\n  <g id=\"axes_1\">\n   <g id=\"patch_2\">\n    <path d=\"M 57.199375 570.477187 \nL 1173.199375 570.477187 \nL 1173.199375 26.877187 \nL 57.199375 26.877187 \nz\n\"/>\n   </g>\n   <g id=\"patch_3\">\n    <path d=\"M 471.672966 44.997187 \nL 471.672966 189.957187 \nL 684.849595 189.957187 \nL 684.849595 44.997187 \nL 471.672966 44.997187 \nz\n\" clip-path=\"url(#p80608802d4)\" style=\"fill: #96cac1; stroke: #6a6a6a; stroke-width: 1.5; stroke-linejoin: miter\"/>\n   </g>\n   <g id=\"patch_4\">\n    <path d=\"M 475.742417 226.197187 \nL 475.742417 371.157187 \nL 687.353873 371.157187 \nL 687.353873 226.197187 \nL 475.742417 226.197187 \nz\n\" clip-path=\"url(#p80608802d4)\" style=\"fill: #f5f6bc; stroke: #6a6a6a; stroke-width: 1.5; stroke-linejoin: miter\"/>\n   </g>\n   <g id=\"patch_5\">\n    <path d=\"M 472.455553 407.397187 \nL 472.455553 552.357187 \nL 683.753974 552.357187 \nL 683.753974 407.397187 \nL 472.455553 407.397187 \nz\n\" clip-path=\"url(#p80608802d4)\" style=\"fill: #c2bfd5; stroke: #6a6a6a; stroke-width: 1.5; stroke-linejoin: miter\"/>\n   </g>\n   <g id=\"matplotlib.axis_1\">\n    <g id=\"xtick_1\">\n     <g id=\"line2d_1\">\n      <defs>\n       <path id=\"me6adc0fc72\" d=\"M 0 0 \nL 0 3.5 \n\" style=\"stroke: #ffffff; stroke-width: 0.8\"/>\n      </defs>\n      <g>\n       <use xlink:href=\"#me6adc0fc72\" x=\"104.796301\" y=\"570.477187\" style=\"fill: #ffffff; stroke: #ffffff; stroke-width: 0.8\"/>\n      </g>\n     </g>\n     <g id=\"text_1\">\n      <!-- 0 -->\n      <g style=\"fill: #ffffff\" transform=\"translate(101.615051 585.075625)scale(0.1 -0.1)\">\n       <defs>\n        <path id=\"DejaVuSans-30\" d=\"M 2034 4250 \nQ 1547 4250 1301 3770 \nQ 1056 3291 1056 2328 \nQ 1056 1369 1301 889 \nQ 1547 409 2034 409 \nQ 2525 409 2770 889 \nQ 3016 1369 3016 2328 \nQ 3016 3291 2770 3770 \nQ 2525 4250 2034 4250 \nz\nM 2034 4750 \nQ 2819 4750 3233 4129 \nQ 3647 3509 3647 2328 \nQ 3647 1150 3233 529 \nQ 2819 -91 2034 -91 \nQ 1250 -91 836 529 \nQ 422 1150 422 2328 \nQ 422 3509 836 4129 \nQ 1250 4750 2034 4750 \nz\n\" transform=\"scale(0.015625)\"/>\n       </defs>\n       <use xlink:href=\"#DejaVuSans-30\"/>\n      </g>\n     </g>\n    </g>\n    <g id=\"xtick_2\">\n     <g id=\"line2d_2\">\n      <g>\n       <use xlink:href=\"#me6adc0fc72\" x=\"261.313649\" y=\"570.477187\" style=\"fill: #ffffff; stroke: #ffffff; stroke-width: 0.8\"/>\n      </g>\n     </g>\n     <g id=\"text_2\">\n      <!-- 500 -->\n      <g style=\"fill: #ffffff\" transform=\"translate(251.769899 585.075625)scale(0.1 -0.1)\">\n       <defs>\n        <path id=\"DejaVuSans-35\" d=\"M 691 4666 \nL 3169 4666 \nL 3169 4134 \nL 1269 4134 \nL 1269 2991 \nQ 1406 3038 1543 3061 \nQ 1681 3084 1819 3084 \nQ 2600 3084 3056 2656 \nQ 3513 2228 3513 1497 \nQ 3513 744 3044 326 \nQ 2575 -91 1722 -91 \nQ 1428 -91 1123 -41 \nQ 819 9 494 109 \nL 494 744 \nQ 775 591 1075 516 \nQ 1375 441 1709 441 \nQ 2250 441 2565 725 \nQ 2881 1009 2881 1497 \nQ 2881 1984 2565 2268 \nQ 2250 2553 1709 2553 \nQ 1456 2553 1204 2497 \nQ 953 2441 691 2322 \nL 691 4666 \nz\n\" transform=\"scale(0.015625)\"/>\n       </defs>\n       <use xlink:href=\"#DejaVuSans-35\"/>\n       <use xlink:href=\"#DejaVuSans-30\" x=\"63.623047\"/>\n       <use xlink:href=\"#DejaVuSans-30\" x=\"127.246094\"/>\n      </g>\n     </g>\n    </g>\n    <g id=\"xtick_3\">\n     <g id=\"line2d_3\">\n      <g>\n       <use xlink:href=\"#me6adc0fc72\" x=\"417.830998\" y=\"570.477187\" style=\"fill: #ffffff; stroke: #ffffff; stroke-width: 0.8\"/>\n      </g>\n     </g>\n     <g id=\"text_3\">\n      <!-- 1000 -->\n      <g style=\"fill: #ffffff\" transform=\"translate(405.105998 585.075625)scale(0.1 -0.1)\">\n       <defs>\n        <path id=\"DejaVuSans-31\" d=\"M 794 531 \nL 1825 531 \nL 1825 4091 \nL 703 3866 \nL 703 4441 \nL 1819 4666 \nL 2450 4666 \nL 2450 531 \nL 3481 531 \nL 3481 0 \nL 794 0 \nL 794 531 \nz\n\" transform=\"scale(0.015625)\"/>\n       </defs>\n       <use xlink:href=\"#DejaVuSans-31\"/>\n       <use xlink:href=\"#DejaVuSans-30\" x=\"63.623047\"/>\n       <use xlink:href=\"#DejaVuSans-30\" x=\"127.246094\"/>\n       <use xlink:href=\"#DejaVuSans-30\" x=\"190.869141\"/>\n      </g>\n     </g>\n    </g>\n    <g id=\"xtick_4\">\n     <g id=\"line2d_4\">\n      <g>\n       <use xlink:href=\"#me6adc0fc72\" x=\"574.348347\" y=\"570.477187\" style=\"fill: #ffffff; stroke: #ffffff; stroke-width: 0.8\"/>\n      </g>\n     </g>\n     <g id=\"text_4\">\n      <!-- 1500 -->\n      <g style=\"fill: #ffffff\" transform=\"translate(561.623347 585.075625)scale(0.1 -0.1)\">\n       <use xlink:href=\"#DejaVuSans-31\"/>\n       <use xlink:href=\"#DejaVuSans-35\" x=\"63.623047\"/>\n       <use xlink:href=\"#DejaVuSans-30\" x=\"127.246094\"/>\n       <use xlink:href=\"#DejaVuSans-30\" x=\"190.869141\"/>\n      </g>\n     </g>\n    </g>\n    <g id=\"xtick_5\">\n     <g id=\"line2d_5\">\n      <g>\n       <use xlink:href=\"#me6adc0fc72\" x=\"730.865696\" y=\"570.477187\" style=\"fill: #ffffff; stroke: #ffffff; stroke-width: 0.8\"/>\n      </g>\n     </g>\n     <g id=\"text_5\">\n      <!-- 2000 -->\n      <g style=\"fill: #ffffff\" transform=\"translate(718.140696 585.075625)scale(0.1 -0.1)\">\n       <defs>\n        <path id=\"DejaVuSans-32\" d=\"M 1228 531 \nL 3431 531 \nL 3431 0 \nL 469 0 \nL 469 531 \nQ 828 903 1448 1529 \nQ 2069 2156 2228 2338 \nQ 2531 2678 2651 2914 \nQ 2772 3150 2772 3378 \nQ 2772 3750 2511 3984 \nQ 2250 4219 1831 4219 \nQ 1534 4219 1204 4116 \nQ 875 4013 500 3803 \nL 500 4441 \nQ 881 4594 1212 4672 \nQ 1544 4750 1819 4750 \nQ 2544 4750 2975 4387 \nQ 3406 4025 3406 3419 \nQ 3406 3131 3298 2873 \nQ 3191 2616 2906 2266 \nQ 2828 2175 2409 1742 \nQ 1991 1309 1228 531 \nz\n\" transform=\"scale(0.015625)\"/>\n       </defs>\n       <use xlink:href=\"#DejaVuSans-32\"/>\n       <use xlink:href=\"#DejaVuSans-30\" x=\"63.623047\"/>\n       <use xlink:href=\"#DejaVuSans-30\" x=\"127.246094\"/>\n       <use xlink:href=\"#DejaVuSans-30\" x=\"190.869141\"/>\n      </g>\n     </g>\n    </g>\n    <g id=\"xtick_6\">\n     <g id=\"line2d_6\">\n      <g>\n       <use xlink:href=\"#me6adc0fc72\" x=\"887.383044\" y=\"570.477187\" style=\"fill: #ffffff; stroke: #ffffff; stroke-width: 0.8\"/>\n      </g>\n     </g>\n     <g id=\"text_6\">\n      <!-- 2500 -->\n      <g style=\"fill: #ffffff\" transform=\"translate(874.658044 585.075625)scale(0.1 -0.1)\">\n       <use xlink:href=\"#DejaVuSans-32\"/>\n       <use xlink:href=\"#DejaVuSans-35\" x=\"63.623047\"/>\n       <use xlink:href=\"#DejaVuSans-30\" x=\"127.246094\"/>\n       <use xlink:href=\"#DejaVuSans-30\" x=\"190.869141\"/>\n      </g>\n     </g>\n    </g>\n    <g id=\"xtick_7\">\n     <g id=\"line2d_7\">\n      <g>\n       <use xlink:href=\"#me6adc0fc72\" x=\"1043.900393\" y=\"570.477187\" style=\"fill: #ffffff; stroke: #ffffff; stroke-width: 0.8\"/>\n      </g>\n     </g>\n     <g id=\"text_7\">\n      <!-- 3000 -->\n      <g style=\"fill: #ffffff\" transform=\"translate(1031.175393 585.075625)scale(0.1 -0.1)\">\n       <defs>\n        <path id=\"DejaVuSans-33\" d=\"M 2597 2516 \nQ 3050 2419 3304 2112 \nQ 3559 1806 3559 1356 \nQ 3559 666 3084 287 \nQ 2609 -91 1734 -91 \nQ 1441 -91 1130 -33 \nQ 819 25 488 141 \nL 488 750 \nQ 750 597 1062 519 \nQ 1375 441 1716 441 \nQ 2309 441 2620 675 \nQ 2931 909 2931 1356 \nQ 2931 1769 2642 2001 \nQ 2353 2234 1838 2234 \nL 1294 2234 \nL 1294 2753 \nL 1863 2753 \nQ 2328 2753 2575 2939 \nQ 2822 3125 2822 3475 \nQ 2822 3834 2567 4026 \nQ 2313 4219 1838 4219 \nQ 1578 4219 1281 4162 \nQ 984 4106 628 3988 \nL 628 4550 \nQ 988 4650 1302 4700 \nQ 1616 4750 1894 4750 \nQ 2613 4750 3031 4423 \nQ 3450 4097 3450 3541 \nQ 3450 3153 3228 2886 \nQ 3006 2619 2597 2516 \nz\n\" transform=\"scale(0.015625)\"/>\n       </defs>\n       <use xlink:href=\"#DejaVuSans-33\"/>\n       <use xlink:href=\"#DejaVuSans-30\" x=\"63.623047\"/>\n       <use xlink:href=\"#DejaVuSans-30\" x=\"127.246094\"/>\n       <use xlink:href=\"#DejaVuSans-30\" x=\"190.869141\"/>\n      </g>\n     </g>\n    </g>\n    <g id=\"text_8\">\n     <!-- Vendas -->\n     <g style=\"fill: #ffffff\" transform=\"translate(597.078281 598.75375)scale(0.1 -0.1)\">\n      <defs>\n       <path id=\"DejaVuSans-56\" d=\"M 1831 0 \nL 50 4666 \nL 709 4666 \nL 2188 738 \nL 3669 4666 \nL 4325 4666 \nL 2547 0 \nL 1831 0 \nz\n\" transform=\"scale(0.015625)\"/>\n       <path id=\"DejaVuSans-65\" d=\"M 3597 1894 \nL 3597 1613 \nL 953 1613 \nQ 991 1019 1311 708 \nQ 1631 397 2203 397 \nQ 2534 397 2845 478 \nQ 3156 559 3463 722 \nL 3463 178 \nQ 3153 47 2828 -22 \nQ 2503 -91 2169 -91 \nQ 1331 -91 842 396 \nQ 353 884 353 1716 \nQ 353 2575 817 3079 \nQ 1281 3584 2069 3584 \nQ 2775 3584 3186 3129 \nQ 3597 2675 3597 1894 \nz\nM 3022 2063 \nQ 3016 2534 2758 2815 \nQ 2500 3097 2075 3097 \nQ 1594 3097 1305 2825 \nQ 1016 2553 972 2059 \nL 3022 2063 \nz\n\" transform=\"scale(0.015625)\"/>\n       <path id=\"DejaVuSans-6e\" d=\"M 3513 2113 \nL 3513 0 \nL 2938 0 \nL 2938 2094 \nQ 2938 2591 2744 2837 \nQ 2550 3084 2163 3084 \nQ 1697 3084 1428 2787 \nQ 1159 2491 1159 1978 \nL 1159 0 \nL 581 0 \nL 581 3500 \nL 1159 3500 \nL 1159 2956 \nQ 1366 3272 1645 3428 \nQ 1925 3584 2291 3584 \nQ 2894 3584 3203 3211 \nQ 3513 2838 3513 2113 \nz\n\" transform=\"scale(0.015625)\"/>\n       <path id=\"DejaVuSans-64\" d=\"M 2906 2969 \nL 2906 4863 \nL 3481 4863 \nL 3481 0 \nL 2906 0 \nL 2906 525 \nQ 2725 213 2448 61 \nQ 2172 -91 1784 -91 \nQ 1150 -91 751 415 \nQ 353 922 353 1747 \nQ 353 2572 751 3078 \nQ 1150 3584 1784 3584 \nQ 2172 3584 2448 3432 \nQ 2725 3281 2906 2969 \nz\nM 947 1747 \nQ 947 1113 1208 752 \nQ 1469 391 1925 391 \nQ 2381 391 2643 752 \nQ 2906 1113 2906 1747 \nQ 2906 2381 2643 2742 \nQ 2381 3103 1925 3103 \nQ 1469 3103 1208 2742 \nQ 947 2381 947 1747 \nz\n\" transform=\"scale(0.015625)\"/>\n       <path id=\"DejaVuSans-61\" d=\"M 2194 1759 \nQ 1497 1759 1228 1600 \nQ 959 1441 959 1056 \nQ 959 750 1161 570 \nQ 1363 391 1709 391 \nQ 2188 391 2477 730 \nQ 2766 1069 2766 1631 \nL 2766 1759 \nL 2194 1759 \nz\nM 3341 1997 \nL 3341 0 \nL 2766 0 \nL 2766 531 \nQ 2569 213 2275 61 \nQ 1981 -91 1556 -91 \nQ 1019 -91 701 211 \nQ 384 513 384 1019 \nQ 384 1609 779 1909 \nQ 1175 2209 1959 2209 \nL 2766 2209 \nL 2766 2266 \nQ 2766 2663 2505 2880 \nQ 2244 3097 1772 3097 \nQ 1472 3097 1187 3025 \nQ 903 2953 641 2809 \nL 641 3341 \nQ 956 3463 1253 3523 \nQ 1550 3584 1831 3584 \nQ 2591 3584 2966 3190 \nQ 3341 2797 3341 1997 \nz\n\" transform=\"scale(0.015625)\"/>\n       <path id=\"DejaVuSans-73\" d=\"M 2834 3397 \nL 2834 2853 \nQ 2591 2978 2328 3040 \nQ 2066 3103 1784 3103 \nQ 1356 3103 1142 2972 \nQ 928 2841 928 2578 \nQ 928 2378 1081 2264 \nQ 1234 2150 1697 2047 \nL 1894 2003 \nQ 2506 1872 2764 1633 \nQ 3022 1394 3022 966 \nQ 3022 478 2636 193 \nQ 2250 -91 1575 -91 \nQ 1294 -91 989 -36 \nQ 684 19 347 128 \nL 347 722 \nQ 666 556 975 473 \nQ 1284 391 1588 391 \nQ 1994 391 2212 530 \nQ 2431 669 2431 922 \nQ 2431 1156 2273 1281 \nQ 2116 1406 1581 1522 \nL 1381 1569 \nQ 847 1681 609 1914 \nQ 372 2147 372 2553 \nQ 372 3047 722 3315 \nQ 1072 3584 1716 3584 \nQ 2034 3584 2315 3537 \nQ 2597 3491 2834 3397 \nz\n\" transform=\"scale(0.015625)\"/>\n      </defs>\n      <use xlink:href=\"#DejaVuSans-56\"/>\n      <use xlink:href=\"#DejaVuSans-65\" x=\"60.658203\"/>\n      <use xlink:href=\"#DejaVuSans-6e\" x=\"122.181641\"/>\n      <use xlink:href=\"#DejaVuSans-64\" x=\"185.560547\"/>\n      <use xlink:href=\"#DejaVuSans-61\" x=\"249.037109\"/>\n      <use xlink:href=\"#DejaVuSans-73\" x=\"310.316406\"/>\n     </g>\n    </g>\n   </g>\n   <g id=\"matplotlib.axis_2\">\n    <g id=\"ytick_1\">\n     <g id=\"line2d_8\">\n      <defs>\n       <path id=\"m5098097d87\" d=\"M 0 0 \nL -3.5 0 \n\" style=\"stroke: #ffffff; stroke-width: 0.8\"/>\n      </defs>\n      <g>\n       <use xlink:href=\"#m5098097d87\" x=\"57.199375\" y=\"117.477187\" style=\"fill: #ffffff; stroke: #ffffff; stroke-width: 0.8\"/>\n      </g>\n     </g>\n     <g id=\"text_9\">\n      <!-- 2012 -->\n      <g style=\"fill: #ffffff\" transform=\"translate(24.749375 121.276406)scale(0.1 -0.1)\">\n       <use xlink:href=\"#DejaVuSans-32\"/>\n       <use xlink:href=\"#DejaVuSans-30\" x=\"63.623047\"/>\n       <use xlink:href=\"#DejaVuSans-31\" x=\"127.246094\"/>\n       <use xlink:href=\"#DejaVuSans-32\" x=\"190.869141\"/>\n      </g>\n     </g>\n    </g>\n    <g id=\"ytick_2\">\n     <g id=\"line2d_9\">\n      <g>\n       <use xlink:href=\"#m5098097d87\" x=\"57.199375\" y=\"298.677187\" style=\"fill: #ffffff; stroke: #ffffff; stroke-width: 0.8\"/>\n      </g>\n     </g>\n     <g id=\"text_10\">\n      <!-- 2015 -->\n      <g style=\"fill: #ffffff\" transform=\"translate(24.749375 302.476406)scale(0.1 -0.1)\">\n       <use xlink:href=\"#DejaVuSans-32\"/>\n       <use xlink:href=\"#DejaVuSans-30\" x=\"63.623047\"/>\n       <use xlink:href=\"#DejaVuSans-31\" x=\"127.246094\"/>\n       <use xlink:href=\"#DejaVuSans-35\" x=\"190.869141\"/>\n      </g>\n     </g>\n    </g>\n    <g id=\"ytick_3\">\n     <g id=\"line2d_10\">\n      <g>\n       <use xlink:href=\"#m5098097d87\" x=\"57.199375\" y=\"479.877187\" style=\"fill: #ffffff; stroke: #ffffff; stroke-width: 0.8\"/>\n      </g>\n     </g>\n     <g id=\"text_11\">\n      <!-- 2019 -->\n      <g style=\"fill: #ffffff\" transform=\"translate(24.749375 483.676406)scale(0.1 -0.1)\">\n       <defs>\n        <path id=\"DejaVuSans-39\" d=\"M 703 97 \nL 703 672 \nQ 941 559 1184 500 \nQ 1428 441 1663 441 \nQ 2288 441 2617 861 \nQ 2947 1281 2994 2138 \nQ 2813 1869 2534 1725 \nQ 2256 1581 1919 1581 \nQ 1219 1581 811 2004 \nQ 403 2428 403 3163 \nQ 403 3881 828 4315 \nQ 1253 4750 1959 4750 \nQ 2769 4750 3195 4129 \nQ 3622 3509 3622 2328 \nQ 3622 1225 3098 567 \nQ 2575 -91 1691 -91 \nQ 1453 -91 1209 -44 \nQ 966 3 703 97 \nz\nM 1959 2075 \nQ 2384 2075 2632 2365 \nQ 2881 2656 2881 3163 \nQ 2881 3666 2632 3958 \nQ 2384 4250 1959 4250 \nQ 1534 4250 1286 3958 \nQ 1038 3666 1038 3163 \nQ 1038 2656 1286 2365 \nQ 1534 2075 1959 2075 \nz\n\" transform=\"scale(0.015625)\"/>\n       </defs>\n       <use xlink:href=\"#DejaVuSans-32\"/>\n       <use xlink:href=\"#DejaVuSans-30\" x=\"63.623047\"/>\n       <use xlink:href=\"#DejaVuSans-31\" x=\"127.246094\"/>\n       <use xlink:href=\"#DejaVuSans-39\" x=\"190.869141\"/>\n      </g>\n     </g>\n    </g>\n    <g id=\"text_12\">\n     <!-- Densidade -->\n     <g style=\"fill: #ffffff\" transform=\"translate(17.837812 335.886562)rotate(-90)scale(0.14 -0.14)\">\n      <defs>\n       <path id=\"DejaVuSans-44\" d=\"M 1259 4147 \nL 1259 519 \nL 2022 519 \nQ 2988 519 3436 956 \nQ 3884 1394 3884 2338 \nQ 3884 3275 3436 3711 \nQ 2988 4147 2022 4147 \nL 1259 4147 \nz\nM 628 4666 \nL 1925 4666 \nQ 3281 4666 3915 4102 \nQ 4550 3538 4550 2338 \nQ 4550 1131 3912 565 \nQ 3275 0 1925 0 \nL 628 0 \nL 628 4666 \nz\n\" transform=\"scale(0.015625)\"/>\n       <path id=\"DejaVuSans-69\" d=\"M 603 3500 \nL 1178 3500 \nL 1178 0 \nL 603 0 \nL 603 3500 \nz\nM 603 4863 \nL 1178 4863 \nL 1178 4134 \nL 603 4134 \nL 603 4863 \nz\n\" transform=\"scale(0.015625)\"/>\n      </defs>\n      <use xlink:href=\"#DejaVuSans-44\"/>\n      <use xlink:href=\"#DejaVuSans-65\" x=\"77.001953\"/>\n      <use xlink:href=\"#DejaVuSans-6e\" x=\"138.525391\"/>\n      <use xlink:href=\"#DejaVuSans-73\" x=\"201.904297\"/>\n      <use xlink:href=\"#DejaVuSans-69\" x=\"254.003906\"/>\n      <use xlink:href=\"#DejaVuSans-64\" x=\"281.787109\"/>\n      <use xlink:href=\"#DejaVuSans-61\" x=\"345.263672\"/>\n      <use xlink:href=\"#DejaVuSans-64\" x=\"406.542969\"/>\n      <use xlink:href=\"#DejaVuSans-65\" x=\"470.019531\"/>\n     </g>\n    </g>\n   </g>\n   <g id=\"line2d_11\">\n    <path d=\"M 471.672966 117.477187 \nL 165.838067 117.477187 \n\" clip-path=\"url(#p80608802d4)\" style=\"fill: none; stroke: #6a6a6a; stroke-width: 1.5; stroke-linecap: square\"/>\n   </g>\n   <g id=\"line2d_12\">\n    <path d=\"M 684.849595 117.477187 \nL 997.571258 117.477187 \n\" clip-path=\"url(#p80608802d4)\" style=\"fill: none; stroke: #6a6a6a; stroke-width: 1.5; stroke-linecap: square\"/>\n   </g>\n   <g id=\"line2d_13\">\n    <path d=\"M 165.838067 81.237187 \nL 165.838067 153.717187 \n\" clip-path=\"url(#p80608802d4)\" style=\"fill: none; stroke: #6a6a6a; stroke-width: 1.5; stroke-linecap: square\"/>\n   </g>\n   <g id=\"line2d_14\">\n    <path d=\"M 997.571258 81.237187 \nL 997.571258 153.717187 \n\" clip-path=\"url(#p80608802d4)\" style=\"fill: none; stroke: #6a6a6a; stroke-width: 1.5; stroke-linecap: square\"/>\n   </g>\n   <g id=\"line2d_15\">\n    <defs>\n     <path id=\"m952700f224\" d=\"M 0 3.535534 \nL 2.12132 0 \nL 0 -3.535534 \nL -2.12132 0 \nz\n\" style=\"stroke: #6a6a6a; stroke-linejoin: miter\"/>\n    </defs>\n    <g clip-path=\"url(#p80608802d4)\">\n     <use xlink:href=\"#m952700f224\" x=\"148.934193\" y=\"117.477187\" style=\"fill: #6a6a6a; stroke: #6a6a6a; stroke-linejoin: miter\"/>\n     <use xlink:href=\"#m952700f224\" x=\"119.195897\" y=\"117.477187\" style=\"fill: #6a6a6a; stroke: #6a6a6a; stroke-linejoin: miter\"/>\n     <use xlink:href=\"#m952700f224\" x=\"147.682054\" y=\"117.477187\" style=\"fill: #6a6a6a; stroke: #6a6a6a; stroke-linejoin: miter\"/>\n     <use xlink:href=\"#m952700f224\" x=\"130.778181\" y=\"117.477187\" style=\"fill: #6a6a6a; stroke: #6a6a6a; stroke-linejoin: miter\"/>\n     <use xlink:href=\"#m952700f224\" x=\"146.74295\" y=\"117.477187\" style=\"fill: #6a6a6a; stroke: #6a6a6a; stroke-linejoin: miter\"/>\n     <use xlink:href=\"#m952700f224\" x=\"1006.33623\" y=\"117.477187\" style=\"fill: #6a6a6a; stroke: #6a6a6a; stroke-linejoin: miter\"/>\n     <use xlink:href=\"#m952700f224\" x=\"1014.475132\" y=\"117.477187\" style=\"fill: #6a6a6a; stroke: #6a6a6a; stroke-linejoin: miter\"/>\n     <use xlink:href=\"#m952700f224\" x=\"1006.649264\" y=\"117.477187\" style=\"fill: #6a6a6a; stroke: #6a6a6a; stroke-linejoin: miter\"/>\n    </g>\n   </g>\n   <g id=\"line2d_16\">\n    <path d=\"M 475.742417 298.677187 \nL 161.142546 298.677187 \n\" clip-path=\"url(#p80608802d4)\" style=\"fill: none; stroke: #6a6a6a; stroke-width: 1.5; stroke-linecap: square\"/>\n   </g>\n   <g id=\"line2d_17\">\n    <path d=\"M 687.353873 298.677187 \nL 986.615044 298.677187 \n\" clip-path=\"url(#p80608802d4)\" style=\"fill: none; stroke: #6a6a6a; stroke-width: 1.5; stroke-linecap: square\"/>\n   </g>\n   <g id=\"line2d_18\">\n    <path d=\"M 161.142546 262.437187 \nL 161.142546 334.917187 \n\" clip-path=\"url(#p80608802d4)\" style=\"fill: none; stroke: #6a6a6a; stroke-width: 1.5; stroke-linecap: square\"/>\n   </g>\n   <g id=\"line2d_19\">\n    <path d=\"M 986.615044 262.437187 \nL 986.615044 334.917187 \n\" clip-path=\"url(#p80608802d4)\" style=\"fill: none; stroke: #6a6a6a; stroke-width: 1.5; stroke-linecap: square\"/>\n   </g>\n   <g id=\"line2d_20\">\n    <g clip-path=\"url(#p80608802d4)\">\n     <use xlink:href=\"#m952700f224\" x=\"142.360464\" y=\"298.677187\" style=\"fill: #6a6a6a; stroke: #6a6a6a; stroke-linejoin: miter\"/>\n     <use xlink:href=\"#m952700f224\" x=\"130.465146\" y=\"298.677187\" style=\"fill: #6a6a6a; stroke: #6a6a6a; stroke-linejoin: miter\"/>\n     <use xlink:href=\"#m952700f224\" x=\"121.38714\" y=\"298.677187\" style=\"fill: #6a6a6a; stroke: #6a6a6a; stroke-linejoin: miter\"/>\n     <use xlink:href=\"#m952700f224\" x=\"113.561272\" y=\"298.677187\" style=\"fill: #6a6a6a; stroke: #6a6a6a; stroke-linejoin: miter\"/>\n     <use xlink:href=\"#m952700f224\" x=\"1076.142967\" y=\"298.677187\" style=\"fill: #6a6a6a; stroke: #6a6a6a; stroke-linejoin: miter\"/>\n     <use xlink:href=\"#m952700f224\" x=\"1122.472102\" y=\"298.677187\" style=\"fill: #6a6a6a; stroke: #6a6a6a; stroke-linejoin: miter\"/>\n     <use xlink:href=\"#m952700f224\" x=\"1043.587359\" y=\"298.677187\" style=\"fill: #6a6a6a; stroke: #6a6a6a; stroke-linejoin: miter\"/>\n    </g>\n   </g>\n   <g id=\"line2d_21\">\n    <path d=\"M 472.455553 479.877187 \nL 166.464136 479.877187 \n\" clip-path=\"url(#p80608802d4)\" style=\"fill: none; stroke: #6a6a6a; stroke-width: 1.5; stroke-linecap: square\"/>\n   </g>\n   <g id=\"line2d_22\">\n    <path d=\"M 683.753974 479.877187 \nL 999.136431 479.877187 \n\" clip-path=\"url(#p80608802d4)\" style=\"fill: none; stroke: #6a6a6a; stroke-width: 1.5; stroke-linecap: square\"/>\n   </g>\n   <g id=\"line2d_23\">\n    <path d=\"M 166.464136 443.637187 \nL 166.464136 516.117187 \n\" clip-path=\"url(#p80608802d4)\" style=\"fill: none; stroke: #6a6a6a; stroke-width: 1.5; stroke-linecap: square\"/>\n   </g>\n   <g id=\"line2d_24\">\n    <path d=\"M 999.136431 443.637187 \nL 999.136431 516.117187 \n\" clip-path=\"url(#p80608802d4)\" style=\"fill: none; stroke: #6a6a6a; stroke-width: 1.5; stroke-linecap: square\"/>\n   </g>\n   <g id=\"line2d_25\">\n    <g clip-path=\"url(#p80608802d4)\">\n     <use xlink:href=\"#m952700f224\" x=\"150.812401\" y=\"479.877187\" style=\"fill: #6a6a6a; stroke: #6a6a6a; stroke-linejoin: miter\"/>\n     <use xlink:href=\"#m952700f224\" x=\"113.561272\" y=\"479.877187\" style=\"fill: #6a6a6a; stroke: #6a6a6a; stroke-linejoin: miter\"/>\n     <use xlink:href=\"#m952700f224\" x=\"115.126446\" y=\"479.877187\" style=\"fill: #6a6a6a; stroke: #6a6a6a; stroke-linejoin: miter\"/>\n     <use xlink:href=\"#m952700f224\" x=\"139.856187\" y=\"479.877187\" style=\"fill: #6a6a6a; stroke: #6a6a6a; stroke-linejoin: miter\"/>\n     <use xlink:href=\"#m952700f224\" x=\"123.265348\" y=\"479.877187\" style=\"fill: #6a6a6a; stroke: #6a6a6a; stroke-linejoin: miter\"/>\n     <use xlink:href=\"#m952700f224\" x=\"107.926648\" y=\"479.877187\" style=\"fill: #6a6a6a; stroke: #6a6a6a; stroke-linejoin: miter\"/>\n     <use xlink:href=\"#m952700f224\" x=\"143.299569\" y=\"479.877187\" style=\"fill: #6a6a6a; stroke: #6a6a6a; stroke-linejoin: miter\"/>\n     <use xlink:href=\"#m952700f224\" x=\"126.70873\" y=\"479.877187\" style=\"fill: #6a6a6a; stroke: #6a6a6a; stroke-linejoin: miter\"/>\n     <use xlink:href=\"#m952700f224\" x=\"1010.405681\" y=\"479.877187\" style=\"fill: #6a6a6a; stroke: #6a6a6a; stroke-linejoin: miter\"/>\n     <use xlink:href=\"#m952700f224\" x=\"1016.35334\" y=\"479.877187\" style=\"fill: #6a6a6a; stroke: #6a6a6a; stroke-linejoin: miter\"/>\n    </g>\n   </g>\n   <g id=\"line2d_26\">\n    <path d=\"M 570.904965 44.997187 \nL 570.904965 189.957187 \n\" clip-path=\"url(#p80608802d4)\" style=\"fill: none; stroke: #6a6a6a; stroke-width: 1.5; stroke-linecap: square\"/>\n   </g>\n   <g id=\"line2d_27\">\n    <path d=\"M 579.043867 226.197187 \nL 579.043867 371.157187 \n\" clip-path=\"url(#p80608802d4)\" style=\"fill: none; stroke: #6a6a6a; stroke-width: 1.5; stroke-linecap: square\"/>\n   </g>\n   <g id=\"line2d_28\">\n    <path d=\"M 583.426353 407.397187 \nL 583.426353 552.357187 \n\" clip-path=\"url(#p80608802d4)\" style=\"fill: none; stroke: #6a6a6a; stroke-width: 1.5; stroke-linecap: square\"/>\n   </g>\n   <g id=\"patch_6\">\n    <path d=\"M 57.199375 570.477187 \nL 57.199375 26.877187 \n\" style=\"fill: none; stroke: #ffffff; stroke-width: 0.8; stroke-linejoin: miter; stroke-linecap: square\"/>\n   </g>\n   <g id=\"patch_7\">\n    <path d=\"M 1173.199375 570.477187 \nL 1173.199375 26.877187 \n\" style=\"fill: none; stroke: #ffffff; stroke-width: 0.8; stroke-linejoin: miter; stroke-linecap: square\"/>\n   </g>\n   <g id=\"patch_8\">\n    <path d=\"M 57.199375 570.477187 \nL 1173.199375 570.477187 \n\" style=\"fill: none; stroke: #ffffff; stroke-width: 0.8; stroke-linejoin: miter; stroke-linecap: square\"/>\n   </g>\n   <g id=\"patch_9\">\n    <path d=\"M 57.199375 26.877187 \nL 1173.199375 26.877187 \n\" style=\"fill: none; stroke: #ffffff; stroke-width: 0.8; stroke-linejoin: miter; stroke-linecap: square\"/>\n   </g>\n   <g id=\"text_13\">\n    <!-- Boxplot - Vendas Totais por Ano (2012/2015/2019) -->\n    <g style=\"fill: #ffffff\" transform=\"translate(388.400781 20.877187)scale(0.18 -0.18)\">\n     <defs>\n      <path id=\"DejaVuSans-42\" d=\"M 1259 2228 \nL 1259 519 \nL 2272 519 \nQ 2781 519 3026 730 \nQ 3272 941 3272 1375 \nQ 3272 1813 3026 2020 \nQ 2781 2228 2272 2228 \nL 1259 2228 \nz\nM 1259 4147 \nL 1259 2741 \nL 2194 2741 \nQ 2656 2741 2882 2914 \nQ 3109 3088 3109 3444 \nQ 3109 3797 2882 3972 \nQ 2656 4147 2194 4147 \nL 1259 4147 \nz\nM 628 4666 \nL 2241 4666 \nQ 2963 4666 3353 4366 \nQ 3744 4066 3744 3513 \nQ 3744 3084 3544 2831 \nQ 3344 2578 2956 2516 \nQ 3422 2416 3680 2098 \nQ 3938 1781 3938 1306 \nQ 3938 681 3513 340 \nQ 3088 0 2303 0 \nL 628 0 \nL 628 4666 \nz\n\" transform=\"scale(0.015625)\"/>\n      <path id=\"DejaVuSans-6f\" d=\"M 1959 3097 \nQ 1497 3097 1228 2736 \nQ 959 2375 959 1747 \nQ 959 1119 1226 758 \nQ 1494 397 1959 397 \nQ 2419 397 2687 759 \nQ 2956 1122 2956 1747 \nQ 2956 2369 2687 2733 \nQ 2419 3097 1959 3097 \nz\nM 1959 3584 \nQ 2709 3584 3137 3096 \nQ 3566 2609 3566 1747 \nQ 3566 888 3137 398 \nQ 2709 -91 1959 -91 \nQ 1206 -91 779 398 \nQ 353 888 353 1747 \nQ 353 2609 779 3096 \nQ 1206 3584 1959 3584 \nz\n\" transform=\"scale(0.015625)\"/>\n      <path id=\"DejaVuSans-78\" d=\"M 3513 3500 \nL 2247 1797 \nL 3578 0 \nL 2900 0 \nL 1881 1375 \nL 863 0 \nL 184 0 \nL 1544 1831 \nL 300 3500 \nL 978 3500 \nL 1906 2253 \nL 2834 3500 \nL 3513 3500 \nz\n\" transform=\"scale(0.015625)\"/>\n      <path id=\"DejaVuSans-70\" d=\"M 1159 525 \nL 1159 -1331 \nL 581 -1331 \nL 581 3500 \nL 1159 3500 \nL 1159 2969 \nQ 1341 3281 1617 3432 \nQ 1894 3584 2278 3584 \nQ 2916 3584 3314 3078 \nQ 3713 2572 3713 1747 \nQ 3713 922 3314 415 \nQ 2916 -91 2278 -91 \nQ 1894 -91 1617 61 \nQ 1341 213 1159 525 \nz\nM 3116 1747 \nQ 3116 2381 2855 2742 \nQ 2594 3103 2138 3103 \nQ 1681 3103 1420 2742 \nQ 1159 2381 1159 1747 \nQ 1159 1113 1420 752 \nQ 1681 391 2138 391 \nQ 2594 391 2855 752 \nQ 3116 1113 3116 1747 \nz\n\" transform=\"scale(0.015625)\"/>\n      <path id=\"DejaVuSans-6c\" d=\"M 603 4863 \nL 1178 4863 \nL 1178 0 \nL 603 0 \nL 603 4863 \nz\n\" transform=\"scale(0.015625)\"/>\n      <path id=\"DejaVuSans-74\" d=\"M 1172 4494 \nL 1172 3500 \nL 2356 3500 \nL 2356 3053 \nL 1172 3053 \nL 1172 1153 \nQ 1172 725 1289 603 \nQ 1406 481 1766 481 \nL 2356 481 \nL 2356 0 \nL 1766 0 \nQ 1100 0 847 248 \nQ 594 497 594 1153 \nL 594 3053 \nL 172 3053 \nL 172 3500 \nL 594 3500 \nL 594 4494 \nL 1172 4494 \nz\n\" transform=\"scale(0.015625)\"/>\n      <path id=\"DejaVuSans-20\" transform=\"scale(0.015625)\"/>\n      <path id=\"DejaVuSans-2d\" d=\"M 313 2009 \nL 1997 2009 \nL 1997 1497 \nL 313 1497 \nL 313 2009 \nz\n\" transform=\"scale(0.015625)\"/>\n      <path id=\"DejaVuSans-54\" d=\"M -19 4666 \nL 3928 4666 \nL 3928 4134 \nL 2272 4134 \nL 2272 0 \nL 1638 0 \nL 1638 4134 \nL -19 4134 \nL -19 4666 \nz\n\" transform=\"scale(0.015625)\"/>\n      <path id=\"DejaVuSans-72\" d=\"M 2631 2963 \nQ 2534 3019 2420 3045 \nQ 2306 3072 2169 3072 \nQ 1681 3072 1420 2755 \nQ 1159 2438 1159 1844 \nL 1159 0 \nL 581 0 \nL 581 3500 \nL 1159 3500 \nL 1159 2956 \nQ 1341 3275 1631 3429 \nQ 1922 3584 2338 3584 \nQ 2397 3584 2469 3576 \nQ 2541 3569 2628 3553 \nL 2631 2963 \nz\n\" transform=\"scale(0.015625)\"/>\n      <path id=\"DejaVuSans-41\" d=\"M 2188 4044 \nL 1331 1722 \nL 3047 1722 \nL 2188 4044 \nz\nM 1831 4666 \nL 2547 4666 \nL 4325 0 \nL 3669 0 \nL 3244 1197 \nL 1141 1197 \nL 716 0 \nL 50 0 \nL 1831 4666 \nz\n\" transform=\"scale(0.015625)\"/>\n      <path id=\"DejaVuSans-28\" d=\"M 1984 4856 \nQ 1566 4138 1362 3434 \nQ 1159 2731 1159 2009 \nQ 1159 1288 1364 580 \nQ 1569 -128 1984 -844 \nL 1484 -844 \nQ 1016 -109 783 600 \nQ 550 1309 550 2009 \nQ 550 2706 781 3412 \nQ 1013 4119 1484 4856 \nL 1984 4856 \nz\n\" transform=\"scale(0.015625)\"/>\n      <path id=\"DejaVuSans-2f\" d=\"M 1625 4666 \nL 2156 4666 \nL 531 -594 \nL 0 -594 \nL 1625 4666 \nz\n\" transform=\"scale(0.015625)\"/>\n      <path id=\"DejaVuSans-29\" d=\"M 513 4856 \nL 1013 4856 \nQ 1481 4119 1714 3412 \nQ 1947 2706 1947 2009 \nQ 1947 1309 1714 600 \nQ 1481 -109 1013 -844 \nL 513 -844 \nQ 928 -128 1133 580 \nQ 1338 1288 1338 2009 \nQ 1338 2731 1133 3434 \nQ 928 4138 513 4856 \nz\n\" transform=\"scale(0.015625)\"/>\n     </defs>\n     <use xlink:href=\"#DejaVuSans-42\"/>\n     <use xlink:href=\"#DejaVuSans-6f\" x=\"68.603516\"/>\n     <use xlink:href=\"#DejaVuSans-78\" x=\"126.660156\"/>\n     <use xlink:href=\"#DejaVuSans-70\" x=\"185.839844\"/>\n     <use xlink:href=\"#DejaVuSans-6c\" x=\"249.316406\"/>\n     <use xlink:href=\"#DejaVuSans-6f\" x=\"277.099609\"/>\n     <use xlink:href=\"#DejaVuSans-74\" x=\"338.28125\"/>\n     <use xlink:href=\"#DejaVuSans-20\" x=\"377.490234\"/>\n     <use xlink:href=\"#DejaVuSans-2d\" x=\"409.277344\"/>\n     <use xlink:href=\"#DejaVuSans-20\" x=\"445.361328\"/>\n     <use xlink:href=\"#DejaVuSans-56\" x=\"477.148438\"/>\n     <use xlink:href=\"#DejaVuSans-65\" x=\"537.806641\"/>\n     <use xlink:href=\"#DejaVuSans-6e\" x=\"599.330078\"/>\n     <use xlink:href=\"#DejaVuSans-64\" x=\"662.708984\"/>\n     <use xlink:href=\"#DejaVuSans-61\" x=\"726.185547\"/>\n     <use xlink:href=\"#DejaVuSans-73\" x=\"787.464844\"/>\n     <use xlink:href=\"#DejaVuSans-20\" x=\"839.564453\"/>\n     <use xlink:href=\"#DejaVuSans-54\" x=\"871.351562\"/>\n     <use xlink:href=\"#DejaVuSans-6f\" x=\"915.435547\"/>\n     <use xlink:href=\"#DejaVuSans-74\" x=\"976.617188\"/>\n     <use xlink:href=\"#DejaVuSans-61\" x=\"1015.826172\"/>\n     <use xlink:href=\"#DejaVuSans-69\" x=\"1077.105469\"/>\n     <use xlink:href=\"#DejaVuSans-73\" x=\"1104.888672\"/>\n     <use xlink:href=\"#DejaVuSans-20\" x=\"1156.988281\"/>\n     <use xlink:href=\"#DejaVuSans-70\" x=\"1188.775391\"/>\n     <use xlink:href=\"#DejaVuSans-6f\" x=\"1252.251953\"/>\n     <use xlink:href=\"#DejaVuSans-72\" x=\"1313.433594\"/>\n     <use xlink:href=\"#DejaVuSans-20\" x=\"1354.546875\"/>\n     <use xlink:href=\"#DejaVuSans-41\" x=\"1386.333984\"/>\n     <use xlink:href=\"#DejaVuSans-6e\" x=\"1454.742188\"/>\n     <use xlink:href=\"#DejaVuSans-6f\" x=\"1518.121094\"/>\n     <use xlink:href=\"#DejaVuSans-20\" x=\"1579.302734\"/>\n     <use xlink:href=\"#DejaVuSans-28\" x=\"1611.089844\"/>\n     <use xlink:href=\"#DejaVuSans-32\" x=\"1650.103516\"/>\n     <use xlink:href=\"#DejaVuSans-30\" x=\"1713.726562\"/>\n     <use xlink:href=\"#DejaVuSans-31\" x=\"1777.349609\"/>\n     <use xlink:href=\"#DejaVuSans-32\" x=\"1840.972656\"/>\n     <use xlink:href=\"#DejaVuSans-2f\" x=\"1904.595703\"/>\n     <use xlink:href=\"#DejaVuSans-32\" x=\"1938.287109\"/>\n     <use xlink:href=\"#DejaVuSans-30\" x=\"2001.910156\"/>\n     <use xlink:href=\"#DejaVuSans-31\" x=\"2065.533203\"/>\n     <use xlink:href=\"#DejaVuSans-35\" x=\"2129.15625\"/>\n     <use xlink:href=\"#DejaVuSans-2f\" x=\"2192.779297\"/>\n     <use xlink:href=\"#DejaVuSans-32\" x=\"2226.470703\"/>\n     <use xlink:href=\"#DejaVuSans-30\" x=\"2290.09375\"/>\n     <use xlink:href=\"#DejaVuSans-31\" x=\"2353.716797\"/>\n     <use xlink:href=\"#DejaVuSans-39\" x=\"2417.339844\"/>\n     <use xlink:href=\"#DejaVuSans-29\" x=\"2480.962891\"/>\n    </g>\n   </g>\n  </g>\n </g>\n <defs>\n  <clipPath id=\"p80608802d4\">\n   <rect x=\"57.199375\" y=\"26.877187\" width=\"1116\" height=\"543.6\"/>\n  </clipPath>\n </defs>\n</svg>\n",
            "text/plain": [
              "<Figure size 1440x720 with 1 Axes>"
            ]
          },
          "metadata": {},
          "output_type": "display_data"
        }
      ],
      "source": [
        "g4 = sns.boxplot(x='Vendas', y='Ano', data=recorte2, orient='h')\n",
        "\n",
        "g4.figure.set_size_inches(20,10)\n",
        "g4.set_title('Boxplot - Vendas Totais por Ano (2012/2015/2019)', fontsize = 18)\n",
        "g4.set_ylabel('Densidade', fontsize = 14)\n",
        "\n",
        "#       Total\tMédia\tMediana\tMenor\tMaior\n",
        "# Ano\t\t\t\t\t\n",
        "# 2019\t2929267\t1514.0\t1529.0\t10\t2912\n",
        "# 2015\t1606197\t1514.0\t1515.0\t28\t3251\n",
        "# 2012\t1559800\t1498.0\t1489.0\t46\t2906"
      ]
    },
    {
      "cell_type": "markdown",
      "metadata": {
        "id": "UPVuqP9ZK9au"
      },
      "source": [
        "### **<font color=green>Item 15 </font>**<br>Apresente utilizando boxplot as informações sobre as Vendas agrupando pelo combustível dos veículos."
      ]
    },
    {
      "cell_type": "code",
      "execution_count": 6,
      "metadata": {
        "id": "TQY_Lg2NK9av",
        "outputId": "f29a7dce-16e6-4b47-ad3c-f6277e295a21",
        "colab": {
          "base_uri": "https://localhost:8080/",
          "height": 542
        }
      },
      "outputs": [
        {
          "output_type": "display_data",
          "data": {
            "text/plain": [
              "<Figure size 1200x600 with 1 Axes>"
            ],
            "image/png": "[encoded data removed]"
          },
          "metadata": {}
        }
      ],
      "source": [
        "# histograma com mais de uma variável - Vendas e Combustivel\n",
        "g5 = sns.boxplot(data=dados\n",
        "                , x='Vendas'\n",
        "                , y='Combustivel'\n",
        ")\n",
        "\n",
        "g5.figure.set_size_inches(12,6)\n"
      ]
    },
    {
      "cell_type": "code",
      "execution_count": null,
      "metadata": {
        "id": "YD9v7Mk1K9av",
        "outputId": "7e9e38e1-d0dd-4706-f528-e665def3028b"
      },
      "outputs": [
        {
          "data": {
            "text/plain": [
              "<AxesSubplot:>"
            ]
          },
          "execution_count": 63,
          "metadata": {},
          "output_type": "execute_result"
        },
        {
          "data": {
            "image/png": "[encoded data removed]",
            "image/svg+xml": "<?xml version=\"1.0\" encoding=\"utf-8\" standalone=\"no\"?>\n<!DOCTYPE svg PUBLIC \"-//W3C//DTD SVG 1.1//EN\"\n  \"http://www.w3.org/Graphics/SVG/1.1/DTD/svg11.dtd\">\n<svg xmlns:xlink=\"http://www.w3.org/1999/xlink\" width=\"383.926301pt\" height=\"248.518125pt\" viewBox=\"0 0 383.926301 248.518125\" xmlns=\"http://www.w3.org/2000/svg\" version=\"1.1\">\n <metadata>\n  <rdf:RDF xmlns:dc=\"http://purl.org/dc/elements/1.1/\" xmlns:cc=\"http://creativecommons.org/ns#\" xmlns:rdf=\"http://www.w3.org/1999/02/22-rdf-syntax-ns#\">\n   <cc:Work>\n    <dc:type rdf:resource=\"http://purl.org/dc/dcmitype/StillImage\"/>\n    <dc:date>2022-10-17T20:08:13.350071</dc:date>\n    <dc:format>image/svg+xml</dc:format>\n    <dc:creator>\n     <cc:Agent>\n      <dc:title>Matplotlib v3.5.1, https://matplotlib.org/</dc:title>\n     </cc:Agent>\n    </dc:creator>\n   </cc:Work>\n  </rdf:RDF>\n </metadata>\n <defs>\n  <style type=\"text/css\">*{stroke-linejoin: round; stroke-linecap: butt}</style>\n </defs>\n <g id=\"figure_1\">\n  <g id=\"patch_1\">\n   <path d=\"M -0 248.518125 \nL 383.926301 248.518125 \nL 383.926301 0 \nL -0 0 \nz\n\"/>\n  </g>\n  <g id=\"axes_1\">\n   <g id=\"patch_2\">\n    <path d=\"M 39.65 224.64 \nL 374.45 224.64 \nL 374.45 7.2 \nL 39.65 7.2 \nz\n\"/>\n   </g>\n   <g id=\"patch_3\">\n    <path d=\"M 54.868182 224.64 \nL 85.304545 224.64 \nL 85.304545 216.103999 \nL 54.868182 216.103999 \nz\n\" clip-path=\"url(#p31da368280)\" style=\"fill: #8dd3c7\"/>\n   </g>\n   <g id=\"patch_4\">\n    <path d=\"M 85.304545 224.64 \nL 115.740909 224.64 \nL 115.740909 192.893093 \nL 85.304545 192.893093 \nz\n\" clip-path=\"url(#p31da368280)\" style=\"fill: #8dd3c7\"/>\n   </g>\n   <g id=\"patch_5\">\n    <path d=\"M 115.740909 224.64 \nL 146.177273 224.64 \nL 146.177273 131.620979 \nL 115.740909 131.620979 \nz\n\" clip-path=\"url(#p31da368280)\" style=\"fill: #8dd3c7\"/>\n   </g>\n   <g id=\"patch_6\">\n    <path d=\"M 146.177273 224.64 \nL 176.613636 224.64 \nL 176.613636 49.68122 \nL 146.177273 49.68122 \nz\n\" clip-path=\"url(#p31da368280)\" style=\"fill: #8dd3c7\"/>\n   </g>\n   <g id=\"patch_7\">\n    <path d=\"M 176.613636 224.64 \nL 207.05 224.64 \nL 207.05 17.554286 \nL 176.613636 17.554286 \nz\n\" clip-path=\"url(#p31da368280)\" style=\"fill: #8dd3c7\"/>\n   </g>\n   <g id=\"patch_8\">\n    <path d=\"M 207.05 224.64 \nL 237.486364 224.64 \nL 237.486364 69.647276 \nL 207.05 69.647276 \nz\n\" clip-path=\"url(#p31da368280)\" style=\"fill: #8dd3c7\"/>\n   </g>\n   <g id=\"patch_9\">\n    <path d=\"M 237.486364 224.64 \nL 267.922727 224.64 \nL 267.922727 149.248405 \nL 237.486364 149.248405 \nz\n\" clip-path=\"url(#p31da368280)\" style=\"fill: #8dd3c7\"/>\n   </g>\n   <g id=\"patch_10\">\n    <path d=\"M 267.922727 224.64 \nL 298.359091 224.64 \nL 298.359091 203.270766 \nL 267.922727 203.270766 \nz\n\" clip-path=\"url(#p31da368280)\" style=\"fill: #8dd3c7\"/>\n   </g>\n   <g id=\"patch_11\">\n    <path d=\"M 298.359091 224.64 \nL 328.795455 224.64 \nL 328.795455 221.19052 \nL 298.359091 221.19052 \nz\n\" clip-path=\"url(#p31da368280)\" style=\"fill: #8dd3c7\"/>\n   </g>\n   <g id=\"patch_12\">\n    <path d=\"M 328.795455 224.64 \nL 359.231818 224.64 \nL 359.231818 224.259973 \nL 328.795455 224.259973 \nz\n\" clip-path=\"url(#p31da368280)\" style=\"fill: #8dd3c7\"/>\n   </g>\n   <g id=\"matplotlib.axis_1\">\n    <g id=\"xtick_1\">\n     <g id=\"line2d_1\">\n      <path d=\"M 54.868182 224.64 \nL 54.868182 7.2 \n\" clip-path=\"url(#p31da368280)\" style=\"fill: none; stroke: #ffffff; stroke-width: 0.8; stroke-linecap: square\"/>\n     </g>\n     <g id=\"line2d_2\">\n      <defs>\n       <path id=\"m0af1b4ff71\" d=\"M 0 0 \nL 0 3.5 \n\" style=\"stroke: #ffffff; stroke-width: 0.8\"/>\n      </defs>\n      <g>\n       <use xlink:href=\"#m0af1b4ff71\" x=\"54.868182\" y=\"224.64\" style=\"fill: #ffffff; stroke: #ffffff; stroke-width: 0.8\"/>\n      </g>\n     </g>\n     <g id=\"text_1\">\n      <!-- 0 -->\n      <g style=\"fill: #ffffff\" transform=\"translate(51.686932 239.238437)scale(0.1 -0.1)\">\n       <defs>\n        <path id=\"DejaVuSans-30\" d=\"M 2034 4250 \nQ 1547 4250 1301 3770 \nQ 1056 3291 1056 2328 \nQ 1056 1369 1301 889 \nQ 1547 409 2034 409 \nQ 2525 409 2770 889 \nQ 3016 1369 3016 2328 \nQ 3016 3291 2770 3770 \nQ 2525 4250 2034 4250 \nz\nM 2034 4750 \nQ 2819 4750 3233 4129 \nQ 3647 3509 3647 2328 \nQ 3647 1150 3233 529 \nQ 2819 -91 2034 -91 \nQ 1250 -91 836 529 \nQ 422 1150 422 2328 \nQ 422 3509 836 4129 \nQ 1250 4750 2034 4750 \nz\n\" transform=\"scale(0.015625)\"/>\n       </defs>\n       <use xlink:href=\"#DejaVuSans-30\"/>\n      </g>\n     </g>\n    </g>\n    <g id=\"xtick_2\">\n     <g id=\"line2d_3\">\n      <path d=\"M 99.030056 224.64 \nL 99.030056 7.2 \n\" clip-path=\"url(#p31da368280)\" style=\"fill: none; stroke: #ffffff; stroke-width: 0.8; stroke-linecap: square\"/>\n     </g>\n     <g id=\"line2d_4\">\n      <g>\n       <use xlink:href=\"#m0af1b4ff71\" x=\"99.030056\" y=\"224.64\" style=\"fill: #ffffff; stroke: #ffffff; stroke-width: 0.8\"/>\n      </g>\n     </g>\n     <g id=\"text_2\">\n      <!-- 500 -->\n      <g style=\"fill: #ffffff\" transform=\"translate(89.486306 239.238437)scale(0.1 -0.1)\">\n       <defs>\n        <path id=\"DejaVuSans-35\" d=\"M 691 4666 \nL 3169 4666 \nL 3169 4134 \nL 1269 4134 \nL 1269 2991 \nQ 1406 3038 1543 3061 \nQ 1681 3084 1819 3084 \nQ 2600 3084 3056 2656 \nQ 3513 2228 3513 1497 \nQ 3513 744 3044 326 \nQ 2575 -91 1722 -91 \nQ 1428 -91 1123 -41 \nQ 819 9 494 109 \nL 494 744 \nQ 775 591 1075 516 \nQ 1375 441 1709 441 \nQ 2250 441 2565 725 \nQ 2881 1009 2881 1497 \nQ 2881 1984 2565 2268 \nQ 2250 2553 1709 2553 \nQ 1456 2553 1204 2497 \nQ 953 2441 691 2322 \nL 691 4666 \nz\n\" transform=\"scale(0.015625)\"/>\n       </defs>\n       <use xlink:href=\"#DejaVuSans-35\"/>\n       <use xlink:href=\"#DejaVuSans-30\" x=\"63.623047\"/>\n       <use xlink:href=\"#DejaVuSans-30\" x=\"127.246094\"/>\n      </g>\n     </g>\n    </g>\n    <g id=\"xtick_3\">\n     <g id=\"line2d_5\">\n      <path d=\"M 143.19193 224.64 \nL 143.19193 7.2 \n\" clip-path=\"url(#p31da368280)\" style=\"fill: none; stroke: #ffffff; stroke-width: 0.8; stroke-linecap: square\"/>\n     </g>\n     <g id=\"line2d_6\">\n      <g>\n       <use xlink:href=\"#m0af1b4ff71\" x=\"143.19193\" y=\"224.64\" style=\"fill: #ffffff; stroke: #ffffff; stroke-width: 0.8\"/>\n      </g>\n     </g>\n     <g id=\"text_3\">\n      <!-- 1000 -->\n      <g style=\"fill: #ffffff\" transform=\"translate(130.46693 239.238437)scale(0.1 -0.1)\">\n       <defs>\n        <path id=\"DejaVuSans-31\" d=\"M 794 531 \nL 1825 531 \nL 1825 4091 \nL 703 3866 \nL 703 4441 \nL 1819 4666 \nL 2450 4666 \nL 2450 531 \nL 3481 531 \nL 3481 0 \nL 794 0 \nL 794 531 \nz\n\" transform=\"scale(0.015625)\"/>\n       </defs>\n       <use xlink:href=\"#DejaVuSans-31\"/>\n       <use xlink:href=\"#DejaVuSans-30\" x=\"63.623047\"/>\n       <use xlink:href=\"#DejaVuSans-30\" x=\"127.246094\"/>\n       <use xlink:href=\"#DejaVuSans-30\" x=\"190.869141\"/>\n      </g>\n     </g>\n    </g>\n    <g id=\"xtick_4\">\n     <g id=\"line2d_7\">\n      <path d=\"M 187.353804 224.64 \nL 187.353804 7.2 \n\" clip-path=\"url(#p31da368280)\" style=\"fill: none; stroke: #ffffff; stroke-width: 0.8; stroke-linecap: square\"/>\n     </g>\n     <g id=\"line2d_8\">\n      <g>\n       <use xlink:href=\"#m0af1b4ff71\" x=\"187.353804\" y=\"224.64\" style=\"fill: #ffffff; stroke: #ffffff; stroke-width: 0.8\"/>\n      </g>\n     </g>\n     <g id=\"text_4\">\n      <!-- 1500 -->\n      <g style=\"fill: #ffffff\" transform=\"translate(174.628804 239.238437)scale(0.1 -0.1)\">\n       <use xlink:href=\"#DejaVuSans-31\"/>\n       <use xlink:href=\"#DejaVuSans-35\" x=\"63.623047\"/>\n       <use xlink:href=\"#DejaVuSans-30\" x=\"127.246094\"/>\n       <use xlink:href=\"#DejaVuSans-30\" x=\"190.869141\"/>\n      </g>\n     </g>\n    </g>\n    <g id=\"xtick_5\">\n     <g id=\"line2d_9\">\n      <path d=\"M 231.515678 224.64 \nL 231.515678 7.2 \n\" clip-path=\"url(#p31da368280)\" style=\"fill: none; stroke: #ffffff; stroke-width: 0.8; stroke-linecap: square\"/>\n     </g>\n     <g id=\"line2d_10\">\n      <g>\n       <use xlink:href=\"#m0af1b4ff71\" x=\"231.515678\" y=\"224.64\" style=\"fill: #ffffff; stroke: #ffffff; stroke-width: 0.8\"/>\n      </g>\n     </g>\n     <g id=\"text_5\">\n      <!-- 2000 -->\n      <g style=\"fill: #ffffff\" transform=\"translate(218.790678 239.238437)scale(0.1 -0.1)\">\n       <defs>\n        <path id=\"DejaVuSans-32\" d=\"M 1228 531 \nL 3431 531 \nL 3431 0 \nL 469 0 \nL 469 531 \nQ 828 903 1448 1529 \nQ 2069 2156 2228 2338 \nQ 2531 2678 2651 2914 \nQ 2772 3150 2772 3378 \nQ 2772 3750 2511 3984 \nQ 2250 4219 1831 4219 \nQ 1534 4219 1204 4116 \nQ 875 4013 500 3803 \nL 500 4441 \nQ 881 4594 1212 4672 \nQ 1544 4750 1819 4750 \nQ 2544 4750 2975 4387 \nQ 3406 4025 3406 3419 \nQ 3406 3131 3298 2873 \nQ 3191 2616 2906 2266 \nQ 2828 2175 2409 1742 \nQ 1991 1309 1228 531 \nz\n\" transform=\"scale(0.015625)\"/>\n       </defs>\n       <use xlink:href=\"#DejaVuSans-32\"/>\n       <use xlink:href=\"#DejaVuSans-30\" x=\"63.623047\"/>\n       <use xlink:href=\"#DejaVuSans-30\" x=\"127.246094\"/>\n       <use xlink:href=\"#DejaVuSans-30\" x=\"190.869141\"/>\n      </g>\n     </g>\n    </g>\n    <g id=\"xtick_6\">\n     <g id=\"line2d_11\">\n      <path d=\"M 275.677552 224.64 \nL 275.677552 7.2 \n\" clip-path=\"url(#p31da368280)\" style=\"fill: none; stroke: #ffffff; stroke-width: 0.8; stroke-linecap: square\"/>\n     </g>\n     <g id=\"line2d_12\">\n      <g>\n       <use xlink:href=\"#m0af1b4ff71\" x=\"275.677552\" y=\"224.64\" style=\"fill: #ffffff; stroke: #ffffff; stroke-width: 0.8\"/>\n      </g>\n     </g>\n     <g id=\"text_6\">\n      <!-- 2500 -->\n      <g style=\"fill: #ffffff\" transform=\"translate(262.952552 239.238437)scale(0.1 -0.1)\">\n       <use xlink:href=\"#DejaVuSans-32\"/>\n       <use xlink:href=\"#DejaVuSans-35\" x=\"63.623047\"/>\n       <use xlink:href=\"#DejaVuSans-30\" x=\"127.246094\"/>\n       <use xlink:href=\"#DejaVuSans-30\" x=\"190.869141\"/>\n      </g>\n     </g>\n    </g>\n    <g id=\"xtick_7\">\n     <g id=\"line2d_13\">\n      <path d=\"M 319.839426 224.64 \nL 319.839426 7.2 \n\" clip-path=\"url(#p31da368280)\" style=\"fill: none; stroke: #ffffff; stroke-width: 0.8; stroke-linecap: square\"/>\n     </g>\n     <g id=\"line2d_14\">\n      <g>\n       <use xlink:href=\"#m0af1b4ff71\" x=\"319.839426\" y=\"224.64\" style=\"fill: #ffffff; stroke: #ffffff; stroke-width: 0.8\"/>\n      </g>\n     </g>\n     <g id=\"text_7\">\n      <!-- 3000 -->\n      <g style=\"fill: #ffffff\" transform=\"translate(307.114426 239.238437)scale(0.1 -0.1)\">\n       <defs>\n        <path id=\"DejaVuSans-33\" d=\"M 2597 2516 \nQ 3050 2419 3304 2112 \nQ 3559 1806 3559 1356 \nQ 3559 666 3084 287 \nQ 2609 -91 1734 -91 \nQ 1441 -91 1130 -33 \nQ 819 25 488 141 \nL 488 750 \nQ 750 597 1062 519 \nQ 1375 441 1716 441 \nQ 2309 441 2620 675 \nQ 2931 909 2931 1356 \nQ 2931 1769 2642 2001 \nQ 2353 2234 1838 2234 \nL 1294 2234 \nL 1294 2753 \nL 1863 2753 \nQ 2328 2753 2575 2939 \nQ 2822 3125 2822 3475 \nQ 2822 3834 2567 4026 \nQ 2313 4219 1838 4219 \nQ 1578 4219 1281 4162 \nQ 984 4106 628 3988 \nL 628 4550 \nQ 988 4650 1302 4700 \nQ 1616 4750 1894 4750 \nQ 2613 4750 3031 4423 \nQ 3450 4097 3450 3541 \nQ 3450 3153 3228 2886 \nQ 3006 2619 2597 2516 \nz\n\" transform=\"scale(0.015625)\"/>\n       </defs>\n       <use xlink:href=\"#DejaVuSans-33\"/>\n       <use xlink:href=\"#DejaVuSans-30\" x=\"63.623047\"/>\n       <use xlink:href=\"#DejaVuSans-30\" x=\"127.246094\"/>\n       <use xlink:href=\"#DejaVuSans-30\" x=\"190.869141\"/>\n      </g>\n     </g>\n    </g>\n    <g id=\"xtick_8\">\n     <g id=\"line2d_15\">\n      <path d=\"M 364.001301 224.64 \nL 364.001301 7.2 \n\" clip-path=\"url(#p31da368280)\" style=\"fill: none; stroke: #ffffff; stroke-width: 0.8; stroke-linecap: square\"/>\n     </g>\n     <g id=\"line2d_16\">\n      <g>\n       <use xlink:href=\"#m0af1b4ff71\" x=\"364.001301\" y=\"224.64\" style=\"fill: #ffffff; stroke: #ffffff; stroke-width: 0.8\"/>\n      </g>\n     </g>\n     <g id=\"text_8\">\n      <!-- 3500 -->\n      <g style=\"fill: #ffffff\" transform=\"translate(351.276301 239.238437)scale(0.1 -0.1)\">\n       <use xlink:href=\"#DejaVuSans-33\"/>\n       <use xlink:href=\"#DejaVuSans-35\" x=\"63.623047\"/>\n       <use xlink:href=\"#DejaVuSans-30\" x=\"127.246094\"/>\n       <use xlink:href=\"#DejaVuSans-30\" x=\"190.869141\"/>\n      </g>\n     </g>\n    </g>\n   </g>\n   <g id=\"matplotlib.axis_2\">\n    <g id=\"ytick_1\">\n     <g id=\"line2d_17\">\n      <path d=\"M 39.65 224.64 \nL 374.45 224.64 \n\" clip-path=\"url(#p31da368280)\" style=\"fill: none; stroke: #ffffff; stroke-width: 0.8; stroke-linecap: square\"/>\n     </g>\n     <g id=\"line2d_18\">\n      <defs>\n       <path id=\"mf77d0f71a0\" d=\"M 0 0 \nL -3.5 0 \n\" style=\"stroke: #ffffff; stroke-width: 0.8\"/>\n      </defs>\n      <g>\n       <use xlink:href=\"#mf77d0f71a0\" x=\"39.65\" y=\"224.64\" style=\"fill: #ffffff; stroke: #ffffff; stroke-width: 0.8\"/>\n      </g>\n     </g>\n     <g id=\"text_9\">\n      <!-- 0 -->\n      <g style=\"fill: #ffffff\" transform=\"translate(26.2875 228.439219)scale(0.1 -0.1)\">\n       <use xlink:href=\"#DejaVuSans-30\"/>\n      </g>\n     </g>\n    </g>\n    <g id=\"ytick_2\">\n     <g id=\"line2d_19\">\n      <path d=\"M 39.65 195.407121 \nL 374.45 195.407121 \n\" clip-path=\"url(#p31da368280)\" style=\"fill: none; stroke: #ffffff; stroke-width: 0.8; stroke-linecap: square\"/>\n     </g>\n     <g id=\"line2d_20\">\n      <g>\n       <use xlink:href=\"#mf77d0f71a0\" x=\"39.65\" y=\"195.407121\" style=\"fill: #ffffff; stroke: #ffffff; stroke-width: 0.8\"/>\n      </g>\n     </g>\n     <g id=\"text_10\">\n      <!-- 1000 -->\n      <g style=\"fill: #ffffff\" transform=\"translate(7.2 199.20634)scale(0.1 -0.1)\">\n       <use xlink:href=\"#DejaVuSans-31\"/>\n       <use xlink:href=\"#DejaVuSans-30\" x=\"63.623047\"/>\n       <use xlink:href=\"#DejaVuSans-30\" x=\"127.246094\"/>\n       <use xlink:href=\"#DejaVuSans-30\" x=\"190.869141\"/>\n      </g>\n     </g>\n    </g>\n    <g id=\"ytick_3\">\n     <g id=\"line2d_21\">\n      <path d=\"M 39.65 166.174242 \nL 374.45 166.174242 \n\" clip-path=\"url(#p31da368280)\" style=\"fill: none; stroke: #ffffff; stroke-width: 0.8; stroke-linecap: square\"/>\n     </g>\n     <g id=\"line2d_22\">\n      <g>\n       <use xlink:href=\"#mf77d0f71a0\" x=\"39.65\" y=\"166.174242\" style=\"fill: #ffffff; stroke: #ffffff; stroke-width: 0.8\"/>\n      </g>\n     </g>\n     <g id=\"text_11\">\n      <!-- 2000 -->\n      <g style=\"fill: #ffffff\" transform=\"translate(7.2 169.973461)scale(0.1 -0.1)\">\n       <use xlink:href=\"#DejaVuSans-32\"/>\n       <use xlink:href=\"#DejaVuSans-30\" x=\"63.623047\"/>\n       <use xlink:href=\"#DejaVuSans-30\" x=\"127.246094\"/>\n       <use xlink:href=\"#DejaVuSans-30\" x=\"190.869141\"/>\n      </g>\n     </g>\n    </g>\n    <g id=\"ytick_4\">\n     <g id=\"line2d_23\">\n      <path d=\"M 39.65 136.941363 \nL 374.45 136.941363 \n\" clip-path=\"url(#p31da368280)\" style=\"fill: none; stroke: #ffffff; stroke-width: 0.8; stroke-linecap: square\"/>\n     </g>\n     <g id=\"line2d_24\">\n      <g>\n       <use xlink:href=\"#mf77d0f71a0\" x=\"39.65\" y=\"136.941363\" style=\"fill: #ffffff; stroke: #ffffff; stroke-width: 0.8\"/>\n      </g>\n     </g>\n     <g id=\"text_12\">\n      <!-- 3000 -->\n      <g style=\"fill: #ffffff\" transform=\"translate(7.2 140.740582)scale(0.1 -0.1)\">\n       <use xlink:href=\"#DejaVuSans-33\"/>\n       <use xlink:href=\"#DejaVuSans-30\" x=\"63.623047\"/>\n       <use xlink:href=\"#DejaVuSans-30\" x=\"127.246094\"/>\n       <use xlink:href=\"#DejaVuSans-30\" x=\"190.869141\"/>\n      </g>\n     </g>\n    </g>\n    <g id=\"ytick_5\">\n     <g id=\"line2d_25\">\n      <path d=\"M 39.65 107.708484 \nL 374.45 107.708484 \n\" clip-path=\"url(#p31da368280)\" style=\"fill: none; stroke: #ffffff; stroke-width: 0.8; stroke-linecap: square\"/>\n     </g>\n     <g id=\"line2d_26\">\n      <g>\n       <use xlink:href=\"#mf77d0f71a0\" x=\"39.65\" y=\"107.708484\" style=\"fill: #ffffff; stroke: #ffffff; stroke-width: 0.8\"/>\n      </g>\n     </g>\n     <g id=\"text_13\">\n      <!-- 4000 -->\n      <g style=\"fill: #ffffff\" transform=\"translate(7.2 111.507703)scale(0.1 -0.1)\">\n       <defs>\n        <path id=\"DejaVuSans-34\" d=\"M 2419 4116 \nL 825 1625 \nL 2419 1625 \nL 2419 4116 \nz\nM 2253 4666 \nL 3047 4666 \nL 3047 1625 \nL 3713 1625 \nL 3713 1100 \nL 3047 1100 \nL 3047 0 \nL 2419 0 \nL 2419 1100 \nL 313 1100 \nL 313 1709 \nL 2253 4666 \nz\n\" transform=\"scale(0.015625)\"/>\n       </defs>\n       <use xlink:href=\"#DejaVuSans-34\"/>\n       <use xlink:href=\"#DejaVuSans-30\" x=\"63.623047\"/>\n       <use xlink:href=\"#DejaVuSans-30\" x=\"127.246094\"/>\n       <use xlink:href=\"#DejaVuSans-30\" x=\"190.869141\"/>\n      </g>\n     </g>\n    </g>\n    <g id=\"ytick_6\">\n     <g id=\"line2d_27\">\n      <path d=\"M 39.65 78.475605 \nL 374.45 78.475605 \n\" clip-path=\"url(#p31da368280)\" style=\"fill: none; stroke: #ffffff; stroke-width: 0.8; stroke-linecap: square\"/>\n     </g>\n     <g id=\"line2d_28\">\n      <g>\n       <use xlink:href=\"#mf77d0f71a0\" x=\"39.65\" y=\"78.475605\" style=\"fill: #ffffff; stroke: #ffffff; stroke-width: 0.8\"/>\n      </g>\n     </g>\n     <g id=\"text_14\">\n      <!-- 5000 -->\n      <g style=\"fill: #ffffff\" transform=\"translate(7.2 82.274824)scale(0.1 -0.1)\">\n       <use xlink:href=\"#DejaVuSans-35\"/>\n       <use xlink:href=\"#DejaVuSans-30\" x=\"63.623047\"/>\n       <use xlink:href=\"#DejaVuSans-30\" x=\"127.246094\"/>\n       <use xlink:href=\"#DejaVuSans-30\" x=\"190.869141\"/>\n      </g>\n     </g>\n    </g>\n    <g id=\"ytick_7\">\n     <g id=\"line2d_29\">\n      <path d=\"M 39.65 49.242726 \nL 374.45 49.242726 \n\" clip-path=\"url(#p31da368280)\" style=\"fill: none; stroke: #ffffff; stroke-width: 0.8; stroke-linecap: square\"/>\n     </g>\n     <g id=\"line2d_30\">\n      <g>\n       <use xlink:href=\"#mf77d0f71a0\" x=\"39.65\" y=\"49.242726\" style=\"fill: #ffffff; stroke: #ffffff; stroke-width: 0.8\"/>\n      </g>\n     </g>\n     <g id=\"text_15\">\n      <!-- 6000 -->\n      <g style=\"fill: #ffffff\" transform=\"translate(7.2 53.041945)scale(0.1 -0.1)\">\n       <defs>\n        <path id=\"DejaVuSans-36\" d=\"M 2113 2584 \nQ 1688 2584 1439 2293 \nQ 1191 2003 1191 1497 \nQ 1191 994 1439 701 \nQ 1688 409 2113 409 \nQ 2538 409 2786 701 \nQ 3034 994 3034 1497 \nQ 3034 2003 2786 2293 \nQ 2538 2584 2113 2584 \nz\nM 3366 4563 \nL 3366 3988 \nQ 3128 4100 2886 4159 \nQ 2644 4219 2406 4219 \nQ 1781 4219 1451 3797 \nQ 1122 3375 1075 2522 \nQ 1259 2794 1537 2939 \nQ 1816 3084 2150 3084 \nQ 2853 3084 3261 2657 \nQ 3669 2231 3669 1497 \nQ 3669 778 3244 343 \nQ 2819 -91 2113 -91 \nQ 1303 -91 875 529 \nQ 447 1150 447 2328 \nQ 447 3434 972 4092 \nQ 1497 4750 2381 4750 \nQ 2619 4750 2861 4703 \nQ 3103 4656 3366 4563 \nz\n\" transform=\"scale(0.015625)\"/>\n       </defs>\n       <use xlink:href=\"#DejaVuSans-36\"/>\n       <use xlink:href=\"#DejaVuSans-30\" x=\"63.623047\"/>\n       <use xlink:href=\"#DejaVuSans-30\" x=\"127.246094\"/>\n       <use xlink:href=\"#DejaVuSans-30\" x=\"190.869141\"/>\n      </g>\n     </g>\n    </g>\n    <g id=\"ytick_8\">\n     <g id=\"line2d_31\">\n      <path d=\"M 39.65 20.009848 \nL 374.45 20.009848 \n\" clip-path=\"url(#p31da368280)\" style=\"fill: none; stroke: #ffffff; stroke-width: 0.8; stroke-linecap: square\"/>\n     </g>\n     <g id=\"line2d_32\">\n      <g>\n       <use xlink:href=\"#mf77d0f71a0\" x=\"39.65\" y=\"20.009848\" style=\"fill: #ffffff; stroke: #ffffff; stroke-width: 0.8\"/>\n      </g>\n     </g>\n     <g id=\"text_16\">\n      <!-- 7000 -->\n      <g style=\"fill: #ffffff\" transform=\"translate(7.2 23.809066)scale(0.1 -0.1)\">\n       <defs>\n        <path id=\"DejaVuSans-37\" d=\"M 525 4666 \nL 3525 4666 \nL 3525 4397 \nL 1831 0 \nL 1172 0 \nL 2766 4134 \nL 525 4134 \nL 525 4666 \nz\n\" transform=\"scale(0.015625)\"/>\n       </defs>\n       <use xlink:href=\"#DejaVuSans-37\"/>\n       <use xlink:href=\"#DejaVuSans-30\" x=\"63.623047\"/>\n       <use xlink:href=\"#DejaVuSans-30\" x=\"127.246094\"/>\n       <use xlink:href=\"#DejaVuSans-30\" x=\"190.869141\"/>\n      </g>\n     </g>\n    </g>\n   </g>\n   <g id=\"patch_13\">\n    <path d=\"M 39.65 224.64 \nL 39.65 7.2 \n\" style=\"fill: none; stroke: #ffffff; stroke-width: 0.8; stroke-linejoin: miter; stroke-linecap: square\"/>\n   </g>\n   <g id=\"patch_14\">\n    <path d=\"M 374.45 224.64 \nL 374.45 7.2 \n\" style=\"fill: none; stroke: #ffffff; stroke-width: 0.8; stroke-linejoin: miter; stroke-linecap: square\"/>\n   </g>\n   <g id=\"patch_15\">\n    <path d=\"M 39.65 224.64 \nL 374.45 224.64 \n\" style=\"fill: none; stroke: #ffffff; stroke-width: 0.8; stroke-linejoin: miter; stroke-linecap: square\"/>\n   </g>\n   <g id=\"patch_16\">\n    <path d=\"M 39.65 7.2 \nL 374.45 7.2 \n\" style=\"fill: none; stroke: #ffffff; stroke-width: 0.8; stroke-linejoin: miter; stroke-linecap: square\"/>\n   </g>\n  </g>\n </g>\n <defs>\n  <clipPath id=\"p31da368280\">\n   <rect x=\"39.65\" y=\"7.2\" width=\"334.8\" height=\"217.44\"/>\n  </clipPath>\n </defs>\n</svg>\n",
            "text/plain": [
              "<Figure size 432x288 with 1 Axes>"
            ]
          },
          "metadata": {},
          "output_type": "display_data"
        }
      ],
      "source": [
        "dados.Vendas.hist()"
      ]
    }
  ],
  "metadata": {
    "kernelspec": {
      "display_name": "Python 3.10.2 64-bit",
      "language": "python",
      "name": "python3"
    },
    "language_info": {
      "codemirror_mode": {
        "name": "ipython",
        "version": 3
      },
      "file_extension": ".py",
      "mimetype": "text/x-python",
      "name": "python",
      "nbconvert_exporter": "python",
      "pygments_lexer": "ipython3",
      "version": "3.10.2"
    },
    "orig_nbformat": 4,
    "vscode": {
      "interpreter": {
        "hash": "4d22bd79e5db3c1abc53db1165e27bbba37da8db23dd92e799f7d382da30a683"
      }
    },
    "colab": {
      "provenance": []
    }
  },
  "nbformat": 4,
  "nbformat_minor": 0
}